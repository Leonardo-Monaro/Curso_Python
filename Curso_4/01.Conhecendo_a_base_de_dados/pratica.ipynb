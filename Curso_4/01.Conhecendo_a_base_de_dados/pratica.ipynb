{
 "metadata": {
  "language_info": {
   "codemirror_mode": {
    "name": "ipython",
    "version": 3
   },
   "file_extension": ".py",
   "mimetype": "text/x-python",
   "name": "python",
   "nbconvert_exporter": "python",
   "pygments_lexer": "ipython3",
   "version": "3.8.8-final"
  },
  "orig_nbformat": 2,
  "kernelspec": {
   "name": "python3",
   "display_name": "Python 3.8.8 64-bit (conda)",
   "metadata": {
    "interpreter": {
     "hash": "4a647bd40baa5cd36757f11ba316f4524931c48cddba273dab58afd02d2779c0"
    }
   }
  }
 },
 "nbformat": 4,
 "nbformat_minor": 2,
 "cells": [
  {
   "cell_type": "code",
   "execution_count": 3,
   "metadata": {},
   "outputs": [
    {
     "output_type": "execute_result",
     "data": {
      "text/plain": [
       "  Nome,Idade,Notas,Aprovado\n",
       "0           Ary,20,7.5,True\n",
       "1             Ana,18,,False\n",
       "2        Cátia,27,2.5,False\n",
       "3        Denis,18,5.0,False\n",
       "4         Beto,21,10.0,True\n",
       "5           Bruna,23,,False\n",
       "6          Dara,21,7.0,True"
      ],
      "text/html": "<div>\n<style scoped>\n    .dataframe tbody tr th:only-of-type {\n        vertical-align: middle;\n    }\n\n    .dataframe tbody tr th {\n        vertical-align: top;\n    }\n\n    .dataframe thead th {\n        text-align: right;\n    }\n</style>\n<table border=\"1\" class=\"dataframe\">\n  <thead>\n    <tr style=\"text-align: right;\">\n      <th></th>\n      <th>Nome,Idade,Notas,Aprovado</th>\n    </tr>\n  </thead>\n  <tbody>\n    <tr>\n      <th>0</th>\n      <td>Ary,20,7.5,True</td>\n    </tr>\n    <tr>\n      <th>1</th>\n      <td>Ana,18,,False</td>\n    </tr>\n    <tr>\n      <th>2</th>\n      <td>Cátia,27,2.5,False</td>\n    </tr>\n    <tr>\n      <th>3</th>\n      <td>Denis,18,5.0,False</td>\n    </tr>\n    <tr>\n      <th>4</th>\n      <td>Beto,21,10.0,True</td>\n    </tr>\n    <tr>\n      <th>5</th>\n      <td>Bruna,23,,False</td>\n    </tr>\n    <tr>\n      <th>6</th>\n      <td>Dara,21,7.0,True</td>\n    </tr>\n  </tbody>\n</table>\n</div>"
     },
     "metadata": {},
     "execution_count": 3
    }
   ],
   "source": [
    "# 1) Importação do arquivo\n",
    "import pandas as pd\n",
    "\n",
    "url = 'https://raw.githubusercontent.com/alura-cursos/pandas-conhecendo-a-biblioteca/main/desafios/alunos.csv'\n",
    "\n",
    "dados = pd.read_csv(url, sep=';')\n",
    "\n",
    "# 2) Visualizar as primeiras 7 linhas\n",
    "dados.head(7)"
   ]
  },
  {
   "cell_type": "code",
   "execution_count": 5,
   "metadata": {},
   "outputs": [
    {
     "output_type": "execute_result",
     "data": {
      "text/plain": [
       "(18, 1)"
      ]
     },
     "metadata": {},
     "execution_count": 5
    }
   ],
   "source": [
    "# 3) Conferir a quantiade de linhas e colunas\n",
    "dados.shape"
   ]
  },
  {
   "cell_type": "code",
   "execution_count": 11,
   "metadata": {},
   "outputs": [
    {
     "output_type": "execute_result",
     "data": {
      "text/plain": [
       "Index(['Nome,Idade,Notas,Aprovado'], dtype='object')"
      ]
     },
     "metadata": {},
     "execution_count": 11
    }
   ],
   "source": [
    "# 4) Explorar as colunas e analisar os tipos dos dados presentes em cada coluna\n",
    "dados.columns"
   ]
  },
  {
   "cell_type": "code",
   "execution_count": 12,
   "metadata": {},
   "outputs": [
    {
     "output_type": "stream",
     "name": "stdout",
     "text": [
      "<class 'pandas.core.frame.DataFrame'>\nRangeIndex: 18 entries, 0 to 17\nData columns (total 1 columns):\n #   Column                     Non-Null Count  Dtype \n---  ------                     --------------  ----- \n 0   Nome,Idade,Notas,Aprovado  18 non-null     object\ndtypes: object(1)\nmemory usage: 272.0+ bytes\n"
     ]
    }
   ],
   "source": [
    "dados.info()"
   ]
  }
 ]
}