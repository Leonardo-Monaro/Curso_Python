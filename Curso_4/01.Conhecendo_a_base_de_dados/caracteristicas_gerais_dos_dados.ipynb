{
 "metadata": {
  "language_info": {
   "codemirror_mode": {
    "name": "ipython",
    "version": 3
   },
   "file_extension": ".py",
   "mimetype": "text/x-python",
   "name": "python",
   "nbconvert_exporter": "python",
   "pygments_lexer": "ipython3",
   "version": "3.8.8-final"
  },
  "orig_nbformat": 2,
  "kernelspec": {
   "name": "python3",
   "display_name": "Python 3.8.8 64-bit (conda)",
   "metadata": {
    "interpreter": {
     "hash": "4a647bd40baa5cd36757f11ba316f4524931c48cddba273dab58afd02d2779c0"
    }
   }
  }
 },
 "nbformat": 4,
 "nbformat_minor": 2,
 "cells": [
  {
   "cell_type": "code",
   "execution_count": 2,
   "metadata": {},
   "outputs": [
    {
     "output_type": "execute_result",
     "data": {
      "text/plain": [
       "(32960, 9)"
      ]
     },
     "metadata": {},
     "execution_count": 2
    }
   ],
   "source": [
    "import pandas as pd\n",
    "\n",
    "# Import dos dados\n",
    "url = 'https://raw.githubusercontent.com/alura-cursos/pandas-conhecendo-a-biblioteca/main/base-de-dados/aluguel.csv'\n",
    "\n",
    "df = pd.read_csv(url, sep=';')\n",
    "df.head()\n",
    "\n",
    "# Caracteristicas dos dados\n",
    "df.shape"
   ]
  },
  {
   "cell_type": "code",
   "execution_count": 3,
   "metadata": {},
   "outputs": [
    {
     "output_type": "execute_result",
     "data": {
      "text/plain": [
       "Index(['Tipo', 'Bairro', 'Quartos', 'Vagas', 'Suites', 'Area', 'Valor',\n",
       "       'Condominio', 'IPTU'],\n",
       "      dtype='object')"
      ]
     },
     "metadata": {},
     "execution_count": 3
    }
   ],
   "source": [
    "df.columns"
   ]
  },
  {
   "cell_type": "code",
   "execution_count": 4,
   "metadata": {},
   "outputs": [
    {
     "output_type": "stream",
     "name": "stdout",
     "text": [
      "<class 'pandas.core.frame.DataFrame'>\nRangeIndex: 32960 entries, 0 to 32959\nData columns (total 9 columns):\n #   Column      Non-Null Count  Dtype  \n---  ------      --------------  -----  \n 0   Tipo        32960 non-null  object \n 1   Bairro      32960 non-null  object \n 2   Quartos     32960 non-null  int64  \n 3   Vagas       32960 non-null  int64  \n 4   Suites      32960 non-null  int64  \n 5   Area        32960 non-null  int64  \n 6   Valor       32943 non-null  float64\n 7   Condominio  28867 non-null  float64\n 8   IPTU        22723 non-null  float64\ndtypes: float64(3), int64(4), object(2)\nmemory usage: 2.3+ MB\n"
     ]
    }
   ],
   "source": [
    "df.info()"
   ]
  },
  {
   "cell_type": "code",
   "execution_count": 5,
   "metadata": {},
   "outputs": [
    {
     "output_type": "execute_result",
     "data": {
      "text/plain": [
       "0                      Quitinete\n",
       "1                           Casa\n",
       "2        Conjunto Comercial/Sala\n",
       "3                    Apartamento\n",
       "4                    Apartamento\n",
       "                  ...           \n",
       "32955                  Quitinete\n",
       "32956                Apartamento\n",
       "32957                Apartamento\n",
       "32958                Apartamento\n",
       "32959    Conjunto Comercial/Sala\n",
       "Name: Tipo, Length: 32960, dtype: object"
      ]
     },
     "metadata": {},
     "execution_count": 5
    }
   ],
   "source": [
    "df['Tipo']"
   ]
  },
  {
   "cell_type": "code",
   "execution_count": 6,
   "metadata": {},
   "outputs": [
    {
     "output_type": "execute_result",
     "data": {
      "text/plain": [
       "       Quartos   Valor\n",
       "0            1  1700.0\n",
       "1            2  7000.0\n",
       "2            0  5200.0\n",
       "3            1   800.0\n",
       "4            1   800.0\n",
       "...        ...     ...\n",
       "32955        0   800.0\n",
       "32956        3  1800.0\n",
       "32957        2  1400.0\n",
       "32958        2  3000.0\n",
       "32959        0  6500.0\n",
       "\n",
       "[32960 rows x 2 columns]"
      ],
      "text/html": "<div>\n<style scoped>\n    .dataframe tbody tr th:only-of-type {\n        vertical-align: middle;\n    }\n\n    .dataframe tbody tr th {\n        vertical-align: top;\n    }\n\n    .dataframe thead th {\n        text-align: right;\n    }\n</style>\n<table border=\"1\" class=\"dataframe\">\n  <thead>\n    <tr style=\"text-align: right;\">\n      <th></th>\n      <th>Quartos</th>\n      <th>Valor</th>\n    </tr>\n  </thead>\n  <tbody>\n    <tr>\n      <th>0</th>\n      <td>1</td>\n      <td>1700.0</td>\n    </tr>\n    <tr>\n      <th>1</th>\n      <td>2</td>\n      <td>7000.0</td>\n    </tr>\n    <tr>\n      <th>2</th>\n      <td>0</td>\n      <td>5200.0</td>\n    </tr>\n    <tr>\n      <th>3</th>\n      <td>1</td>\n      <td>800.0</td>\n    </tr>\n    <tr>\n      <th>4</th>\n      <td>1</td>\n      <td>800.0</td>\n    </tr>\n    <tr>\n      <th>...</th>\n      <td>...</td>\n      <td>...</td>\n    </tr>\n    <tr>\n      <th>32955</th>\n      <td>0</td>\n      <td>800.0</td>\n    </tr>\n    <tr>\n      <th>32956</th>\n      <td>3</td>\n      <td>1800.0</td>\n    </tr>\n    <tr>\n      <th>32957</th>\n      <td>2</td>\n      <td>1400.0</td>\n    </tr>\n    <tr>\n      <th>32958</th>\n      <td>2</td>\n      <td>3000.0</td>\n    </tr>\n    <tr>\n      <th>32959</th>\n      <td>0</td>\n      <td>6500.0</td>\n    </tr>\n  </tbody>\n</table>\n<p>32960 rows × 2 columns</p>\n</div>"
     },
     "metadata": {},
     "execution_count": 6
    }
   ],
   "source": [
    "df[['Quartos', 'Valor']]"
   ]
  }
 ]
}