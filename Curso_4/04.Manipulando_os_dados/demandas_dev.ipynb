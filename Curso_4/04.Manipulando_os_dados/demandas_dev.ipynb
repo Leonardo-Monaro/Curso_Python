{
 "metadata": {
  "language_info": {
   "codemirror_mode": {
    "name": "ipython",
    "version": 3
   },
   "file_extension": ".py",
   "mimetype": "text/x-python",
   "name": "python",
   "nbconvert_exporter": "python",
   "pygments_lexer": "ipython3",
   "version": "3.8.8-final"
  },
  "orig_nbformat": 2,
  "kernelspec": {
   "name": "python3",
   "display_name": "Python 3.8.8 64-bit (conda)",
   "metadata": {
    "interpreter": {
     "hash": "4a647bd40baa5cd36757f11ba316f4524931c48cddba273dab58afd02d2779c0"
    }
   }
  }
 },
 "nbformat": 4,
 "nbformat_minor": 2,
 "cells": [
  {
   "cell_type": "code",
   "execution_count": 16,
   "metadata": {},
   "outputs": [],
   "source": [
    "import pandas as pd \n",
    "\n",
    "url = 'https://raw.githubusercontent.com/alura-cursos/pandas-conhecendo-a-biblioteca/main/base-de-dados/aluguel.csv'\n",
    "dados = pd.read_csv(url, sep=';')\n",
    "dados.head()\n",
    "\n",
    "# Cria coluna Valor por mês\n",
    "dados['Valor_por_mes'] = dados['Valor'] + dados['Condominio']\n",
    "dados.head()\n",
    "\n",
    "# Cria coluna Valor por ano\n",
    "dados['Valor_por_ano'] = (dados['Valor_por_mes']*12) + dados['IPTU']\n",
    "dados.head()\n",
    "\n",
    "# Cria coluna de descrição\n",
    "dados['Descricao'] = dados['Tipo'] + ' em ' + dados['Bairro'] + ' com ' + \\\n",
    "                                        dados['Quartos'].astype(str) + ' quarto(s) ' + \\\n",
    "                                        ' e ' + dados['Vagas'].astype(str) + ' vaga(s) de garagem.'\n",
    "dados.head()\n",
    "\n",
    "# Cria coluna possui_suite\n",
    "dados['Possui_suite'] = dados['Suites'].apply(lambda x: \"Sim\" if x > 0 else \"Não\")\n",
    "dados.head()\n",
    "\n",
    "dados.to_csv('dados_completos_dev.csv', index=False, sep=';')"
   ]
  }
 ]
}