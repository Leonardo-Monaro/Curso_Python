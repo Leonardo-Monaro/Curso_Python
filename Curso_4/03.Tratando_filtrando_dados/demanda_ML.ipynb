{
 "metadata": {
  "language_info": {
   "codemirror_mode": {
    "name": "ipython",
    "version": 3
   },
   "file_extension": ".py",
   "mimetype": "text/x-python",
   "name": "python",
   "nbconvert_exporter": "python",
   "pygments_lexer": "ipython3",
   "version": "3.8.8-final"
  },
  "orig_nbformat": 2,
  "kernelspec": {
   "name": "python3",
   "display_name": "Python 3",
   "language": "python"
  }
 },
 "nbformat": 4,
 "nbformat_minor": 2,
 "cells": [
  {
   "cell_type": "code",
   "execution_count": null,
   "metadata": {},
   "outputs": [],
   "source": [
    "import pandas as pd\n",
    "\n",
    "url = 'https://raw.githubusercontent.com/alura-cursos/pandas-conhecendo-a-biblioteca/main/base-de-dados/aluguel.csv'\n",
    "\n",
    "df = pd.read_csv(url, sep=';')\n",
    "df.head()"
   ]
  },
  {
   "cell_type": "code",
   "execution_count": null,
   "metadata": {},
   "outputs": [],
   "source": [
    "df['Valor'].mean()"
   ]
  },
  {
   "cell_type": "code",
   "execution_count": null,
   "metadata": {},
   "outputs": [],
   "source": [
    "df.groupby('Tipo').mean()"
   ]
  },
  {
   "cell_type": "code",
   "execution_count": null,
   "metadata": {},
   "outputs": [],
   "source": [
    "df.groupby('Tipo')[['Valor']].mean().sort_values('Valor')"
   ]
  },
  {
   "cell_type": "code",
   "execution_count": null,
   "metadata": {},
   "outputs": [],
   "source": [
    "df_preco_tipo = df.groupby('Tipo')[['Valor']].mean().sort_values('Valor')\n",
    "\n",
    "df_preco_tipo.plot(kind='barh', figsize=(14,10), color='purple')"
   ]
  },
  {
   "cell_type": "code",
   "execution_count": null,
   "metadata": {},
   "outputs": [],
   "source": [
    "# Removendo imóveis comerciais\n",
    "\n",
    "df.Tipo.unique()\n",
    "\n",
    "imoveis_comerciais = ['Conjunto Comercial/Sala', \n",
    "                      'Prédio Inteiro', 'Loja/Salão', \n",
    "                      'Galpão/Depósito/Armazém', \n",
    "                      'Casa Comercial', 'Terreno Padrão',\n",
    "                      'Loja Shopping/ Ct Comercial',\n",
    "                      'Box/Garagem', 'Chácara',\n",
    "                      'Loteamento/Condomínio', 'Sítio',\n",
    "                      'Pousada/Chalé', 'Hotel', 'Indústria']\n",
    "\n",
    "df.query('@imoveis_comerciais not in Tipo')"
   ]
  },
  {
   "cell_type": "code",
   "execution_count": null,
   "metadata": {},
   "outputs": [],
   "source": [
    "df_residenciais = df.query('@imoveis_comerciais not in Tipo')\n",
    "df_residenciais.head()\n",
    "df_residenciais.Tipo.unique()"
   ]
  },
  {
   "cell_type": "code",
   "execution_count": null,
   "metadata": {},
   "outputs": [],
   "source": [
    "df_residenciais = df_residenciais.groupby('Tipo')[['Valor']].mean().sort_values('Valor')\n",
    "\n",
    "df_residenciais.plot(kind='barh', figsize=(14,10), color='purple');"
   ]
  },
  {
   "cell_type": "code",
   "execution_count": null,
   "metadata": {},
   "outputs": [],
   "source": [
    "# Percentual de cada tipo de imóvel\n",
    "df_residenciais.Tipo.unique()"
   ]
  },
  {
   "cell_type": "code",
   "execution_count": null,
   "metadata": {},
   "outputs": [],
   "source": [
    "df_residenciais.Tipo.value_counts()"
   ]
  },
  {
   "cell_type": "code",
   "execution_count": null,
   "metadata": {},
   "outputs": [],
   "source": [
    "df_residenciais.Tipo.value_counts(normalize=True).to_frame().sort_values('Tipo')"
   ]
  },
  {
   "cell_type": "code",
   "execution_count": null,
   "metadata": {},
   "outputs": [],
   "source": [
    "df_residenciais_tipo = df_residenciais.Tipo.value_counts(normalize=True).to_frame().sort_values('Tipo')\n",
    "\n",
    "df_residenciais_tipo.plot(kind='bar', figsize=(10,6), color='green', xlabel = 'Tipos', ylabel = 'Percentual')"
   ]
  },
  {
   "cell_type": "code",
   "execution_count": null,
   "metadata": {},
   "outputs": [],
   "source": [
    "# Selecionando apenas o tipo Apartamento\n",
    "df_residenciais.query('Tipo == \"Apartamento\"')"
   ]
  },
  {
   "cell_type": "code",
   "execution_count": null,
   "metadata": {},
   "outputs": [],
   "source": [
    "df_apart = df_residenciais.query('Tipo == \"Apartamento\"')\n",
    "df_apart.head()"
   ]
  },
  {
   "cell_type": "code",
   "execution_count": null,
   "metadata": {},
   "outputs": [],
   "source": [
    "# Tratando dados nulos\n",
    "df_apart.isnull()"
   ]
  },
  {
   "cell_type": "code",
   "execution_count": null,
   "metadata": {},
   "outputs": [],
   "source": [
    "df_apart.isnull().sum()"
   ]
  },
  {
   "cell_type": "code",
   "execution_count": null,
   "metadata": {},
   "outputs": [],
   "source": [
    "df_apart.fillna(0)"
   ]
  },
  {
   "cell_type": "code",
   "execution_count": null,
   "metadata": {},
   "outputs": [],
   "source": [
    "df_apart = df_apart.fillna(0)\n",
    "df_apart.isnull().sum()"
   ]
  },
  {
   "cell_type": "code",
   "execution_count": null,
   "metadata": {},
   "outputs": [],
   "source": [
    "# Removendo Registros\n",
    "df_apart.query('Valor == 0 | Condominio == 0')"
   ]
  },
  {
   "cell_type": "code",
   "execution_count": null,
   "metadata": {},
   "outputs": [],
   "source": [
    "df_apart.query('Valor == 0 | Condominio == 0').index"
   ]
  },
  {
   "cell_type": "code",
   "execution_count": null,
   "metadata": {},
   "outputs": [],
   "source": [
    "registros_a_remover = df_apart.query('Valor == 0 | Condominio == 0').index\n",
    "df_apart.drop(registros_a_remover, axis=0, inplace=True)"
   ]
  },
  {
   "cell_type": "code",
   "execution_count": null,
   "metadata": {},
   "outputs": [],
   "source": [
    "df_apart.Tipo.unique()\n",
    "df_apart.drop('Tipo', axis=1, inplace=True)\n",
    "df_apart.head()"
   ]
  },
  {
   "cell_type": "code",
   "execution_count": null,
   "metadata": {},
   "outputs": [],
   "source": [
    "# Apartamentos que possuem 1 quarto e aluguel menor que 1200\n",
    "df_apart['Quartos'] == 1"
   ]
  },
  {
   "cell_type": "code",
   "execution_count": null,
   "metadata": {},
   "outputs": [],
   "source": [
    "selecao1 = df_apart['Quartos'] == 1\n",
    "df_apart[selecao1]"
   ]
  },
  {
   "cell_type": "code",
   "execution_count": null,
   "metadata": {},
   "outputs": [],
   "source": [
    "selecao2 = df_apart['Valor'] < 1200\n",
    "df_apart[selecao2]"
   ]
  },
  {
   "cell_type": "code",
   "execution_count": null,
   "metadata": {},
   "outputs": [],
   "source": [
    "selecao_final = (selecao1) & (selecao2)\n",
    "df_apart[selecao_final]"
   ]
  },
  {
   "cell_type": "code",
   "execution_count": null,
   "metadata": {},
   "outputs": [],
   "source": [
    "df_1 = df_apart[selecao_final]"
   ]
  },
  {
   "cell_type": "code",
   "execution_count": null,
   "metadata": {},
   "outputs": [],
   "source": [
    "selecao = (df_apart['Quartos'] >= 2) & (df_apart['Valor'] < 3000) & (df_apart['Area'] > 70)\n",
    "df_apart[selecao]\n",
    "df_2 = df_apart[selecao]"
   ]
  },
  {
   "cell_type": "code",
   "execution_count": null,
   "metadata": {},
   "outputs": [],
   "source": [
    "# Salvando o arquivo(to_csv)\n",
    "df_apart.to_csv('dados_apartamentos.csv')\n",
    "\n",
    "pd.read_csv('dados_apartamentos.csv')"
   ]
  },
  {
   "cell_type": "code",
   "execution_count": null,
   "metadata": {},
   "outputs": [],
   "source": [
    "df_apart.to_csv('dados_apartamentos.csv', index=False)\n",
    "\n",
    "pd.read_csv('dados_apartamentos.csv')"
   ]
  },
  {
   "cell_type": "code",
   "execution_count": null,
   "metadata": {},
   "outputs": [],
   "source": [
    "df_apart.to_csv('dados_apartamentos.csv', index=False, sep=';')\n",
    "\n",
    "pd.read_csv('dados_apartamentos.csv', sep=';')"
   ]
  },
  {
   "cell_type": "code",
   "execution_count": null,
   "metadata": {},
   "outputs": [],
   "source": [
    "# Salvando arquivos df_1 e df_2\n",
    "df_1.to_csv('dados_apartamentos_1.csv', index=False, sep=';')\n",
    "df_2.to_csv('dados_apartamentos_2.csv', index=False, sep=';')"
   ]
  }
 ]
}