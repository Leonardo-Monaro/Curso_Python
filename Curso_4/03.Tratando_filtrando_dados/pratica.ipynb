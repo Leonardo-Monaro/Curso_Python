{
 "metadata": {
  "language_info": {
   "codemirror_mode": {
    "name": "ipython",
    "version": 3
   },
   "file_extension": ".py",
   "mimetype": "text/x-python",
   "name": "python",
   "nbconvert_exporter": "python",
   "pygments_lexer": "ipython3",
   "version": "3.8.8-final"
  },
  "orig_nbformat": 2,
  "kernelspec": {
   "name": "python3",
   "display_name": "Python 3",
   "language": "python"
  }
 },
 "nbformat": 4,
 "nbformat_minor": 2,
 "cells": [
  {
   "cell_type": "code",
   "execution_count": 47,
   "metadata": {},
   "outputs": [],
   "source": [
    "'''1) Verifique se a base de dados possui dados nulos e, caso tenha, realize o tratamento desses dados nulos da forma que achar mais coerente com a situação.\n",
    "\n",
    "2) Os alunos \"Alice\" e \"Carlos\", não fazem mais parte da turma. Sendo assim, remova-os da base de dados.\n",
    "\n",
    "3) Aplique um filtro que selecione apenas os alunos que foram aprovados.\n",
    "\n",
    "4) Salve o DataFrame que possui apenas os alunos aprovados em um arquivo csv chamado \"alunos_aprovados.csv\".'''\n",
    "\n",
    "\n",
    "import pandas as pd\n",
    "\n",
    "url = 'https://raw.githubusercontent.com/alura-cursos/pandas-conhecendo-a-biblioteca/main/desafios/alunos.csv'\n",
    "\n",
    "df = pd.read_csv(url, sep=',')\n",
    "#1:\n",
    "\n",
    "df.isnull().sum()\n",
    "df.fillna(0)\n",
    "df_1 = df.fillna(0)"
   ]
  },
  {
   "cell_type": "code",
   "execution_count": 48,
   "metadata": {},
   "outputs": [
    {
     "output_type": "execute_result",
     "data": {
      "text/plain": [
       "         Nome  Idade  Notas  Aprovado\n",
       "0         Ary     20    7.5      True\n",
       "1         Ana     18    0.0     False\n",
       "2       Cátia     27    2.5     False\n",
       "3       Denis     18    5.0     False\n",
       "4        Beto     21   10.0      True\n",
       "5       Bruna     23    0.0     False\n",
       "6        Dara     21    7.0      True\n",
       "9       Vitor     28    0.0     False\n",
       "10     Daniel     21    0.0     False\n",
       "11       Igor     24    4.5     False\n",
       "12  Sthefanie     26    9.5      True\n",
       "13      Mirla     25    9.0      True\n",
       "14      Paulo     37    0.0     False\n",
       "15     Mylena     29    7.0      True\n",
       "16      Lucas     33    0.0     False\n",
       "17      Nadia     34    8.0      True"
      ],
      "text/html": "<div>\n<style scoped>\n    .dataframe tbody tr th:only-of-type {\n        vertical-align: middle;\n    }\n\n    .dataframe tbody tr th {\n        vertical-align: top;\n    }\n\n    .dataframe thead th {\n        text-align: right;\n    }\n</style>\n<table border=\"1\" class=\"dataframe\">\n  <thead>\n    <tr style=\"text-align: right;\">\n      <th></th>\n      <th>Nome</th>\n      <th>Idade</th>\n      <th>Notas</th>\n      <th>Aprovado</th>\n    </tr>\n  </thead>\n  <tbody>\n    <tr>\n      <th>0</th>\n      <td>Ary</td>\n      <td>20</td>\n      <td>7.5</td>\n      <td>True</td>\n    </tr>\n    <tr>\n      <th>1</th>\n      <td>Ana</td>\n      <td>18</td>\n      <td>0.0</td>\n      <td>False</td>\n    </tr>\n    <tr>\n      <th>2</th>\n      <td>Cátia</td>\n      <td>27</td>\n      <td>2.5</td>\n      <td>False</td>\n    </tr>\n    <tr>\n      <th>3</th>\n      <td>Denis</td>\n      <td>18</td>\n      <td>5.0</td>\n      <td>False</td>\n    </tr>\n    <tr>\n      <th>4</th>\n      <td>Beto</td>\n      <td>21</td>\n      <td>10.0</td>\n      <td>True</td>\n    </tr>\n    <tr>\n      <th>5</th>\n      <td>Bruna</td>\n      <td>23</td>\n      <td>0.0</td>\n      <td>False</td>\n    </tr>\n    <tr>\n      <th>6</th>\n      <td>Dara</td>\n      <td>21</td>\n      <td>7.0</td>\n      <td>True</td>\n    </tr>\n    <tr>\n      <th>9</th>\n      <td>Vitor</td>\n      <td>28</td>\n      <td>0.0</td>\n      <td>False</td>\n    </tr>\n    <tr>\n      <th>10</th>\n      <td>Daniel</td>\n      <td>21</td>\n      <td>0.0</td>\n      <td>False</td>\n    </tr>\n    <tr>\n      <th>11</th>\n      <td>Igor</td>\n      <td>24</td>\n      <td>4.5</td>\n      <td>False</td>\n    </tr>\n    <tr>\n      <th>12</th>\n      <td>Sthefanie</td>\n      <td>26</td>\n      <td>9.5</td>\n      <td>True</td>\n    </tr>\n    <tr>\n      <th>13</th>\n      <td>Mirla</td>\n      <td>25</td>\n      <td>9.0</td>\n      <td>True</td>\n    </tr>\n    <tr>\n      <th>14</th>\n      <td>Paulo</td>\n      <td>37</td>\n      <td>0.0</td>\n      <td>False</td>\n    </tr>\n    <tr>\n      <th>15</th>\n      <td>Mylena</td>\n      <td>29</td>\n      <td>7.0</td>\n      <td>True</td>\n    </tr>\n    <tr>\n      <th>16</th>\n      <td>Lucas</td>\n      <td>33</td>\n      <td>0.0</td>\n      <td>False</td>\n    </tr>\n    <tr>\n      <th>17</th>\n      <td>Nadia</td>\n      <td>34</td>\n      <td>8.0</td>\n      <td>True</td>\n    </tr>\n  </tbody>\n</table>\n</div>"
     },
     "metadata": {},
     "execution_count": 48
    }
   ],
   "source": [
    "#2:\n",
    "df_1.drop([7,8], axis=0, inplace=True)\n",
    "df_1"
   ]
  },
  {
   "cell_type": "code",
   "execution_count": 54,
   "metadata": {},
   "outputs": [
    {
     "output_type": "execute_result",
     "data": {
      "text/plain": [
       "         Nome  Idade  Notas  Aprovado\n",
       "0         Ary     20    7.5      True\n",
       "4        Beto     21   10.0      True\n",
       "6        Dara     21    7.0      True\n",
       "12  Sthefanie     26    9.5      True\n",
       "13      Mirla     25    9.0      True\n",
       "15     Mylena     29    7.0      True\n",
       "17      Nadia     34    8.0      True"
      ],
      "text/html": "<div>\n<style scoped>\n    .dataframe tbody tr th:only-of-type {\n        vertical-align: middle;\n    }\n\n    .dataframe tbody tr th {\n        vertical-align: top;\n    }\n\n    .dataframe thead th {\n        text-align: right;\n    }\n</style>\n<table border=\"1\" class=\"dataframe\">\n  <thead>\n    <tr style=\"text-align: right;\">\n      <th></th>\n      <th>Nome</th>\n      <th>Idade</th>\n      <th>Notas</th>\n      <th>Aprovado</th>\n    </tr>\n  </thead>\n  <tbody>\n    <tr>\n      <th>0</th>\n      <td>Ary</td>\n      <td>20</td>\n      <td>7.5</td>\n      <td>True</td>\n    </tr>\n    <tr>\n      <th>4</th>\n      <td>Beto</td>\n      <td>21</td>\n      <td>10.0</td>\n      <td>True</td>\n    </tr>\n    <tr>\n      <th>6</th>\n      <td>Dara</td>\n      <td>21</td>\n      <td>7.0</td>\n      <td>True</td>\n    </tr>\n    <tr>\n      <th>12</th>\n      <td>Sthefanie</td>\n      <td>26</td>\n      <td>9.5</td>\n      <td>True</td>\n    </tr>\n    <tr>\n      <th>13</th>\n      <td>Mirla</td>\n      <td>25</td>\n      <td>9.0</td>\n      <td>True</td>\n    </tr>\n    <tr>\n      <th>15</th>\n      <td>Mylena</td>\n      <td>29</td>\n      <td>7.0</td>\n      <td>True</td>\n    </tr>\n    <tr>\n      <th>17</th>\n      <td>Nadia</td>\n      <td>34</td>\n      <td>8.0</td>\n      <td>True</td>\n    </tr>\n  </tbody>\n</table>\n</div>"
     },
     "metadata": {},
     "execution_count": 54
    }
   ],
   "source": [
    "#3:\n",
    "df_aprovados = df_1.query('Aprovado == True')\n",
    "df_aprovados"
   ]
  },
  {
   "cell_type": "code",
   "execution_count": 55,
   "metadata": {},
   "outputs": [],
   "source": [
    "#4:\n",
    "df_aprovados.to_csv('Alunos_aprovados.csv', index=False, sep=';')"
   ]
  }
 ]
}