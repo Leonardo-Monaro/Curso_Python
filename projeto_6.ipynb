{
 "metadata": {
  "language_info": {
   "codemirror_mode": {
    "name": "ipython",
    "version": 3
   },
   "file_extension": ".py",
   "mimetype": "text/x-python",
   "name": "python",
   "nbconvert_exporter": "python",
   "pygments_lexer": "ipython3",
   "version": "3.8.8-final"
  },
  "orig_nbformat": 2,
  "kernelspec": {
   "name": "python3",
   "display_name": "Python 3.8.8 64-bit (conda)",
   "metadata": {
    "interpreter": {
     "hash": "4a647bd40baa5cd36757f11ba316f4524931c48cddba273dab58afd02d2779c0"
    }
   }
  }
 },
 "nbformat": 4,
 "nbformat_minor": 2,
 "cells": [
  {
   "cell_type": "code",
   "execution_count": 2,
   "metadata": {},
   "outputs": [
    {
     "output_type": "stream",
     "name": "stdout",
     "text": [
      "12 não é primo\n"
     ]
    }
   ],
   "source": [
    "# Os números primos possuem várias aplicações dentro da Ciência de Dados, por exemplo, na criptografia e segurança. Um número primo é aquele que é divisível apenas por um e por ele mesmo. Faça um programa que peça um número inteiro e determine se ele é ou não um número primo.\n",
    "\n",
    "# Coleta do número\n",
    "num = int(input('Insira um número inteiro: '))\n",
    "\n",
    "# Condicional\n",
    "if num > 1:\n",
    "    for i in range(2, num):\n",
    "        # Verificar o resto das divisões, restos 0 não é primo\n",
    "        if (num % i) == 0:\n",
    "            print(f'{num} não é primo')\n",
    "            break\n",
    "        else:\n",
    "            print(f'{num} é primo')\n",
    "else:\n",
    "    print(f'{num} não é primo')"
   ]
  },
  {
   "cell_type": "code",
   "execution_count": null,
   "metadata": {},
   "outputs": [],
   "source": []
  }
 ]
}