{
 "metadata": {
  "language_info": {
   "codemirror_mode": {
    "name": "ipython",
    "version": 3
   },
   "file_extension": ".py",
   "mimetype": "text/x-python",
   "name": "python",
   "nbconvert_exporter": "python",
   "pygments_lexer": "ipython3",
   "version": "3.8.8-final"
  },
  "orig_nbformat": 2,
  "kernelspec": {
   "name": "python3",
   "display_name": "Python 3",
   "language": "python"
  }
 },
 "nbformat": 4,
 "nbformat_minor": 2,
 "cells": [
  {
   "cell_type": "code",
   "execution_count": 3,
   "metadata": {},
   "outputs": [
    {
     "output_type": "execute_result",
     "data": {
      "text/plain": [
       "         Id  Year_Birth   Education Marital_Status   Income  Kidhome  \\\n",
       "0      1826        1970  Graduation       Divorced  84835.0        0   \n",
       "1         1        1961  Graduation         Single  57091.0        0   \n",
       "2     10476        1958  Graduation        Married  67267.0        0   \n",
       "3      1386        1967  Graduation       Together  32474.0        1   \n",
       "4      5371        1989  Graduation         Single  21474.0        1   \n",
       "...     ...         ...         ...            ...      ...      ...   \n",
       "2235  10142        1976         PhD       Divorced  66476.0        0   \n",
       "2236   5263        1977    2n Cycle        Married  31056.0        1   \n",
       "2237     22        1976  Graduation       Divorced  46310.0        1   \n",
       "2238    528        1978  Graduation        Married  65819.0        0   \n",
       "2239   4070        1969         PhD        Married  94871.0        0   \n",
       "\n",
       "      Teenhome Dt_Customer  Recency  MntWines  ...  MntFishProducts  \\\n",
       "0            0   6/16/2014        0       189  ...              111   \n",
       "1            0   6/15/2014        0       464  ...                7   \n",
       "2            1   5/13/2014        0       134  ...               15   \n",
       "3            1   11/5/2014        0        10  ...                0   \n",
       "4            0    8/4/2014        0         6  ...               11   \n",
       "...        ...         ...      ...       ...  ...              ...   \n",
       "2235         1    7/3/2013       99       372  ...               47   \n",
       "2236         0   1/22/2013       99         5  ...                3   \n",
       "2237         0   3/12/2012       99       185  ...               15   \n",
       "2238         0  11/29/2012       99       267  ...              149   \n",
       "2239         2    1/9/2012       99       169  ...              188   \n",
       "\n",
       "      MntSweetProducts  MntGoldProds  NumDealsPurchases  NumWebPurchases  \\\n",
       "0                  189           218                  1                4   \n",
       "1                    0            37                  1                7   \n",
       "2                    2            30                  1                3   \n",
       "3                    0             0                  1                1   \n",
       "4                    0            34                  2                3   \n",
       "...                ...           ...                ...              ...   \n",
       "2235                48            78                  2                5   \n",
       "2236                 8            16                  1                1   \n",
       "2237                 5            14                  2                6   \n",
       "2238               165            63                  1                5   \n",
       "2239                 0           144                  1                8   \n",
       "\n",
       "      NumCatalogPurchases  NumStorePurchases  NumWebVisitsMonth  Response  \\\n",
       "0                       4                  6                  1         1   \n",
       "1                       3                  7                  5         1   \n",
       "2                       2                  5                  2         0   \n",
       "3                       0                  2                  7         0   \n",
       "4                       1                  2                  7         1   \n",
       "...                   ...                ...                ...       ...   \n",
       "2235                    2                 11                  4         0   \n",
       "2236                    0                  3                  8         0   \n",
       "2237                    1                  5                  8         0   \n",
       "2238                    4                 10                  3         0   \n",
       "2239                    5                  4                  7         1   \n",
       "\n",
       "      Complain  \n",
       "0            0  \n",
       "1            0  \n",
       "2            0  \n",
       "3            0  \n",
       "4            0  \n",
       "...        ...  \n",
       "2235         0  \n",
       "2236         0  \n",
       "2237         0  \n",
       "2238         0  \n",
       "2239         0  \n",
       "\n",
       "[2240 rows x 22 columns]"
      ],
      "text/html": "<div>\n<style scoped>\n    .dataframe tbody tr th:only-of-type {\n        vertical-align: middle;\n    }\n\n    .dataframe tbody tr th {\n        vertical-align: top;\n    }\n\n    .dataframe thead th {\n        text-align: right;\n    }\n</style>\n<table border=\"1\" class=\"dataframe\">\n  <thead>\n    <tr style=\"text-align: right;\">\n      <th></th>\n      <th>Id</th>\n      <th>Year_Birth</th>\n      <th>Education</th>\n      <th>Marital_Status</th>\n      <th>Income</th>\n      <th>Kidhome</th>\n      <th>Teenhome</th>\n      <th>Dt_Customer</th>\n      <th>Recency</th>\n      <th>MntWines</th>\n      <th>...</th>\n      <th>MntFishProducts</th>\n      <th>MntSweetProducts</th>\n      <th>MntGoldProds</th>\n      <th>NumDealsPurchases</th>\n      <th>NumWebPurchases</th>\n      <th>NumCatalogPurchases</th>\n      <th>NumStorePurchases</th>\n      <th>NumWebVisitsMonth</th>\n      <th>Response</th>\n      <th>Complain</th>\n    </tr>\n  </thead>\n  <tbody>\n    <tr>\n      <th>0</th>\n      <td>1826</td>\n      <td>1970</td>\n      <td>Graduation</td>\n      <td>Divorced</td>\n      <td>84835.0</td>\n      <td>0</td>\n      <td>0</td>\n      <td>6/16/2014</td>\n      <td>0</td>\n      <td>189</td>\n      <td>...</td>\n      <td>111</td>\n      <td>189</td>\n      <td>218</td>\n      <td>1</td>\n      <td>4</td>\n      <td>4</td>\n      <td>6</td>\n      <td>1</td>\n      <td>1</td>\n      <td>0</td>\n    </tr>\n    <tr>\n      <th>1</th>\n      <td>1</td>\n      <td>1961</td>\n      <td>Graduation</td>\n      <td>Single</td>\n      <td>57091.0</td>\n      <td>0</td>\n      <td>0</td>\n      <td>6/15/2014</td>\n      <td>0</td>\n      <td>464</td>\n      <td>...</td>\n      <td>7</td>\n      <td>0</td>\n      <td>37</td>\n      <td>1</td>\n      <td>7</td>\n      <td>3</td>\n      <td>7</td>\n      <td>5</td>\n      <td>1</td>\n      <td>0</td>\n    </tr>\n    <tr>\n      <th>2</th>\n      <td>10476</td>\n      <td>1958</td>\n      <td>Graduation</td>\n      <td>Married</td>\n      <td>67267.0</td>\n      <td>0</td>\n      <td>1</td>\n      <td>5/13/2014</td>\n      <td>0</td>\n      <td>134</td>\n      <td>...</td>\n      <td>15</td>\n      <td>2</td>\n      <td>30</td>\n      <td>1</td>\n      <td>3</td>\n      <td>2</td>\n      <td>5</td>\n      <td>2</td>\n      <td>0</td>\n      <td>0</td>\n    </tr>\n    <tr>\n      <th>3</th>\n      <td>1386</td>\n      <td>1967</td>\n      <td>Graduation</td>\n      <td>Together</td>\n      <td>32474.0</td>\n      <td>1</td>\n      <td>1</td>\n      <td>11/5/2014</td>\n      <td>0</td>\n      <td>10</td>\n      <td>...</td>\n      <td>0</td>\n      <td>0</td>\n      <td>0</td>\n      <td>1</td>\n      <td>1</td>\n      <td>0</td>\n      <td>2</td>\n      <td>7</td>\n      <td>0</td>\n      <td>0</td>\n    </tr>\n    <tr>\n      <th>4</th>\n      <td>5371</td>\n      <td>1989</td>\n      <td>Graduation</td>\n      <td>Single</td>\n      <td>21474.0</td>\n      <td>1</td>\n      <td>0</td>\n      <td>8/4/2014</td>\n      <td>0</td>\n      <td>6</td>\n      <td>...</td>\n      <td>11</td>\n      <td>0</td>\n      <td>34</td>\n      <td>2</td>\n      <td>3</td>\n      <td>1</td>\n      <td>2</td>\n      <td>7</td>\n      <td>1</td>\n      <td>0</td>\n    </tr>\n    <tr>\n      <th>...</th>\n      <td>...</td>\n      <td>...</td>\n      <td>...</td>\n      <td>...</td>\n      <td>...</td>\n      <td>...</td>\n      <td>...</td>\n      <td>...</td>\n      <td>...</td>\n      <td>...</td>\n      <td>...</td>\n      <td>...</td>\n      <td>...</td>\n      <td>...</td>\n      <td>...</td>\n      <td>...</td>\n      <td>...</td>\n      <td>...</td>\n      <td>...</td>\n      <td>...</td>\n      <td>...</td>\n    </tr>\n    <tr>\n      <th>2235</th>\n      <td>10142</td>\n      <td>1976</td>\n      <td>PhD</td>\n      <td>Divorced</td>\n      <td>66476.0</td>\n      <td>0</td>\n      <td>1</td>\n      <td>7/3/2013</td>\n      <td>99</td>\n      <td>372</td>\n      <td>...</td>\n      <td>47</td>\n      <td>48</td>\n      <td>78</td>\n      <td>2</td>\n      <td>5</td>\n      <td>2</td>\n      <td>11</td>\n      <td>4</td>\n      <td>0</td>\n      <td>0</td>\n    </tr>\n    <tr>\n      <th>2236</th>\n      <td>5263</td>\n      <td>1977</td>\n      <td>2n Cycle</td>\n      <td>Married</td>\n      <td>31056.0</td>\n      <td>1</td>\n      <td>0</td>\n      <td>1/22/2013</td>\n      <td>99</td>\n      <td>5</td>\n      <td>...</td>\n      <td>3</td>\n      <td>8</td>\n      <td>16</td>\n      <td>1</td>\n      <td>1</td>\n      <td>0</td>\n      <td>3</td>\n      <td>8</td>\n      <td>0</td>\n      <td>0</td>\n    </tr>\n    <tr>\n      <th>2237</th>\n      <td>22</td>\n      <td>1976</td>\n      <td>Graduation</td>\n      <td>Divorced</td>\n      <td>46310.0</td>\n      <td>1</td>\n      <td>0</td>\n      <td>3/12/2012</td>\n      <td>99</td>\n      <td>185</td>\n      <td>...</td>\n      <td>15</td>\n      <td>5</td>\n      <td>14</td>\n      <td>2</td>\n      <td>6</td>\n      <td>1</td>\n      <td>5</td>\n      <td>8</td>\n      <td>0</td>\n      <td>0</td>\n    </tr>\n    <tr>\n      <th>2238</th>\n      <td>528</td>\n      <td>1978</td>\n      <td>Graduation</td>\n      <td>Married</td>\n      <td>65819.0</td>\n      <td>0</td>\n      <td>0</td>\n      <td>11/29/2012</td>\n      <td>99</td>\n      <td>267</td>\n      <td>...</td>\n      <td>149</td>\n      <td>165</td>\n      <td>63</td>\n      <td>1</td>\n      <td>5</td>\n      <td>4</td>\n      <td>10</td>\n      <td>3</td>\n      <td>0</td>\n      <td>0</td>\n    </tr>\n    <tr>\n      <th>2239</th>\n      <td>4070</td>\n      <td>1969</td>\n      <td>PhD</td>\n      <td>Married</td>\n      <td>94871.0</td>\n      <td>0</td>\n      <td>2</td>\n      <td>1/9/2012</td>\n      <td>99</td>\n      <td>169</td>\n      <td>...</td>\n      <td>188</td>\n      <td>0</td>\n      <td>144</td>\n      <td>1</td>\n      <td>8</td>\n      <td>5</td>\n      <td>4</td>\n      <td>7</td>\n      <td>1</td>\n      <td>0</td>\n    </tr>\n  </tbody>\n</table>\n<p>2240 rows × 22 columns</p>\n</div>"
     },
     "metadata": {},
     "execution_count": 3
    }
   ],
   "source": [
    "import pandas as pd\n",
    "\n",
    "url = 'https://raw.githubusercontent.com/alura-cursos/Pandas/main/superstore_data.csv'\n",
    "\n",
    "dados_mercado = pd.read_csv(url)\n",
    "dados_mercado"
   ]
  },
  {
   "cell_type": "code",
   "execution_count": 4,
   "metadata": {},
   "outputs": [
    {
     "output_type": "execute_result",
     "data": {
      "text/plain": [
       "     Id;Year_Birth;Education;Marital_Status;Income;Kidhome;Teenhome;Dt_Customer;Recency;MntWines;MntFruits;MntMeatProducts;MntFishProducts;MntSweetProducts;MntGoldProds;NumDealsPurchases;NumWebPurchases;NumCatalogPurchases;NumStorePurchases;NumWebVisitsMonth;Response;Complain\n",
       "0     1826;1970;Graduation;Divorced;84835;0;0;6/16/2...                                                                                                                                                                                                                             \n",
       "1     1;1961;Graduation;Single;57091;0;0;6/15/2014;0...                                                                                                                                                                                                                             \n",
       "2     10476;1958;Graduation;Married;67267;0;1;5/13/2...                                                                                                                                                                                                                             \n",
       "3     1386;1967;Graduation;Together;32474;1;1;11/5/2...                                                                                                                                                                                                                             \n",
       "4     5371;1989;Graduation;Single;21474;1;0;8/4/2014...                                                                                                                                                                                                                             \n",
       "...                                                 ...                                                                                                                                                                                                                             \n",
       "2235  10142;1976;PhD;Divorced;66476;0;1;7/3/2013;99;...                                                                                                                                                                                                                             \n",
       "2236  5263;1977;2n Cycle;Married;31056;1;0;1/22/2013...                                                                                                                                                                                                                             \n",
       "2237  22;1976;Graduation;Divorced;46310;1;0;3/12/201...                                                                                                                                                                                                                             \n",
       "2238  528;1978;Graduation;Married;65819;0;0;11/29/20...                                                                                                                                                                                                                             \n",
       "2239  4070;1969;PhD;Married;94871;0;2;1/9/2012;99;16...                                                                                                                                                                                                                             \n",
       "\n",
       "[2240 rows x 1 columns]"
      ],
      "text/html": "<div>\n<style scoped>\n    .dataframe tbody tr th:only-of-type {\n        vertical-align: middle;\n    }\n\n    .dataframe tbody tr th {\n        vertical-align: top;\n    }\n\n    .dataframe thead th {\n        text-align: right;\n    }\n</style>\n<table border=\"1\" class=\"dataframe\">\n  <thead>\n    <tr style=\"text-align: right;\">\n      <th></th>\n      <th>Id;Year_Birth;Education;Marital_Status;Income;Kidhome;Teenhome;Dt_Customer;Recency;MntWines;MntFruits;MntMeatProducts;MntFishProducts;MntSweetProducts;MntGoldProds;NumDealsPurchases;NumWebPurchases;NumCatalogPurchases;NumStorePurchases;NumWebVisitsMonth;Response;Complain</th>\n    </tr>\n  </thead>\n  <tbody>\n    <tr>\n      <th>0</th>\n      <td>1826;1970;Graduation;Divorced;84835;0;0;6/16/2...</td>\n    </tr>\n    <tr>\n      <th>1</th>\n      <td>1;1961;Graduation;Single;57091;0;0;6/15/2014;0...</td>\n    </tr>\n    <tr>\n      <th>2</th>\n      <td>10476;1958;Graduation;Married;67267;0;1;5/13/2...</td>\n    </tr>\n    <tr>\n      <th>3</th>\n      <td>1386;1967;Graduation;Together;32474;1;1;11/5/2...</td>\n    </tr>\n    <tr>\n      <th>4</th>\n      <td>5371;1989;Graduation;Single;21474;1;0;8/4/2014...</td>\n    </tr>\n    <tr>\n      <th>...</th>\n      <td>...</td>\n    </tr>\n    <tr>\n      <th>2235</th>\n      <td>10142;1976;PhD;Divorced;66476;0;1;7/3/2013;99;...</td>\n    </tr>\n    <tr>\n      <th>2236</th>\n      <td>5263;1977;2n Cycle;Married;31056;1;0;1/22/2013...</td>\n    </tr>\n    <tr>\n      <th>2237</th>\n      <td>22;1976;Graduation;Divorced;46310;1;0;3/12/201...</td>\n    </tr>\n    <tr>\n      <th>2238</th>\n      <td>528;1978;Graduation;Married;65819;0;0;11/29/20...</td>\n    </tr>\n    <tr>\n      <th>2239</th>\n      <td>4070;1969;PhD;Married;94871;0;2;1/9/2012;99;16...</td>\n    </tr>\n  </tbody>\n</table>\n<p>2240 rows × 1 columns</p>\n</div>"
     },
     "metadata": {},
     "execution_count": 4
    }
   ],
   "source": [
    "url_2 = 'https://raw.githubusercontent.com/alura-cursos/Pandas/main/superstore_data_ponto_virgula.csv'\n",
    "dados_ponto_virgula = pd.read_csv(url_2)\n",
    "dados_ponto_virgula"
   ]
  },
  {
   "cell_type": "code",
   "execution_count": 5,
   "metadata": {},
   "outputs": [
    {
     "output_type": "execute_result",
     "data": {
      "text/plain": [
       "         Id  Year_Birth   Education Marital_Status   Income  Kidhome  \\\n",
       "0      1826        1970  Graduation       Divorced  84835.0        0   \n",
       "1         1        1961  Graduation         Single  57091.0        0   \n",
       "2     10476        1958  Graduation        Married  67267.0        0   \n",
       "3      1386        1967  Graduation       Together  32474.0        1   \n",
       "4      5371        1989  Graduation         Single  21474.0        1   \n",
       "...     ...         ...         ...            ...      ...      ...   \n",
       "2235  10142        1976         PhD       Divorced  66476.0        0   \n",
       "2236   5263        1977    2n Cycle        Married  31056.0        1   \n",
       "2237     22        1976  Graduation       Divorced  46310.0        1   \n",
       "2238    528        1978  Graduation        Married  65819.0        0   \n",
       "2239   4070        1969         PhD        Married  94871.0        0   \n",
       "\n",
       "      Teenhome Dt_Customer  Recency  MntWines  ...  MntFishProducts  \\\n",
       "0            0   6/16/2014        0       189  ...              111   \n",
       "1            0   6/15/2014        0       464  ...                7   \n",
       "2            1   5/13/2014        0       134  ...               15   \n",
       "3            1   11/5/2014        0        10  ...                0   \n",
       "4            0    8/4/2014        0         6  ...               11   \n",
       "...        ...         ...      ...       ...  ...              ...   \n",
       "2235         1    7/3/2013       99       372  ...               47   \n",
       "2236         0   1/22/2013       99         5  ...                3   \n",
       "2237         0   3/12/2012       99       185  ...               15   \n",
       "2238         0  11/29/2012       99       267  ...              149   \n",
       "2239         2    1/9/2012       99       169  ...              188   \n",
       "\n",
       "      MntSweetProducts  MntGoldProds  NumDealsPurchases  NumWebPurchases  \\\n",
       "0                  189           218                  1                4   \n",
       "1                    0            37                  1                7   \n",
       "2                    2            30                  1                3   \n",
       "3                    0             0                  1                1   \n",
       "4                    0            34                  2                3   \n",
       "...                ...           ...                ...              ...   \n",
       "2235                48            78                  2                5   \n",
       "2236                 8            16                  1                1   \n",
       "2237                 5            14                  2                6   \n",
       "2238               165            63                  1                5   \n",
       "2239                 0           144                  1                8   \n",
       "\n",
       "      NumCatalogPurchases  NumStorePurchases  NumWebVisitsMonth  Response  \\\n",
       "0                       4                  6                  1         1   \n",
       "1                       3                  7                  5         1   \n",
       "2                       2                  5                  2         0   \n",
       "3                       0                  2                  7         0   \n",
       "4                       1                  2                  7         1   \n",
       "...                   ...                ...                ...       ...   \n",
       "2235                    2                 11                  4         0   \n",
       "2236                    0                  3                  8         0   \n",
       "2237                    1                  5                  8         0   \n",
       "2238                    4                 10                  3         0   \n",
       "2239                    5                  4                  7         1   \n",
       "\n",
       "      Complain  \n",
       "0            0  \n",
       "1            0  \n",
       "2            0  \n",
       "3            0  \n",
       "4            0  \n",
       "...        ...  \n",
       "2235         0  \n",
       "2236         0  \n",
       "2237         0  \n",
       "2238         0  \n",
       "2239         0  \n",
       "\n",
       "[2240 rows x 22 columns]"
      ],
      "text/html": "<div>\n<style scoped>\n    .dataframe tbody tr th:only-of-type {\n        vertical-align: middle;\n    }\n\n    .dataframe tbody tr th {\n        vertical-align: top;\n    }\n\n    .dataframe thead th {\n        text-align: right;\n    }\n</style>\n<table border=\"1\" class=\"dataframe\">\n  <thead>\n    <tr style=\"text-align: right;\">\n      <th></th>\n      <th>Id</th>\n      <th>Year_Birth</th>\n      <th>Education</th>\n      <th>Marital_Status</th>\n      <th>Income</th>\n      <th>Kidhome</th>\n      <th>Teenhome</th>\n      <th>Dt_Customer</th>\n      <th>Recency</th>\n      <th>MntWines</th>\n      <th>...</th>\n      <th>MntFishProducts</th>\n      <th>MntSweetProducts</th>\n      <th>MntGoldProds</th>\n      <th>NumDealsPurchases</th>\n      <th>NumWebPurchases</th>\n      <th>NumCatalogPurchases</th>\n      <th>NumStorePurchases</th>\n      <th>NumWebVisitsMonth</th>\n      <th>Response</th>\n      <th>Complain</th>\n    </tr>\n  </thead>\n  <tbody>\n    <tr>\n      <th>0</th>\n      <td>1826</td>\n      <td>1970</td>\n      <td>Graduation</td>\n      <td>Divorced</td>\n      <td>84835.0</td>\n      <td>0</td>\n      <td>0</td>\n      <td>6/16/2014</td>\n      <td>0</td>\n      <td>189</td>\n      <td>...</td>\n      <td>111</td>\n      <td>189</td>\n      <td>218</td>\n      <td>1</td>\n      <td>4</td>\n      <td>4</td>\n      <td>6</td>\n      <td>1</td>\n      <td>1</td>\n      <td>0</td>\n    </tr>\n    <tr>\n      <th>1</th>\n      <td>1</td>\n      <td>1961</td>\n      <td>Graduation</td>\n      <td>Single</td>\n      <td>57091.0</td>\n      <td>0</td>\n      <td>0</td>\n      <td>6/15/2014</td>\n      <td>0</td>\n      <td>464</td>\n      <td>...</td>\n      <td>7</td>\n      <td>0</td>\n      <td>37</td>\n      <td>1</td>\n      <td>7</td>\n      <td>3</td>\n      <td>7</td>\n      <td>5</td>\n      <td>1</td>\n      <td>0</td>\n    </tr>\n    <tr>\n      <th>2</th>\n      <td>10476</td>\n      <td>1958</td>\n      <td>Graduation</td>\n      <td>Married</td>\n      <td>67267.0</td>\n      <td>0</td>\n      <td>1</td>\n      <td>5/13/2014</td>\n      <td>0</td>\n      <td>134</td>\n      <td>...</td>\n      <td>15</td>\n      <td>2</td>\n      <td>30</td>\n      <td>1</td>\n      <td>3</td>\n      <td>2</td>\n      <td>5</td>\n      <td>2</td>\n      <td>0</td>\n      <td>0</td>\n    </tr>\n    <tr>\n      <th>3</th>\n      <td>1386</td>\n      <td>1967</td>\n      <td>Graduation</td>\n      <td>Together</td>\n      <td>32474.0</td>\n      <td>1</td>\n      <td>1</td>\n      <td>11/5/2014</td>\n      <td>0</td>\n      <td>10</td>\n      <td>...</td>\n      <td>0</td>\n      <td>0</td>\n      <td>0</td>\n      <td>1</td>\n      <td>1</td>\n      <td>0</td>\n      <td>2</td>\n      <td>7</td>\n      <td>0</td>\n      <td>0</td>\n    </tr>\n    <tr>\n      <th>4</th>\n      <td>5371</td>\n      <td>1989</td>\n      <td>Graduation</td>\n      <td>Single</td>\n      <td>21474.0</td>\n      <td>1</td>\n      <td>0</td>\n      <td>8/4/2014</td>\n      <td>0</td>\n      <td>6</td>\n      <td>...</td>\n      <td>11</td>\n      <td>0</td>\n      <td>34</td>\n      <td>2</td>\n      <td>3</td>\n      <td>1</td>\n      <td>2</td>\n      <td>7</td>\n      <td>1</td>\n      <td>0</td>\n    </tr>\n    <tr>\n      <th>...</th>\n      <td>...</td>\n      <td>...</td>\n      <td>...</td>\n      <td>...</td>\n      <td>...</td>\n      <td>...</td>\n      <td>...</td>\n      <td>...</td>\n      <td>...</td>\n      <td>...</td>\n      <td>...</td>\n      <td>...</td>\n      <td>...</td>\n      <td>...</td>\n      <td>...</td>\n      <td>...</td>\n      <td>...</td>\n      <td>...</td>\n      <td>...</td>\n      <td>...</td>\n      <td>...</td>\n    </tr>\n    <tr>\n      <th>2235</th>\n      <td>10142</td>\n      <td>1976</td>\n      <td>PhD</td>\n      <td>Divorced</td>\n      <td>66476.0</td>\n      <td>0</td>\n      <td>1</td>\n      <td>7/3/2013</td>\n      <td>99</td>\n      <td>372</td>\n      <td>...</td>\n      <td>47</td>\n      <td>48</td>\n      <td>78</td>\n      <td>2</td>\n      <td>5</td>\n      <td>2</td>\n      <td>11</td>\n      <td>4</td>\n      <td>0</td>\n      <td>0</td>\n    </tr>\n    <tr>\n      <th>2236</th>\n      <td>5263</td>\n      <td>1977</td>\n      <td>2n Cycle</td>\n      <td>Married</td>\n      <td>31056.0</td>\n      <td>1</td>\n      <td>0</td>\n      <td>1/22/2013</td>\n      <td>99</td>\n      <td>5</td>\n      <td>...</td>\n      <td>3</td>\n      <td>8</td>\n      <td>16</td>\n      <td>1</td>\n      <td>1</td>\n      <td>0</td>\n      <td>3</td>\n      <td>8</td>\n      <td>0</td>\n      <td>0</td>\n    </tr>\n    <tr>\n      <th>2237</th>\n      <td>22</td>\n      <td>1976</td>\n      <td>Graduation</td>\n      <td>Divorced</td>\n      <td>46310.0</td>\n      <td>1</td>\n      <td>0</td>\n      <td>3/12/2012</td>\n      <td>99</td>\n      <td>185</td>\n      <td>...</td>\n      <td>15</td>\n      <td>5</td>\n      <td>14</td>\n      <td>2</td>\n      <td>6</td>\n      <td>1</td>\n      <td>5</td>\n      <td>8</td>\n      <td>0</td>\n      <td>0</td>\n    </tr>\n    <tr>\n      <th>2238</th>\n      <td>528</td>\n      <td>1978</td>\n      <td>Graduation</td>\n      <td>Married</td>\n      <td>65819.0</td>\n      <td>0</td>\n      <td>0</td>\n      <td>11/29/2012</td>\n      <td>99</td>\n      <td>267</td>\n      <td>...</td>\n      <td>149</td>\n      <td>165</td>\n      <td>63</td>\n      <td>1</td>\n      <td>5</td>\n      <td>4</td>\n      <td>10</td>\n      <td>3</td>\n      <td>0</td>\n      <td>0</td>\n    </tr>\n    <tr>\n      <th>2239</th>\n      <td>4070</td>\n      <td>1969</td>\n      <td>PhD</td>\n      <td>Married</td>\n      <td>94871.0</td>\n      <td>0</td>\n      <td>2</td>\n      <td>1/9/2012</td>\n      <td>99</td>\n      <td>169</td>\n      <td>...</td>\n      <td>188</td>\n      <td>0</td>\n      <td>144</td>\n      <td>1</td>\n      <td>8</td>\n      <td>5</td>\n      <td>4</td>\n      <td>7</td>\n      <td>1</td>\n      <td>0</td>\n    </tr>\n  </tbody>\n</table>\n<p>2240 rows × 22 columns</p>\n</div>"
     },
     "metadata": {},
     "execution_count": 5
    }
   ],
   "source": [
    "dados_sem_virgula = pd.read_csv(url_2, sep=';')\n",
    "dados_sem_virgula"
   ]
  },
  {
   "cell_type": "code",
   "execution_count": 6,
   "metadata": {},
   "outputs": [
    {
     "output_type": "execute_result",
     "data": {
      "text/plain": [
       "      Id  Year_Birth   Education Marital_Status  Income  Kidhome  Teenhome  \\\n",
       "0   1826        1970  Graduation       Divorced   84835        0         0   \n",
       "1      1        1961  Graduation         Single   57091        0         0   \n",
       "2  10476        1958  Graduation        Married   67267        0         1   \n",
       "3   1386        1967  Graduation       Together   32474        1         1   \n",
       "4   5371        1989  Graduation         Single   21474        1         0   \n",
       "\n",
       "  Dt_Customer  Recency  MntWines  ...  MntFishProducts  MntSweetProducts  \\\n",
       "0   6/16/2014        0       189  ...              111               189   \n",
       "1   6/15/2014        0       464  ...                7                 0   \n",
       "2   5/13/2014        0       134  ...               15                 2   \n",
       "3   11/5/2014        0        10  ...                0                 0   \n",
       "4    8/4/2014        0         6  ...               11                 0   \n",
       "\n",
       "   MntGoldProds  NumDealsPurchases  NumWebPurchases  NumCatalogPurchases  \\\n",
       "0           218                  1                4                    4   \n",
       "1            37                  1                7                    3   \n",
       "2            30                  1                3                    2   \n",
       "3             0                  1                1                    0   \n",
       "4            34                  2                3                    1   \n",
       "\n",
       "   NumStorePurchases  NumWebVisitsMonth  Response  Complain  \n",
       "0                  6                  1         1         0  \n",
       "1                  7                  5         1         0  \n",
       "2                  5                  2         0         0  \n",
       "3                  2                  7         0         0  \n",
       "4                  2                  7         1         0  \n",
       "\n",
       "[5 rows x 22 columns]"
      ],
      "text/html": "<div>\n<style scoped>\n    .dataframe tbody tr th:only-of-type {\n        vertical-align: middle;\n    }\n\n    .dataframe tbody tr th {\n        vertical-align: top;\n    }\n\n    .dataframe thead th {\n        text-align: right;\n    }\n</style>\n<table border=\"1\" class=\"dataframe\">\n  <thead>\n    <tr style=\"text-align: right;\">\n      <th></th>\n      <th>Id</th>\n      <th>Year_Birth</th>\n      <th>Education</th>\n      <th>Marital_Status</th>\n      <th>Income</th>\n      <th>Kidhome</th>\n      <th>Teenhome</th>\n      <th>Dt_Customer</th>\n      <th>Recency</th>\n      <th>MntWines</th>\n      <th>...</th>\n      <th>MntFishProducts</th>\n      <th>MntSweetProducts</th>\n      <th>MntGoldProds</th>\n      <th>NumDealsPurchases</th>\n      <th>NumWebPurchases</th>\n      <th>NumCatalogPurchases</th>\n      <th>NumStorePurchases</th>\n      <th>NumWebVisitsMonth</th>\n      <th>Response</th>\n      <th>Complain</th>\n    </tr>\n  </thead>\n  <tbody>\n    <tr>\n      <th>0</th>\n      <td>1826</td>\n      <td>1970</td>\n      <td>Graduation</td>\n      <td>Divorced</td>\n      <td>84835</td>\n      <td>0</td>\n      <td>0</td>\n      <td>6/16/2014</td>\n      <td>0</td>\n      <td>189</td>\n      <td>...</td>\n      <td>111</td>\n      <td>189</td>\n      <td>218</td>\n      <td>1</td>\n      <td>4</td>\n      <td>4</td>\n      <td>6</td>\n      <td>1</td>\n      <td>1</td>\n      <td>0</td>\n    </tr>\n    <tr>\n      <th>1</th>\n      <td>1</td>\n      <td>1961</td>\n      <td>Graduation</td>\n      <td>Single</td>\n      <td>57091</td>\n      <td>0</td>\n      <td>0</td>\n      <td>6/15/2014</td>\n      <td>0</td>\n      <td>464</td>\n      <td>...</td>\n      <td>7</td>\n      <td>0</td>\n      <td>37</td>\n      <td>1</td>\n      <td>7</td>\n      <td>3</td>\n      <td>7</td>\n      <td>5</td>\n      <td>1</td>\n      <td>0</td>\n    </tr>\n    <tr>\n      <th>2</th>\n      <td>10476</td>\n      <td>1958</td>\n      <td>Graduation</td>\n      <td>Married</td>\n      <td>67267</td>\n      <td>0</td>\n      <td>1</td>\n      <td>5/13/2014</td>\n      <td>0</td>\n      <td>134</td>\n      <td>...</td>\n      <td>15</td>\n      <td>2</td>\n      <td>30</td>\n      <td>1</td>\n      <td>3</td>\n      <td>2</td>\n      <td>5</td>\n      <td>2</td>\n      <td>0</td>\n      <td>0</td>\n    </tr>\n    <tr>\n      <th>3</th>\n      <td>1386</td>\n      <td>1967</td>\n      <td>Graduation</td>\n      <td>Together</td>\n      <td>32474</td>\n      <td>1</td>\n      <td>1</td>\n      <td>11/5/2014</td>\n      <td>0</td>\n      <td>10</td>\n      <td>...</td>\n      <td>0</td>\n      <td>0</td>\n      <td>0</td>\n      <td>1</td>\n      <td>1</td>\n      <td>0</td>\n      <td>2</td>\n      <td>7</td>\n      <td>0</td>\n      <td>0</td>\n    </tr>\n    <tr>\n      <th>4</th>\n      <td>5371</td>\n      <td>1989</td>\n      <td>Graduation</td>\n      <td>Single</td>\n      <td>21474</td>\n      <td>1</td>\n      <td>0</td>\n      <td>8/4/2014</td>\n      <td>0</td>\n      <td>6</td>\n      <td>...</td>\n      <td>11</td>\n      <td>0</td>\n      <td>34</td>\n      <td>2</td>\n      <td>3</td>\n      <td>1</td>\n      <td>2</td>\n      <td>7</td>\n      <td>1</td>\n      <td>0</td>\n    </tr>\n  </tbody>\n</table>\n<p>5 rows × 22 columns</p>\n</div>"
     },
     "metadata": {},
     "execution_count": 6
    }
   ],
   "source": [
    "dados_primeiras_linhas = pd.read_csv(url, nrows=5)\n",
    "dados_primeiras_linhas"
   ]
  },
  {
   "cell_type": "code",
   "execution_count": 8,
   "metadata": {},
   "outputs": [
    {
     "output_type": "execute_result",
     "data": {
      "text/plain": [
       "         Id  Year_Birth   Income\n",
       "0      1826        1970  84835.0\n",
       "1         1        1961  57091.0\n",
       "2     10476        1958  67267.0\n",
       "3      1386        1967  32474.0\n",
       "4      5371        1989  21474.0\n",
       "...     ...         ...      ...\n",
       "2235  10142        1976  66476.0\n",
       "2236   5263        1977  31056.0\n",
       "2237     22        1976  46310.0\n",
       "2238    528        1978  65819.0\n",
       "2239   4070        1969  94871.0\n",
       "\n",
       "[2240 rows x 3 columns]"
      ],
      "text/html": "<div>\n<style scoped>\n    .dataframe tbody tr th:only-of-type {\n        vertical-align: middle;\n    }\n\n    .dataframe tbody tr th {\n        vertical-align: top;\n    }\n\n    .dataframe thead th {\n        text-align: right;\n    }\n</style>\n<table border=\"1\" class=\"dataframe\">\n  <thead>\n    <tr style=\"text-align: right;\">\n      <th></th>\n      <th>Id</th>\n      <th>Year_Birth</th>\n      <th>Income</th>\n    </tr>\n  </thead>\n  <tbody>\n    <tr>\n      <th>0</th>\n      <td>1826</td>\n      <td>1970</td>\n      <td>84835.0</td>\n    </tr>\n    <tr>\n      <th>1</th>\n      <td>1</td>\n      <td>1961</td>\n      <td>57091.0</td>\n    </tr>\n    <tr>\n      <th>2</th>\n      <td>10476</td>\n      <td>1958</td>\n      <td>67267.0</td>\n    </tr>\n    <tr>\n      <th>3</th>\n      <td>1386</td>\n      <td>1967</td>\n      <td>32474.0</td>\n    </tr>\n    <tr>\n      <th>4</th>\n      <td>5371</td>\n      <td>1989</td>\n      <td>21474.0</td>\n    </tr>\n    <tr>\n      <th>...</th>\n      <td>...</td>\n      <td>...</td>\n      <td>...</td>\n    </tr>\n    <tr>\n      <th>2235</th>\n      <td>10142</td>\n      <td>1976</td>\n      <td>66476.0</td>\n    </tr>\n    <tr>\n      <th>2236</th>\n      <td>5263</td>\n      <td>1977</td>\n      <td>31056.0</td>\n    </tr>\n    <tr>\n      <th>2237</th>\n      <td>22</td>\n      <td>1976</td>\n      <td>46310.0</td>\n    </tr>\n    <tr>\n      <th>2238</th>\n      <td>528</td>\n      <td>1978</td>\n      <td>65819.0</td>\n    </tr>\n    <tr>\n      <th>2239</th>\n      <td>4070</td>\n      <td>1969</td>\n      <td>94871.0</td>\n    </tr>\n  </tbody>\n</table>\n<p>2240 rows × 3 columns</p>\n</div>"
     },
     "metadata": {},
     "execution_count": 8
    }
   ],
   "source": [
    "dados_selecao = pd.read_csv(url, usecols=['Id', 'Year_Birth', 'Income'])\n",
    "dados_selecao"
   ]
  },
  {
   "cell_type": "code",
   "execution_count": 17,
   "metadata": {},
   "outputs": [
    {
     "output_type": "execute_result",
     "data": {
      "text/plain": [
       "         Id  Year_Birth   Income\n",
       "0      1826        1970  84835.0\n",
       "1         1        1961  57091.0\n",
       "2     10476        1958  67267.0\n",
       "3      1386        1967  32474.0\n",
       "4      5371        1989  21474.0\n",
       "...     ...         ...      ...\n",
       "2235  10142        1976  66476.0\n",
       "2236   5263        1977  31056.0\n",
       "2237     22        1976  46310.0\n",
       "2238    528        1978  65819.0\n",
       "2239   4070        1969  94871.0\n",
       "\n",
       "[2240 rows x 3 columns]"
      ],
      "text/html": "<div>\n<style scoped>\n    .dataframe tbody tr th:only-of-type {\n        vertical-align: middle;\n    }\n\n    .dataframe tbody tr th {\n        vertical-align: top;\n    }\n\n    .dataframe thead th {\n        text-align: right;\n    }\n</style>\n<table border=\"1\" class=\"dataframe\">\n  <thead>\n    <tr style=\"text-align: right;\">\n      <th></th>\n      <th>Id</th>\n      <th>Year_Birth</th>\n      <th>Income</th>\n    </tr>\n  </thead>\n  <tbody>\n    <tr>\n      <th>0</th>\n      <td>1826</td>\n      <td>1970</td>\n      <td>84835.0</td>\n    </tr>\n    <tr>\n      <th>1</th>\n      <td>1</td>\n      <td>1961</td>\n      <td>57091.0</td>\n    </tr>\n    <tr>\n      <th>2</th>\n      <td>10476</td>\n      <td>1958</td>\n      <td>67267.0</td>\n    </tr>\n    <tr>\n      <th>3</th>\n      <td>1386</td>\n      <td>1967</td>\n      <td>32474.0</td>\n    </tr>\n    <tr>\n      <th>4</th>\n      <td>5371</td>\n      <td>1989</td>\n      <td>21474.0</td>\n    </tr>\n    <tr>\n      <th>...</th>\n      <td>...</td>\n      <td>...</td>\n      <td>...</td>\n    </tr>\n    <tr>\n      <th>2235</th>\n      <td>10142</td>\n      <td>1976</td>\n      <td>66476.0</td>\n    </tr>\n    <tr>\n      <th>2236</th>\n      <td>5263</td>\n      <td>1977</td>\n      <td>31056.0</td>\n    </tr>\n    <tr>\n      <th>2237</th>\n      <td>22</td>\n      <td>1976</td>\n      <td>46310.0</td>\n    </tr>\n    <tr>\n      <th>2238</th>\n      <td>528</td>\n      <td>1978</td>\n      <td>65819.0</td>\n    </tr>\n    <tr>\n      <th>2239</th>\n      <td>4070</td>\n      <td>1969</td>\n      <td>94871.0</td>\n    </tr>\n  </tbody>\n</table>\n<p>2240 rows × 3 columns</p>\n</div>"
     },
     "metadata": {},
     "execution_count": 17
    }
   ],
   "source": [
    "dados_selecao.to_csv('clientes_mercado.csv', index=False)\n",
    "clientes_mercado = pd.read_csv('clientes_mercado.csv')\n",
    "clientes_mercado"
   ]
  },
  {
   "cell_type": "code",
   "execution_count": 23,
   "metadata": {},
   "outputs": [
    {
     "output_type": "execute_result",
     "data": {
      "text/plain": [
       "      10476  1958  Graduation   Married    67267  0  1  5/13/2014  0.1  134  \\\n",
       "0      1386  1967  Graduation  Together  32474.0  1  1  11/5/2014    0   10   \n",
       "1      5371  1989  Graduation    Single  21474.0  1  0   8/4/2014    0    6   \n",
       "2      7348  1958         PhD    Single  71691.0  0  0  3/17/2014    0  336   \n",
       "3      4073  1954    2n Cycle   Married  63564.0  0  0  1/29/2014    0  769   \n",
       "4      1991  1967  Graduation  Together  44931.0  0  1  1/18/2014    0   78   \n",
       "...     ...   ...         ...       ...      ... .. ..        ...  ...  ...   \n",
       "2223   1743  1974  Graduation    Single  69719.0  0  0  5/26/2014   99  273   \n",
       "2224   2415  1962  Graduation  Together  62568.0  0  1   7/4/2014   99  362   \n",
       "2225   7947  1969  Graduation   Married  42231.0  1  1  3/25/2014   99   24   \n",
       "2226   2106  1974    2n Cycle   Married  20130.0  0  0  3/17/2014   99    0   \n",
       "2227   3363  1974    2n Cycle   Married  20130.0  0  0  3/17/2014   99    0   \n",
       "\n",
       "      ...   15   2  30  1.1   3  2.1  5  2.2  0.2  0.3  \n",
       "0     ...    0   0   0    1   1    0  2    7    0    0  \n",
       "1     ...   11   0  34    2   3    1  2    7    1    0  \n",
       "2     ...  240  32  43    1   4    7  5    2    1    0  \n",
       "3     ...   15  34  65    1  10   10  7    6    1    0  \n",
       "4     ...    0   0   7    1   2    1  3    5    0    0  \n",
       "...   ...  ...  ..  ..  ...  ..  ... ..  ...  ...  ...  \n",
       "2223  ...  177  14  43    1   2    3  5    1    0    0  \n",
       "2224  ...   80  35  61    3   5    3  5    4    0    0  \n",
       "2225  ...    0   1   4    1   1    0  3    5    0    0  \n",
       "2226  ...    7   6  12    1   1    0  3    8    0    0  \n",
       "2227  ...    7   6  12    1   1    0  3    8    0    0  \n",
       "\n",
       "[2228 rows x 22 columns]"
      ],
      "text/html": "<div>\n<style scoped>\n    .dataframe tbody tr th:only-of-type {\n        vertical-align: middle;\n    }\n\n    .dataframe tbody tr th {\n        vertical-align: top;\n    }\n\n    .dataframe thead th {\n        text-align: right;\n    }\n</style>\n<table border=\"1\" class=\"dataframe\">\n  <thead>\n    <tr style=\"text-align: right;\">\n      <th></th>\n      <th>10476</th>\n      <th>1958</th>\n      <th>Graduation</th>\n      <th>Married</th>\n      <th>67267</th>\n      <th>0</th>\n      <th>1</th>\n      <th>5/13/2014</th>\n      <th>0.1</th>\n      <th>134</th>\n      <th>...</th>\n      <th>15</th>\n      <th>2</th>\n      <th>30</th>\n      <th>1.1</th>\n      <th>3</th>\n      <th>2.1</th>\n      <th>5</th>\n      <th>2.2</th>\n      <th>0.2</th>\n      <th>0.3</th>\n    </tr>\n  </thead>\n  <tbody>\n    <tr>\n      <th>0</th>\n      <td>1386</td>\n      <td>1967</td>\n      <td>Graduation</td>\n      <td>Together</td>\n      <td>32474.0</td>\n      <td>1</td>\n      <td>1</td>\n      <td>11/5/2014</td>\n      <td>0</td>\n      <td>10</td>\n      <td>...</td>\n      <td>0</td>\n      <td>0</td>\n      <td>0</td>\n      <td>1</td>\n      <td>1</td>\n      <td>0</td>\n      <td>2</td>\n      <td>7</td>\n      <td>0</td>\n      <td>0</td>\n    </tr>\n    <tr>\n      <th>1</th>\n      <td>5371</td>\n      <td>1989</td>\n      <td>Graduation</td>\n      <td>Single</td>\n      <td>21474.0</td>\n      <td>1</td>\n      <td>0</td>\n      <td>8/4/2014</td>\n      <td>0</td>\n      <td>6</td>\n      <td>...</td>\n      <td>11</td>\n      <td>0</td>\n      <td>34</td>\n      <td>2</td>\n      <td>3</td>\n      <td>1</td>\n      <td>2</td>\n      <td>7</td>\n      <td>1</td>\n      <td>0</td>\n    </tr>\n    <tr>\n      <th>2</th>\n      <td>7348</td>\n      <td>1958</td>\n      <td>PhD</td>\n      <td>Single</td>\n      <td>71691.0</td>\n      <td>0</td>\n      <td>0</td>\n      <td>3/17/2014</td>\n      <td>0</td>\n      <td>336</td>\n      <td>...</td>\n      <td>240</td>\n      <td>32</td>\n      <td>43</td>\n      <td>1</td>\n      <td>4</td>\n      <td>7</td>\n      <td>5</td>\n      <td>2</td>\n      <td>1</td>\n      <td>0</td>\n    </tr>\n    <tr>\n      <th>3</th>\n      <td>4073</td>\n      <td>1954</td>\n      <td>2n Cycle</td>\n      <td>Married</td>\n      <td>63564.0</td>\n      <td>0</td>\n      <td>0</td>\n      <td>1/29/2014</td>\n      <td>0</td>\n      <td>769</td>\n      <td>...</td>\n      <td>15</td>\n      <td>34</td>\n      <td>65</td>\n      <td>1</td>\n      <td>10</td>\n      <td>10</td>\n      <td>7</td>\n      <td>6</td>\n      <td>1</td>\n      <td>0</td>\n    </tr>\n    <tr>\n      <th>4</th>\n      <td>1991</td>\n      <td>1967</td>\n      <td>Graduation</td>\n      <td>Together</td>\n      <td>44931.0</td>\n      <td>0</td>\n      <td>1</td>\n      <td>1/18/2014</td>\n      <td>0</td>\n      <td>78</td>\n      <td>...</td>\n      <td>0</td>\n      <td>0</td>\n      <td>7</td>\n      <td>1</td>\n      <td>2</td>\n      <td>1</td>\n      <td>3</td>\n      <td>5</td>\n      <td>0</td>\n      <td>0</td>\n    </tr>\n    <tr>\n      <th>...</th>\n      <td>...</td>\n      <td>...</td>\n      <td>...</td>\n      <td>...</td>\n      <td>...</td>\n      <td>...</td>\n      <td>...</td>\n      <td>...</td>\n      <td>...</td>\n      <td>...</td>\n      <td>...</td>\n      <td>...</td>\n      <td>...</td>\n      <td>...</td>\n      <td>...</td>\n      <td>...</td>\n      <td>...</td>\n      <td>...</td>\n      <td>...</td>\n      <td>...</td>\n      <td>...</td>\n    </tr>\n    <tr>\n      <th>2223</th>\n      <td>1743</td>\n      <td>1974</td>\n      <td>Graduation</td>\n      <td>Single</td>\n      <td>69719.0</td>\n      <td>0</td>\n      <td>0</td>\n      <td>5/26/2014</td>\n      <td>99</td>\n      <td>273</td>\n      <td>...</td>\n      <td>177</td>\n      <td>14</td>\n      <td>43</td>\n      <td>1</td>\n      <td>2</td>\n      <td>3</td>\n      <td>5</td>\n      <td>1</td>\n      <td>0</td>\n      <td>0</td>\n    </tr>\n    <tr>\n      <th>2224</th>\n      <td>2415</td>\n      <td>1962</td>\n      <td>Graduation</td>\n      <td>Together</td>\n      <td>62568.0</td>\n      <td>0</td>\n      <td>1</td>\n      <td>7/4/2014</td>\n      <td>99</td>\n      <td>362</td>\n      <td>...</td>\n      <td>80</td>\n      <td>35</td>\n      <td>61</td>\n      <td>3</td>\n      <td>5</td>\n      <td>3</td>\n      <td>5</td>\n      <td>4</td>\n      <td>0</td>\n      <td>0</td>\n    </tr>\n    <tr>\n      <th>2225</th>\n      <td>7947</td>\n      <td>1969</td>\n      <td>Graduation</td>\n      <td>Married</td>\n      <td>42231.0</td>\n      <td>1</td>\n      <td>1</td>\n      <td>3/25/2014</td>\n      <td>99</td>\n      <td>24</td>\n      <td>...</td>\n      <td>0</td>\n      <td>1</td>\n      <td>4</td>\n      <td>1</td>\n      <td>1</td>\n      <td>0</td>\n      <td>3</td>\n      <td>5</td>\n      <td>0</td>\n      <td>0</td>\n    </tr>\n    <tr>\n      <th>2226</th>\n      <td>2106</td>\n      <td>1974</td>\n      <td>2n Cycle</td>\n      <td>Married</td>\n      <td>20130.0</td>\n      <td>0</td>\n      <td>0</td>\n      <td>3/17/2014</td>\n      <td>99</td>\n      <td>0</td>\n      <td>...</td>\n      <td>7</td>\n      <td>6</td>\n      <td>12</td>\n      <td>1</td>\n      <td>1</td>\n      <td>0</td>\n      <td>3</td>\n      <td>8</td>\n      <td>0</td>\n      <td>0</td>\n    </tr>\n    <tr>\n      <th>2227</th>\n      <td>3363</td>\n      <td>1974</td>\n      <td>2n Cycle</td>\n      <td>Married</td>\n      <td>20130.0</td>\n      <td>0</td>\n      <td>0</td>\n      <td>3/17/2014</td>\n      <td>99</td>\n      <td>0</td>\n      <td>...</td>\n      <td>7</td>\n      <td>6</td>\n      <td>12</td>\n      <td>1</td>\n      <td>1</td>\n      <td>0</td>\n      <td>3</td>\n      <td>8</td>\n      <td>0</td>\n      <td>0</td>\n    </tr>\n  </tbody>\n</table>\n<p>2228 rows × 22 columns</p>\n</div>"
     },
     "metadata": {},
     "execution_count": 23
    }
   ],
   "source": [
    "url_sus = 'https://raw.githubusercontent.com/alura-cursos/Pandas/main/dados_sus.csv'\n",
    "\n",
    "dados_sus = pd.read_csv(url, encoding='ISO-8859-1', sep=',', skiprows=3, skipfooter = 9, engine='python')\n",
    "dados_sus"
   ]
  }
 ]
}