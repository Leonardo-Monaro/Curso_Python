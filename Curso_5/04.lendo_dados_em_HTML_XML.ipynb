{
 "metadata": {
  "language_info": {
   "codemirror_mode": {
    "name": "ipython",
    "version": 3
   },
   "file_extension": ".py",
   "mimetype": "text/x-python",
   "name": "python",
   "nbconvert_exporter": "python",
   "pygments_lexer": "ipython3",
   "version": "3.8.8-final"
  },
  "orig_nbformat": 2,
  "kernelspec": {
   "name": "python3",
   "display_name": "Python 3.8.8 64-bit (conda)",
   "metadata": {
    "interpreter": {
     "hash": "4a647bd40baa5cd36757f11ba316f4524931c48cddba273dab58afd02d2779c0"
    }
   }
  }
 },
 "nbformat": 4,
 "nbformat_minor": 2,
 "cells": [
  {
   "cell_type": "code",
   "execution_count": 13,
   "metadata": {},
   "outputs": [
    {
     "output_type": "execute_result",
     "data": {
      "text/plain": [
       "     Unnamed: 0 Posição    País (ou território dependente) Estimativa da ONU  \\\n",
       "0           NaN       1                              Índia     1 429 921 746   \n",
       "1           NaN       2                              China     1 426 391 281   \n",
       "2           NaN       3                     Estados Unidos       339 987 103   \n",
       "3           NaN       4                          Indonésia       277 184 719   \n",
       "4           NaN       5                          Paquistão       240 215 932   \n",
       "..          ...     ...                                ...               ...   \n",
       "245         NaN       –     Ilha de Ascensão (Reino Unido)               806   \n",
       "246         NaN     195                           Vaticano               801   \n",
       "247         NaN       –  Ilhas Cocos (Keeling) (Austrália)               573   \n",
       "248         NaN       –     Tristão da Cunha (Reino Unido)               241   \n",
       "249         NaN       –       Ilhas Pitcairn (Reino Unido)                40   \n",
       "\n",
       "     Data      Estimativa Oficial  \n",
       "0    2023      Estimativa oficial  \n",
       "1    2023           Censo oficial  \n",
       "2    2023           Censo oficial  \n",
       "3    2023      Estimativa oficial  \n",
       "4    2023      Estimativa oficial  \n",
       "..    ...                     ...  \n",
       "245  2021  Estimativa oficial[10]  \n",
       "246  2020      Estimativa oficial  \n",
       "247  2020      Estimativa oficial  \n",
       "248  2022  Estimativa oficial[11]  \n",
       "249  2021      Estimativa oficial  \n",
       "\n",
       "[250 rows x 6 columns]"
      ],
      "text/html": "<div>\n<style scoped>\n    .dataframe tbody tr th:only-of-type {\n        vertical-align: middle;\n    }\n\n    .dataframe tbody tr th {\n        vertical-align: top;\n    }\n\n    .dataframe thead th {\n        text-align: right;\n    }\n</style>\n<table border=\"1\" class=\"dataframe\">\n  <thead>\n    <tr style=\"text-align: right;\">\n      <th></th>\n      <th>Unnamed: 0</th>\n      <th>Posição</th>\n      <th>País (ou território dependente)</th>\n      <th>Estimativa da ONU</th>\n      <th>Data</th>\n      <th>Estimativa Oficial</th>\n    </tr>\n  </thead>\n  <tbody>\n    <tr>\n      <th>0</th>\n      <td>NaN</td>\n      <td>1</td>\n      <td>Índia</td>\n      <td>1 429 921 746</td>\n      <td>2023</td>\n      <td>Estimativa oficial</td>\n    </tr>\n    <tr>\n      <th>1</th>\n      <td>NaN</td>\n      <td>2</td>\n      <td>China</td>\n      <td>1 426 391 281</td>\n      <td>2023</td>\n      <td>Censo oficial</td>\n    </tr>\n    <tr>\n      <th>2</th>\n      <td>NaN</td>\n      <td>3</td>\n      <td>Estados Unidos</td>\n      <td>339 987 103</td>\n      <td>2023</td>\n      <td>Censo oficial</td>\n    </tr>\n    <tr>\n      <th>3</th>\n      <td>NaN</td>\n      <td>4</td>\n      <td>Indonésia</td>\n      <td>277 184 719</td>\n      <td>2023</td>\n      <td>Estimativa oficial</td>\n    </tr>\n    <tr>\n      <th>4</th>\n      <td>NaN</td>\n      <td>5</td>\n      <td>Paquistão</td>\n      <td>240 215 932</td>\n      <td>2023</td>\n      <td>Estimativa oficial</td>\n    </tr>\n    <tr>\n      <th>...</th>\n      <td>...</td>\n      <td>...</td>\n      <td>...</td>\n      <td>...</td>\n      <td>...</td>\n      <td>...</td>\n    </tr>\n    <tr>\n      <th>245</th>\n      <td>NaN</td>\n      <td>–</td>\n      <td>Ilha de Ascensão (Reino Unido)</td>\n      <td>806</td>\n      <td>2021</td>\n      <td>Estimativa oficial[10]</td>\n    </tr>\n    <tr>\n      <th>246</th>\n      <td>NaN</td>\n      <td>195</td>\n      <td>Vaticano</td>\n      <td>801</td>\n      <td>2020</td>\n      <td>Estimativa oficial</td>\n    </tr>\n    <tr>\n      <th>247</th>\n      <td>NaN</td>\n      <td>–</td>\n      <td>Ilhas Cocos (Keeling) (Austrália)</td>\n      <td>573</td>\n      <td>2020</td>\n      <td>Estimativa oficial</td>\n    </tr>\n    <tr>\n      <th>248</th>\n      <td>NaN</td>\n      <td>–</td>\n      <td>Tristão da Cunha (Reino Unido)</td>\n      <td>241</td>\n      <td>2022</td>\n      <td>Estimativa oficial[11]</td>\n    </tr>\n    <tr>\n      <th>249</th>\n      <td>NaN</td>\n      <td>–</td>\n      <td>Ilhas Pitcairn (Reino Unido)</td>\n      <td>40</td>\n      <td>2021</td>\n      <td>Estimativa oficial</td>\n    </tr>\n  </tbody>\n</table>\n<p>250 rows × 6 columns</p>\n</div>"
     },
     "metadata": {},
     "execution_count": 13
    }
   ],
   "source": [
    "import pandas as pd\n",
    "\n",
    "tabela_populacao = pd.read_html('https://pt.wikipedia.org/wiki/Lista_de_pa%C3%ADses_por_popula%C3%A7%C3%A3o')[0]\n",
    "\n",
    "\n",
    "tabela_populacao"
   ]
  }
 ]
}