{
 "metadata": {
  "language_info": {
   "codemirror_mode": {
    "name": "ipython",
    "version": 3
   },
   "file_extension": ".py",
   "mimetype": "text/x-python",
   "name": "python",
   "nbconvert_exporter": "python",
   "pygments_lexer": "ipython3",
   "version": "3.8.8-final"
  },
  "orig_nbformat": 2,
  "kernelspec": {
   "name": "python3",
   "display_name": "Python 3.8.8 64-bit (conda)",
   "metadata": {
    "interpreter": {
     "hash": "4a647bd40baa5cd36757f11ba316f4524931c48cddba273dab58afd02d2779c0"
    }
   }
  }
 },
 "nbformat": 4,
 "nbformat_minor": 2,
 "cells": [
  {
   "cell_type": "code",
   "execution_count": 8,
   "metadata": {},
   "outputs": [
    {
     "output_type": "stream",
     "name": "stdout",
     "text": [
      "O maior número é:5\n"
     ]
    }
   ],
   "source": [
    "# 1 -  Escreva um programa que peça à pessoa usuária para fornecer dois números e exibir o número maior.\n",
    "n1 = input('Insira qualquer valor aqui: ')\n",
    "n2 = input('Insira qualquer valor aqui: ')\n",
    "\n",
    "if n1>n2:\n",
    "    print(f'O maior número é:{n1}')\n",
    "else:\n",
    "    print(f'O maior número é:{n2}')"
   ]
  },
  {
   "cell_type": "code",
   "execution_count": 10,
   "metadata": {},
   "outputs": [
    {
     "output_type": "stream",
     "name": "stdout",
     "text": [
      "Crescimento\n"
     ]
    }
   ],
   "source": [
    "# 2 - Escreva um programa que solicite o percentual de crescimento de produção de uma empresa e informe se houve um crescimento (porcentagem positiva) ou decrescimento (porcentagem negativa).\n",
    "p1 = input('Porcentagem 2022: ')\n",
    "p2 = input('Porcentagem 2023: ')\n",
    "\n",
    "if p1>p2:\n",
    "    print('Descrescimento')\n",
    "else:\n",
    "    print('Crescimento')"
   ]
  },
  {
   "cell_type": "code",
   "execution_count": 11,
   "metadata": {},
   "outputs": [
    {
     "output_type": "stream",
     "name": "stdout",
     "text": [
      "A letra é uma vogal\n"
     ]
    }
   ],
   "source": [
    "# 3 - Escreva um programa que determine se uma letra fornecida pela pessoa usuária é uma vogal ou consoante.\n",
    "letra = input('Insira uma letra aqui: ').lower()\n",
    "vogais = 'aeiou'\n",
    "\n",
    "if letra in vogais:\n",
    "    print('A letra é uma vogal')\n",
    "else:\n",
    "    print('A letra é uma consoante')"
   ]
  },
  {
   "cell_type": "code",
   "execution_count": 14,
   "metadata": {},
   "outputs": [
    {
     "output_type": "stream",
     "name": "stdout",
     "text": [
      "O maior valor é: 30.0\nO menor valor é: 10.0\n"
     ]
    }
   ],
   "source": [
    "# 4 - Escreva um programa que leia valores médios de preços de um modelo de carro por 3 anos consecutivos e exiba o valor mais alto e mais baixo entre esses três anos.\n",
    "\n",
    "preco_1 = float(input('Informe o preço do carro 1: '))\n",
    "preco_2 = float(input('Informe o preço do carro 2: '))\n",
    "preco_3 = float(input('Informe o preço do carro 3: '))\n",
    "\n",
    "maior = preco_1\n",
    "if preco_2 > maior:\n",
    "    maior = preco_2\n",
    "if preco_3 > maior:\n",
    "    maior = preco_3\n",
    "\n",
    "menor = preco_1\n",
    "if preco_2 < menor:\n",
    "    menor = preco_2\n",
    "if preco_3 < menor:\n",
    "    menor = preco_3\n",
    "\n",
    "print(f'O maior valor é: {maior}')\n",
    "print(f'O menor valor é: {menor}')"
   ]
  },
  {
   "cell_type": "code",
   "execution_count": 15,
   "metadata": {},
   "outputs": [
    {
     "output_type": "stream",
     "name": "stdout",
     "text": [
      "O menor preço é: 10.0\n"
     ]
    }
   ],
   "source": [
    "# 5 - Escreva um programa que pergunte sobre o preço de três produtos e indique qual é o produto mais barato para comprar.\n",
    "preco_1 = float(input('Informe o preço do produto 1: '))\n",
    "preco_2 = float(input('Informe o preço do produto 2: '))\n",
    "preco_3 = float(input('Informe o preço do produto 3: '))\n",
    "\n",
    "menor_preco = preco_1\n",
    "if preco_2 < menor_preco:\n",
    "    menor_preco = preco_2\n",
    "if preco_3 < menor_preco:\n",
    "    menor_preco = preco_3\n",
    "\n",
    "print(f'O menor preço é: {menor_preco}')"
   ]
  },
  {
   "cell_type": "code",
   "execution_count": 18,
   "metadata": {},
   "outputs": [
    {
     "output_type": "stream",
     "name": "stdout",
     "text": [
      "3\n2\n1\n"
     ]
    }
   ],
   "source": [
    "# 6 - Escreva um programa que leia três números e os exiba em ordem decrescente.\n",
    "# Coletamos os 3 números\n",
    "num1 = int(input('Informe o primeiro número: '))\n",
    "num2 = int(input('Informe o segundo número: '))\n",
    "num3 = int(input('Informe o terceiro número: '))\n",
    "\n",
    "# Primeira condicional\n",
    "if (num1 >= num2) and (num1 >= num3):\n",
    "    print(num1)\n",
    "    if num2 >= num3:\n",
    "        print(num2)\n",
    "        print(num3)\n",
    "    else:\n",
    "        print(num3)\n",
    "        print(num2)\n",
    "\n",
    "# Segunda condicional\n",
    "elif (num2 >= num1) and (num2 >= num3):\n",
    "    print(num2)\n",
    "    if num1 >= num3:\n",
    "        print(num1)\n",
    "        print(num3)\n",
    "    else:\n",
    "        print(num3)\n",
    "        print(num1)\n",
    "\n",
    "# Terceira condicional\n",
    "else:\n",
    "    print(num3)\n",
    "    if num1 >= num2:\n",
    "        print(num1)\n",
    "        print(num2)\n",
    "    else:\n",
    "        print(num2)\n",
    "        print(num1)"
   ]
  },
  {
   "cell_type": "code",
   "execution_count": 24,
   "metadata": {},
   "outputs": [
    {
     "output_type": "stream",
     "name": "stdout",
     "text": [
      "Valor Inválido\n"
     ]
    }
   ],
   "source": [
    "# 7 - Escreva um programa que pergunte em qual turno a pessoa usuária estuda (\"manhã\", \"tarde\" ou \"noite\") e exiba a mensagem \"Bom Dia!\", \"Boa Tarde!\", \"Boa Noite!\", ou \"Valor Inválido!\", conforme o caso.\n",
    "\n",
    "turno = input('Insira o turno que você estuda: ').lower()\n",
    "\n",
    "if turno == 'manhã':\n",
    "    print('Bom dia!')\n",
    "elif turno == 'tarde':\n",
    "    print('Boa tarde!')\n",
    "elif turno == 'noite':\n",
    "    print('Boa noite!')\n",
    "else: \n",
    "    print('Valor Inválido')"
   ]
  },
  {
   "cell_type": "code",
   "execution_count": 26,
   "metadata": {},
   "outputs": [
    {
     "output_type": "stream",
     "name": "stdout",
     "text": [
      "Ímpar\n"
     ]
    }
   ],
   "source": [
    "# 8 - Escreva um programa que peça um número inteiro à pessoa usuária e determine se ele é par ou ímpar. Dica: Você pode utilizar o operador módulo %.\n",
    "num = int(input('Insira um número: '))\n",
    "\n",
    "if num % 2 == 0:\n",
    "    print('Par')\n",
    "else:\n",
    "    print('Ímpar')"
   ]
  },
  {
   "cell_type": "code",
   "execution_count": 28,
   "metadata": {},
   "outputs": [
    {
     "output_type": "stream",
     "name": "stdout",
     "text": [
      "O número é decimal\n"
     ]
    }
   ],
   "source": [
    "# 9 - Escreva um programa que peça um número à pessoa usuária e informe se ele é inteiro ou decimal.\n",
    "num_9 = float(input('Insira um número: '))\n",
    "\n",
    "if num_9 % 1 == 0:\n",
    "    print('O número é inteiro')\n",
    "else:\n",
    "    print('O número é decimal')\n"
   ]
  }
 ]
}