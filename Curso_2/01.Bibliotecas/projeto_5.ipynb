{
 "metadata": {
  "language_info": {
   "codemirror_mode": {
    "name": "ipython",
    "version": 3
   },
   "file_extension": ".py",
   "mimetype": "text/x-python",
   "name": "python",
   "nbconvert_exporter": "python",
   "pygments_lexer": "ipython3",
   "version": "3.8.8-final"
  },
  "orig_nbformat": 2,
  "kernelspec": {
   "name": "python3",
   "display_name": "Python 3",
   "language": "python"
  }
 },
 "nbformat": 4,
 "nbformat_minor": 2,
 "cells": [
  {
   "cell_type": "code",
   "execution_count": 1,
   "metadata": {},
   "outputs": [
    {
     "output_type": "stream",
     "name": "stdout",
     "text": [
      "O valor a ser pago é R$79\n"
     ]
    }
   ],
   "source": [
    "# Faça um programa para uma loja que vende grama para jardins. Essa loja trabalha com jardins circulares e o preço do metro quadrado da grama é de R$ 25,00. Peça à pessoa usuária o raio da área circular e devolva o valor em reais do quanto precisará pagar.\n",
    "\n",
    "# Bibilioteca e método\n",
    "from math import pi, pow\n",
    "# Variaveis\n",
    "metro_quadrado = 25\n",
    "raio = float(input('Informe o valor do raio: '))\n",
    "\n",
    "area = pi*pow(raio,2)\n",
    "\n",
    "valor_a_pagar = area*metro_quadrado\n",
    "print(f'O valor a ser pago é R${round(valor_a_pagar)}')"
   ]
  }
 ]
}