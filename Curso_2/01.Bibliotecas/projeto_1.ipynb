{
 "metadata": {
  "language_info": {
   "codemirror_mode": {
    "name": "ipython",
    "version": 3
   },
   "file_extension": ".py",
   "mimetype": "text/x-python",
   "name": "python",
   "nbconvert_exporter": "python",
   "pygments_lexer": "ipython3",
   "version": "3.8.8-final"
  },
  "orig_nbformat": 2,
  "kernelspec": {
   "name": "python3",
   "display_name": "Python 3.8.8 64-bit ('Anaconda': virtualenv)",
   "metadata": {
    "interpreter": {
     "hash": "4a647bd40baa5cd36757f11ba316f4524931c48cddba273dab58afd02d2779c0"
    }
   }
  }
 },
 "nbformat": 4,
 "nbformat_minor": 2,
 "cells": [
  {
   "cell_type": "code",
   "execution_count": 17,
   "metadata": {},
   "outputs": [
    {
     "output_type": "stream",
     "name": "stdout",
     "text": [
      "O número sorteado foi 14\n"
     ]
    }
   ],
   "source": [
    "''' Um programa deve ser escrito para sortear uma pessoa seguidora de uma rede social para ganhar um prêmio. A lista de participantes é numerada e devemos escolher aleatoriamente um número de acordo com a quantidade de participantes.\n",
    "\n",
    "Peça à pessoa usuária para fornecer o número de participantes do sorteio e devolva para ela o número sorteado. '''\n",
    "\n",
    "from random import randint\n",
    "\n",
    "# Numero de participantes\n",
    "n = int(input('Digite o nº de participantes do sorteio: '))\n",
    "\n",
    "# Sorteio do numero\n",
    "print(f'O número sorteado foi {randint(1, n)}')"
   ]
  }
 ]
}