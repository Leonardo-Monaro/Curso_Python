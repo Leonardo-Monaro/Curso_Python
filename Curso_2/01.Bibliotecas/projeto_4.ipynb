{
 "metadata": {
  "language_info": {
   "codemirror_mode": {
    "name": "ipython",
    "version": 3
   },
   "file_extension": ".py",
   "mimetype": "text/x-python",
   "name": "python",
   "nbconvert_exporter": "python",
   "pygments_lexer": "ipython3",
   "version": "3.8.8-final"
  },
  "orig_nbformat": 2,
  "kernelspec": {
   "name": "python3",
   "display_name": "Python 3.8.8 64-bit ('Anaconda': virtualenv)",
   "metadata": {
    "interpreter": {
     "hash": "4a647bd40baa5cd36757f11ba316f4524931c48cddba273dab58afd02d2779c0"
    }
   }
  }
 },
 "nbformat": 4,
 "nbformat_minor": 2,
 "cells": [
  {
   "cell_type": "code",
   "execution_count": 17,
   "metadata": {},
   "outputs": [
    {
     "output_type": "stream",
     "name": "stdout",
     "text": [
      "O número 256 possui raiz quadrada de valor: 16 \n"
     ]
    }
   ],
   "source": [
    "# Você recebeu um desafio de calcular a raiz quadrada de uma lista de números, identificando quais resultaram em um número inteiro. A lista é a seguinte:\n",
    "\n",
    "numeros = [2, 8, 15, 23, 91, 112, 256]\n",
    "\n",
    "# Informe no final quais números possuem raízes inteiras e seus respectivos valores.\n",
    "\n",
    "from math import sqrt\n",
    " \n",
    "raiz = []\n",
    "for numero in numeros:\n",
    "    raiz.append(sqrt(numero))\n",
    "\n",
    "for i in range(len(raiz)):\n",
    "    if raiz[i] // 1 == raiz[i]:\n",
    "        print(f'O número {numeros[i]} possui raiz quadrada de valor: {int(raiz[i])} ')"
   ]
  }
 ]
}