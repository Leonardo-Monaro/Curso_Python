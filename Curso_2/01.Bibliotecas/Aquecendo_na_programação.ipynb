{
 "metadata": {
  "language_info": {
   "codemirror_mode": {
    "name": "ipython",
    "version": 3
   },
   "file_extension": ".py",
   "mimetype": "text/x-python",
   "name": "python",
   "nbconvert_exporter": "python",
   "pygments_lexer": "ipython3",
   "version": "3.8.8-final"
  },
  "orig_nbformat": 2,
  "kernelspec": {
   "name": "python3",
   "display_name": "Python 3",
   "language": "python"
  }
 },
 "nbformat": 4,
 "nbformat_minor": 2,
 "cells": [
  {
   "cell_type": "code",
   "execution_count": 9,
   "metadata": {},
   "outputs": [
    {
     "output_type": "stream",
     "name": "stdout",
     "text": [
      "Requirement already satisfied: matplotlib==3.7.1 in c:\\anaconda\\anaconda\\lib\\site-packages (3.7.1)\nRequirement already satisfied: contourpy>=1.0.1 in c:\\anaconda\\anaconda\\lib\\site-packages (from matplotlib==3.7.1) (1.1.0)\nRequirement already satisfied: packaging>=20.0 in c:\\anaconda\\anaconda\\lib\\site-packages (from matplotlib==3.7.1) (20.9)\nRequirement already satisfied: kiwisolver>=1.0.1 in c:\\anaconda\\anaconda\\lib\\site-packages (from matplotlib==3.7.1) (1.3.1)\nRequirement already satisfied: numpy>=1.20 in c:\\anaconda\\anaconda\\lib\\site-packages (from matplotlib==3.7.1) (1.20.1)\nRequirement already satisfied: pillow>=6.2.0 in c:\\anaconda\\anaconda\\lib\\site-packages (from matplotlib==3.7.1) (8.2.0)\nRequirement already satisfied: fonttools>=4.22.0 in c:\\anaconda\\anaconda\\lib\\site-packages (from matplotlib==3.7.1) (4.42.1)\nRequirement already satisfied: pyparsing>=2.3.1 in c:\\anaconda\\anaconda\\lib\\site-packages (from matplotlib==3.7.1) (2.4.7)\nRequirement already satisfied: cycler>=0.10 in c:\\anaconda\\anaconda\\lib\\site-packages (from matplotlib==3.7.1) (0.10.0)\nRequirement already satisfied: importlib-resources>=3.2.0 in c:\\anaconda\\anaconda\\lib\\site-packages (from matplotlib==3.7.1) (6.0.1)\nRequirement already satisfied: python-dateutil>=2.7 in c:\\anaconda\\anaconda\\lib\\site-packages (from matplotlib==3.7.1) (2.8.1)\nRequirement already satisfied: six in c:\\anaconda\\anaconda\\lib\\site-packages (from cycler>=0.10->matplotlib==3.7.1) (1.15.0)\nRequirement already satisfied: zipp>=3.1.0 in c:\\anaconda\\anaconda\\lib\\site-packages (from importlib-resources>=3.2.0->matplotlib==3.7.1) (3.4.1)\n"
     ]
    }
   ],
   "source": [
    "# 1) Escreva um código para instalar a versão 3.7.1 da biblioteca matplotlib.\n",
    "\n",
    "!pip install matplotlib==3.7.1"
   ]
  },
  {
   "cell_type": "code",
   "execution_count": 10,
   "metadata": {},
   "outputs": [],
   "source": [
    "# 2) Escreva um código para importar a biblioteca numpy com o alias np.\n",
    "import numpy as np"
   ]
  },
  {
   "cell_type": "code",
   "execution_count": 23,
   "metadata": {},
   "outputs": [
    {
     "output_type": "execute_result",
     "data": {
      "text/plain": [
       "43"
      ]
     },
     "metadata": {},
     "execution_count": 23
    }
   ],
   "source": [
    "# 3) Crie um programa que lê a seguinte lista de números e escolha um número desta aleatoriamente.\n",
    "lista = [8, 12, 54, 23, 43, 1, 90, 87, 105, 77]\n",
    "from random import choice\n",
    "\n",
    "choice(lista)"
   ]
  },
  {
   "cell_type": "code",
   "execution_count": 56,
   "metadata": {},
   "outputs": [
    {
     "output_type": "execute_result",
     "data": {
      "text/plain": [
       "59"
      ]
     },
     "metadata": {},
     "execution_count": 56
    }
   ],
   "source": [
    "# 4) Crie um programa que sorteia aleatoriamente um número inteiro menor que 100.\n",
    "inteiros = []\n",
    "from random import randrange, sample\n",
    "for i in range(0,100):\n",
    "    inteiros.append(randrange(100))\n",
    "choice(inteiros)"
   ]
  },
  {
   "cell_type": "code",
   "execution_count": 65,
   "metadata": {},
   "outputs": [
    {
     "output_type": "stream",
     "name": "stdout",
     "text": [
      "4\n",
      "2 elevada a 2 é igual a 4.0\n"
     ]
    }
   ],
   "source": [
    "# 5) Crie um programa que solicite à pessoa usuária digitar dois números inteiros e calcular a potência do 1º número elevado ao 2º.\n",
    "\n",
    "# Sem bibliotecas\n",
    "base = int(input('Digite o valor da base: '))\n",
    "expoente = int(input('Digite o valor do expoente: '))\n",
    "\n",
    "potencia = base ** expoente\n",
    "print(potencia)\n",
    "\n",
    "# Com biblioteca e método\n",
    "from math import pow\n",
    "base = int(input('Digite o valor da base: '))\n",
    "expoente = int(input('Digite o valor do expoente: '))\n",
    "print(f'{base} elevada a {expoente} é igual a {pow(base,expoente)}')"
   ]
  }
 ]
}