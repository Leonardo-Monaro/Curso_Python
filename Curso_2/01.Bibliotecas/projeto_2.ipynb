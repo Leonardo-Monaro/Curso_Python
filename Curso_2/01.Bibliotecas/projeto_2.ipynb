{
 "metadata": {
  "language_info": {
   "codemirror_mode": {
    "name": "ipython",
    "version": 3
   },
   "file_extension": ".py",
   "mimetype": "text/x-python",
   "name": "python",
   "nbconvert_exporter": "python",
   "pygments_lexer": "ipython3",
   "version": "3.8.8-final"
  },
  "orig_nbformat": 2,
  "kernelspec": {
   "name": "python3",
   "display_name": "Python 3.8.8 64-bit ('Anaconda': virtualenv)",
   "metadata": {
    "interpreter": {
     "hash": "4a647bd40baa5cd36757f11ba316f4524931c48cddba273dab58afd02d2779c0"
    }
   }
  }
 },
 "nbformat": 4,
 "nbformat_minor": 2,
 "cells": [
  {
   "cell_type": "code",
   "execution_count": 11,
   "metadata": {
    "tags": []
   },
   "outputs": [
    {
     "output_type": "stream",
     "name": "stdout",
     "text": [
      "Olá, Leonardo, o seu token de acesso é 4346! Seja bem-vindo(a)!\n"
     ]
    }
   ],
   "source": [
    "''' Você recebeu uma demanda para gerar números de token para o acesso ao aplicativo de uma empresa. O token precisa ser par e variar de 1000 até 9998. Escreva um código que solicita à pessoa usuária o seu nome e exibe uma mensagem junto a esse token gerado aleatoriamente.\n",
    "\n",
    "\"Olá, [nome], o seu token de acesso é [token]! Seja bem-vindo(a)!\" '''\n",
    "\n",
    "# Biblitoce e método \n",
    "from random import randrange\n",
    "\n",
    "# Token que será gerado\n",
    "token = randrange(1000, 10000, 2)\n",
    "\n",
    "# Inserir nome\n",
    "nome = input('Insira seu nome: ')\n",
    "\n",
    "# Mensagem do sistema\n",
    "print(f'Olá, {nome}, o seu token de acesso é {token}! Seja bem-vindo(a)!')"
   ]
  }
 ]
}