{
 "metadata": {
  "language_info": {
   "codemirror_mode": {
    "name": "ipython",
    "version": 3
   },
   "file_extension": ".py",
   "mimetype": "text/x-python",
   "name": "python",
   "nbconvert_exporter": "python",
   "pygments_lexer": "ipython3",
   "version": "3.8.8-final"
  },
  "orig_nbformat": 2,
  "kernelspec": {
   "name": "python3",
   "display_name": "Python 3.8.8 64-bit (conda)",
   "metadata": {
    "interpreter": {
     "hash": "4a647bd40baa5cd36757f11ba316f4524931c48cddba273dab58afd02d2779c0"
    }
   }
  }
 },
 "nbformat": 4,
 "nbformat_minor": 2,
 "cells": [
  {
   "cell_type": "code",
   "execution_count": 7,
   "metadata": {},
   "outputs": [
    {
     "output_type": "stream",
     "name": "stdout",
     "text": [
      "Com base nos gastos definidos, uma viagem de 3 dias para Salvador saindo de Recife custaria 1657.14 reais\n"
     ]
    }
   ],
   "source": [
    "'''Você recebeu o desafio de criar um código que calcula os gastos de uma viagem para um das quatro cidades partindo de Recife, sendo elas: Salvador, Fortaleza, Natal e Aracaju.\n",
    "\n",
    "O custo da diária do hotel é de 150 reais em todas elas e o consumo de gasolina na viagem de carro é de 14 km/l, sendo que o valor da gasolina é de 5 reais o litro. O gastos com passeios e alimentação a se fazer em cada uma delas por dia seria de [200, 400, 250, 300], respectivamente.\n",
    "\n",
    "Sabendo que as distâncias entre Recife e cada uma das cidades é de aproximadamente [850, 800, 300, 550] km, crie três funções nas quais: a 1ª função calcule os gastos com hotel (gasto_hotel), a 2ª calcule os gastos com a gasolina (gasto_gasolina) e a 3ª os gastos com passeio e alimentação (gasto_passeio).\n",
    "\n",
    "Para testar, simule uma viagem de 3 dias para Salvador partindo de Recife. Considere a viagem de ida e volta de carro.'''\n",
    "\n",
    "dias = int(input(\"Quantas diárias? \"))\n",
    "cidade = input(\"Qual a cidade? [Salvador, Fortaleza, Natal ou Aracaju]: \")\n",
    "distancias = [850, 800, 300, 550]\n",
    "passeio = [200, 400, 250, 300]\n",
    "km_l = 14\n",
    "gasolina = 5\n",
    "\n",
    "def gasto_hotel(dias):\n",
    "    return 150 * dias\n",
    "\n",
    "def gasto_gasolina(cidade):\n",
    "    if cidade == \"Salvador\":\n",
    "        return (2 * distancias[0] * gasolina) / km_l \n",
    "    elif cidade == \"Fortaleza\":\n",
    "        return (2 * distancias[1] * gasolina) / km_l \n",
    "    elif cidade == \"Natal\":\n",
    "        return (2 * distancias[2] * gasolina) / km_l \n",
    "    elif cidade == \"Aracaju\":\n",
    "        return (2 * distancias[3] * gasolina) / km_l \n",
    "\n",
    "def gasto_passeio(cidade, dias):\n",
    "    if cidade==\"Salvador\":\n",
    "        return passeio[0] * dias\n",
    "    elif cidade==\"Fortaleza\":\n",
    "        return passeio[1] * dias\n",
    "    elif cidade==\"Natal\":\n",
    "        return passeio[2] * dias \n",
    "    elif cidade==\"Aracaju\":\n",
    "        return passeio[3] * dias \n",
    "\n",
    "gastos = gasto_hotel(dias) + gasto_gasolina(cidade) + gasto_passeio(cidade, dias)\n",
    "print(f\"Com base nos gastos definidos, uma viagem de {dias} dias para {cidade} saindo de Recife custaria {round(gastos, 2)} reais\")\n"
   ]
  }
 ]
}