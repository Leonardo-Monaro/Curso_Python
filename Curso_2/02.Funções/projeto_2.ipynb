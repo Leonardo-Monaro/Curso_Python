{
 "metadata": {
  "language_info": {
   "codemirror_mode": {
    "name": "ipython",
    "version": 3
   },
   "file_extension": ".py",
   "mimetype": "text/x-python",
   "name": "python",
   "nbconvert_exporter": "python",
   "pygments_lexer": "ipython3",
   "version": "3.8.8-final"
  },
  "orig_nbformat": 2,
  "kernelspec": {
   "name": "python3",
   "display_name": "Python 3.8.8 64-bit (conda)",
   "metadata": {
    "interpreter": {
     "hash": "4a647bd40baa5cd36757f11ba316f4524931c48cddba273dab58afd02d2779c0"
    }
   }
  }
 },
 "nbformat": 4,
 "nbformat_minor": 2,
 "cells": [
  {
   "cell_type": "code",
   "execution_count": 7,
   "metadata": {},
   "outputs": [
    {
     "output_type": "stream",
     "name": "stdout",
     "text": [
      "O(a) estudante obteve uma media de 2.5, com a sua maior nota de 4.0 pontos e a menor nota de 1.0 pontos e foi Reprovado(a)\n"
     ]
    }
   ],
   "source": [
    "'''Para atender a uma demanda de uma instituição de ensino para a análise do desempenho de seus(suas) estudantes, você precisa criar uma função que receba uma lista de 4 notas e retorne:\n",
    "\n",
    "maior nota\n",
    "menor nota\n",
    "média\n",
    "situação (Aprovado(a) ou Reprovado(a))\n",
    "Para testar o comportamento da função, os dados podem ser exibidos em um texto:'''\n",
    "\n",
    "# \"O(a) estudante obteve uma média de [media], com a sua maior nota de [maior] pontos e a menor nota de [menor] pontos e foi [situacao]\"\n",
    "\n",
    "\n",
    "notas = []\n",
    "for i in range(1,5):\n",
    "    nota = float(input('Insira a nota do aluno: '))\n",
    "    notas.append(nota)\n",
    "\n",
    "def leitor(lista):\n",
    "    maior = max(lista)\n",
    "    menor = min(lista)\n",
    "    media = sum(lista) / len(lista)\n",
    "    if media >= 6:\n",
    "        situacao = 'Aprovado(a)'\n",
    "    else:\n",
    "        situacao = 'Reprovado(a)'\n",
    "    return (maior, menor, media, situacao)\n",
    "\n",
    "maior, menor, media, situacao = leitor(notas)\n",
    "print(f\"O(a) estudante obteve uma media de {media}, com a sua maior nota de {maior} pontos e a menor nota de {menor} pontos e foi {situacao}\")"
   ]
  }
 ]
}