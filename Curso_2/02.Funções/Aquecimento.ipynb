{
 "metadata": {
  "language_info": {
   "codemirror_mode": {
    "name": "ipython",
    "version": 3
   },
   "file_extension": ".py",
   "mimetype": "text/x-python",
   "name": "python",
   "nbconvert_exporter": "python",
   "pygments_lexer": "ipython3",
   "version": "3.8.8-final"
  },
  "orig_nbformat": 2,
  "kernelspec": {
   "name": "python3",
   "display_name": "Python 3",
   "language": "python"
  }
 },
 "nbformat": 4,
 "nbformat_minor": 2,
 "cells": [
  {
   "cell_type": "code",
   "execution_count": 6,
   "metadata": {},
   "outputs": [
    {
     "output_type": "stream",
     "name": "stdout",
     "text": [
      "A lista possui 17 números em que o maior número é 99 e o menor número é 11. A soma dos valores presentes nela é igual a 743\n"
     ]
    }
   ],
   "source": [
    "# 1) Escreva um código que lê a lista abaixo e faça:\n",
    "\n",
    "lista = [16, 14, 63, 65, 17, 99, 70, 11, 20, 48, 79, 32, 17, 89, 12, 25, 66]\n",
    "\n",
    "''' A leitura do tamanho da lista\n",
    "A leitura do maior e menor valor\n",
    "A soma dos valores da lista\n",
    "Ao final exiba uma mensagem dizendo: '''\n",
    "\n",
    "# \"A lista possui [tam] números em que o maior número é [maior] e o menor número é [menor]. A soma dos valores presentes nela é igual a [soma]\"\n",
    "\n",
    "\n",
    "tam = len(lista)\n",
    "soma = sum(lista)\n",
    "maior = max(lista)\n",
    "menor = min(lista)\n",
    "print(f\"A lista possui {tam} números em que o maior número é {maior} e o menor número é {menor}. A soma dos valores presentes nela é igual a {soma}\")"
   ]
  },
  {
   "cell_type": "code",
   "execution_count": 16,
   "metadata": {},
   "outputs": [
    {
     "output_type": "stream",
     "name": "stdout",
     "text": [
      "Tabuada do 10:\n10 x 1 = 10\n10 x 2 = 20\n10 x 3 = 30\n10 x 4 = 40\n10 x 5 = 50\n10 x 6 = 60\n10 x 7 = 70\n10 x 8 = 80\n10 x 9 = 90\n10 x 10 = 100\n"
     ]
    }
   ],
   "source": [
    "# 2) Escreva uma função que gere a tabuada de um número inteiro de 1 a 10, de acordo com a escolha da pessoa usuária. Como exemplo, para o número 7, a tabuada deve ser mostrada no seguinte formato:\n",
    "\n",
    "'''\n",
    "Tabuada do 7:\n",
    "7 x 0 = 0\n",
    "7 x 1 = 7\n",
    "[...]\n",
    "7 x 10 = 70\n",
    "'''\n",
    "num = int(input('Insira um número inteiro de 1 a 10: '))\n",
    "def tabuada(numero: int):\n",
    "    print(f'Tabuada do {numero}:')\n",
    "    for i in range(1,11):\n",
    "        resultado = numero * i\n",
    "        print(f'{numero} x {i} = {resultado}')\n",
    "\n",
    "tabuada(num)"
   ]
  },
  {
   "cell_type": "code",
   "execution_count": 20,
   "metadata": {},
   "outputs": [
    {
     "output_type": "execute_result",
     "data": {
      "text/plain": [
       "[63, 99, 48]"
      ]
     },
     "metadata": {},
     "execution_count": 20
    }
   ],
   "source": [
    "# 3) Crie a função que leia a lista abaixo e retorne uma nova lista com os múltiplos de 3:\n",
    "\n",
    "lista_1 = [97, 80, 94, 88, 80, 1, 16, 53, 62, 32, 24, 99]\n",
    "\n",
    "# Utilize o return() na função e salve a nova lista na variável mult_3.\n",
    "\n",
    "mult_3 = []\n",
    "\n",
    "def multiplo_3(lista_1:list) -> list:\n",
    "    for i in range(len(lista_1)):\n",
    "        if lista[i] % 3 == 0:\n",
    "            mult_3.append(lista[i])\n",
    "    return mult_3\n",
    "\n",
    "mult_3 = multiplo_3(lista_1)\n",
    "mult_3"
   ]
  },
  {
   "cell_type": "code",
   "execution_count": 22,
   "metadata": {},
   "outputs": [
    {
     "output_type": "stream",
     "name": "stdout",
     "text": [
      "Os quadrados da lista são:[1, 4, 9, 16, 25, 36, 49, 64, 81, 100]\n"
     ]
    }
   ],
   "source": [
    "# 4) Crie uma lista dos quadrados dos números da seguinte lista `[1, 2, 3, 4, 5, 6, 7, 8, 9, 10]`.\n",
    "\n",
    "# Lembre-se de utilizar as funções lambda e map() para calcular o quadrado de cada elemento da lista.\n",
    "\n",
    "lista_2 = [1, 2, 3, 4, 5, 6, 7, 8, 9, 10]\n",
    "\n",
    "quadrados = list(map(lambda x: (x ** 2), lista_2))\n",
    "print(f'Os quadrados da lista são:{quadrados}')"
   ]
  }
 ]
}