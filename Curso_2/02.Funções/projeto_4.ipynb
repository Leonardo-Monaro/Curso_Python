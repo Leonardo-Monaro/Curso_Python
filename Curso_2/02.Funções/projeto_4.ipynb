{
 "metadata": {
  "language_info": {
   "codemirror_mode": {
    "name": "ipython",
    "version": 3
   },
   "file_extension": ".py",
   "mimetype": "text/x-python",
   "name": "python",
   "nbconvert_exporter": "python",
   "pygments_lexer": "ipython3",
   "version": "3.8.8-final"
  },
  "orig_nbformat": 2,
  "kernelspec": {
   "name": "python3",
   "display_name": "Python 3.8.8 64-bit (conda)",
   "metadata": {
    "interpreter": {
     "hash": "4a647bd40baa5cd36757f11ba316f4524931c48cddba273dab58afd02d2779c0"
    }
   }
  }
 },
 "nbformat": 4,
 "nbformat_minor": 2,
 "cells": [
  {
   "cell_type": "code",
   "execution_count": 10,
   "metadata": {},
   "outputs": [
    {
     "output_type": "stream",
     "name": "stdout",
     "text": [
      "A pontuação do time foi de 7 e seu aproveitamento foi de 47%\n"
     ]
    }
   ],
   "source": [
    "'''Como cientista de dados em um time de futebol, você precisa implementar novas formas de coleta de dados sobre o desempenho de jogadores e do time como um todo. Sua primeira ação é criar uma forma de calcular a pontuação do time no campeonato nacional a partir dos dados de gols marcados e sofridos em cada jogo.\n",
    "\n",
    "Escreva uma função chamada calcula_pontos que recebe como parâmetros duas listas de números inteiros, representando os gols marcados e sofridos pelo time em cada partida do campeonato. A função deve retornar a pontuação do time e o aproveitamento em percentual, levando em consideração que a vitória vale 3 pontos, o empate vale 1 ponto e a derrota 0 pontos.'''\n",
    "\n",
    "# Observação: se a quantidade de gols marcados numa partida for maior que a de sofridos, o time venceu. Caso seja igual, o time empatou e se for menor, o time perdeu. Para calcular o aproveitamento devemos fazer a razão entre a pontuação do time pela pontuação máxima que ele poderia receber.\n",
    "\n",
    "# Para teste, utilize as seguintes listas de gols marcados e sofridos:\n",
    "\n",
    "gols_marcados = [2, 1, 3, 1, 0]\n",
    "gols_sofridos = [1, 2, 2, 1, 3]\n",
    "\n",
    "def calcula_pontos(gols_marcados, gols_sofridos):\n",
    "  pontos = 0\n",
    "  for i in range(len(gols_marcados)):\n",
    "    if gols_marcados[i] > gols_sofridos[i]:\n",
    "      pontos += 3\n",
    "    elif gols_marcados[i] == gols_sofridos[i]:\n",
    "      pontos += 1\n",
    "  aprov = 100 * pontos / (len(gols_marcados) * 3)\n",
    "  return (pontos, aprov)\n",
    "\n",
    "pontos, aprov = calcula_pontos(gols_marcados, gols_sofridos)\n",
    "print(f\"A pontuação do time foi de {pontos} e seu aproveitamento foi de {round(aprov)}%\")\n"
   ]
  }
 ]
}