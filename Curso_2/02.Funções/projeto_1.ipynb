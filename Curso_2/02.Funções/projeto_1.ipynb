{
 "metadata": {
  "language_info": {
   "codemirror_mode": {
    "name": "ipython",
    "version": 3
   },
   "file_extension": ".py",
   "mimetype": "text/x-python",
   "name": "python",
   "nbconvert_exporter": "python",
   "pygments_lexer": "ipython3",
   "version": "3.8.8-final"
  },
  "orig_nbformat": 2,
  "kernelspec": {
   "name": "python3",
   "display_name": "Python 3.8.8 64-bit (conda)",
   "metadata": {
    "interpreter": {
     "hash": "4a647bd40baa5cd36757f11ba316f4524931c48cddba273dab58afd02d2779c0"
    }
   }
  }
 },
 "nbformat": 4,
 "nbformat_minor": 2,
 "cells": [
  {
   "cell_type": "code",
   "execution_count": 6,
   "metadata": {},
   "outputs": [
    {
     "output_type": "stream",
     "name": "stdout",
     "text": [
      "Nota da manobra: 4.7\n"
     ]
    }
   ],
   "source": [
    "'''Você foi contratado(a) como cientista de dados de uma associação de skate. Para analisar as notas recebidas de skatistas em algumas competições ao longo do ano, você precisa criar um código que calcula a pontuação dos(as) atletas. Para isso, o seu código deve receber 5 notas digitadas pelas pessoas juradas.\n",
    "\n",
    "Para calcular a pontuação de um(a) skatista, você precisa eliminar a maior e a menor pontuação dentre as 5 notas e tirar a média das 3 notas que sobraram. Retorne a média para apresentar o texto:\n",
    "\n",
    "\"Nota da manobra: [media]\"'''\n",
    "\n",
    "notas = []\n",
    "\n",
    "for i in range(1,6):\n",
    "    nota = float(input(f'Insira a {i}ª nota: '))\n",
    "    notas.append(nota)\n",
    "\n",
    "def media(lista):\n",
    "    lista.remove(max(lista))\n",
    "    lista.remove(min(lista))\n",
    "    return sum(lista) / len(lista)\n",
    "\n",
    "media = media(notas)\n",
    "print(f\"Nota da manobra: {round(media, 1)}\")"
   ]
  }
 ]
}