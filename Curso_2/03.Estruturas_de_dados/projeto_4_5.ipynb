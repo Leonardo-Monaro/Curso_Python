{
 "metadata": {
  "language_info": {
   "codemirror_mode": {
    "name": "ipython",
    "version": 3
   },
   "file_extension": ".py",
   "mimetype": "text/x-python",
   "name": "python",
   "nbconvert_exporter": "python",
   "pygments_lexer": "ipython3",
   "version": "3.8.8-final"
  },
  "orig_nbformat": 2,
  "kernelspec": {
   "name": "python3",
   "display_name": "Python 3",
   "language": "python"
  }
 },
 "nbformat": 4,
 "nbformat_minor": 2,
 "cells": [
  {
   "cell_type": "code",
   "execution_count": 1,
   "metadata": {},
   "outputs": [],
   "source": [
    "# Enunciado e Lista base\n",
    "\n",
    "''' Uma empresa possui filiais espalhadas nos Estados da região Sudeste do Brasil. Em uma das tabelas de cadastro das filiais há uma coluna contendo a informação de qual é o Estado a que pertence: estados = ['SP', 'ES', 'MG', 'MG', 'SP', 'MG', 'ES', 'ES', 'ES', 'SP', 'SP', 'MG', 'ES', 'SP', 'RJ', 'MG', 'RJ', 'SP', 'MG', 'SP', 'ES', 'SP', 'MG'].\n",
    "\n",
    "A empresa sempre está abrindo novas filiais, de modo que a tabela está constantemente recebendo novos registros e o gestor gostaria de possuir a informação atualizada da quantidade de filiais em cada Estado.\n",
    "\n",
    "A partir da coluna com a informação dos Estados, crie um dicionário usando dict comprehension com a chave sendo o nome de um Estado e o valor sendo a contagem de vezes em que o Estado aparece na lista.'''\n",
    "\n",
    "\n",
    "\n",
    "# Nessa mesma tabela de cadastro de filiais, há uma coluna com as informações da quantidade de pessoas colaboradoras e o(a) gestor(a) gostaria de ter um agrupamento da soma dessas pessoas para cada estado. As informações contidas na tabela são:\n",
    "\n",
    "funcionarios = [('SP', 16), ('ES', 8), ('MG', 9), ('MG', 6), ('SP', 10), ('MG', 4), ('ES',9), ('ES', 7), ('ES', 12), ('SP', 7), ('SP', 11), ('MG',8), ('ES',8), ('SP',9), ('RJ', 13), ('MG', 5), ('RJ', 9), ('SP', 12), ('MG', 10), ('SP', 7), ('ES', 14), ('SP', 10), ('MG', 12)]\n",
    "\n",
    "# A partir da lista de tuplas, crie um dicionário em que as chaves são os nomes dos Estados únicos e os valores são as listas com o número de colaboradores(as) referentes ao Estado. Crie também um dicionário em que as chaves são os nomes dos Estados e os valores são a soma de colaboradores(as) por Estado."
   ]
  },
  {
   "cell_type": "code",
   "execution_count": 2,
   "metadata": {},
   "outputs": [
    {
     "output_type": "stream",
     "name": "stdout",
     "text": [
      "[['MG', 'MG', 'MG', 'MG', 'MG', 'MG', 'MG'], ['ES', 'ES', 'ES', 'ES', 'ES', 'ES'], ['RJ', 'RJ'], ['SP', 'SP', 'SP', 'SP', 'SP', 'SP', 'SP', 'SP']]\n"
     ]
    }
   ],
   "source": [
    "# Primeira parte: Lista dos Estados onde há unidades da empresa e separação dos Estados iguais. \n",
    "estados = ['SP', 'ES', 'MG', 'MG', 'SP', 'MG', 'ES', 'ES', 'ES', 'SP', 'SP', 'MG', 'ES', 'SP', 'RJ', 'MG', 'RJ', 'SP', 'MG', 'SP', 'ES', 'SP', 'MG']\n",
    "\n",
    "estados_unicos = list(set(estados))\n",
    "\n",
    "# Cria lista separando por Estado\n",
    "lista_de_listas = []\n",
    "for estado in estados_unicos:\n",
    "    lista = [uf for uf in estados if uf == estado]\n",
    "    lista_de_listas.append(lista)\n",
    "print(lista_de_listas)"
   ]
  },
  {
   "cell_type": "code",
   "execution_count": 6,
   "metadata": {},
   "outputs": [
    {
     "output_type": "stream",
     "name": "stdout",
     "text": [
      "{'RJ': 2, 'MG': 7, 'SP': 8, 'ES': 6}\n"
     ]
    }
   ],
   "source": [
    "# Segunda parte: faz a contagem dos estados iguais e cria um dicionário relacionando quantas unidades há em cada estado baseado no número de repetições\n",
    "contagem_valores = {estados_unicos[i]: len(lista_de_listas[i]) for i in range(len(estados_unicos))}\n",
    "print(contagem_valores)"
   ]
  },
  {
   "cell_type": "code",
   "execution_count": 12,
   "metadata": {},
   "outputs": [
    {
     "output_type": "stream",
     "name": "stdout",
     "text": [
      "[[13, 9], [9, 6, 4, 8, 5, 10, 12], [16, 10, 7, 11, 9, 12, 7, 10], [8, 9, 7, 12, 8, 14]]\n"
     ]
    }
   ],
   "source": [
    "# Terceira parte: Armazena os estados sem repetição de valor depois cria uma lista de listas com os valores dos funcionários por Estado. \n",
    "estados_unicos = list(set([tupla[0] for tupla in funcionarios]))\n",
    "\n",
    "# Cria a lista de listas\n",
    "lista_de_listas = []\n",
    "for estado in estados_unicos:\n",
    "    lista = [tupla[1] for tupla in funcionarios if tupla[0] == estado]\n",
    "    lista_de_listas.append(lista)\n",
    "print(lista_de_listas)"
   ]
  },
  {
   "cell_type": "code",
   "execution_count": 9,
   "metadata": {},
   "outputs": [
    {
     "output_type": "stream",
     "name": "stdout",
     "text": [
      "{'RJ': ['RJ', 'RJ'], 'MG': ['MG', 'MG', 'MG', 'MG', 'MG', 'MG', 'MG'], 'SP': ['SP', 'SP', 'SP', 'SP', 'SP', 'SP', 'SP', 'SP'], 'ES': ['ES', 'ES', 'ES', 'ES', 'ES', 'ES']}\n"
     ]
    }
   ],
   "source": [
    "# Quarta parte: cria o dicionário agrupando os dados de funcionário por Estado\n",
    "agrupamento_por_estado = {estados_unicos[i]: lista_de_listas[i] for i in range(len(estados_unicos))}\n",
    "print(agrupamento_por_estado)"
   ]
  },
  {
   "cell_type": "code",
   "execution_count": 14,
   "metadata": {},
   "outputs": [
    {
     "output_type": "stream",
     "name": "stdout",
     "text": [
      "{'RJ': 22, 'MG': 54, 'SP': 82, 'ES': 58}\n"
     ]
    }
   ],
   "source": [
    "# Última parte: faz a soma do funcionários por Estados\n",
    "soma_por_estado = {estados_unicos[i]: sum(lista_de_listas[i]) for i in range(len(estados_unicos))}\n",
    "print(soma_por_estado)"
   ]
  }
 ]
}