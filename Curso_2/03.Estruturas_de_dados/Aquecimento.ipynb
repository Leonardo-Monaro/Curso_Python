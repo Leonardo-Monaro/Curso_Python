{
 "metadata": {
  "language_info": {
   "codemirror_mode": {
    "name": "ipython",
    "version": 3
   },
   "file_extension": ".py",
   "mimetype": "text/x-python",
   "name": "python",
   "nbconvert_exporter": "python",
   "pygments_lexer": "ipython3",
   "version": "3.8.8-final"
  },
  "orig_nbformat": 2,
  "kernelspec": {
   "name": "python3",
   "display_name": "Python 3",
   "language": "python"
  }
 },
 "nbformat": 4,
 "nbformat_minor": 2,
 "cells": [
  {
   "cell_type": "code",
   "execution_count": 37,
   "metadata": {},
   "outputs": [
    {
     "output_type": "stream",
     "name": "stdout",
     "text": [
      "24\n10\n16\n"
     ]
    }
   ],
   "source": [
    "# Crie um código para imprimir a soma dos elementos de cada uma das listas contidas na seguinte lista:\n",
    "\n",
    "lista_de_listas = [[4,6,5,9], [1,0,7,2], [3,4,1,8]]\n",
    "\n",
    "for lista in lista_de_listas:\n",
    "    print(sum(lista))"
   ]
  },
  {
   "cell_type": "code",
   "execution_count": 39,
   "metadata": {},
   "outputs": [
    {
     "output_type": "stream",
     "name": "stdout",
     "text": [
      "[81, 67, 83]\n"
     ]
    }
   ],
   "source": [
    "# Crie um código para gerar uma lista que armazena o terceiro elemento de cada tupla contida na seguinte lista de tuplas:\n",
    "\n",
    "lista_de_tuplas = [('Pedro', 1.74, 81), ('Júlia', 1.65, 67), ('Otávio', 1.81, 83)]\n",
    "\n",
    "elemento = []\n",
    "\n",
    "for tupla in lista_de_tuplas:\n",
    "    elemento.append(tupla[2])\n",
    "print(elemento)"
   ]
  },
  {
   "cell_type": "code",
   "execution_count": 41,
   "metadata": {},
   "outputs": [
    {
     "output_type": "stream",
     "name": "stdout",
     "text": [
      "[(0, 'Pedro'), (1, 'Júlia'), (2, 'Otávio'), (3, 'Eduardo')]\n"
     ]
    }
   ],
   "source": [
    "# A partir da lista: lista = ['Pedro', 'Júlia', 'Otávio', 'Eduardo'], crie um código para gerar uma lista de tuplas em que cada tupla tenha o primeiro elemento como a posição do nome na lista original e o segundo elemento sendo o próprio nome.\n",
    "\n",
    "lista = ['Pedro', 'Júlia', 'Otávio', 'Eduardo'] \n",
    "\n",
    "tuplas = []\n",
    "\n",
    "for i in range(len(lista)):\n",
    "    tuplas.append((i, lista[i]))\n",
    "print(tuplas)"
   ]
  },
  {
   "cell_type": "code",
   "execution_count": 35,
   "metadata": {},
   "outputs": [
    {
     "output_type": "stream",
     "name": "stdout",
     "text": [
      "[1700, 1400, 1900]\n"
     ]
    }
   ],
   "source": [
    "# Crie uma lista usando o list comprehension que armazena somente o valor numérico de cada tupla caso o primeiro elemento seja 'Apartamento', a partir da seguinte lista de tuplas:\n",
    "\n",
    "aluguel = [('Apartamento', 1700), ('Apartamento', 1400), ('Casa', 2150), ('Apartamento', 1900), ('Casa', 1100)]\n",
    "\n",
    "lista = [tupla[1] for tupla in aluguel if tupla[0] == 'Apartamento']\n",
    "print(lista)\n"
   ]
  },
  {
   "cell_type": "code",
   "execution_count": 36,
   "metadata": {},
   "outputs": [
    {
     "output_type": "execute_result",
     "data": {
      "text/plain": [
       "{'Jan': 860,\n",
       " 'Fev': 490,\n",
       " 'Mar': 1010,\n",
       " 'Abr': 780,\n",
       " 'Mai': 900,\n",
       " 'Jun': 630,\n",
       " 'Jul': 590,\n",
       " 'Ago': 770,\n",
       " 'Set': 620,\n",
       " 'Out': 560,\n",
       " 'Nov': 840,\n",
       " 'Dez': 360}"
      ]
     },
     "metadata": {},
     "execution_count": 36
    }
   ],
   "source": [
    "# Crie um dicionário usando o dict comprehension em que as chaves estão na lista meses = ['Jan', 'Fev', 'Mar', 'Abr', 'Mai', 'Jun', 'Jul', 'Ago', 'Set', 'Out', 'Nov', 'Dez'] e os valores estão em despesa = [860, 490, 1010, 780, 900, 630, 590, 770, 620, 560, 840, 360].\n",
    "\n",
    "meses = ['Jan', 'Fev', 'Mar', 'Abr', 'Mai', 'Jun', 'Jul', 'Ago', 'Set', 'Out', 'Nov', 'Dez']\n",
    "\n",
    "despesa = [860, 490, 1010, 780, 900, 630, 590, 770, 620, 560, 840, 360]\n",
    "\n",
    "dic = {meses[i]: despesa[i] for i in range(len(meses))}\n",
    "dic"
   ]
  }
 ]
}