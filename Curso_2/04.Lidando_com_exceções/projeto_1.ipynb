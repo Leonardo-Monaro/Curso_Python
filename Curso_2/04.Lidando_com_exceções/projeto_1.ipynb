{
 "metadata": {
  "language_info": {
   "codemirror_mode": {
    "name": "ipython",
    "version": 3
   },
   "file_extension": ".py",
   "mimetype": "text/x-python",
   "name": "python",
   "nbconvert_exporter": "python",
   "pygments_lexer": "ipython3",
   "version": "3.8.8-final"
  },
  "orig_nbformat": 2,
  "kernelspec": {
   "name": "python3",
   "display_name": "Python 3",
   "language": "python"
  }
 },
 "nbformat": 4,
 "nbformat_minor": 2,
 "cells": [
  {
   "cell_type": "code",
   "execution_count": 1,
   "metadata": {},
   "outputs": [
    {
     "output_type": "stream",
     "name": "stdout",
     "text": [
      "-------------------------------------------------------------------------\n[5, 3, 3]\n-------------------------------------------------------------------------\nA alternativa E não é uma opção de alternativa válida\n"
     ]
    }
   ],
   "source": [
    "''' Como desafio, você recebeu a tarefa de desenvolver um código que contabiliza as pontuações de estudantes de uma instituição de ensino de acordo com suas respostas num teste. Este código deve ser testado para um exemplo de 3 estudantes com uma lista de listas em que cada lista possui as respostas de 5 questões objetivas de cada estudante. Cada questão vale um ponto e as alternativas possíveis são A, B, C ou D.\n",
    "\n",
    "Caso alguma alternativa em um dos testes não esteja entre as alternativas possíveis, você deve lançar um ValueError com a mensagem \"A alternativa [alternativa] não é uma opção de alternativa válida\". O cálculo das 3 notas só será realizado mediante as entradas com as alternativas A, B, C ou D em todos os testes. Se não for lançada a exceção, será exibida uma lista com as notas em cada teste.\n",
    "\n",
    "Os dados para o teste do código são:'''\n",
    "\n",
    "# Gabarito da prova\n",
    "gabarito = ['D', 'A', 'B', 'C', 'A']\n",
    "\n",
    "# Notas sem exceção:\n",
    "testes_sem_ex = [['D', 'A', 'B', 'C', 'A'], ['C', 'A', 'A', 'C', 'A'], ['D', 'B', 'A', 'C', 'A']]\n",
    "\n",
    "# Notas com exceção:\n",
    "testes_com_ex = [['D', 'A', 'B', 'C', 'A'], ['C', 'A', 'A', 'E', 'A'], ['D', 'B', 'A', 'C', 'A']]\n",
    "\n",
    "# Correção das notas:\n",
    "def corretor(testes:list):\n",
    "    pontuacoes = []\n",
    "    try:\n",
    "        for teste in testes:\n",
    "            nota = 0\n",
    "            for i in range(len(teste)):\n",
    "                if teste[i] not in ['A', 'B', 'C', 'D']:\n",
    "                    raise ValueError(f'A alternativa {teste[i]} não é uma opção de alternativa válida')\n",
    "                elif teste[i] == gabarito[i]:\n",
    "                    nota += 1\n",
    "            pontuacoes.append(nota)\n",
    "    except Exception as e:\n",
    "        print(e)\n",
    "    else:\n",
    "        return pontuacoes\n",
    "\n",
    "print('-------------------------------------------------------------------------')\n",
    "\n",
    "# Sem exceção:\n",
    "testes_sem_ex = [['D', 'A', 'B', 'C', 'A'], ['C', 'A', 'A', 'C', 'A'], ['D', 'B', 'A', 'C', 'A']]\n",
    "resultado1 = corretor(testes_sem_ex)\n",
    "print(resultado1)\n",
    "print('-------------------------------------------------------------------------')\n",
    "\n",
    "# Com exceção:\n",
    "testes_com_ex = [['D', 'A', 'B', 'C', 'A'], ['C', 'A', 'A', 'E', 'A'], ['D', 'B', 'A', 'C', 'A']]\n",
    "corretor(testes_com_ex)"
   ]
  }
 ]
}