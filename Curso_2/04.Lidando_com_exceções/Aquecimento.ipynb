{
 "metadata": {
  "language_info": {
   "codemirror_mode": {
    "name": "ipython",
    "version": 3
   },
   "file_extension": ".py",
   "mimetype": "text/x-python",
   "name": "python",
   "nbconvert_exporter": "python",
   "pygments_lexer": "ipython3",
   "version": "3.8.8-final"
  },
  "orig_nbformat": 2,
  "kernelspec": {
   "name": "python3",
   "display_name": "Python 3",
   "language": "python"
  }
 },
 "nbformat": 4,
 "nbformat_minor": 2,
 "cells": [
  {
   "cell_type": "code",
   "execution_count": 11,
   "metadata": {},
   "outputs": [
    {
     "output_type": "stream",
     "name": "stdout",
     "text": [
      "A divisão não pode ser realizada!\n",
      "Insira apenas caracteres numéricos!\n"
     ]
    }
   ],
   "source": [
    "''' 1. Faça um programa que solicite à pessoa usuária digitar dois números float e calcular a divisão entre esses números. O código deve conter um tratamento de erro, indicando o tipo de erro que foi gerado caso a divisão não seja possível de realizar.\n",
    "\n",
    "Teste o programa com o segundo valor numérico do input igual a 0. Também teste utilizando caracteres textuais no input para checar os tipos de erro que ocorrem.'''\n",
    "\n",
    "try:\n",
    "    num = float(input('Digite o primeiro número: '))\n",
    "    num_2 = float(input('Digite o segundo número: '))   \n",
    "    div = num / num_2\n",
    "    \n",
    "except ZeroDivisionError:\n",
    "    print('A divisão não pode ser realizada!')\n",
    "\n",
    "except ValueError:\n",
    "    print('Insira apenas caracteres numéricos!')\n",
    "\n",
    "try:\n",
    "    num = float(input('Digite o primeiro número: '))\n",
    "    num_2 = float(input('Digite o segundo número: '))   \n",
    "    div = num / num_2\n",
    "\n",
    "except ZeroDivisionError:\n",
    "    print('A divisão não pode ser realizada!')\n",
    "\n",
    "except ValueError:\n",
    "    print('Insira apenas caracteres numéricos!')"
   ]
  },
  {
   "cell_type": "code",
   "execution_count": 10,
   "metadata": {},
   "outputs": [
    {
     "output_type": "stream",
     "name": "stdout",
     "text": [
      "Nome não encontrado\n",
      "23\n"
     ]
    }
   ],
   "source": [
    "''' 2. Faça um programa que solicite à pessoa usuária digitar um texto que será uma chave a ser pesquisada no seguinte dicionário: idades = {'Júlia': 16, 'Carol': 23, 'Alberto': 19, 'Roberta': 17}, armazenando o resultado do valor em uma variável. O código deve conter um tratamento de erro KeyError, imprimindo a informação 'Nome não encontrado', caso ocorra o erro; e imprimir o valor caso não ocorra nenhum.\n",
    "Teste o programa com um nome presente em uma das chaves do dicionário e com um que não esteja no dicionário para verificar a mensagem de erro.'''\n",
    "\n",
    "idades = {'Júlia': 16, 'Carol': 23, 'Alberto': 19, 'Roberta': 17}\n",
    "\n",
    "try:\n",
    "    nome = input('Digite o nome desejado: ')\n",
    "    resultado = idades[nome]\n",
    "except KeyError:\n",
    "    print('Nome não encontrado')\n",
    "else:\n",
    "    print(resultado)\n",
    "\n",
    "try:\n",
    "    nome = input('Digite o nome desejado: ')\n",
    "    resultado = idades[nome]\n",
    "except KeyError:\n",
    "    print('Nome não encontrado')\n",
    "else:\n",
    "    print(resultado)"
   ]
  },
  {
   "cell_type": "code",
   "execution_count": 20,
   "metadata": {},
   "outputs": [
    {
     "output_type": "stream",
     "name": "stdout",
     "text": [
      "Fim da execução da função.\n"
     ]
    },
    {
     "output_type": "execute_result",
     "data": {
      "text/plain": [
       "[1.0, 2.0, 3.0, 4.0]"
      ]
     },
     "metadata": {},
     "execution_count": 20
    }
   ],
   "source": [
    "'''3. Crie uma função que recebe uma lista como parâmetro e converta todos os valores da lista para float. A função deve conter um tratamento de erro indicando o tipo de erro gerado e retornar a lista caso não tenha ocorrido nenhum erro. Por fim, deve ter a cláusula finally para imprimir o texto: 'Fim da execução da função'.'''\n",
    "def converte_lista(lista): \n",
    "    try:\n",
    "        nova_lista = [float(elemento) for elemento in lista]\n",
    "    except Exception as e:\n",
    "        print(type(e), f'O erro gerado foi: {e}')\n",
    "    else:\n",
    "        return nova_lista\n",
    "    finally:\n",
    "        print('Fim da execução da função.')\n",
    "\n",
    "converte_lista(lista)"
   ]
  },
  {
   "cell_type": "code",
   "execution_count": 2,
   "metadata": {},
   "outputs": [
    {
     "output_type": "stream",
     "name": "stdout",
     "text": [
      "<class 'IndexError'> Erro: A quantidade de elementos em cada lista é diferente.\n<class 'TypeError'> Erro: unsupported operand type(s) for +: 'int' and 'str'\n"
     ]
    }
   ],
   "source": [
    "'''4. Crie uma função que recebe duas listas como parâmetros e agrupe os elementos um a um das listas, formando uma lista de tuplas de 3 elementos, no qual o primeiro e segundo elemento da tupla são os valores na posição i das listas e o terceiro elemento é a soma dos valores na posição i das listas.\n",
    "\n",
    "A função deve conter um tratamento de erro indicando o tipo de erro gerado e retornar como resultado a lista de tuplas. Caso as listas enviadas como parâmetro tenham tamanhos diferentes, a função deve retornar um IndexError com a frase: 'A quantidade de elementos em cada lista é diferente.' Dados para testar a função:'''\n",
    "\n",
    "# Valores sem erro:\n",
    "lista1 = [4,6,7,9,10]\n",
    "lista2 = [-4,6,8,7,9]\n",
    "\n",
    "# Listas com tamanhos diferentes:\n",
    "lista_1 = [4,6,7,9,10,4]\n",
    "lista_2 = [-4,6,8,7,9]\n",
    "\n",
    "# Listas com valores incoerentes:\n",
    "lista1_inc = [4,6,7,9,'A']\n",
    "lista2_inc = [-4,'E',8,7,9]\n",
    "\n",
    "# Leitor das listas sem erro:\n",
    "def leitor_sem_erro(lista1, lista2):\n",
    "    try:\n",
    "        if len(lista1) == len(lista2):\n",
    "            tupla_sem_erro = [(lista1[i], lista2[i], lista1[i]+lista2[i]) for i in range(len(lista1))]\n",
    "        else:\n",
    "            raise IndexError('A quantidade de elementos em cada lista é diferente.')\n",
    "    except Exception as e:\n",
    "        print(type(e), f'Erro: {e}')\n",
    "\n",
    "# Leitor das listas com tamanhos diferentes:\n",
    "def leitor_tam_dif(lista_1, lista_2):\n",
    "    try:\n",
    "        if len(lista_1) == len(lista_2):\n",
    "            tupla_tam_dif = [(lista_1[i], lista_2[i], lista_1[i] + lista_2[i]) for i in range(len(lista_1))]\n",
    "        else:\n",
    "            raise IndexError('A quantidade de elementos em cada lista é diferente.')\n",
    "    except Exception as e:\n",
    "        print(type(e), f'Erro: {e}')\n",
    "\n",
    "# Leitor das listas com valores incoerentes:\n",
    "def leitor_valor_incoerente(lista1_inc, lista2_inc):\n",
    "    try:\n",
    "        if len(lista1_inc) == len(lista2_inc):\n",
    "            tupla_valor_inc = [(lista1_inc[i], lista2_inc[i], lista1_inc[i] + lista2_inc[i]) for i in range(len(lista1_inc))]\n",
    "        else:\n",
    "            raise IndexError('A quantidade de elementos em cada lista é diferente.')\n",
    "    except Exception as e:\n",
    "        print(type(e), f'Erro: {e}')\n",
    "\n",
    "leitor_sem_erro(lista1, lista2)\n",
    "leitor_tam_dif(lista_1, lista_2)\n",
    "leitor_valor_incoerente(lista1_inc, lista2_inc)"
   ]
  }
 ]
}