{
 "metadata": {
  "language_info": {
   "codemirror_mode": {
    "name": "ipython",
    "version": 3
   },
   "file_extension": ".py",
   "mimetype": "text/x-python",
   "name": "python",
   "nbconvert_exporter": "python",
   "pygments_lexer": "ipython3",
   "version": "3.8.8-final"
  },
  "orig_nbformat": 2,
  "kernelspec": {
   "name": "python3",
   "display_name": "Python 3",
   "language": "python"
  }
 },
 "nbformat": 4,
 "nbformat_minor": 2,
 "cells": [
  {
   "cell_type": "code",
   "execution_count": 20,
   "metadata": {},
   "outputs": [
    {
     "output_type": "execute_result",
     "data": {
      "text/plain": [
       "[5.0, 4.8, 4.67, 4.57, 4.5]"
      ]
     },
     "metadata": {},
     "execution_count": 20
    }
   ],
   "source": [
    "'''Você foi contratado(a) como uma pessoa cientista de dados para auxiliar um laboratório que faz experimentos sobre o comportamento de uma cultura de fungos. O laboratório precisa avaliar constantemente a razão (divisão) entre os dados de pressão e temperatura do ambiente controlado recolhidos durante a experimentação para definir a melhor condição para os testes.\n",
    "\n",
    "Para cumprir com a demanda, você precisa criar uma função divide_colunas que recebe os dados das colunas de pressão e temperatura (que vem no formato de listas) e gerar uma nova coluna com o resultado da divisão. Os parâmetros da função são as duas listas e você deve tratar dentro dela ao menos 2 tipos de exceções:\n",
    "\n",
    "Verificar se as listas têm o mesmo tamanho (ValueError)\n",
    "Verificar se existe alguma divisão por zero (ZeroDivisionError)\n",
    "Para testar a função, vamos realizar a divisão entre duas listas de dados coletados no experimento, com os valores de pressão e temperatura do ambiente controlado.\n",
    "\n",
    "Como teste, use os seguintes dados:'''\n",
    "\n",
    "# Dados sem exceção:\n",
    "pressoes = [100, 120, 140, 160, 180]\n",
    "temperaturas = [20, 25, 30, 35, 40]\n",
    "\n",
    "def divide_colunas(lista_1: list, lista_2: list) -> list:\n",
    "  try:\n",
    "    if len(lista_1) != len(lista_2): \n",
    "      raise ValueError(\"As listas precisam ter o mesmo tamanho\")\n",
    "    resultado = [round(a / b, 2) for a, b in zip(lista_1, lista_2)] \n",
    "  except ValueError as e:\n",
    "    print(e)\n",
    "  except ZeroDivisionError as e:\n",
    "    print(f\"{e}: A 2ª lista não pode possuir um valor igual a 0\")\n",
    "  else:\n",
    "    return resultado\n",
    "divide_colunas(pressoes, temperaturas)"
   ]
  },
  {
   "cell_type": "code",
   "execution_count": 21,
   "metadata": {},
   "outputs": [
    {
     "output_type": "stream",
     "name": "stdout",
     "text": [
      "division by zero: A 2ª lista não pode possuir um valor igual a 0\n"
     ]
    }
   ],
   "source": [
    "# Dados com exceção:\n",
    "# Exceção ZeroDivisionError\n",
    "pressoes = [60, 120, 140, 160, 180]\n",
    "temperaturas = [0, 25, 30, 35, 40]\n",
    "\n",
    "divide_colunas(pressoes, temperaturas)"
   ]
  },
  {
   "cell_type": "code",
   "execution_count": 22,
   "metadata": {},
   "outputs": [
    {
     "output_type": "stream",
     "name": "stdout",
     "text": [
      "As listas precisam ter o mesmo tamanho\n"
     ]
    }
   ],
   "source": [
    "# Dados com exceção:\n",
    "# Exceção ValueError\n",
    "pressoes = [100, 120, 140, 160]\n",
    "temperaturas = [20, 25, 30, 35, 40]\n",
    "\n",
    "divide_colunas(pressoes, temperaturas)"
   ]
  }
 ]
}