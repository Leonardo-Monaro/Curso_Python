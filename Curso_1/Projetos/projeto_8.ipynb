{
 "metadata": {
  "language_info": {
   "codemirror_mode": {
    "name": "ipython",
    "version": 3
   },
   "file_extension": ".py",
   "mimetype": "text/x-python",
   "name": "python",
   "nbconvert_exporter": "python",
   "pygments_lexer": "ipython3",
   "version": "3.8.8-final"
  },
  "orig_nbformat": 2,
  "kernelspec": {
   "name": "python3",
   "display_name": "Python 3.8.8 64-bit (conda)",
   "metadata": {
    "interpreter": {
     "hash": "4a647bd40baa5cd36757f11ba316f4524931c48cddba273dab58afd02d2779c0"
    }
   }
  }
 },
 "nbformat": 4,
 "nbformat_minor": 2,
 "cells": [
  {
   "cell_type": "code",
   "execution_count": 6,
   "metadata": {},
   "outputs": [
    {
     "output_type": "stream",
     "name": "stdout",
     "text": [
      "Total de votos candidato 1: 4\nTotal de votos candidato 2: 4\nTotal de votos candidato 3: 3\nTotal de votos candidato 4: 3\nTotal de votos nulos: 3\nTotal de votos brancos: 3\nA porcentagem de votos nulos sobre o total é %.2f: 21.428571428571427\nA porcentagem de votos brancos sobre o total é %.2f: 21.428571428571427\n"
     ]
    }
   ],
   "source": [
    "# Em uma eleição para gerência em uma empresa com 20 funcionários, existem quatro candidatos. Escreva um programa que calcule o vencedor da eleição. A votação ocorreu da seguinte maneira:\n",
    "\n",
    "# Cada funcionário votou em um dos quatro candidatos (representados pelos números 1, 2, 3 e 4).\n",
    "# Também foram contabilizados os votos nulos (representado pelo número 5) e os votos em branco (representado pelo número 6).\n",
    "\n",
    "\n",
    "# Ao final da votação, o programa deve exibir o total de votos para cada candidato, o número de votos nulos e o número de votos em branco. Além disso, deve calcular e exibir a porcentagem de votos nulos em relação ao total de votos e a porcentagem de votos em branco em relação ao total de votos.\n",
    "\n",
    "# Contadores de votos\n",
    "candidato_1 = 0\n",
    "candidato_2 = 0\n",
    "candidato_3 = 0\n",
    "candidato_4 = 0\n",
    "votos_nulos = 0\n",
    "votos_brancos = 0\n",
    "\n",
    "# Condições para a contagem\n",
    "for i in range(0,20):\n",
    "    voto = int(input('Insira o número do candidato: '))\n",
    "    if voto == 1:\n",
    "        candidato_1 += 1\n",
    "    elif voto == 2:\n",
    "        candidato_2 += 1\n",
    "    elif voto == 3:\n",
    "        candidato_3 += 1\n",
    "    elif voto == 4:\n",
    "        candidato_4 += 1\n",
    "    elif voto == 5:\n",
    "        votos_nulos += 1\n",
    "    else:\n",
    "        votos_brancos += 1\n",
    "\n",
    "# Total de votos\n",
    "soma_votos = candidato_1 + candidato_2 + candidato_3 + candidato_4\n",
    "\n",
    "# Percentual de Nulos em relação ao total\n",
    "percentual_nulos = (votos_nulos / soma_votos) * 100\n",
    "# Percentual de Brancos em relação ao total\n",
    "percentual_brancos = (votos_brancos / soma_votos) * 100\n",
    "# Resultados\n",
    "print(f'Total de votos candidato 1: {candidato_1}')\n",
    "print(f'Total de votos candidato 2: {candidato_2}')\n",
    "print(f'Total de votos candidato 3: {candidato_3}')\n",
    "print(f'Total de votos candidato 4: {candidato_4}')\n",
    "print(f'Total de votos nulos: {votos_nulos}')\n",
    "print(f'Total de votos brancos: {votos_brancos}')\n",
    "print(f'A porcentagem de votos nulos sobre o total é: {percentual_nulos}')\n",
    "print(f'A porcentagem de votos brancos sobre o total é: {percentual_brancos}')\n"
   ]
  }
 ]
}