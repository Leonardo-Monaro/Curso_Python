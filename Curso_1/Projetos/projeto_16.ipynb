{
 "metadata": {
  "language_info": {
   "codemirror_mode": {
    "name": "ipython",
    "version": 3
   },
   "file_extension": ".py",
   "mimetype": "text/x-python",
   "name": "python",
   "nbconvert_exporter": "python",
   "pygments_lexer": "ipython3",
   "version": "3.8.8-final"
  },
  "orig_nbformat": 2,
  "kernelspec": {
   "name": "python3",
   "display_name": "Python 3.8.8 64-bit (conda)",
   "metadata": {
    "interpreter": {
     "hash": "4a647bd40baa5cd36757f11ba316f4524931c48cddba273dab58afd02d2779c0"
    }
   }
  }
 },
 "nbformat": 4,
 "nbformat_minor": 2,
 "cells": [
  {
   "cell_type": "code",
   "execution_count": 16,
   "metadata": {},
   "outputs": [
    {
     "output_type": "stream",
     "name": "stdout",
     "text": [
      "A Área Norte tem a média de 5027.5 espécies\nA Área Leste tem a média de 5466.0 espécies\nA Área Sul tem a média de 6732.5 espécies\nA Área Oeste tem a média de 32067.0 espécies\nA Área Centro tem a média de 33853.0 espécies\nMédia geral de espécies: 6770.6\nÁrea com a maior diversidade biológica: Área Centro\n"
     ]
    }
   ],
   "source": [
    "# Uma equipe de cientistas de dados está estudando a diversidade biológica em uma floresta. A equipe fez a coleta de informações sobre o número de espécies de plantas e animais em cada área da floresta e armazenaram essas informações em um dicionário. Nele, a chave descreve a área dos dados e os valores nas listas correspondem às espécies de plantas e animais nas áreas, respectivamente.\n",
    "\n",
    "# Dicionario de areas\n",
    "# Listas de plantas e animais respectivamente\n",
    "areas = {\n",
    "'Área Norte': [2819, 7236],\n",
    "'Área Leste': [1440, 9492],\n",
    "'Área Sul': [5969, 7496],\n",
    "'Área Oeste': [14446, 49688],\n",
    "'Área Centro': [22558, 45148]\n",
    "}\n",
    "\n",
    "# Escreva um código para calcular a média de espécies por área e identificar a área com a maior diversidade biológica. Dica: use as funções built-in sum() e len().\n",
    "\n",
    "# Variaveis\n",
    "soma_media = 0 # Soma das medias das especies\n",
    "maior_diversidade = 0 # Armazena a area com a maior diversidade\n",
    "maior_soma = 0 # Maior soma de especies por area\n",
    "\n",
    "for area, especies in areas.items():\n",
    "    \n",
    "    # Soma das especies\n",
    "    soma_especies = sum(especies)\n",
    "\n",
    "    # Media de especies por area\n",
    "    media = soma_especies / len(especies)\n",
    "\n",
    "    # Resultado\n",
    "    print(f'A {area} tem a média de {media} espécies')\n",
    "\n",
    "# Para calcular a area com a maior biodiversidade\n",
    "if soma_especies > maior_soma:\n",
    "    maior_soma = soma_especies\n",
    "    maior_diversidade = area\n",
    "\n",
    "# Soma medias\n",
    "soma_media += media\n",
    "\n",
    "# Media total \n",
    "media_total = soma_media / len(areas)\n",
    "print(f'Média geral de espécies: {media_total}')\n",
    "print(f'Área com a maior diversidade biológica: {maior_diversidade}')"
   ]
  },
  {
   "cell_type": "code",
   "execution_count": null,
   "metadata": {},
   "outputs": [],
   "source": []
  }
 ]
}