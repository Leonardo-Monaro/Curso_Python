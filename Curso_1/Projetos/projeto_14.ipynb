{
 "metadata": {
  "language_info": {
   "codemirror_mode": {
    "name": "ipython",
    "version": 3
   },
   "file_extension": ".py",
   "mimetype": "text/x-python",
   "name": "python",
   "nbconvert_exporter": "python",
   "pygments_lexer": "ipython3",
   "version": "3.8.8-final"
  },
  "orig_nbformat": 2,
  "kernelspec": {
   "name": "python3",
   "display_name": "Python 3.8.8 64-bit (conda)",
   "metadata": {
    "interpreter": {
     "hash": "4a647bd40baa5cd36757f11ba316f4524931c48cddba273dab58afd02d2779c0"
    }
   }
  }
 },
 "nbformat": 4,
 "nbformat_minor": 2,
 "cells": [
  {
   "cell_type": "code",
   "execution_count": 23,
   "metadata": {},
   "outputs": [
    {
     "output_type": "stream",
     "name": "stdout",
     "text": [
      "O design mais votado foi o: Design 5\nA porcentagem dos votos foi de: 29.75%\n"
     ]
    }
   ],
   "source": [
    "# Uma pesquisa de mercado foi feita para decidir qual design de uma marca infantil mais agrada crianças. A pesquisa foi feita e o votos computados podem ser observados abaixo:\n",
    "votacao = {'Design 1' : 1334, \n",
    "'Design 2' : 982, \n",
    "'Design 3' : 1751,\n",
    "'Design 4' : 210,\n",
    "'Design 5' : 1811\n",
    "}\n",
    "# Adapte os dados fornecidos a você para uma estrutura de dicionário e a partir dele, informe o design vencedor e a porcentagem de votos recebidos.\n",
    "\n",
    "# Parte para imprimir o design mais votado\n",
    "total_votos = 0\n",
    "votos_vencedor = 0\n",
    "design_vencedor = ''\n",
    "\n",
    "for votos in votacao.keys():\n",
    "    total_votos += votacao[votos]\n",
    "    if votacao[votos] > votos_vencedor:\n",
    "        votos_vencedor = votacao[votos]\n",
    "        design_vencedor = votos\n",
    "\n",
    "print(f'O design mais votado foi o: {design_vencedor}')\n",
    "\n",
    "# Imprimir a porcentagem dos votos\n",
    "porcentagem_votos = 100 * (votos_vencedor / total_votos)\n",
    "print(f'A porcentagem dos votos foi de: {porcentagem_votos:,.2f}%')"
   ]
  },
  {
   "cell_type": "code",
   "execution_count": null,
   "metadata": {},
   "outputs": [],
   "source": []
  }
 ]
}