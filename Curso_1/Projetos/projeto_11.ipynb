{
 "metadata": {
  "language_info": {
   "codemirror_mode": {
    "name": "ipython",
    "version": 3
   },
   "file_extension": ".py",
   "mimetype": "text/x-python",
   "name": "python",
   "nbconvert_exporter": "python",
   "pygments_lexer": "ipython3",
   "version": "3.8.8-final"
  },
  "orig_nbformat": 2,
  "kernelspec": {
   "name": "python3",
   "display_name": "Python 3.8.8 64-bit ('Anaconda': virtualenv)",
   "metadata": {
    "interpreter": {
     "hash": "4a647bd40baa5cd36757f11ba316f4524931c48cddba273dab58afd02d2779c0"
    }
   }
  }
 },
 "nbformat": 4,
 "nbformat_minor": 2,
 "cells": [
  {
   "cell_type": "code",
   "execution_count": 15,
   "metadata": {},
   "outputs": [
    {
     "output_type": "stream",
     "name": "stdout",
     "text": [
      "Nota final: 0\nResposta inválida\n"
     ]
    }
   ],
   "source": [
    "# Desenvolva um programa que informa a nota de um aluno de acordo com suas respostas. Ele deve pedir a resposta de um aluno para cada questão e é preciso verificar se a resposta foi igual ao gabarito. Cada questão vale um ponto e existem alternativas: A, B, C ou D.\n",
    "\n",
    "# Lista de respostas corretas\n",
    "gabarito = ['D', 'A', 'C', 'B', 'A', 'D', 'C', 'C', 'A', 'B']\n",
    "\n",
    "# Respostas do aluno\n",
    "alternativas =  []\n",
    "\n",
    "# Contador nota\n",
    "nota = 0\n",
    "\n",
    "# Preenchimento das alternativas\n",
    "for i in range(0,10):\n",
    "    alternativas.append(input(f'Insira a letra da alternativa:{i+1}').upper())\n",
    "\n",
    "for i in range(0,10):\n",
    "    if alternativas[i] == gabarito[i]:\n",
    "        nota += 1\n",
    "print(f'Nota final: {nota}')\n",
    "\n",
    "if alternativas[i] != ['A', 'B', 'C', 'D']:\n",
    "    print('Resposta inválida')"
   ]
  }
 ]
}