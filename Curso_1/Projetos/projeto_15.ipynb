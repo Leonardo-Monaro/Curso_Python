{
 "metadata": {
  "language_info": {
   "codemirror_mode": {
    "name": "ipython",
    "version": 3
   },
   "file_extension": ".py",
   "mimetype": "text/x-python",
   "name": "python",
   "nbconvert_exporter": "python",
   "pygments_lexer": "ipython3",
   "version": "3.8.8-final"
  },
  "orig_nbformat": 2,
  "kernelspec": {
   "name": "python3",
   "display_name": "Python 3.8.8 64-bit (conda)",
   "metadata": {
    "interpreter": {
     "hash": "4a647bd40baa5cd36757f11ba316f4524931c48cddba273dab58afd02d2779c0"
    }
   }
  }
 },
 "nbformat": 4,
 "nbformat_minor": 2,
 "cells": [
  {
   "cell_type": "code",
   "execution_count": 19,
   "metadata": {},
   "outputs": [
    {
     "output_type": "stream",
     "name": "stdout",
     "text": [
      "Abonos: {1172: 200, 1644: 200, 2617: 261.7, 5130: 513.0, 5532: 553.2, 6341: 634.1, 6650: 665.0, 7238: 723.8000000000001, 7685: 768.5, 7782: 778.2, 7903: 790.3000000000001}\nTotal de gasto com abonos: 6087.8\nNúmero de funcionários que receberam o abono mínimo: 2\nMaior valor de abono: 790.3000000000001\n"
     ]
    }
   ],
   "source": [
    "# Os funcionários de um setor da empresa que você trabalha vão receber um abono correspondente a 10% do seu salário devido ao ótimo desempenho do time. O setor financeiro solicitou sua ajuda para a verificação das consequências financeiras que esse abono irá gerar nos recursos. Assim, foi encaminhada para você uma lista com os salários que receberão o abono: [1172, 1644, 2617, 5130, 5532, 6341, 6650, 7238, 7685, 7782, 7903]. O abono de cada funcionário não pode ser inferior a 200. Em código, transforme cada um dos salários em chaves de um dicionário e o abono de cada salário no elemento. Depois, informe o total de gastos com o abono, quantos funcionários receberam o abono mínimo e qual o maior valor de abono fornecido.\n",
    "\n",
    "# Lista de salários\n",
    "salarios = [1172, 1644, 2617, 5130, 5532, 6341, 6650, 7238, 7685, 7782, 7903]\n",
    "# Variáveis\n",
    "dic_abonos = {} # Dicionário de abonos\n",
    "total_abono = 0 # Soma de gastos com os abonos\n",
    "abonos_minimo = 0 # Contador de abonos minimos \n",
    "maior_abono = 0 # Armazena o maior valor do abono \n",
    "\n",
    "\n",
    "for salario in salarios:\n",
    "  # Cada funcionário vao receber 10% de abono sobre o salário\n",
    "  abono = salario * 0.1\n",
    "\n",
    "# Abono não pode ser inferior a 200, caso seja, deve ser ajustado\n",
    "  if abono < 200:\n",
    "    abono = 200\n",
    "\n",
    "  # Novo dado no dicionario de chaves\n",
    "  dic_abonos[salario] = abono\n",
    "\n",
    "# Leitor dicionario abono\n",
    "for abono in dic_abonos.values():\n",
    "  if abono == 200:\n",
    "    abonos_minimo += 1\n",
    "\n",
    "# Verificar o abono maximo\n",
    "  if abono > maior_abono:\n",
    "    maior_abono = abono\n",
    "\n",
    "  # Somamos os abonos\n",
    "  total_abono += abono\n",
    "  \n",
    "# Resultados\n",
    "print(f'Abonos: {dic_abonos}')\n",
    "print(f'Total de gasto com abonos: {total_abono}')\n",
    "print(f'Número de funcionários que receberam o abono mínimo: {abonos_minimo}')\n",
    "print(f'Maior valor de abono: {maior_abono}')\n"
   ]
  },
  {
   "cell_type": "code",
   "execution_count": null,
   "metadata": {},
   "outputs": [],
   "source": []
  }
 ]
}