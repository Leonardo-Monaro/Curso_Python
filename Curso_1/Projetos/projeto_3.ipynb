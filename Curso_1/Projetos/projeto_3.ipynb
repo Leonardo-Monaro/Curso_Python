{
 "metadata": {
  "language_info": {
   "codemirror_mode": {
    "name": "ipython",
    "version": 3
   },
   "file_extension": ".py",
   "mimetype": "text/x-python",
   "name": "python",
   "nbconvert_exporter": "python",
   "pygments_lexer": "ipython3",
   "version": "3.8.8-final"
  },
  "orig_nbformat": 2,
  "kernelspec": {
   "name": "python3",
   "display_name": "Python 3.8.8 64-bit (conda)",
   "metadata": {
    "interpreter": {
     "hash": "4a647bd40baa5cd36757f11ba316f4524931c48cddba273dab58afd02d2779c0"
    }
   }
  }
 },
 "nbformat": 4,
 "nbformat_minor": 2,
 "cells": [
  {
   "cell_type": "code",
   "execution_count": 5,
   "metadata": {},
   "outputs": [
    {
     "output_type": "stream",
     "name": "stdout",
     "text": [
      "Valor a ser pago: R$ 24.99\n"
     ]
    }
   ],
   "source": [
    "# Um estabelecimento está vendendo combustíveis com descontos variados. Para o etanol, se a quantidade comprada for até 15 litros, o desconto será de 2% por litro. Caso contrário, será de 4% por litro. Para o diesel, se a quantidade comprada for até 15 litros, o desconto será de 3% por litro. Caso contrário, será de 5% por litro. O preço do litro de diesel é R$ 2,00 e o preço do litro de etanol é R$ 1,70. Escreva um programa que leia a quantidade de litros vendidos e o tipo de combustível (E para etanol e D para diesel) e calcule o valor a ser pago pelo cliente. Tenha em mente algumas dicas:\n",
    "\n",
    "# O do valor do desconto será a multiplicação entre preço do litro, quantidade de litros e o valor do desconto.\n",
    "# O valor a ser pago por um cliente será o resultado da multiplicação do preço do litro pela quantidade de litros menos o valor de desconto resultante do cálculo.\n",
    "\n",
    "# Parâmetros\n",
    "qtd_litros = float(input('Informe a quantidade de combustível: '))\n",
    "tipo_combustivel = input('Informe o tipo de combústivel(E para Etanol e D para Diesel): ').upper()\n",
    "\n",
    "# Taxas Etanol \n",
    "if tipo_combustivel == 'E':\n",
    "    preco_litro = 1.70\n",
    "    if qtd_litros <= 15:\n",
    "        desconto = 0.02\n",
    "    else:\n",
    "        desconto = 0.04\n",
    "\n",
    "# Taxas Diesel\n",
    "elif tipo_combustivel == 'D':\n",
    "    preco_litro = 2.00\n",
    "    if qtd_litros <= 15:\n",
    "        desconto = 0.03\n",
    "    else:\n",
    "        desconto = 0.05\n",
    "else:\n",
    "    print('Entradas inválidas!')\n",
    "    preco_litro = 0\n",
    "    desconto = 0\n",
    "\n",
    "# Cálculo desconto e pagamento \n",
    "valor_desconto = preco_litro * qtd_litros * desconto\n",
    "valor_pago = preco_litro * qtd_litros - valor_desconto\n",
    "\n",
    "# Resultado\n",
    "print(f'Valor a ser pago: R$ {valor_pago}')"
   ]
  },
  {
   "cell_type": "code",
   "execution_count": null,
   "metadata": {},
   "outputs": [],
   "source": []
  }
 ]
}