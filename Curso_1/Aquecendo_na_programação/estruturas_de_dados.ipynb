{
 "metadata": {
  "language_info": {
   "codemirror_mode": {
    "name": "ipython",
    "version": 3
   },
   "file_extension": ".py",
   "mimetype": "text/x-python",
   "name": "python",
   "nbconvert_exporter": "python",
   "pygments_lexer": "ipython3",
   "version": "3.8.8-final"
  },
  "orig_nbformat": 2,
  "kernelspec": {
   "name": "python3",
   "display_name": "Python 3.8.8 64-bit ('Anaconda': virtualenv)",
   "metadata": {
    "interpreter": {
     "hash": "4a647bd40baa5cd36757f11ba316f4524931c48cddba273dab58afd02d2779c0"
    }
   }
  }
 },
 "nbformat": 4,
 "nbformat_minor": 2,
 "cells": [
  {
   "cell_type": "code",
   "execution_count": 5,
   "metadata": {},
   "outputs": [
    {
     "output_type": "stream",
     "name": "stdout",
     "text": [
      "31442.22\n3144.222\n"
     ]
    }
   ],
   "source": [
    "# 1) Faça um programa que tenha a seguinte lista contendo os valores de gastos de uma empresa de papel [2172.54, 3701.35, 3518.09, 3456.61, 3249.38, 2840.82, 3891.45, 3075.26, 2317.64, 3219.08]. Com esses valores, faça um programa que calcule a média de gastos. Dica, use as funções built-in sum() e len().\n",
    "\n",
    "\n",
    "gastos = [2172.54, 3701.35, 3518.09, 3456.61, 3249.38, 2840.82, 3891.45, 3075.26, 2317.64, 3219.08]\n",
    "\n",
    "soma_gastos = sum(gastos)\n",
    "print(soma_gastos)\n",
    "\n",
    "num_gastos = len(gastos)\n",
    "\n",
    "media_gastos = soma_gastos/num_gastos\n",
    "print(media_gastos)"
   ]
  },
  {
   "cell_type": "code",
   "execution_count": 11,
   "metadata": {},
   "outputs": [
    {
     "output_type": "stream",
     "name": "stdout",
     "text": [
      "7 compras foram acima de R$3000,00.\n70.0% dos gastos foram acima de R$3000,00.\n"
     ]
    }
   ],
   "source": [
    "# 2) Com os mesmos dados da questão anterior, defina quantas compras foram acima de 3000 reais e calcule a porcentagem quanto ao total de compras.\n",
    "\n",
    "gastos = [2172.54, 3701.35, 3518.09, 3456.61, 3249.38, 2840.82, 3891.45, 3075.26, 2317.64, 3219.08]\n",
    "\n",
    "# Contador de valores acima de 3000\n",
    "contador_acima_3000 = 0\n",
    "\n",
    "# Condicional para o contador\n",
    "for gasto in gastos:\n",
    "    if gasto > 3000:\n",
    "        contador_acima_3000 += 1\n",
    "\n",
    "# Porcentagem quanto ao total de compras\n",
    "porcentagem_acima_3000 = 100 * (contador_acima_3000/num_gastos)\n",
    "\n",
    "# Resultado\n",
    "print(f'{contador_acima_3000} compras foram acima de R$3000,00.')\n",
    "print(f'{porcentagem_acima_3000}% dos gastos foram acima de R$3000,00.')"
   ]
  },
  {
   "cell_type": "code",
   "execution_count": 12,
   "metadata": {},
   "outputs": [
    {
     "output_type": "stream",
     "name": "stdout",
     "text": [
      "Lista de números inseridos: [1, 2, 3, 4, 5]\n"
     ]
    }
   ],
   "source": [
    "# 3) Faça um código que colete em uma lista 5 números inteiros quaisquer e imprima a lista. Exemplo: [1,4,7,2,4].\n",
    "\n",
    "# Lista que irá armazenar os 5 números inteiros\n",
    "lista_numeros = []\n",
    "\n",
    "# Criamos um laço que vai iterar 5 vezes para receber os 5 números\n",
    "for i in range(0, 5):\n",
    "  # Coletamos o valor e inserimos na lista por 5 vezes\n",
    "  numero = int(input('Digite um número inteiro: '))\n",
    "  lista_numeros.append(numero)\n",
    "#Resultado\n",
    "print(f'Lista de números inseridos: {lista_numeros}')\n"
   ]
  },
  {
   "cell_type": "code",
   "execution_count": 13,
   "metadata": {},
   "outputs": [
    {
     "output_type": "stream",
     "name": "stdout",
     "text": [
      "Lista de números inseridos: [5, 4, 3, 2, 1]\n"
     ]
    }
   ],
   "source": [
    "# 4) Colete novamente 5 inteiros e imprima a lista em ordem inversa à enviada.\n",
    "\n",
    "# Lista que irá armazenar os 5 números inteiros\n",
    "lista_numeros = []\n",
    "\n",
    "# Criamos um laço que vai iterar 5 vezes para receber os 5 números\n",
    "for i in range(0, 5):\n",
    "  # Coletamos o valor e inserimos na lista por 5 vezes\n",
    "  numero = int(input('Digite um número inteiro: '))\n",
    "  lista_numeros.append(numero)\n",
    "#Resultado\n",
    "print(f'Lista de números inseridos: {lista_numeros[::-1]}')"
   ]
  },
  {
   "cell_type": "code",
   "execution_count": 18,
   "metadata": {},
   "outputs": [
    {
     "output_type": "stream",
     "name": "stdout",
     "text": [
      "Lista de números primos: [2, 3, 5, 7]\n"
     ]
    }
   ],
   "source": [
    "# 5) Faça um programa que, ao inserir um número qualquer, criará uma lista contendo todos os números primos entre 1 e o número digitado.\n",
    "\n",
    "# Coletamos o números\n",
    "numero = int(input('Digite um número inteiro: '))\n",
    "# Lista para receber os números primos\n",
    "lista_primos = []\n",
    "# Laço que vai rodar por todos os números abaixo do número digitado\n",
    "for num in range(2, numero):\n",
    "  # Primo é uma bandeira, ela permite sabermos se o valor analisado é ou não primo\n",
    "  primo = True \n",
    "  # Testamos se todos os números abaixo do especificado no primeiro laço podem\n",
    "  # gerar uma divisão exata\n",
    "  for teste_divisiveis in range(2, num):\n",
    "    if num % teste_divisiveis == 0:\n",
    "      # Caso seja divisivel por algum número entendemos que \n",
    "      # o num não é primo e finalizamos o laço interno com break\n",
    "      primo = False\n",
    "      break\n",
    "  # A condição se torna o resultado booleno de primo: False, ignoramos o condicional\n",
    "  # True, executamos o bloco do if\n",
    "  if primo:\n",
    "    lista_primos.append(num)\n",
    "# Resultado\n",
    "print(f'Lista de números primos: {lista_primos}')\n"
   ]
  },
  {
   "cell_type": "code",
   "execution_count": 1,
   "metadata": {},
   "outputs": [
    {
     "output_type": "stream",
     "name": "stdout",
     "text": [
      "Data válida\n"
     ]
    }
   ],
   "source": [
    "# 6) Escreva um programa que peça uma data informando o dia, mês e ano e determine se ela é uma data válida para uma análise.\n",
    "\n",
    "# Coletamos a data\n",
    "dia = int(input('Digite o dia: '))\n",
    "mes = int(input('Digite o mês: '))\n",
    "ano = int(input('Digite o ano: '))\n",
    "\n",
    "# Análise de fevereiro\n",
    "if mes == 2:\n",
    "  # Verificamos se é ou não um ano bissexto\n",
    "  if ano % 4 == 0 and (ano % 400 == 0 or ano % 100 != 0):\n",
    "    dias_fevereiro = 29\n",
    "  else:\n",
    "    dias_fevereiro = 28\n",
    "  # Verificamos se o dia colocado corresponde ao máximo de dias de fevereiro\n",
    "  if dia >= 1 and dia <= dias_fevereiro:\n",
    "    print('Data válida')\n",
    "  else:\n",
    "    print('Data inválida')\n",
    "# Verificamos meses terminados em 31 dias\n",
    "elif mes in [1, 3, 5, 7, 8, 10, 12]:\n",
    "  if dia >= 1 and dia <= 31:\n",
    "    print('Data válida')\n",
    "  else:\n",
    "    print('Data inválida')\n",
    "# Verificamos meses terminados em 30 dias\n",
    "elif mes in [4, 6, 9, 11]:\n",
    "  if dia >= 1 and dia <= 30:\n",
    "    print('Data válida')\n",
    "  else:\n",
    "    print('Data inválida')\n",
    "# Caso o mês não esteja entre 1 e 12\n",
    "else:\n",
    "  print('Data inválida')\n"
   ]
  }
 ]
}