{
 "metadata": {
  "language_info": {
   "codemirror_mode": {
    "name": "ipython",
    "version": 3
   },
   "file_extension": ".py",
   "mimetype": "text/x-python",
   "name": "python",
   "nbconvert_exporter": "python",
   "pygments_lexer": "ipython3",
   "version": "3.8.8-final"
  },
  "orig_nbformat": 2,
  "kernelspec": {
   "name": "python3",
   "display_name": "Python 3",
   "language": "python"
  }
 },
 "nbformat": 4,
 "nbformat_minor": 2,
 "cells": [
  {
   "cell_type": "code",
   "execution_count": 2,
   "metadata": {},
   "outputs": [
    {
     "output_type": "stream",
     "name": "stdout",
     "text": [
      "<class 'pandas.core.frame.DataFrame'>\nRangeIndex: 103312 entries, 0 to 103311\nData columns (total 64 columns):\n #   Column                      Non-Null Count   Dtype  \n---  ------                      --------------   -----  \n 0   Nível 1 - Setor             103312 non-null  object \n 1   Nível 2                     103312 non-null  object \n 2   Nível 3                     103253 non-null  object \n 3   Nível 4                     90920 non-null   object \n 4   Nível 5                     100788 non-null  object \n 5   Nível 6                     97691 non-null   object \n 6   Emissão / Remoção / Bunker  103312 non-null  object \n 7   Gás                         103312 non-null  object \n 8   Estado                      97374 non-null   object \n 9   Atividade Econômica         102076 non-null  object \n 10  Produto                     37413 non-null   object \n 11  1970                        103312 non-null  float64\n 12  1971                        103312 non-null  float64\n 13  1972                        103312 non-null  float64\n 14  1973                        103312 non-null  float64\n 15  1974                        103312 non-null  float64\n 16  1975                        103312 non-null  float64\n 17  1976                        103312 non-null  float64\n 18  1977                        103312 non-null  float64\n 19  1978                        103312 non-null  float64\n 20  1979                        103312 non-null  float64\n 21  1980                        103312 non-null  float64\n 22  1981                        103312 non-null  float64\n 23  1982                        103312 non-null  float64\n 24  1983                        103312 non-null  float64\n 25  1984                        103312 non-null  float64\n 26  1985                        103312 non-null  float64\n 27  1986                        103312 non-null  float64\n 28  1987                        103312 non-null  float64\n 29  1988                        103312 non-null  float64\n 30  1989                        103312 non-null  float64\n 31  1990                        103312 non-null  float64\n 32  1991                        103312 non-null  float64\n 33  1992                        103312 non-null  float64\n 34  1993                        103312 non-null  float64\n 35  1994                        103312 non-null  float64\n 36  1995                        103312 non-null  float64\n 37  1996                        103312 non-null  float64\n 38  1997                        103312 non-null  float64\n 39  1998                        103312 non-null  float64\n 40  1999                        103312 non-null  float64\n 41  2000                        103312 non-null  float64\n 42  2001                        103312 non-null  float64\n 43  2002                        103312 non-null  float64\n 44  2003                        103312 non-null  float64\n 45  2004                        103312 non-null  float64\n 46  2005                        103312 non-null  float64\n 47  2006                        103312 non-null  float64\n 48  2007                        103312 non-null  float64\n 49  2008                        103312 non-null  float64\n 50  2009                        103312 non-null  float64\n 51  2010                        103312 non-null  float64\n 52  2011                        103312 non-null  float64\n 53  2012                        103312 non-null  float64\n 54  2013                        103312 non-null  float64\n 55  2014                        103312 non-null  float64\n 56  2015                        103312 non-null  float64\n 57  2016                        103312 non-null  float64\n 58  2017                        103312 non-null  float64\n 59  2018                        103312 non-null  float64\n 60  2019                        103312 non-null  float64\n 61  2020                        103312 non-null  float64\n 62  2021                        103312 non-null  float64\n 63  Unnamed: 63                 0 non-null       float64\ndtypes: float64(53), object(11)\nmemory usage: 50.4+ MB\n"
     ]
    }
   ],
   "source": [
    "import pandas as pd \n",
    "dados_emissoes = pd.read_excel('dados_emissoes.xlsx')\n",
    "dados_emissoes.info()"
   ]
  },
  {
   "cell_type": "code",
   "execution_count": 3,
   "metadata": {},
   "outputs": [
    {
     "output_type": "execute_result",
     "data": {
      "text/plain": [
       "array(['Emissão', 'Emissão NCI', 'Remoção NCI', 'Bunker', 'Remoção'],\n",
       "      dtype=object)"
      ]
     },
     "metadata": {},
     "execution_count": 3
    }
   ],
   "source": [
    "dados_emissoes['Emissão / Remoção / Bunker'].unique()"
   ]
  },
  {
   "cell_type": "code",
   "execution_count": 4,
   "metadata": {},
   "outputs": [
    {
     "output_type": "execute_result",
     "data": {
      "text/plain": [
       "0         False\n",
       "1         False\n",
       "2         False\n",
       "3         False\n",
       "4         False\n",
       "          ...  \n",
       "103307    False\n",
       "103308    False\n",
       "103309    False\n",
       "103310    False\n",
       "103311    False\n",
       "Name: Emissão / Remoção / Bunker, Length: 103312, dtype: bool"
      ]
     },
     "metadata": {},
     "execution_count": 4
    }
   ],
   "source": [
    "(dados_emissoes['Emissão / Remoção / Bunker'] == 'Remoção NCI') | (dados_emissoes['Emissão / Remoção / Bunker'] == 'Remoção')"
   ]
  },
  {
   "cell_type": "code",
   "execution_count": 5,
   "metadata": {},
   "outputs": [
    {
     "output_type": "execute_result",
     "data": {
      "text/plain": [
       "        1970  1971  1972  1973  1974  1975  1976  1977  1978  1979  ...  \\\n",
       "23520    0.0   0.0   0.0   0.0   0.0   0.0   0.0   0.0   0.0   0.0  ...   \n",
       "23521    0.0   0.0   0.0   0.0   0.0   0.0   0.0   0.0   0.0   0.0  ...   \n",
       "23522    0.0   0.0   0.0   0.0   0.0   0.0   0.0   0.0   0.0   0.0  ...   \n",
       "23523    0.0   0.0   0.0   0.0   0.0   0.0   0.0   0.0   0.0   0.0  ...   \n",
       "23524    0.0   0.0   0.0   0.0   0.0   0.0   0.0   0.0   0.0   0.0  ...   \n",
       "...      ...   ...   ...   ...   ...   ...   ...   ...   ...   ...  ...   \n",
       "102751   0.0   0.0   0.0   0.0   0.0   0.0   0.0   0.0   0.0   0.0  ...   \n",
       "102752   0.0   0.0   0.0   0.0   0.0   0.0   0.0   0.0   0.0   0.0  ...   \n",
       "102753   0.0   0.0   0.0   0.0   0.0   0.0   0.0   0.0   0.0   0.0  ...   \n",
       "102754   0.0   0.0   0.0   0.0   0.0   0.0   0.0   0.0   0.0   0.0  ...   \n",
       "102755   0.0   0.0   0.0   0.0   0.0   0.0   0.0   0.0   0.0   0.0  ...   \n",
       "\n",
       "                2012          2013          2014          2015          2016  \\\n",
       "23520  -1.434540e+07 -1.499358e+07 -1.543196e+07 -1.567070e+07 -1.630063e+07   \n",
       "23521  -5.382949e+06 -5.524659e+06 -5.632429e+06 -5.765030e+06 -5.867354e+06   \n",
       "23522  -3.450455e+06 -3.540294e+06 -3.545724e+06 -3.924546e+06 -4.626541e+06   \n",
       "23523  -1.260166e+06 -1.261895e+06 -1.371664e+06 -1.501452e+06 -1.507705e+06   \n",
       "23524  -3.429279e+07 -3.317185e+07 -3.281628e+07 -3.350720e+07 -3.557183e+07   \n",
       "...              ...           ...           ...           ...           ...   \n",
       "102751 -7.513000e+04 -7.911900e+04 -8.695900e+04 -9.201400e+04 -9.149400e+04   \n",
       "102752 -9.523000e+03 -9.667000e+03 -1.000300e+04 -1.024200e+04 -1.027200e+04   \n",
       "102753 -7.513000e+04 -7.911900e+04 -8.695900e+04 -9.201400e+04 -9.149400e+04   \n",
       "102754 -9.523000e+03 -9.667000e+03 -1.000300e+04 -1.024200e+04 -1.027200e+04   \n",
       "102755 -7.513000e+04 -7.911900e+04 -8.695900e+04 -9.201400e+04 -9.149400e+04   \n",
       "\n",
       "                2017          2018          2019          2020          2021  \n",
       "23520  -1.702215e+07 -1.740074e+07 -1.771914e+07 -1.767632e+07 -1.838895e+07  \n",
       "23521  -5.942076e+06 -6.022000e+06 -6.002147e+06 -6.035591e+06 -6.459079e+06  \n",
       "23522  -4.874199e+06 -4.849173e+06 -4.959540e+06 -5.106806e+06 -5.809814e+06  \n",
       "23523  -1.509919e+06 -1.609826e+06 -1.616980e+06 -1.518397e+06 -1.926000e+06  \n",
       "23524  -3.755308e+07 -4.134614e+07 -4.229403e+07 -4.275448e+07 -4.443440e+07  \n",
       "...              ...           ...           ...           ...           ...  \n",
       "102751 -9.630200e+04 -9.202000e+04 -9.762300e+04 -1.015020e+05 -1.008910e+05  \n",
       "102752 -1.019100e+04 -1.046900e+04 -1.090400e+04 -1.104100e+04 -1.109500e+04  \n",
       "102753 -9.630200e+04 -9.202000e+04 -9.762300e+04 -1.015020e+05 -1.008910e+05  \n",
       "102754 -1.019100e+04 -1.046900e+04 -1.090400e+04 -1.104100e+04 -1.109500e+04  \n",
       "102755 -9.630200e+04 -9.202000e+04 -9.762300e+04 -1.015020e+05 -1.008910e+05  \n",
       "\n",
       "[7970 rows x 52 columns]"
      ],
      "text/html": "<div>\n<style scoped>\n    .dataframe tbody tr th:only-of-type {\n        vertical-align: middle;\n    }\n\n    .dataframe tbody tr th {\n        vertical-align: top;\n    }\n\n    .dataframe thead th {\n        text-align: right;\n    }\n</style>\n<table border=\"1\" class=\"dataframe\">\n  <thead>\n    <tr style=\"text-align: right;\">\n      <th></th>\n      <th>1970</th>\n      <th>1971</th>\n      <th>1972</th>\n      <th>1973</th>\n      <th>1974</th>\n      <th>1975</th>\n      <th>1976</th>\n      <th>1977</th>\n      <th>1978</th>\n      <th>1979</th>\n      <th>...</th>\n      <th>2012</th>\n      <th>2013</th>\n      <th>2014</th>\n      <th>2015</th>\n      <th>2016</th>\n      <th>2017</th>\n      <th>2018</th>\n      <th>2019</th>\n      <th>2020</th>\n      <th>2021</th>\n    </tr>\n  </thead>\n  <tbody>\n    <tr>\n      <th>23520</th>\n      <td>0.0</td>\n      <td>0.0</td>\n      <td>0.0</td>\n      <td>0.0</td>\n      <td>0.0</td>\n      <td>0.0</td>\n      <td>0.0</td>\n      <td>0.0</td>\n      <td>0.0</td>\n      <td>0.0</td>\n      <td>...</td>\n      <td>-1.434540e+07</td>\n      <td>-1.499358e+07</td>\n      <td>-1.543196e+07</td>\n      <td>-1.567070e+07</td>\n      <td>-1.630063e+07</td>\n      <td>-1.702215e+07</td>\n      <td>-1.740074e+07</td>\n      <td>-1.771914e+07</td>\n      <td>-1.767632e+07</td>\n      <td>-1.838895e+07</td>\n    </tr>\n    <tr>\n      <th>23521</th>\n      <td>0.0</td>\n      <td>0.0</td>\n      <td>0.0</td>\n      <td>0.0</td>\n      <td>0.0</td>\n      <td>0.0</td>\n      <td>0.0</td>\n      <td>0.0</td>\n      <td>0.0</td>\n      <td>0.0</td>\n      <td>...</td>\n      <td>-5.382949e+06</td>\n      <td>-5.524659e+06</td>\n      <td>-5.632429e+06</td>\n      <td>-5.765030e+06</td>\n      <td>-5.867354e+06</td>\n      <td>-5.942076e+06</td>\n      <td>-6.022000e+06</td>\n      <td>-6.002147e+06</td>\n      <td>-6.035591e+06</td>\n      <td>-6.459079e+06</td>\n    </tr>\n    <tr>\n      <th>23522</th>\n      <td>0.0</td>\n      <td>0.0</td>\n      <td>0.0</td>\n      <td>0.0</td>\n      <td>0.0</td>\n      <td>0.0</td>\n      <td>0.0</td>\n      <td>0.0</td>\n      <td>0.0</td>\n      <td>0.0</td>\n      <td>...</td>\n      <td>-3.450455e+06</td>\n      <td>-3.540294e+06</td>\n      <td>-3.545724e+06</td>\n      <td>-3.924546e+06</td>\n      <td>-4.626541e+06</td>\n      <td>-4.874199e+06</td>\n      <td>-4.849173e+06</td>\n      <td>-4.959540e+06</td>\n      <td>-5.106806e+06</td>\n      <td>-5.809814e+06</td>\n    </tr>\n    <tr>\n      <th>23523</th>\n      <td>0.0</td>\n      <td>0.0</td>\n      <td>0.0</td>\n      <td>0.0</td>\n      <td>0.0</td>\n      <td>0.0</td>\n      <td>0.0</td>\n      <td>0.0</td>\n      <td>0.0</td>\n      <td>0.0</td>\n      <td>...</td>\n      <td>-1.260166e+06</td>\n      <td>-1.261895e+06</td>\n      <td>-1.371664e+06</td>\n      <td>-1.501452e+06</td>\n      <td>-1.507705e+06</td>\n      <td>-1.509919e+06</td>\n      <td>-1.609826e+06</td>\n      <td>-1.616980e+06</td>\n      <td>-1.518397e+06</td>\n      <td>-1.926000e+06</td>\n    </tr>\n    <tr>\n      <th>23524</th>\n      <td>0.0</td>\n      <td>0.0</td>\n      <td>0.0</td>\n      <td>0.0</td>\n      <td>0.0</td>\n      <td>0.0</td>\n      <td>0.0</td>\n      <td>0.0</td>\n      <td>0.0</td>\n      <td>0.0</td>\n      <td>...</td>\n      <td>-3.429279e+07</td>\n      <td>-3.317185e+07</td>\n      <td>-3.281628e+07</td>\n      <td>-3.350720e+07</td>\n      <td>-3.557183e+07</td>\n      <td>-3.755308e+07</td>\n      <td>-4.134614e+07</td>\n      <td>-4.229403e+07</td>\n      <td>-4.275448e+07</td>\n      <td>-4.443440e+07</td>\n    </tr>\n    <tr>\n      <th>...</th>\n      <td>...</td>\n      <td>...</td>\n      <td>...</td>\n      <td>...</td>\n      <td>...</td>\n      <td>...</td>\n      <td>...</td>\n      <td>...</td>\n      <td>...</td>\n      <td>...</td>\n      <td>...</td>\n      <td>...</td>\n      <td>...</td>\n      <td>...</td>\n      <td>...</td>\n      <td>...</td>\n      <td>...</td>\n      <td>...</td>\n      <td>...</td>\n      <td>...</td>\n      <td>...</td>\n    </tr>\n    <tr>\n      <th>102751</th>\n      <td>0.0</td>\n      <td>0.0</td>\n      <td>0.0</td>\n      <td>0.0</td>\n      <td>0.0</td>\n      <td>0.0</td>\n      <td>0.0</td>\n      <td>0.0</td>\n      <td>0.0</td>\n      <td>0.0</td>\n      <td>...</td>\n      <td>-7.513000e+04</td>\n      <td>-7.911900e+04</td>\n      <td>-8.695900e+04</td>\n      <td>-9.201400e+04</td>\n      <td>-9.149400e+04</td>\n      <td>-9.630200e+04</td>\n      <td>-9.202000e+04</td>\n      <td>-9.762300e+04</td>\n      <td>-1.015020e+05</td>\n      <td>-1.008910e+05</td>\n    </tr>\n    <tr>\n      <th>102752</th>\n      <td>0.0</td>\n      <td>0.0</td>\n      <td>0.0</td>\n      <td>0.0</td>\n      <td>0.0</td>\n      <td>0.0</td>\n      <td>0.0</td>\n      <td>0.0</td>\n      <td>0.0</td>\n      <td>0.0</td>\n      <td>...</td>\n      <td>-9.523000e+03</td>\n      <td>-9.667000e+03</td>\n      <td>-1.000300e+04</td>\n      <td>-1.024200e+04</td>\n      <td>-1.027200e+04</td>\n      <td>-1.019100e+04</td>\n      <td>-1.046900e+04</td>\n      <td>-1.090400e+04</td>\n      <td>-1.104100e+04</td>\n      <td>-1.109500e+04</td>\n    </tr>\n    <tr>\n      <th>102753</th>\n      <td>0.0</td>\n      <td>0.0</td>\n      <td>0.0</td>\n      <td>0.0</td>\n      <td>0.0</td>\n      <td>0.0</td>\n      <td>0.0</td>\n      <td>0.0</td>\n      <td>0.0</td>\n      <td>0.0</td>\n      <td>...</td>\n      <td>-7.513000e+04</td>\n      <td>-7.911900e+04</td>\n      <td>-8.695900e+04</td>\n      <td>-9.201400e+04</td>\n      <td>-9.149400e+04</td>\n      <td>-9.630200e+04</td>\n      <td>-9.202000e+04</td>\n      <td>-9.762300e+04</td>\n      <td>-1.015020e+05</td>\n      <td>-1.008910e+05</td>\n    </tr>\n    <tr>\n      <th>102754</th>\n      <td>0.0</td>\n      <td>0.0</td>\n      <td>0.0</td>\n      <td>0.0</td>\n      <td>0.0</td>\n      <td>0.0</td>\n      <td>0.0</td>\n      <td>0.0</td>\n      <td>0.0</td>\n      <td>0.0</td>\n      <td>...</td>\n      <td>-9.523000e+03</td>\n      <td>-9.667000e+03</td>\n      <td>-1.000300e+04</td>\n      <td>-1.024200e+04</td>\n      <td>-1.027200e+04</td>\n      <td>-1.019100e+04</td>\n      <td>-1.046900e+04</td>\n      <td>-1.090400e+04</td>\n      <td>-1.104100e+04</td>\n      <td>-1.109500e+04</td>\n    </tr>\n    <tr>\n      <th>102755</th>\n      <td>0.0</td>\n      <td>0.0</td>\n      <td>0.0</td>\n      <td>0.0</td>\n      <td>0.0</td>\n      <td>0.0</td>\n      <td>0.0</td>\n      <td>0.0</td>\n      <td>0.0</td>\n      <td>0.0</td>\n      <td>...</td>\n      <td>-7.513000e+04</td>\n      <td>-7.911900e+04</td>\n      <td>-8.695900e+04</td>\n      <td>-9.201400e+04</td>\n      <td>-9.149400e+04</td>\n      <td>-9.630200e+04</td>\n      <td>-9.202000e+04</td>\n      <td>-9.762300e+04</td>\n      <td>-1.015020e+05</td>\n      <td>-1.008910e+05</td>\n    </tr>\n  </tbody>\n</table>\n<p>7970 rows × 52 columns</p>\n</div>"
     },
     "metadata": {},
     "execution_count": 5
    }
   ],
   "source": [
    "dados_emissoes.loc[dados_emissoes['Emissão / Remoção / Bunker'].isin(['Remoção NCI','Remoção']), 1970:2021]"
   ]
  },
  {
   "cell_type": "code",
   "execution_count": 6,
   "metadata": {},
   "outputs": [
    {
     "output_type": "execute_result",
     "data": {
      "text/plain": [
       "1970    0.0\n",
       "1971    0.0\n",
       "1972    0.0\n",
       "1973    0.0\n",
       "1974    0.0\n",
       "1975    0.0\n",
       "1976    0.0\n",
       "1977    0.0\n",
       "1978    0.0\n",
       "1979    0.0\n",
       "1980    0.0\n",
       "1981    0.0\n",
       "1982    0.0\n",
       "1983    0.0\n",
       "1984    0.0\n",
       "1985    0.0\n",
       "1986    0.0\n",
       "1987    0.0\n",
       "1988    0.0\n",
       "1989    0.0\n",
       "1990    0.0\n",
       "1991    0.0\n",
       "1992    0.0\n",
       "1993    0.0\n",
       "1994    0.0\n",
       "1995    0.0\n",
       "1996    0.0\n",
       "1997    0.0\n",
       "1998    0.0\n",
       "1999    0.0\n",
       "2000    0.0\n",
       "2001    0.0\n",
       "2002    0.0\n",
       "2003    0.0\n",
       "2004    0.0\n",
       "2005    0.0\n",
       "2006    0.0\n",
       "2007    0.0\n",
       "2008    0.0\n",
       "2009    0.0\n",
       "2010    0.0\n",
       "2011    0.0\n",
       "2012    0.0\n",
       "2013    0.0\n",
       "2014    0.0\n",
       "2015    0.0\n",
       "2016    0.0\n",
       "2017    0.0\n",
       "2018    0.0\n",
       "2019    0.0\n",
       "2020    0.0\n",
       "2021    0.0\n",
       "dtype: float64"
      ]
     },
     "metadata": {},
     "execution_count": 6
    }
   ],
   "source": [
    "dados_emissoes.loc[dados_emissoes['Emissão / Remoção / Bunker'].isin(['Remoção NCI','Remoção']), 1970:2021].max()"
   ]
  },
  {
   "cell_type": "code",
   "execution_count": 7,
   "metadata": {},
   "outputs": [
    {
     "output_type": "execute_result",
     "data": {
      "text/plain": [
       "array([nan], dtype=object)"
      ]
     },
     "metadata": {},
     "execution_count": 7
    }
   ],
   "source": [
    "dados_emissoes.loc[dados_emissoes['Emissão / Remoção / Bunker'] == 'Bunker', 'Estado'].unique()"
   ]
  },
  {
   "cell_type": "code",
   "execution_count": 8,
   "metadata": {},
   "outputs": [
    {
     "output_type": "execute_result",
     "data": {
      "text/plain": [
       "                           Nível 1 - Setor              Nível 2  \\\n",
       "0                    Processos Industriais    Indústria Química   \n",
       "1                    Processos Industriais    Indústria Química   \n",
       "2                    Processos Industriais    Indústria Química   \n",
       "3                    Processos Industriais    Indústria Química   \n",
       "4                    Processos Industriais    Indústria Química   \n",
       "...                                    ...                  ...   \n",
       "103241  Mudança de Uso da Terra e Floresta  Resíduos Florestais   \n",
       "103242  Mudança de Uso da Terra e Floresta  Resíduos Florestais   \n",
       "103243  Mudança de Uso da Terra e Floresta  Resíduos Florestais   \n",
       "103244  Mudança de Uso da Terra e Floresta  Resíduos Florestais   \n",
       "103245  Mudança de Uso da Terra e Floresta  Resíduos Florestais   \n",
       "\n",
       "                          Nível 3 Nível 4       Nível 5 Nível 6  \\\n",
       "0                 Produção de ABS     NaN           NaN     NaN   \n",
       "1       Produção de Ácido Adípico     NaN           NaN     NaN   \n",
       "2       Produção de Ácido Adípico     NaN           NaN     NaN   \n",
       "3       Produção de Ácido Adípico     NaN           NaN     NaN   \n",
       "4       Produção de Ácido Adípico     NaN           NaN     NaN   \n",
       "...                           ...     ...           ...     ...   \n",
       "103241                   Pantanal     NaN  Desmatamento     NaN   \n",
       "103242                   Pantanal     NaN  Desmatamento     NaN   \n",
       "103243                   Pantanal     NaN  Desmatamento     NaN   \n",
       "103244                   Pantanal     NaN  Desmatamento     NaN   \n",
       "103245                   Pantanal     NaN  Desmatamento     NaN   \n",
       "\n",
       "       Emissão / Remoção / Bunker               Gás Estado  \\\n",
       "0                         Emissão         COVNM (t)     SP   \n",
       "1                         Emissão           N2O (t)     SP   \n",
       "2                         Emissão            CO (t)     SP   \n",
       "3                         Emissão           NOx (t)     SP   \n",
       "4                         Emissão  CO2e (t) GWP-AR2     SP   \n",
       "...                           ...               ...    ...   \n",
       "103241                    Emissão  CO2e (t) GWP-AR5     MS   \n",
       "103242                    Emissão  CO2e (t) GWP-AR6     MT   \n",
       "103243                    Emissão  CO2e (t) GWP-AR6     MS   \n",
       "103244                    Emissão           N2O (t)     MT   \n",
       "103245                    Emissão           N2O (t)     MS   \n",
       "\n",
       "       Atividade Econômica  ...           2013           2014           2015  \\\n",
       "0                OUTRA_IND  ...     897.600000     897.600000     897.600000   \n",
       "1                OUTRA_IND  ...     130.000000     130.000000     130.000000   \n",
       "2                OUTRA_IND  ...    1380.576000    1380.576000    1380.576000   \n",
       "3                OUTRA_IND  ...     431.430000     431.430000     431.430000   \n",
       "4                OUTRA_IND  ...   40300.000000   40300.000000   40300.000000   \n",
       "...                    ...  ...            ...            ...            ...   \n",
       "103241             AGROPEC  ...  500067.000000  440030.000000  365272.000000   \n",
       "103242             AGROPEC  ...  127558.000000  193758.000000  164585.000000   \n",
       "103243             AGROPEC  ...  502908.000000  442493.000000  367116.000000   \n",
       "103244             AGROPEC  ...     109.811199     166.680103     141.442361   \n",
       "103245             AGROPEC  ...     517.078826     450.849218     352.160440   \n",
       "\n",
       "                 2016           2017           2018        2019        2020  \\\n",
       "0          897.600000     897.600000     897.600000     897.600     897.600   \n",
       "1          130.000000     130.000000     130.000000     130.000     130.000   \n",
       "2         1380.576000    1380.576000    1380.576000    1380.576    1380.576   \n",
       "3          431.430000     431.430000     431.430000     431.430     431.430   \n",
       "4        40300.000000   40300.000000   40300.000000   40300.000   40300.000   \n",
       "...               ...            ...            ...         ...         ...   \n",
       "103241  438422.000000  391113.000000  411738.000000  437039.000  871393.000   \n",
       "103242  234509.000000  190412.000000  162919.000000  186091.000  368149.000   \n",
       "103243  440798.000000  393101.000000  413749.000000  439526.000  876637.000   \n",
       "103244     201.556097     162.932751     137.219684     158.000     314.000   \n",
       "103245     440.753215     378.038216     388.896998     452.000     935.000   \n",
       "\n",
       "               2021  Unnamed: 63  \n",
       "0           897.600          NaN  \n",
       "1           130.000          NaN  \n",
       "2          1380.576          NaN  \n",
       "3           431.430          NaN  \n",
       "4         40300.000          NaN  \n",
       "...             ...          ...  \n",
       "103241  1004191.000          NaN  \n",
       "103242   443120.000          NaN  \n",
       "103243  1009968.000          NaN  \n",
       "103244      479.000          NaN  \n",
       "103245     1047.000          NaN  \n",
       "\n",
       "[94748 rows x 64 columns]"
      ],
      "text/html": "<div>\n<style scoped>\n    .dataframe tbody tr th:only-of-type {\n        vertical-align: middle;\n    }\n\n    .dataframe tbody tr th {\n        vertical-align: top;\n    }\n\n    .dataframe thead th {\n        text-align: right;\n    }\n</style>\n<table border=\"1\" class=\"dataframe\">\n  <thead>\n    <tr style=\"text-align: right;\">\n      <th></th>\n      <th>Nível 1 - Setor</th>\n      <th>Nível 2</th>\n      <th>Nível 3</th>\n      <th>Nível 4</th>\n      <th>Nível 5</th>\n      <th>Nível 6</th>\n      <th>Emissão / Remoção / Bunker</th>\n      <th>Gás</th>\n      <th>Estado</th>\n      <th>Atividade Econômica</th>\n      <th>...</th>\n      <th>2013</th>\n      <th>2014</th>\n      <th>2015</th>\n      <th>2016</th>\n      <th>2017</th>\n      <th>2018</th>\n      <th>2019</th>\n      <th>2020</th>\n      <th>2021</th>\n      <th>Unnamed: 63</th>\n    </tr>\n  </thead>\n  <tbody>\n    <tr>\n      <th>0</th>\n      <td>Processos Industriais</td>\n      <td>Indústria Química</td>\n      <td>Produção de ABS</td>\n      <td>NaN</td>\n      <td>NaN</td>\n      <td>NaN</td>\n      <td>Emissão</td>\n      <td>COVNM (t)</td>\n      <td>SP</td>\n      <td>OUTRA_IND</td>\n      <td>...</td>\n      <td>897.600000</td>\n      <td>897.600000</td>\n      <td>897.600000</td>\n      <td>897.600000</td>\n      <td>897.600000</td>\n      <td>897.600000</td>\n      <td>897.600</td>\n      <td>897.600</td>\n      <td>897.600</td>\n      <td>NaN</td>\n    </tr>\n    <tr>\n      <th>1</th>\n      <td>Processos Industriais</td>\n      <td>Indústria Química</td>\n      <td>Produção de Ácido Adípico</td>\n      <td>NaN</td>\n      <td>NaN</td>\n      <td>NaN</td>\n      <td>Emissão</td>\n      <td>N2O (t)</td>\n      <td>SP</td>\n      <td>OUTRA_IND</td>\n      <td>...</td>\n      <td>130.000000</td>\n      <td>130.000000</td>\n      <td>130.000000</td>\n      <td>130.000000</td>\n      <td>130.000000</td>\n      <td>130.000000</td>\n      <td>130.000</td>\n      <td>130.000</td>\n      <td>130.000</td>\n      <td>NaN</td>\n    </tr>\n    <tr>\n      <th>2</th>\n      <td>Processos Industriais</td>\n      <td>Indústria Química</td>\n      <td>Produção de Ácido Adípico</td>\n      <td>NaN</td>\n      <td>NaN</td>\n      <td>NaN</td>\n      <td>Emissão</td>\n      <td>CO (t)</td>\n      <td>SP</td>\n      <td>OUTRA_IND</td>\n      <td>...</td>\n      <td>1380.576000</td>\n      <td>1380.576000</td>\n      <td>1380.576000</td>\n      <td>1380.576000</td>\n      <td>1380.576000</td>\n      <td>1380.576000</td>\n      <td>1380.576</td>\n      <td>1380.576</td>\n      <td>1380.576</td>\n      <td>NaN</td>\n    </tr>\n    <tr>\n      <th>3</th>\n      <td>Processos Industriais</td>\n      <td>Indústria Química</td>\n      <td>Produção de Ácido Adípico</td>\n      <td>NaN</td>\n      <td>NaN</td>\n      <td>NaN</td>\n      <td>Emissão</td>\n      <td>NOx (t)</td>\n      <td>SP</td>\n      <td>OUTRA_IND</td>\n      <td>...</td>\n      <td>431.430000</td>\n      <td>431.430000</td>\n      <td>431.430000</td>\n      <td>431.430000</td>\n      <td>431.430000</td>\n      <td>431.430000</td>\n      <td>431.430</td>\n      <td>431.430</td>\n      <td>431.430</td>\n      <td>NaN</td>\n    </tr>\n    <tr>\n      <th>4</th>\n      <td>Processos Industriais</td>\n      <td>Indústria Química</td>\n      <td>Produção de Ácido Adípico</td>\n      <td>NaN</td>\n      <td>NaN</td>\n      <td>NaN</td>\n      <td>Emissão</td>\n      <td>CO2e (t) GWP-AR2</td>\n      <td>SP</td>\n      <td>OUTRA_IND</td>\n      <td>...</td>\n      <td>40300.000000</td>\n      <td>40300.000000</td>\n      <td>40300.000000</td>\n      <td>40300.000000</td>\n      <td>40300.000000</td>\n      <td>40300.000000</td>\n      <td>40300.000</td>\n      <td>40300.000</td>\n      <td>40300.000</td>\n      <td>NaN</td>\n    </tr>\n    <tr>\n      <th>...</th>\n      <td>...</td>\n      <td>...</td>\n      <td>...</td>\n      <td>...</td>\n      <td>...</td>\n      <td>...</td>\n      <td>...</td>\n      <td>...</td>\n      <td>...</td>\n      <td>...</td>\n      <td>...</td>\n      <td>...</td>\n      <td>...</td>\n      <td>...</td>\n      <td>...</td>\n      <td>...</td>\n      <td>...</td>\n      <td>...</td>\n      <td>...</td>\n      <td>...</td>\n      <td>...</td>\n    </tr>\n    <tr>\n      <th>103241</th>\n      <td>Mudança de Uso da Terra e Floresta</td>\n      <td>Resíduos Florestais</td>\n      <td>Pantanal</td>\n      <td>NaN</td>\n      <td>Desmatamento</td>\n      <td>NaN</td>\n      <td>Emissão</td>\n      <td>CO2e (t) GWP-AR5</td>\n      <td>MS</td>\n      <td>AGROPEC</td>\n      <td>...</td>\n      <td>500067.000000</td>\n      <td>440030.000000</td>\n      <td>365272.000000</td>\n      <td>438422.000000</td>\n      <td>391113.000000</td>\n      <td>411738.000000</td>\n      <td>437039.000</td>\n      <td>871393.000</td>\n      <td>1004191.000</td>\n      <td>NaN</td>\n    </tr>\n    <tr>\n      <th>103242</th>\n      <td>Mudança de Uso da Terra e Floresta</td>\n      <td>Resíduos Florestais</td>\n      <td>Pantanal</td>\n      <td>NaN</td>\n      <td>Desmatamento</td>\n      <td>NaN</td>\n      <td>Emissão</td>\n      <td>CO2e (t) GWP-AR6</td>\n      <td>MT</td>\n      <td>AGROPEC</td>\n      <td>...</td>\n      <td>127558.000000</td>\n      <td>193758.000000</td>\n      <td>164585.000000</td>\n      <td>234509.000000</td>\n      <td>190412.000000</td>\n      <td>162919.000000</td>\n      <td>186091.000</td>\n      <td>368149.000</td>\n      <td>443120.000</td>\n      <td>NaN</td>\n    </tr>\n    <tr>\n      <th>103243</th>\n      <td>Mudança de Uso da Terra e Floresta</td>\n      <td>Resíduos Florestais</td>\n      <td>Pantanal</td>\n      <td>NaN</td>\n      <td>Desmatamento</td>\n      <td>NaN</td>\n      <td>Emissão</td>\n      <td>CO2e (t) GWP-AR6</td>\n      <td>MS</td>\n      <td>AGROPEC</td>\n      <td>...</td>\n      <td>502908.000000</td>\n      <td>442493.000000</td>\n      <td>367116.000000</td>\n      <td>440798.000000</td>\n      <td>393101.000000</td>\n      <td>413749.000000</td>\n      <td>439526.000</td>\n      <td>876637.000</td>\n      <td>1009968.000</td>\n      <td>NaN</td>\n    </tr>\n    <tr>\n      <th>103244</th>\n      <td>Mudança de Uso da Terra e Floresta</td>\n      <td>Resíduos Florestais</td>\n      <td>Pantanal</td>\n      <td>NaN</td>\n      <td>Desmatamento</td>\n      <td>NaN</td>\n      <td>Emissão</td>\n      <td>N2O (t)</td>\n      <td>MT</td>\n      <td>AGROPEC</td>\n      <td>...</td>\n      <td>109.811199</td>\n      <td>166.680103</td>\n      <td>141.442361</td>\n      <td>201.556097</td>\n      <td>162.932751</td>\n      <td>137.219684</td>\n      <td>158.000</td>\n      <td>314.000</td>\n      <td>479.000</td>\n      <td>NaN</td>\n    </tr>\n    <tr>\n      <th>103245</th>\n      <td>Mudança de Uso da Terra e Floresta</td>\n      <td>Resíduos Florestais</td>\n      <td>Pantanal</td>\n      <td>NaN</td>\n      <td>Desmatamento</td>\n      <td>NaN</td>\n      <td>Emissão</td>\n      <td>N2O (t)</td>\n      <td>MS</td>\n      <td>AGROPEC</td>\n      <td>...</td>\n      <td>517.078826</td>\n      <td>450.849218</td>\n      <td>352.160440</td>\n      <td>440.753215</td>\n      <td>378.038216</td>\n      <td>388.896998</td>\n      <td>452.000</td>\n      <td>935.000</td>\n      <td>1047.000</td>\n      <td>NaN</td>\n    </tr>\n  </tbody>\n</table>\n<p>94748 rows × 64 columns</p>\n</div>"
     },
     "metadata": {},
     "execution_count": 8
    }
   ],
   "source": [
    "dados_emissoes.loc[dados_emissoes['Emissão / Remoção / Bunker'] == 'Emissão']"
   ]
  },
  {
   "cell_type": "code",
   "execution_count": 9,
   "metadata": {},
   "outputs": [
    {
     "output_type": "execute_result",
     "data": {
      "text/plain": [
       "                           Nível 1 - Setor  \\\n",
       "0                    Processos Industriais   \n",
       "1                    Processos Industriais   \n",
       "2                    Processos Industriais   \n",
       "3                    Processos Industriais   \n",
       "4                    Processos Industriais   \n",
       "...                                    ...   \n",
       "103307  Mudança de Uso da Terra e Floresta   \n",
       "103308  Mudança de Uso da Terra e Floresta   \n",
       "103309  Mudança de Uso da Terra e Floresta   \n",
       "103310  Mudança de Uso da Terra e Floresta   \n",
       "103311  Mudança de Uso da Terra e Floresta   \n",
       "\n",
       "                                        Nível 2                    Nível 3  \\\n",
       "0                             Indústria Química            Produção de ABS   \n",
       "1                             Indústria Química  Produção de Ácido Adípico   \n",
       "2                             Indústria Química  Produção de Ácido Adípico   \n",
       "3                             Indústria Química  Produção de Ácido Adípico   \n",
       "4                             Indústria Química  Produção de Ácido Adípico   \n",
       "...                                         ...                        ...   \n",
       "103307  Queimadas Não Associadas a Desmatamento                   Pantanal   \n",
       "103308  Queimadas Não Associadas a Desmatamento                   Pantanal   \n",
       "103309  Queimadas Não Associadas a Desmatamento                   Pantanal   \n",
       "103310  Queimadas Não Associadas a Desmatamento                   Pantanal   \n",
       "103311  Queimadas Não Associadas a Desmatamento                   Pantanal   \n",
       "\n",
       "       Nível 4 Nível 5 Nível 6               Gás Estado Atividade Econômica  \\\n",
       "0          NaN     NaN     NaN         COVNM (t)     SP           OUTRA_IND   \n",
       "1          NaN     NaN     NaN           N2O (t)     SP           OUTRA_IND   \n",
       "2          NaN     NaN     NaN            CO (t)     SP           OUTRA_IND   \n",
       "3          NaN     NaN     NaN           NOx (t)     SP           OUTRA_IND   \n",
       "4          NaN     NaN     NaN  CO2e (t) GWP-AR2     SP           OUTRA_IND   \n",
       "...        ...     ...     ...               ...    ...                 ...   \n",
       "103307     NaN     NaN     NaN  CO2e (t) GTP-AR6     BR                 NaN   \n",
       "103308     NaN     NaN     NaN  CO2e (t) GWP-AR2     BR                 NaN   \n",
       "103309     NaN     NaN     NaN  CO2e (t) GWP-AR4     BR                 NaN   \n",
       "103310     NaN     NaN     NaN  CO2e (t) GWP-AR5     BR                 NaN   \n",
       "103311     NaN     NaN     NaN  CO2e (t) GWP-AR6     BR                 NaN   \n",
       "\n",
       "       Produto  ...         2013        2014         2015         2016  \\\n",
       "0          NaN  ...      897.600     897.600      897.600      897.600   \n",
       "1          NaN  ...      130.000     130.000      130.000      130.000   \n",
       "2          NaN  ...     1380.576    1380.576     1380.576     1380.576   \n",
       "3          NaN  ...      431.430     431.430      431.430      431.430   \n",
       "4          NaN  ...    40300.000   40300.000    40300.000    40300.000   \n",
       "...        ...  ...          ...         ...          ...          ...   \n",
       "103307     NaN  ...  1091033.900  853275.300  1003731.400  1615000.600   \n",
       "103308     NaN  ...  1144504.000  896685.000  1074717.000  1763431.000   \n",
       "103309     NaN  ...  1151848.000  902209.000  1084073.000  1782863.000   \n",
       "103310     NaN  ...  1152868.000  902368.000  1084826.000  1784237.000   \n",
       "103311     NaN  ...  1151967.000  901817.000  1083792.000  1782129.000   \n",
       "\n",
       "               2017        2018         2019          2020       2021  \\\n",
       "0           897.600     897.600      897.600  8.976000e+02    897.600   \n",
       "1           130.000     130.000      130.000  1.300000e+02    130.000   \n",
       "2          1380.576    1380.576     1380.576  1.380576e+03   1380.576   \n",
       "3           431.430     431.430      431.430  4.314300e+02    431.430   \n",
       "4         40300.000   40300.000    40300.000  4.030000e+04  40300.000   \n",
       "...             ...         ...          ...           ...        ...   \n",
       "103307  1552258.800  216231.900  2805297.300  9.659261e+06      0.000   \n",
       "103308  1706030.000  252599.000  3105007.000  1.053571e+07      0.000   \n",
       "103309  1726958.000  257507.000  3147567.000  1.067568e+07      0.000   \n",
       "103310  1729598.000  258068.000  3155415.000  1.072232e+07      0.000   \n",
       "103311  1727086.000  257491.000  3149790.000  1.069948e+07      0.000   \n",
       "\n",
       "        Unnamed: 63  \n",
       "0               NaN  \n",
       "1               NaN  \n",
       "2               NaN  \n",
       "3               NaN  \n",
       "4               NaN  \n",
       "...             ...  \n",
       "103307          NaN  \n",
       "103308          NaN  \n",
       "103309          NaN  \n",
       "103310          NaN  \n",
       "103311          NaN  \n",
       "\n",
       "[103312 rows x 63 columns]"
      ],
      "text/html": "<div>\n<style scoped>\n    .dataframe tbody tr th:only-of-type {\n        vertical-align: middle;\n    }\n\n    .dataframe tbody tr th {\n        vertical-align: top;\n    }\n\n    .dataframe thead th {\n        text-align: right;\n    }\n</style>\n<table border=\"1\" class=\"dataframe\">\n  <thead>\n    <tr style=\"text-align: right;\">\n      <th></th>\n      <th>Nível 1 - Setor</th>\n      <th>Nível 2</th>\n      <th>Nível 3</th>\n      <th>Nível 4</th>\n      <th>Nível 5</th>\n      <th>Nível 6</th>\n      <th>Gás</th>\n      <th>Estado</th>\n      <th>Atividade Econômica</th>\n      <th>Produto</th>\n      <th>...</th>\n      <th>2013</th>\n      <th>2014</th>\n      <th>2015</th>\n      <th>2016</th>\n      <th>2017</th>\n      <th>2018</th>\n      <th>2019</th>\n      <th>2020</th>\n      <th>2021</th>\n      <th>Unnamed: 63</th>\n    </tr>\n  </thead>\n  <tbody>\n    <tr>\n      <th>0</th>\n      <td>Processos Industriais</td>\n      <td>Indústria Química</td>\n      <td>Produção de ABS</td>\n      <td>NaN</td>\n      <td>NaN</td>\n      <td>NaN</td>\n      <td>COVNM (t)</td>\n      <td>SP</td>\n      <td>OUTRA_IND</td>\n      <td>NaN</td>\n      <td>...</td>\n      <td>897.600</td>\n      <td>897.600</td>\n      <td>897.600</td>\n      <td>897.600</td>\n      <td>897.600</td>\n      <td>897.600</td>\n      <td>897.600</td>\n      <td>8.976000e+02</td>\n      <td>897.600</td>\n      <td>NaN</td>\n    </tr>\n    <tr>\n      <th>1</th>\n      <td>Processos Industriais</td>\n      <td>Indústria Química</td>\n      <td>Produção de Ácido Adípico</td>\n      <td>NaN</td>\n      <td>NaN</td>\n      <td>NaN</td>\n      <td>N2O (t)</td>\n      <td>SP</td>\n      <td>OUTRA_IND</td>\n      <td>NaN</td>\n      <td>...</td>\n      <td>130.000</td>\n      <td>130.000</td>\n      <td>130.000</td>\n      <td>130.000</td>\n      <td>130.000</td>\n      <td>130.000</td>\n      <td>130.000</td>\n      <td>1.300000e+02</td>\n      <td>130.000</td>\n      <td>NaN</td>\n    </tr>\n    <tr>\n      <th>2</th>\n      <td>Processos Industriais</td>\n      <td>Indústria Química</td>\n      <td>Produção de Ácido Adípico</td>\n      <td>NaN</td>\n      <td>NaN</td>\n      <td>NaN</td>\n      <td>CO (t)</td>\n      <td>SP</td>\n      <td>OUTRA_IND</td>\n      <td>NaN</td>\n      <td>...</td>\n      <td>1380.576</td>\n      <td>1380.576</td>\n      <td>1380.576</td>\n      <td>1380.576</td>\n      <td>1380.576</td>\n      <td>1380.576</td>\n      <td>1380.576</td>\n      <td>1.380576e+03</td>\n      <td>1380.576</td>\n      <td>NaN</td>\n    </tr>\n    <tr>\n      <th>3</th>\n      <td>Processos Industriais</td>\n      <td>Indústria Química</td>\n      <td>Produção de Ácido Adípico</td>\n      <td>NaN</td>\n      <td>NaN</td>\n      <td>NaN</td>\n      <td>NOx (t)</td>\n      <td>SP</td>\n      <td>OUTRA_IND</td>\n      <td>NaN</td>\n      <td>...</td>\n      <td>431.430</td>\n      <td>431.430</td>\n      <td>431.430</td>\n      <td>431.430</td>\n      <td>431.430</td>\n      <td>431.430</td>\n      <td>431.430</td>\n      <td>4.314300e+02</td>\n      <td>431.430</td>\n      <td>NaN</td>\n    </tr>\n    <tr>\n      <th>4</th>\n      <td>Processos Industriais</td>\n      <td>Indústria Química</td>\n      <td>Produção de Ácido Adípico</td>\n      <td>NaN</td>\n      <td>NaN</td>\n      <td>NaN</td>\n      <td>CO2e (t) GWP-AR2</td>\n      <td>SP</td>\n      <td>OUTRA_IND</td>\n      <td>NaN</td>\n      <td>...</td>\n      <td>40300.000</td>\n      <td>40300.000</td>\n      <td>40300.000</td>\n      <td>40300.000</td>\n      <td>40300.000</td>\n      <td>40300.000</td>\n      <td>40300.000</td>\n      <td>4.030000e+04</td>\n      <td>40300.000</td>\n      <td>NaN</td>\n    </tr>\n    <tr>\n      <th>...</th>\n      <td>...</td>\n      <td>...</td>\n      <td>...</td>\n      <td>...</td>\n      <td>...</td>\n      <td>...</td>\n      <td>...</td>\n      <td>...</td>\n      <td>...</td>\n      <td>...</td>\n      <td>...</td>\n      <td>...</td>\n      <td>...</td>\n      <td>...</td>\n      <td>...</td>\n      <td>...</td>\n      <td>...</td>\n      <td>...</td>\n      <td>...</td>\n      <td>...</td>\n      <td>...</td>\n    </tr>\n    <tr>\n      <th>103307</th>\n      <td>Mudança de Uso da Terra e Floresta</td>\n      <td>Queimadas Não Associadas a Desmatamento</td>\n      <td>Pantanal</td>\n      <td>NaN</td>\n      <td>NaN</td>\n      <td>NaN</td>\n      <td>CO2e (t) GTP-AR6</td>\n      <td>BR</td>\n      <td>NaN</td>\n      <td>NaN</td>\n      <td>...</td>\n      <td>1091033.900</td>\n      <td>853275.300</td>\n      <td>1003731.400</td>\n      <td>1615000.600</td>\n      <td>1552258.800</td>\n      <td>216231.900</td>\n      <td>2805297.300</td>\n      <td>9.659261e+06</td>\n      <td>0.000</td>\n      <td>NaN</td>\n    </tr>\n    <tr>\n      <th>103308</th>\n      <td>Mudança de Uso da Terra e Floresta</td>\n      <td>Queimadas Não Associadas a Desmatamento</td>\n      <td>Pantanal</td>\n      <td>NaN</td>\n      <td>NaN</td>\n      <td>NaN</td>\n      <td>CO2e (t) GWP-AR2</td>\n      <td>BR</td>\n      <td>NaN</td>\n      <td>NaN</td>\n      <td>...</td>\n      <td>1144504.000</td>\n      <td>896685.000</td>\n      <td>1074717.000</td>\n      <td>1763431.000</td>\n      <td>1706030.000</td>\n      <td>252599.000</td>\n      <td>3105007.000</td>\n      <td>1.053571e+07</td>\n      <td>0.000</td>\n      <td>NaN</td>\n    </tr>\n    <tr>\n      <th>103309</th>\n      <td>Mudança de Uso da Terra e Floresta</td>\n      <td>Queimadas Não Associadas a Desmatamento</td>\n      <td>Pantanal</td>\n      <td>NaN</td>\n      <td>NaN</td>\n      <td>NaN</td>\n      <td>CO2e (t) GWP-AR4</td>\n      <td>BR</td>\n      <td>NaN</td>\n      <td>NaN</td>\n      <td>...</td>\n      <td>1151848.000</td>\n      <td>902209.000</td>\n      <td>1084073.000</td>\n      <td>1782863.000</td>\n      <td>1726958.000</td>\n      <td>257507.000</td>\n      <td>3147567.000</td>\n      <td>1.067568e+07</td>\n      <td>0.000</td>\n      <td>NaN</td>\n    </tr>\n    <tr>\n      <th>103310</th>\n      <td>Mudança de Uso da Terra e Floresta</td>\n      <td>Queimadas Não Associadas a Desmatamento</td>\n      <td>Pantanal</td>\n      <td>NaN</td>\n      <td>NaN</td>\n      <td>NaN</td>\n      <td>CO2e (t) GWP-AR5</td>\n      <td>BR</td>\n      <td>NaN</td>\n      <td>NaN</td>\n      <td>...</td>\n      <td>1152868.000</td>\n      <td>902368.000</td>\n      <td>1084826.000</td>\n      <td>1784237.000</td>\n      <td>1729598.000</td>\n      <td>258068.000</td>\n      <td>3155415.000</td>\n      <td>1.072232e+07</td>\n      <td>0.000</td>\n      <td>NaN</td>\n    </tr>\n    <tr>\n      <th>103311</th>\n      <td>Mudança de Uso da Terra e Floresta</td>\n      <td>Queimadas Não Associadas a Desmatamento</td>\n      <td>Pantanal</td>\n      <td>NaN</td>\n      <td>NaN</td>\n      <td>NaN</td>\n      <td>CO2e (t) GWP-AR6</td>\n      <td>BR</td>\n      <td>NaN</td>\n      <td>NaN</td>\n      <td>...</td>\n      <td>1151967.000</td>\n      <td>901817.000</td>\n      <td>1083792.000</td>\n      <td>1782129.000</td>\n      <td>1727086.000</td>\n      <td>257491.000</td>\n      <td>3149790.000</td>\n      <td>1.069948e+07</td>\n      <td>0.000</td>\n      <td>NaN</td>\n    </tr>\n  </tbody>\n</table>\n<p>103312 rows × 63 columns</p>\n</div>"
     },
     "metadata": {},
     "execution_count": 9
    }
   ],
   "source": [
    "emissoes_gases = dados_emissoes.drop(columns='Emissão / Remoção / Bunker')\n",
    "emissoes_gases"
   ]
  },
  {
   "cell_type": "code",
   "execution_count": 10,
   "metadata": {},
   "outputs": [
    {
     "output_type": "execute_result",
     "data": {
      "text/plain": [
       "Index(['Nível 1 - Setor', 'Nível 2', 'Nível 3', 'Nível 4', 'Nível 5',\n",
       "       'Nível 6', 'Gás', 'Estado', 'Atividade Econômica', 'Produto'],\n",
       "      dtype='object')"
      ]
     },
     "metadata": {},
     "execution_count": 10
    }
   ],
   "source": [
    "# A partir desses ponto está sendo feito uma remodelagem do DataFrame\n",
    "emissoes_gases.loc[:, 'Nível 1 - Setor':'Produto'].columns"
   ]
  },
  {
   "cell_type": "code",
   "execution_count": 11,
   "metadata": {},
   "outputs": [
    {
     "output_type": "execute_result",
     "data": {
      "text/plain": [
       "['Nível 1 - Setor',\n",
       " 'Nível 2',\n",
       " 'Nível 3',\n",
       " 'Nível 4',\n",
       " 'Nível 5',\n",
       " 'Nível 6',\n",
       " 'Gás',\n",
       " 'Estado',\n",
       " 'Atividade Econômica',\n",
       " 'Produto']"
      ]
     },
     "metadata": {},
     "execution_count": 11
    }
   ],
   "source": [
    "colunas_info = list(emissoes_gases.loc[:, 'Nível 1 - Setor':'Produto'].columns)\n",
    "colunas_info"
   ]
  },
  {
   "cell_type": "code",
   "execution_count": 12,
   "metadata": {},
   "outputs": [
    {
     "output_type": "execute_result",
     "data": {
      "text/plain": [
       "Index([1970, 1971, 1972, 1973, 1974, 1975, 1976, 1977, 1978, 1979, 1980, 1981,\n",
       "       1982, 1983, 1984, 1985, 1986, 1987, 1988, 1989, 1990, 1991, 1992, 1993,\n",
       "       1994, 1995, 1996, 1997, 1998, 1999, 2000, 2001, 2002, 2003, 2004, 2005,\n",
       "       2006, 2007, 2008, 2009, 2010, 2011, 2012, 2013, 2014, 2015, 2016, 2017,\n",
       "       2018, 2019, 2020, 2021],\n",
       "      dtype='object')"
      ]
     },
     "metadata": {},
     "execution_count": 12
    }
   ],
   "source": [
    "emissoes_gases.loc[:, 1970:2021].columns"
   ]
  },
  {
   "cell_type": "code",
   "execution_count": 13,
   "metadata": {},
   "outputs": [],
   "source": [
    "colunas_emissao = list(emissoes_gases.loc[:, 1970:2021].columns)"
   ]
  },
  {
   "cell_type": "code",
   "execution_count": 14,
   "metadata": {},
   "outputs": [
    {
     "output_type": "execute_result",
     "data": {
      "text/plain": [
       "                            Nível 1 - Setor  \\\n",
       "0                     Processos Industriais   \n",
       "1                     Processos Industriais   \n",
       "2                     Processos Industriais   \n",
       "3                     Processos Industriais   \n",
       "4                     Processos Industriais   \n",
       "...                                     ...   \n",
       "5372219  Mudança de Uso da Terra e Floresta   \n",
       "5372220  Mudança de Uso da Terra e Floresta   \n",
       "5372221  Mudança de Uso da Terra e Floresta   \n",
       "5372222  Mudança de Uso da Terra e Floresta   \n",
       "5372223  Mudança de Uso da Terra e Floresta   \n",
       "\n",
       "                                         Nível 2                    Nível 3  \\\n",
       "0                              Indústria Química            Produção de ABS   \n",
       "1                              Indústria Química  Produção de Ácido Adípico   \n",
       "2                              Indústria Química  Produção de Ácido Adípico   \n",
       "3                              Indústria Química  Produção de Ácido Adípico   \n",
       "4                              Indústria Química  Produção de Ácido Adípico   \n",
       "...                                          ...                        ...   \n",
       "5372219  Queimadas Não Associadas a Desmatamento                   Pantanal   \n",
       "5372220  Queimadas Não Associadas a Desmatamento                   Pantanal   \n",
       "5372221  Queimadas Não Associadas a Desmatamento                   Pantanal   \n",
       "5372222  Queimadas Não Associadas a Desmatamento                   Pantanal   \n",
       "5372223  Queimadas Não Associadas a Desmatamento                   Pantanal   \n",
       "\n",
       "        Nível 4 Nível 5 Nível 6               Gás Estado Atividade Econômica  \\\n",
       "0           NaN     NaN     NaN         COVNM (t)     SP           OUTRA_IND   \n",
       "1           NaN     NaN     NaN           N2O (t)     SP           OUTRA_IND   \n",
       "2           NaN     NaN     NaN            CO (t)     SP           OUTRA_IND   \n",
       "3           NaN     NaN     NaN           NOx (t)     SP           OUTRA_IND   \n",
       "4           NaN     NaN     NaN  CO2e (t) GWP-AR2     SP           OUTRA_IND   \n",
       "...         ...     ...     ...               ...    ...                 ...   \n",
       "5372219     NaN     NaN     NaN  CO2e (t) GTP-AR6     BR                 NaN   \n",
       "5372220     NaN     NaN     NaN  CO2e (t) GWP-AR2     BR                 NaN   \n",
       "5372221     NaN     NaN     NaN  CO2e (t) GWP-AR4     BR                 NaN   \n",
       "5372222     NaN     NaN     NaN  CO2e (t) GWP-AR5     BR                 NaN   \n",
       "5372223     NaN     NaN     NaN  CO2e (t) GWP-AR6     BR                 NaN   \n",
       "\n",
       "        Produto   Ano    Emissão  \n",
       "0           NaN  1970        0.0  \n",
       "1           NaN  1970     6210.0  \n",
       "2           NaN  1970      368.0  \n",
       "3           NaN  1970      115.0  \n",
       "4           NaN  1970  1925100.0  \n",
       "...         ...   ...        ...  \n",
       "5372219     NaN  2021        0.0  \n",
       "5372220     NaN  2021        0.0  \n",
       "5372221     NaN  2021        0.0  \n",
       "5372222     NaN  2021        0.0  \n",
       "5372223     NaN  2021        0.0  \n",
       "\n",
       "[5372224 rows x 12 columns]"
      ],
      "text/html": "<div>\n<style scoped>\n    .dataframe tbody tr th:only-of-type {\n        vertical-align: middle;\n    }\n\n    .dataframe tbody tr th {\n        vertical-align: top;\n    }\n\n    .dataframe thead th {\n        text-align: right;\n    }\n</style>\n<table border=\"1\" class=\"dataframe\">\n  <thead>\n    <tr style=\"text-align: right;\">\n      <th></th>\n      <th>Nível 1 - Setor</th>\n      <th>Nível 2</th>\n      <th>Nível 3</th>\n      <th>Nível 4</th>\n      <th>Nível 5</th>\n      <th>Nível 6</th>\n      <th>Gás</th>\n      <th>Estado</th>\n      <th>Atividade Econômica</th>\n      <th>Produto</th>\n      <th>Ano</th>\n      <th>Emissão</th>\n    </tr>\n  </thead>\n  <tbody>\n    <tr>\n      <th>0</th>\n      <td>Processos Industriais</td>\n      <td>Indústria Química</td>\n      <td>Produção de ABS</td>\n      <td>NaN</td>\n      <td>NaN</td>\n      <td>NaN</td>\n      <td>COVNM (t)</td>\n      <td>SP</td>\n      <td>OUTRA_IND</td>\n      <td>NaN</td>\n      <td>1970</td>\n      <td>0.0</td>\n    </tr>\n    <tr>\n      <th>1</th>\n      <td>Processos Industriais</td>\n      <td>Indústria Química</td>\n      <td>Produção de Ácido Adípico</td>\n      <td>NaN</td>\n      <td>NaN</td>\n      <td>NaN</td>\n      <td>N2O (t)</td>\n      <td>SP</td>\n      <td>OUTRA_IND</td>\n      <td>NaN</td>\n      <td>1970</td>\n      <td>6210.0</td>\n    </tr>\n    <tr>\n      <th>2</th>\n      <td>Processos Industriais</td>\n      <td>Indústria Química</td>\n      <td>Produção de Ácido Adípico</td>\n      <td>NaN</td>\n      <td>NaN</td>\n      <td>NaN</td>\n      <td>CO (t)</td>\n      <td>SP</td>\n      <td>OUTRA_IND</td>\n      <td>NaN</td>\n      <td>1970</td>\n      <td>368.0</td>\n    </tr>\n    <tr>\n      <th>3</th>\n      <td>Processos Industriais</td>\n      <td>Indústria Química</td>\n      <td>Produção de Ácido Adípico</td>\n      <td>NaN</td>\n      <td>NaN</td>\n      <td>NaN</td>\n      <td>NOx (t)</td>\n      <td>SP</td>\n      <td>OUTRA_IND</td>\n      <td>NaN</td>\n      <td>1970</td>\n      <td>115.0</td>\n    </tr>\n    <tr>\n      <th>4</th>\n      <td>Processos Industriais</td>\n      <td>Indústria Química</td>\n      <td>Produção de Ácido Adípico</td>\n      <td>NaN</td>\n      <td>NaN</td>\n      <td>NaN</td>\n      <td>CO2e (t) GWP-AR2</td>\n      <td>SP</td>\n      <td>OUTRA_IND</td>\n      <td>NaN</td>\n      <td>1970</td>\n      <td>1925100.0</td>\n    </tr>\n    <tr>\n      <th>...</th>\n      <td>...</td>\n      <td>...</td>\n      <td>...</td>\n      <td>...</td>\n      <td>...</td>\n      <td>...</td>\n      <td>...</td>\n      <td>...</td>\n      <td>...</td>\n      <td>...</td>\n      <td>...</td>\n      <td>...</td>\n    </tr>\n    <tr>\n      <th>5372219</th>\n      <td>Mudança de Uso da Terra e Floresta</td>\n      <td>Queimadas Não Associadas a Desmatamento</td>\n      <td>Pantanal</td>\n      <td>NaN</td>\n      <td>NaN</td>\n      <td>NaN</td>\n      <td>CO2e (t) GTP-AR6</td>\n      <td>BR</td>\n      <td>NaN</td>\n      <td>NaN</td>\n      <td>2021</td>\n      <td>0.0</td>\n    </tr>\n    <tr>\n      <th>5372220</th>\n      <td>Mudança de Uso da Terra e Floresta</td>\n      <td>Queimadas Não Associadas a Desmatamento</td>\n      <td>Pantanal</td>\n      <td>NaN</td>\n      <td>NaN</td>\n      <td>NaN</td>\n      <td>CO2e (t) GWP-AR2</td>\n      <td>BR</td>\n      <td>NaN</td>\n      <td>NaN</td>\n      <td>2021</td>\n      <td>0.0</td>\n    </tr>\n    <tr>\n      <th>5372221</th>\n      <td>Mudança de Uso da Terra e Floresta</td>\n      <td>Queimadas Não Associadas a Desmatamento</td>\n      <td>Pantanal</td>\n      <td>NaN</td>\n      <td>NaN</td>\n      <td>NaN</td>\n      <td>CO2e (t) GWP-AR4</td>\n      <td>BR</td>\n      <td>NaN</td>\n      <td>NaN</td>\n      <td>2021</td>\n      <td>0.0</td>\n    </tr>\n    <tr>\n      <th>5372222</th>\n      <td>Mudança de Uso da Terra e Floresta</td>\n      <td>Queimadas Não Associadas a Desmatamento</td>\n      <td>Pantanal</td>\n      <td>NaN</td>\n      <td>NaN</td>\n      <td>NaN</td>\n      <td>CO2e (t) GWP-AR5</td>\n      <td>BR</td>\n      <td>NaN</td>\n      <td>NaN</td>\n      <td>2021</td>\n      <td>0.0</td>\n    </tr>\n    <tr>\n      <th>5372223</th>\n      <td>Mudança de Uso da Terra e Floresta</td>\n      <td>Queimadas Não Associadas a Desmatamento</td>\n      <td>Pantanal</td>\n      <td>NaN</td>\n      <td>NaN</td>\n      <td>NaN</td>\n      <td>CO2e (t) GWP-AR6</td>\n      <td>BR</td>\n      <td>NaN</td>\n      <td>NaN</td>\n      <td>2021</td>\n      <td>0.0</td>\n    </tr>\n  </tbody>\n</table>\n<p>5372224 rows × 12 columns</p>\n</div>"
     },
     "metadata": {},
     "execution_count": 14
    }
   ],
   "source": [
    "emissoes_gases.melt(id_vars = colunas_info, value_vars = colunas_emissao, var_name = 'Ano', value_name = 'Emissão')"
   ]
  },
  {
   "cell_type": "code",
   "execution_count": 15,
   "metadata": {},
   "outputs": [],
   "source": [
    "emissoes_por_ano = emissoes_gases.melt(id_vars = colunas_info, value_vars = colunas_emissao, var_name = 'Ano', value_name = 'Emissão')"
   ]
  },
  {
   "cell_type": "code",
   "execution_count": 16,
   "metadata": {},
   "outputs": [
    {
     "output_type": "execute_result",
     "data": {
      "text/plain": [
       "<pandas.core.groupby.generic.DataFrameGroupBy object at 0x00000215DFB6F4F0>"
      ]
     },
     "metadata": {},
     "execution_count": 16
    }
   ],
   "source": [
    "emissoes_por_ano.groupby('Gás')"
   ]
  },
  {
   "cell_type": "code",
   "execution_count": 17,
   "metadata": {},
   "outputs": [
    {
     "output_type": "execute_result",
     "data": {
      "text/plain": [
       "{'C2F6 (t)': [410, 411, 412, 425, 426, 427, 103722, 103723, 103724, 103737, 103738, 103739, 207034, 207035, 207036, 207049, 207050, 207051, 310346, 310347, 310348, 310361, 310362, 310363, 413658, 413659, 413660, 413673, 413674, 413675, 516970, 516971, 516972, 516985, 516986, 516987, 620282, 620283, 620284, 620297, 620298, 620299, 723594, 723595, 723596, 723609, 723610, 723611, 826906, 826907, 826908, 826921, 826922, 826923, 930218, 930219, 930220, 930233, 930234, 930235, 1033530, 1033531, 1033532, 1033545, 1033546, 1033547, 1136842, 1136843, 1136844, 1136857, 1136858, 1136859, 1240154, 1240155, 1240156, 1240169, 1240170, 1240171, 1343466, 1343467, 1343468, 1343481, 1343482, 1343483, 1446778, 1446779, 1446780, 1446793, 1446794, 1446795, 1550090, 1550091, 1550092, 1550105, 1550106, 1550107, 1653402, 1653403, 1653404, 1653417, ...], 'CF4 (t)': [407, 408, 409, 422, 423, 424, 103719, 103720, 103721, 103734, 103735, 103736, 207031, 207032, 207033, 207046, 207047, 207048, 310343, 310344, 310345, 310358, 310359, 310360, 413655, 413656, 413657, 413670, 413671, 413672, 516967, 516968, 516969, 516982, 516983, 516984, 620279, 620280, 620281, 620294, 620295, 620296, 723591, 723592, 723593, 723606, 723607, 723608, 826903, 826904, 826905, 826918, 826919, 826920, 930215, 930216, 930217, 930230, 930231, 930232, 1033527, 1033528, 1033529, 1033542, 1033543, 1033544, 1136839, 1136840, 1136841, 1136854, 1136855, 1136856, 1240151, 1240152, 1240153, 1240166, 1240167, 1240168, 1343463, 1343464, 1343465, 1343478, 1343479, 1343480, 1446775, 1446776, 1446777, 1446790, 1446791, 1446792, 1550087, 1550088, 1550089, 1550102, 1550103, 1550104, 1653399, 1653400, 1653401, 1653414, ...], 'CH4 (t)': [19, 50, 57, 64, 67, 71, 76, 203, 204, 205, 206, 207, 208, 209, 210, 211, 212, 213, 214, 215, 216, 217, 218, 219, 220, 320, 321, 322, 323, 324, 325, 326, 327, 328, 329, 330, 331, 332, 333, 447, 448, 449, 450, 1137, 1138, 1139, 1140, 1141, 1142, 1143, 1144, 1145, 1146, 1147, 1148, 1149, 1150, 1151, 1152, 1153, 1154, 1155, 1156, 1157, 1158, 1159, 1160, 1161, 1162, 1163, 1380, 1381, 1382, 1383, 1384, 1385, 1386, 1387, 1388, 1389, 1390, 1391, 1392, 1393, 1394, 1395, 1396, 1397, 1398, 1399, 1400, 1401, 1402, 1403, 1404, 1405, 1406, 1623, 1624, 1625, ...], 'CO (t)': [2, 185, 186, 187, 188, 189, 190, 191, 192, 193, 194, 195, 196, 197, 198, 199, 200, 201, 202, 306, 307, 308, 309, 310, 311, 312, 313, 314, 315, 316, 317, 318, 319, 443, 444, 445, 446, 7104, 7105, 7106, 7107, 7108, 7109, 7110, 7111, 7112, 7113, 7114, 7115, 7116, 7117, 7118, 7119, 7120, 7121, 7122, 7123, 7124, 7125, 7126, 7127, 7128, 7129, 7130, 7428, 7429, 7430, 7431, 7432, 7433, 7434, 7435, 7436, 7437, 7438, 7439, 7440, 7441, 7442, 7443, 7444, 7445, 7446, 7447, 7448, 7449, 7450, 7451, 7452, 7453, 7454, 24735, 24748, 24761, 24774, 24787, 24800, 24813, 24826, 24839, ...], 'CO2 (t)': [18, 23, 26, 29, 32, 35, 38, 46, 49, 56, 63, 70, 75, 86, 89, 90, 91, 92, 93, 94, 95, 96, 97, 98, 99, 100, 101, 102, 103, 104, 105, 106, 107, 108, 109, 110, 111, 112, 113, 164, 165, 170, 173, 174, 179, 180, 181, 182, 183, 184, 297, 298, 299, 300, 301, 302, 303, 304, 305, 404, 405, 406, 419, 420, 421, 434, 440, 441, 442, 482, 489, 490, 491, 492, 501, 502, 503, 504, 513, 514, 515, 516, 11856, 11857, 11858, 11859, 11860, 11861, 11862, 11863, 11864, 11865, 11866, 11867, 11868, 11869, 11870, 11871, 11872, 11873, ...], 'CO2e (t) GTP-AR2': [5, 9, 13, 17, 22, 25, 28, 31, 34, 37, 40, 45, 48, 53, 60, 66, 69, 74, 78, 88, 139, 140, 141, 142, 143, 144, 145, 146, 147, 148, 149, 150, 151, 152, 153, 154, 155, 156, 157, 158, 159, 160, 161, 162, 163, 168, 169, 172, 177, 178, 286, 287, 288, 289, 290, 291, 292, 293, 294, 295, 296, 390, 391, 392, 393, 394, 395, 396, 397, 398, 399, 400, 401, 402, 403, 416, 417, 418, 431, 432, 433, 436, 439, 467, 468, 469, 470, 478, 481, 484, 497, 498, 499, 500, 509, 510, 511, 512, 521, 522, ...], 'CO2e (t) GTP-AR4': [526, 528, 530, 532, 534, 536, 538, 540, 542, 544, 546, 548, 550, 552, 554, 556, 558, 560, 562, 564, 590, 591, 592, 593, 594, 595, 596, 597, 598, 599, 600, 601, 602, 603, 604, 605, 606, 607, 608, 609, 610, 611, 612, 613, 614, 617, 618, 620, 623, 624, 636, 637, 638, 639, 640, 641, 642, 643, 644, 645, 646, 661, 662, 663, 664, 665, 666, 667, 668, 669, 670, 671, 672, 673, 674, 678, 679, 680, 684, 685, 686, 688, 690, 695, 696, 697, 698, 700, 702, 704, 709, 710, 711, 712, 717, 718, 719, 720, 725, 726, ...], 'CO2e (t) GTP-AR5': [730, 732, 734, 736, 738, 740, 742, 744, 746, 748, 750, 752, 754, 756, 758, 760, 762, 764, 766, 768, 794, 795, 796, 797, 798, 799, 800, 801, 802, 803, 804, 805, 806, 807, 808, 809, 810, 811, 812, 813, 814, 815, 816, 817, 818, 821, 822, 824, 827, 828, 840, 841, 842, 843, 844, 845, 846, 847, 848, 849, 850, 865, 866, 867, 868, 869, 870, 871, 872, 873, 874, 875, 876, 877, 878, 882, 883, 884, 888, 889, 890, 892, 894, 899, 900, 901, 902, 904, 906, 908, 913, 914, 915, 916, 921, 922, 923, 924, 929, 930, ...], 'CO2e (t) GTP-AR6': [934, 936, 938, 940, 942, 944, 946, 948, 950, 952, 954, 956, 958, 960, 962, 964, 966, 968, 970, 972, 998, 999, 1000, 1001, 1002, 1003, 1004, 1005, 1006, 1007, 1008, 1009, 1010, 1011, 1012, 1013, 1014, 1015, 1016, 1017, 1018, 1019, 1020, 1021, 1022, 1025, 1026, 1028, 1031, 1032, 1044, 1045, 1046, 1047, 1048, 1049, 1050, 1051, 1052, 1053, 1054, 1069, 1070, 1071, 1072, 1073, 1074, 1075, 1076, 1077, 1078, 1079, 1080, 1081, 1082, 1086, 1087, 1088, 1092, 1093, 1094, 1096, 1098, 1103, 1104, 1105, 1106, 1108, 1110, 1112, 1117, 1118, 1119, 1120, 1125, 1126, 1127, 1128, 1133, 1134, ...], 'CO2e (t) GWP-AR2': [4, 8, 12, 16, 21, 24, 27, 30, 33, 36, 39, 44, 47, 52, 59, 65, 68, 73, 77, 87, 114, 115, 116, 117, 118, 119, 120, 121, 122, 123, 124, 125, 126, 127, 128, 129, 130, 131, 132, 133, 134, 135, 136, 137, 138, 166, 167, 171, 175, 176, 275, 276, 277, 278, 279, 280, 281, 282, 283, 284, 285, 376, 377, 378, 379, 380, 381, 382, 383, 384, 385, 386, 387, 388, 389, 413, 414, 415, 428, 429, 430, 435, 438, 463, 464, 465, 466, 477, 480, 483, 493, 494, 495, 496, 505, 506, 507, 508, 517, 518, ...], 'CO2e (t) GWP-AR4': [525, 527, 529, 531, 533, 535, 537, 539, 541, 543, 545, 547, 549, 551, 553, 555, 557, 559, 561, 563, 565, 566, 567, 568, 569, 570, 571, 572, 573, 574, 575, 576, 577, 578, 579, 580, 581, 582, 583, 584, 585, 586, 587, 588, 589, 615, 616, 619, 621, 622, 625, 626, 627, 628, 629, 630, 631, 632, 633, 634, 635, 647, 648, 649, 650, 651, 652, 653, 654, 655, 656, 657, 658, 659, 660, 675, 676, 677, 681, 682, 683, 687, 689, 691, 692, 693, 694, 699, 701, 703, 705, 706, 707, 708, 713, 714, 715, 716, 721, 722, ...], 'CO2e (t) GWP-AR5': [729, 731, 733, 735, 737, 739, 741, 743, 745, 747, 749, 751, 753, 755, 757, 759, 761, 763, 765, 767, 769, 770, 771, 772, 773, 774, 775, 776, 777, 778, 779, 780, 781, 782, 783, 784, 785, 786, 787, 788, 789, 790, 791, 792, 793, 819, 820, 823, 825, 826, 829, 830, 831, 832, 833, 834, 835, 836, 837, 838, 839, 851, 852, 853, 854, 855, 856, 857, 858, 859, 860, 861, 862, 863, 864, 879, 880, 881, 885, 886, 887, 891, 893, 895, 896, 897, 898, 903, 905, 907, 909, 910, 911, 912, 917, 918, 919, 920, 925, 926, ...], 'CO2e (t) GWP-AR6': [933, 935, 937, 939, 941, 943, 945, 947, 949, 951, 953, 955, 957, 959, 961, 963, 965, 967, 969, 971, 973, 974, 975, 976, 977, 978, 979, 980, 981, 982, 983, 984, 985, 986, 987, 988, 989, 990, 991, 992, 993, 994, 995, 996, 997, 1023, 1024, 1027, 1029, 1030, 1033, 1034, 1035, 1036, 1037, 1038, 1039, 1040, 1041, 1042, 1043, 1055, 1056, 1057, 1058, 1059, 1060, 1061, 1062, 1063, 1064, 1065, 1066, 1067, 1068, 1083, 1084, 1085, 1089, 1090, 1091, 1095, 1097, 1099, 1100, 1101, 1102, 1107, 1109, 1111, 1113, 1114, 1115, 1116, 1121, 1122, 1123, 1124, 1129, 1130, ...], 'COVNM (t)': [0, 20, 41, 42, 51, 54, 55, 58, 61, 62, 79, 80, 81, 82, 83, 84, 85, 257, 258, 259, 260, 261, 262, 263, 264, 265, 266, 267, 268, 269, 270, 271, 272, 273, 274, 362, 363, 364, 365, 366, 367, 368, 369, 370, 371, 372, 373, 374, 375, 459, 460, 461, 462, 485, 486, 487, 488, 24739, 24752, 24765, 24778, 24791, 24804, 24817, 24830, 24843, 24856, 24869, 24882, 24895, 24908, 24921, 24934, 24947, 24960, 24973, 24986, 24999, 25012, 25025, 25038, 25051, 25064, 25077, 25090, 25103, 25116, 25129, 25142, 25155, 25168, 25181, 25194, 25207, 25220, 25233, 25246, 25259, 25272, 25285, ...], 'HFC-125 (t)': [474, 103786, 207098, 310410, 413722, 517034, 620346, 723658, 826970, 930282, 1033594, 1136906, 1240218, 1343530, 1446842, 1550154, 1653466, 1756778, 1860090, 1963402, 2066714, 2170026, 2273338, 2376650, 2479962, 2583274, 2686586, 2789898, 2893210, 2996522, 3099834, 3203146, 3306458, 3409770, 3513082, 3616394, 3719706, 3823018, 3926330, 4029642, 4132954, 4236266, 4339578, 4442890, 4546202, 4649514, 4752826, 4856138, 4959450, 5062762, 5166074, 5269386], 'HFC-134a (t)': [473, 103785, 207097, 310409, 413721, 517033, 620345, 723657, 826969, 930281, 1033593, 1136905, 1240217, 1343529, 1446841, 1550153, 1653465, 1756777, 1860089, 1963401, 2066713, 2170025, 2273337, 2376649, 2479961, 2583273, 2686585, 2789897, 2893209, 2996521, 3099833, 3203145, 3306457, 3409769, 3513081, 3616393, 3719705, 3823017, 3926329, 4029641, 4132953, 4236265, 4339577, 4442889, 4546201, 4649513, 4752825, 4856137, 4959449, 5062761, 5166073, 5269385], 'HFC-143a (t)': [475, 103787, 207099, 310411, 413723, 517035, 620347, 723659, 826971, 930283, 1033595, 1136907, 1240219, 1343531, 1446843, 1550155, 1653467, 1756779, 1860091, 1963403, 2066715, 2170027, 2273339, 2376651, 2479963, 2583275, 2686587, 2789899, 2893211, 2996523, 3099835, 3203147, 3306459, 3409771, 3513083, 3616395, 3719707, 3823019, 3926331, 4029643, 4132955, 4236267, 4339579, 4442891, 4546203, 4649515, 4752827, 4856139, 4959451, 5062763, 5166075, 5269387], 'HFC-152a (t)': [476, 103788, 207100, 310412, 413724, 517036, 620348, 723660, 826972, 930284, 1033596, 1136908, 1240220, 1343532, 1446844, 1550156, 1653468, 1756780, 1860092, 1963404, 2066716, 2170028, 2273340, 2376652, 2479964, 2583276, 2686588, 2789900, 2893212, 2996524, 3099836, 3203148, 3306460, 3409772, 3513084, 3616396, 3719708, 3823020, 3926332, 4029644, 4132956, 4236268, 4339580, 4442892, 4546204, 4649516, 4752828, 4856140, 4959452, 5062764, 5166076, 5269388], 'HFC-23 (t)': [471, 103783, 207095, 310407, 413719, 517031, 620343, 723655, 826967, 930279, 1033591, 1136903, 1240215, 1343527, 1446839, 1550151, 1653463, 1756775, 1860087, 1963399, 2066711, 2170023, 2273335, 2376647, 2479959, 2583271, 2686583, 2789895, 2893207, 2996519, 3099831, 3203143, 3306455, 3409767, 3513079, 3616391, 3719703, 3823015, 3926327, 4029639, 4132951, 4236263, 4339575, 4442887, 4546199, 4649511, 4752823, 4856135, 4959447, 5062759, 5166071, 5269383], 'HFC-32 (t)': [472, 103784, 207096, 310408, 413720, 517032, 620344, 723656, 826968, 930280, 1033592, 1136904, 1240216, 1343528, 1446840, 1550152, 1653464, 1756776, 1860088, 1963400, 2066712, 2170024, 2273336, 2376648, 2479960, 2583272, 2686584, 2789896, 2893208, 2996520, 3099832, 3203144, 3306456, 3409768, 3513080, 3616392, 3719704, 3823016, 3926328, 4029640, 4132952, 4236264, 4339576, 4442888, 4546200, 4649512, 4752824, 4856136, 4959448, 5062760, 5166072, 5269384], 'N2O (t)': [1, 6, 10, 14, 43, 239, 240, 241, 242, 243, 244, 245, 246, 247, 248, 249, 250, 251, 252, 253, 254, 255, 256, 348, 349, 350, 351, 352, 353, 354, 355, 356, 357, 358, 359, 360, 361, 455, 456, 457, 458, 4053, 4054, 4055, 4056, 4057, 4058, 4059, 4060, 4061, 4062, 4063, 4064, 4065, 4066, 4067, 4068, 4069, 4070, 4071, 4072, 4073, 4074, 4075, 4076, 4077, 4078, 4079, 5052, 5053, 5054, 5055, 5056, 5057, 5058, 5059, 5060, 5061, 5062, 5063, 5064, 5065, 5066, 5067, 5068, 5069, 5070, 5071, 5072, 5073, 5074, 5075, 5076, 5077, 5078, 5322, 5323, 5324, 5325, 5326, ...], 'NOx (t)': [3, 7, 11, 15, 72, 221, 222, 223, 224, 225, 226, 227, 228, 229, 230, 231, 232, 233, 234, 235, 236, 237, 238, 334, 335, 336, 337, 338, 339, 340, 341, 342, 343, 344, 345, 346, 347, 451, 452, 453, 454, 7374, 7375, 7376, 7377, 7378, 7379, 7380, 7381, 7382, 7383, 7384, 7385, 7386, 7387, 7388, 7389, 7390, 7391, 7392, 7393, 7394, 7395, 7396, 7397, 7398, 7399, 7400, 7698, 7699, 7700, 7701, 7702, 7703, 7704, 7705, 7706, 7707, 7708, 7709, 7710, 7711, 7712, 7713, 7714, 7715, 7716, 7717, 7718, 7719, 7720, 7721, 7722, 7723, 7724, 24737, 24750, 24763, 24776, 24789, ...], 'SF6 (t)': [437, 479, 103749, 103791, 207061, 207103, 310373, 310415, 413685, 413727, 516997, 517039, 620309, 620351, 723621, 723663, 826933, 826975, 930245, 930287, 1033557, 1033599, 1136869, 1136911, 1240181, 1240223, 1343493, 1343535, 1446805, 1446847, 1550117, 1550159, 1653429, 1653471, 1756741, 1756783, 1860053, 1860095, 1963365, 1963407, 2066677, 2066719, 2169989, 2170031, 2273301, 2273343, 2376613, 2376655, 2479925, 2479967, 2583237, 2583279, 2686549, 2686591, 2789861, 2789903, 2893173, 2893215, 2996485, 2996527, 3099797, 3099839, 3203109, 3203151, 3306421, 3306463, 3409733, 3409775, 3513045, 3513087, 3616357, 3616399, 3719669, 3719711, 3822981, 3823023, 3926293, 3926335, 4029605, 4029647, 4132917, 4132959, 4236229, 4236271, 4339541, 4339583, 4442853, 4442895, 4546165, 4546207, 4649477, 4649519, 4752789, 4752831, 4856101, 4856143, 4959413, 4959455, 5062725, 5062767, ...]}"
      ]
     },
     "metadata": {},
     "execution_count": 17
    }
   ],
   "source": [
    "emissoes_por_ano.groupby('Gás').groups"
   ]
  },
  {
   "cell_type": "code",
   "execution_count": 18,
   "metadata": {},
   "outputs": [
    {
     "output_type": "execute_result",
     "data": {
      "text/plain": [
       "                            Nível 1 - Setor  \\\n",
       "18                    Processos Industriais   \n",
       "23                    Processos Industriais   \n",
       "26                    Processos Industriais   \n",
       "29                    Processos Industriais   \n",
       "32                    Processos Industriais   \n",
       "...                                     ...   \n",
       "5372170  Mudança de Uso da Terra e Floresta   \n",
       "5372181  Mudança de Uso da Terra e Floresta   \n",
       "5372192  Mudança de Uso da Terra e Floresta   \n",
       "5372203  Mudança de Uso da Terra e Floresta   \n",
       "5372214  Mudança de Uso da Terra e Floresta   \n",
       "\n",
       "                                         Nível 2                    Nível 3  \\\n",
       "18                             Indústria Química  Produção de Acrilonitrila   \n",
       "23                             Indústria Química         Produção de Amônia   \n",
       "26                             Indústria Química         Produção de Amônia   \n",
       "29                             Indústria Química         Produção de Amônia   \n",
       "32                             Indústria Química         Produção de Amônia   \n",
       "...                                          ...                        ...   \n",
       "5372170  Queimadas Não Associadas a Desmatamento                   Caatinga   \n",
       "5372181  Queimadas Não Associadas a Desmatamento                    Cerrado   \n",
       "5372192  Queimadas Não Associadas a Desmatamento             Mata Atlântica   \n",
       "5372203  Queimadas Não Associadas a Desmatamento                      Pampa   \n",
       "5372214  Queimadas Não Associadas a Desmatamento                   Pantanal   \n",
       "\n",
       "        Nível 4 Nível 5 Nível 6      Gás Estado Atividade Econômica Produto  \\\n",
       "18          NaN     NaN     NaN  CO2 (t)     BA           OUTRA_IND     NaN   \n",
       "23          NaN     NaN     NaN  CO2 (t)     RJ           OUTRA_IND     NaN   \n",
       "26          NaN     NaN     NaN  CO2 (t)     MG           OUTRA_IND     NaN   \n",
       "29          NaN     NaN     NaN  CO2 (t)     BA           OUTRA_IND     NaN   \n",
       "32          NaN     NaN     NaN  CO2 (t)     SE           OUTRA_IND     NaN   \n",
       "...         ...     ...     ...      ...    ...                 ...     ...   \n",
       "5372170     NaN     NaN     NaN  CO2 (t)     BR                 NaN     NaN   \n",
       "5372181     NaN     NaN     NaN  CO2 (t)     BR                 NaN     NaN   \n",
       "5372192     NaN     NaN     NaN  CO2 (t)     BR                 NaN     NaN   \n",
       "5372203     NaN     NaN     NaN  CO2 (t)     BR                 NaN     NaN   \n",
       "5372214     NaN     NaN     NaN  CO2 (t)     BR                 NaN     NaN   \n",
       "\n",
       "          Ano       Emissão  \n",
       "18       1970      0.000000  \n",
       "23       1970      0.000000  \n",
       "26       1970      0.000000  \n",
       "29       1970  10742.465792  \n",
       "32       1970      0.000000  \n",
       "...       ...           ...  \n",
       "5372170  2021      0.000000  \n",
       "5372181  2021      0.000000  \n",
       "5372192  2021      0.000000  \n",
       "5372203  2021      0.000000  \n",
       "5372214  2021      0.000000  \n",
       "\n",
       "[290576 rows x 12 columns]"
      ],
      "text/html": "<div>\n<style scoped>\n    .dataframe tbody tr th:only-of-type {\n        vertical-align: middle;\n    }\n\n    .dataframe tbody tr th {\n        vertical-align: top;\n    }\n\n    .dataframe thead th {\n        text-align: right;\n    }\n</style>\n<table border=\"1\" class=\"dataframe\">\n  <thead>\n    <tr style=\"text-align: right;\">\n      <th></th>\n      <th>Nível 1 - Setor</th>\n      <th>Nível 2</th>\n      <th>Nível 3</th>\n      <th>Nível 4</th>\n      <th>Nível 5</th>\n      <th>Nível 6</th>\n      <th>Gás</th>\n      <th>Estado</th>\n      <th>Atividade Econômica</th>\n      <th>Produto</th>\n      <th>Ano</th>\n      <th>Emissão</th>\n    </tr>\n  </thead>\n  <tbody>\n    <tr>\n      <th>18</th>\n      <td>Processos Industriais</td>\n      <td>Indústria Química</td>\n      <td>Produção de Acrilonitrila</td>\n      <td>NaN</td>\n      <td>NaN</td>\n      <td>NaN</td>\n      <td>CO2 (t)</td>\n      <td>BA</td>\n      <td>OUTRA_IND</td>\n      <td>NaN</td>\n      <td>1970</td>\n      <td>0.000000</td>\n    </tr>\n    <tr>\n      <th>23</th>\n      <td>Processos Industriais</td>\n      <td>Indústria Química</td>\n      <td>Produção de Amônia</td>\n      <td>NaN</td>\n      <td>NaN</td>\n      <td>NaN</td>\n      <td>CO2 (t)</td>\n      <td>RJ</td>\n      <td>OUTRA_IND</td>\n      <td>NaN</td>\n      <td>1970</td>\n      <td>0.000000</td>\n    </tr>\n    <tr>\n      <th>26</th>\n      <td>Processos Industriais</td>\n      <td>Indústria Química</td>\n      <td>Produção de Amônia</td>\n      <td>NaN</td>\n      <td>NaN</td>\n      <td>NaN</td>\n      <td>CO2 (t)</td>\n      <td>MG</td>\n      <td>OUTRA_IND</td>\n      <td>NaN</td>\n      <td>1970</td>\n      <td>0.000000</td>\n    </tr>\n    <tr>\n      <th>29</th>\n      <td>Processos Industriais</td>\n      <td>Indústria Química</td>\n      <td>Produção de Amônia</td>\n      <td>NaN</td>\n      <td>NaN</td>\n      <td>NaN</td>\n      <td>CO2 (t)</td>\n      <td>BA</td>\n      <td>OUTRA_IND</td>\n      <td>NaN</td>\n      <td>1970</td>\n      <td>10742.465792</td>\n    </tr>\n    <tr>\n      <th>32</th>\n      <td>Processos Industriais</td>\n      <td>Indústria Química</td>\n      <td>Produção de Amônia</td>\n      <td>NaN</td>\n      <td>NaN</td>\n      <td>NaN</td>\n      <td>CO2 (t)</td>\n      <td>SE</td>\n      <td>OUTRA_IND</td>\n      <td>NaN</td>\n      <td>1970</td>\n      <td>0.000000</td>\n    </tr>\n    <tr>\n      <th>...</th>\n      <td>...</td>\n      <td>...</td>\n      <td>...</td>\n      <td>...</td>\n      <td>...</td>\n      <td>...</td>\n      <td>...</td>\n      <td>...</td>\n      <td>...</td>\n      <td>...</td>\n      <td>...</td>\n      <td>...</td>\n    </tr>\n    <tr>\n      <th>5372170</th>\n      <td>Mudança de Uso da Terra e Floresta</td>\n      <td>Queimadas Não Associadas a Desmatamento</td>\n      <td>Caatinga</td>\n      <td>NaN</td>\n      <td>NaN</td>\n      <td>NaN</td>\n      <td>CO2 (t)</td>\n      <td>BR</td>\n      <td>NaN</td>\n      <td>NaN</td>\n      <td>2021</td>\n      <td>0.000000</td>\n    </tr>\n    <tr>\n      <th>5372181</th>\n      <td>Mudança de Uso da Terra e Floresta</td>\n      <td>Queimadas Não Associadas a Desmatamento</td>\n      <td>Cerrado</td>\n      <td>NaN</td>\n      <td>NaN</td>\n      <td>NaN</td>\n      <td>CO2 (t)</td>\n      <td>BR</td>\n      <td>NaN</td>\n      <td>NaN</td>\n      <td>2021</td>\n      <td>0.000000</td>\n    </tr>\n    <tr>\n      <th>5372192</th>\n      <td>Mudança de Uso da Terra e Floresta</td>\n      <td>Queimadas Não Associadas a Desmatamento</td>\n      <td>Mata Atlântica</td>\n      <td>NaN</td>\n      <td>NaN</td>\n      <td>NaN</td>\n      <td>CO2 (t)</td>\n      <td>BR</td>\n      <td>NaN</td>\n      <td>NaN</td>\n      <td>2021</td>\n      <td>0.000000</td>\n    </tr>\n    <tr>\n      <th>5372203</th>\n      <td>Mudança de Uso da Terra e Floresta</td>\n      <td>Queimadas Não Associadas a Desmatamento</td>\n      <td>Pampa</td>\n      <td>NaN</td>\n      <td>NaN</td>\n      <td>NaN</td>\n      <td>CO2 (t)</td>\n      <td>BR</td>\n      <td>NaN</td>\n      <td>NaN</td>\n      <td>2021</td>\n      <td>0.000000</td>\n    </tr>\n    <tr>\n      <th>5372214</th>\n      <td>Mudança de Uso da Terra e Floresta</td>\n      <td>Queimadas Não Associadas a Desmatamento</td>\n      <td>Pantanal</td>\n      <td>NaN</td>\n      <td>NaN</td>\n      <td>NaN</td>\n      <td>CO2 (t)</td>\n      <td>BR</td>\n      <td>NaN</td>\n      <td>NaN</td>\n      <td>2021</td>\n      <td>0.000000</td>\n    </tr>\n  </tbody>\n</table>\n<p>290576 rows × 12 columns</p>\n</div>"
     },
     "metadata": {},
     "execution_count": 18
    }
   ],
   "source": [
    "emissoes_por_ano.groupby('Gás').get_group('CO2 (t)')"
   ]
  },
  {
   "cell_type": "code",
   "execution_count": 19,
   "metadata": {},
   "outputs": [
    {
     "output_type": "execute_result",
     "data": {
      "text/plain": [
       "                       Emissão\n",
       "Gás                           \n",
       "C2F6 (t)          5.765018e+02\n",
       "CF4 (t)           7.135481e+03\n",
       "CH4 (t)           8.031840e+08\n",
       "CO (t)            5.118477e+08\n",
       "CO2 (t)           4.153325e+10\n",
       "CO2e (t) GTP-AR2  5.193173e+10\n",
       "CO2e (t) GTP-AR4  5.193173e+10\n",
       "CO2e (t) GTP-AR5  5.027836e+10\n",
       "CO2e (t) GTP-AR6  5.094025e+10\n",
       "CO2e (t) GWP-AR2  6.584700e+10\n",
       "CO2e (t) GWP-AR4  6.882629e+10\n",
       "CO2e (t) GWP-AR5  7.048576e+10\n",
       "CO2e (t) GWP-AR6  6.999228e+10\n",
       "COVNM (t)         2.244626e+08\n",
       "HFC-125 (t)       9.795580e+03\n",
       "HFC-134a (t)      1.394731e+05\n",
       "HFC-143a (t)      9.039400e+03\n",
       "HFC-152a (t)      5.706000e+02\n",
       "HFC-23 (t)        1.197840e+03\n",
       "HFC-32 (t)        2.367750e+03\n",
       "N2O (t)           2.298373e+07\n",
       "NOx (t)           1.069799e+08\n",
       "SF6 (t)           4.705800e+02"
      ],
      "text/html": "<div>\n<style scoped>\n    .dataframe tbody tr th:only-of-type {\n        vertical-align: middle;\n    }\n\n    .dataframe tbody tr th {\n        vertical-align: top;\n    }\n\n    .dataframe thead th {\n        text-align: right;\n    }\n</style>\n<table border=\"1\" class=\"dataframe\">\n  <thead>\n    <tr style=\"text-align: right;\">\n      <th></th>\n      <th>Emissão</th>\n    </tr>\n    <tr>\n      <th>Gás</th>\n      <th></th>\n    </tr>\n  </thead>\n  <tbody>\n    <tr>\n      <th>C2F6 (t)</th>\n      <td>5.765018e+02</td>\n    </tr>\n    <tr>\n      <th>CF4 (t)</th>\n      <td>7.135481e+03</td>\n    </tr>\n    <tr>\n      <th>CH4 (t)</th>\n      <td>8.031840e+08</td>\n    </tr>\n    <tr>\n      <th>CO (t)</th>\n      <td>5.118477e+08</td>\n    </tr>\n    <tr>\n      <th>CO2 (t)</th>\n      <td>4.153325e+10</td>\n    </tr>\n    <tr>\n      <th>CO2e (t) GTP-AR2</th>\n      <td>5.193173e+10</td>\n    </tr>\n    <tr>\n      <th>CO2e (t) GTP-AR4</th>\n      <td>5.193173e+10</td>\n    </tr>\n    <tr>\n      <th>CO2e (t) GTP-AR5</th>\n      <td>5.027836e+10</td>\n    </tr>\n    <tr>\n      <th>CO2e (t) GTP-AR6</th>\n      <td>5.094025e+10</td>\n    </tr>\n    <tr>\n      <th>CO2e (t) GWP-AR2</th>\n      <td>6.584700e+10</td>\n    </tr>\n    <tr>\n      <th>CO2e (t) GWP-AR4</th>\n      <td>6.882629e+10</td>\n    </tr>\n    <tr>\n      <th>CO2e (t) GWP-AR5</th>\n      <td>7.048576e+10</td>\n    </tr>\n    <tr>\n      <th>CO2e (t) GWP-AR6</th>\n      <td>6.999228e+10</td>\n    </tr>\n    <tr>\n      <th>COVNM (t)</th>\n      <td>2.244626e+08</td>\n    </tr>\n    <tr>\n      <th>HFC-125 (t)</th>\n      <td>9.795580e+03</td>\n    </tr>\n    <tr>\n      <th>HFC-134a (t)</th>\n      <td>1.394731e+05</td>\n    </tr>\n    <tr>\n      <th>HFC-143a (t)</th>\n      <td>9.039400e+03</td>\n    </tr>\n    <tr>\n      <th>HFC-152a (t)</th>\n      <td>5.706000e+02</td>\n    </tr>\n    <tr>\n      <th>HFC-23 (t)</th>\n      <td>1.197840e+03</td>\n    </tr>\n    <tr>\n      <th>HFC-32 (t)</th>\n      <td>2.367750e+03</td>\n    </tr>\n    <tr>\n      <th>N2O (t)</th>\n      <td>2.298373e+07</td>\n    </tr>\n    <tr>\n      <th>NOx (t)</th>\n      <td>1.069799e+08</td>\n    </tr>\n    <tr>\n      <th>SF6 (t)</th>\n      <td>4.705800e+02</td>\n    </tr>\n  </tbody>\n</table>\n</div>"
     },
     "metadata": {},
     "execution_count": 19
    }
   ],
   "source": [
    "emissoes_por_ano.groupby('Gás').sum(numeric_only=True)"
   ]
  },
  {
   "cell_type": "code",
   "execution_count": 20,
   "metadata": {},
   "outputs": [
    {
     "output_type": "execute_result",
     "data": {
      "text/plain": [
       "                       Emissão\n",
       "Gás                           \n",
       "C2F6 (t)          5.765018e+02\n",
       "CF4 (t)           7.135481e+03\n",
       "CH4 (t)           8.031840e+08\n",
       "CO (t)            5.118477e+08\n",
       "CO2 (t)           4.153325e+10\n",
       "CO2e (t) GTP-AR2  5.193173e+10\n",
       "CO2e (t) GTP-AR4  5.193173e+10\n",
       "CO2e (t) GTP-AR5  5.027836e+10\n",
       "CO2e (t) GTP-AR6  5.094025e+10\n",
       "CO2e (t) GWP-AR2  6.584700e+10\n",
       "CO2e (t) GWP-AR4  6.882629e+10\n",
       "CO2e (t) GWP-AR5  7.048576e+10\n",
       "CO2e (t) GWP-AR6  6.999228e+10\n",
       "COVNM (t)         2.244626e+08\n",
       "HFC-125 (t)       9.795580e+03\n",
       "HFC-134a (t)      1.394731e+05\n",
       "HFC-143a (t)      9.039400e+03\n",
       "HFC-152a (t)      5.706000e+02\n",
       "HFC-23 (t)        1.197840e+03\n",
       "HFC-32 (t)        2.367750e+03\n",
       "N2O (t)           2.298373e+07\n",
       "NOx (t)           1.069799e+08\n",
       "SF6 (t)           4.705800e+02"
      ],
      "text/html": "<div>\n<style scoped>\n    .dataframe tbody tr th:only-of-type {\n        vertical-align: middle;\n    }\n\n    .dataframe tbody tr th {\n        vertical-align: top;\n    }\n\n    .dataframe thead th {\n        text-align: right;\n    }\n</style>\n<table border=\"1\" class=\"dataframe\">\n  <thead>\n    <tr style=\"text-align: right;\">\n      <th></th>\n      <th>Emissão</th>\n    </tr>\n    <tr>\n      <th>Gás</th>\n      <th></th>\n    </tr>\n  </thead>\n  <tbody>\n    <tr>\n      <th>C2F6 (t)</th>\n      <td>5.765018e+02</td>\n    </tr>\n    <tr>\n      <th>CF4 (t)</th>\n      <td>7.135481e+03</td>\n    </tr>\n    <tr>\n      <th>CH4 (t)</th>\n      <td>8.031840e+08</td>\n    </tr>\n    <tr>\n      <th>CO (t)</th>\n      <td>5.118477e+08</td>\n    </tr>\n    <tr>\n      <th>CO2 (t)</th>\n      <td>4.153325e+10</td>\n    </tr>\n    <tr>\n      <th>CO2e (t) GTP-AR2</th>\n      <td>5.193173e+10</td>\n    </tr>\n    <tr>\n      <th>CO2e (t) GTP-AR4</th>\n      <td>5.193173e+10</td>\n    </tr>\n    <tr>\n      <th>CO2e (t) GTP-AR5</th>\n      <td>5.027836e+10</td>\n    </tr>\n    <tr>\n      <th>CO2e (t) GTP-AR6</th>\n      <td>5.094025e+10</td>\n    </tr>\n    <tr>\n      <th>CO2e (t) GWP-AR2</th>\n      <td>6.584700e+10</td>\n    </tr>\n    <tr>\n      <th>CO2e (t) GWP-AR4</th>\n      <td>6.882629e+10</td>\n    </tr>\n    <tr>\n      <th>CO2e (t) GWP-AR5</th>\n      <td>7.048576e+10</td>\n    </tr>\n    <tr>\n      <th>CO2e (t) GWP-AR6</th>\n      <td>6.999228e+10</td>\n    </tr>\n    <tr>\n      <th>COVNM (t)</th>\n      <td>2.244626e+08</td>\n    </tr>\n    <tr>\n      <th>HFC-125 (t)</th>\n      <td>9.795580e+03</td>\n    </tr>\n    <tr>\n      <th>HFC-134a (t)</th>\n      <td>1.394731e+05</td>\n    </tr>\n    <tr>\n      <th>HFC-143a (t)</th>\n      <td>9.039400e+03</td>\n    </tr>\n    <tr>\n      <th>HFC-152a (t)</th>\n      <td>5.706000e+02</td>\n    </tr>\n    <tr>\n      <th>HFC-23 (t)</th>\n      <td>1.197840e+03</td>\n    </tr>\n    <tr>\n      <th>HFC-32 (t)</th>\n      <td>2.367750e+03</td>\n    </tr>\n    <tr>\n      <th>N2O (t)</th>\n      <td>2.298373e+07</td>\n    </tr>\n    <tr>\n      <th>NOx (t)</th>\n      <td>1.069799e+08</td>\n    </tr>\n    <tr>\n      <th>SF6 (t)</th>\n      <td>4.705800e+02</td>\n    </tr>\n  </tbody>\n</table>\n</div>"
     },
     "metadata": {},
     "execution_count": 20
    }
   ],
   "source": [
    "emissoes_por_ano.groupby('Gás')[['Emissão']].sum()"
   ]
  },
  {
   "cell_type": "code",
   "execution_count": 22,
   "metadata": {},
   "outputs": [
    {
     "output_type": "execute_result",
     "data": {
      "text/plain": [
       "                       Emissão\n",
       "Gás                           \n",
       "CO2e (t) GWP-AR5  7.048576e+10\n",
       "CO2e (t) GWP-AR6  6.999228e+10\n",
       "CO2e (t) GWP-AR4  6.882629e+10\n",
       "CO2e (t) GWP-AR2  6.584700e+10\n",
       "CO2e (t) GTP-AR2  5.193173e+10\n",
       "CO2e (t) GTP-AR4  5.193173e+10\n",
       "CO2e (t) GTP-AR6  5.094025e+10\n",
       "CO2e (t) GTP-AR5  5.027836e+10\n",
       "CO2 (t)           4.153325e+10\n",
       "CH4 (t)           8.031840e+08\n",
       "CO (t)            5.118477e+08\n",
       "COVNM (t)         2.244626e+08\n",
       "NOx (t)           1.069799e+08\n",
       "N2O (t)           2.298373e+07\n",
       "HFC-134a (t)      1.394731e+05\n",
       "HFC-125 (t)       9.795580e+03\n",
       "HFC-143a (t)      9.039400e+03\n",
       "CF4 (t)           7.135481e+03\n",
       "HFC-32 (t)        2.367750e+03\n",
       "HFC-23 (t)        1.197840e+03\n",
       "C2F6 (t)          5.765018e+02\n",
       "HFC-152a (t)      5.706000e+02\n",
       "SF6 (t)           4.705800e+02"
      ],
      "text/html": "<div>\n<style scoped>\n    .dataframe tbody tr th:only-of-type {\n        vertical-align: middle;\n    }\n\n    .dataframe tbody tr th {\n        vertical-align: top;\n    }\n\n    .dataframe thead th {\n        text-align: right;\n    }\n</style>\n<table border=\"1\" class=\"dataframe\">\n  <thead>\n    <tr style=\"text-align: right;\">\n      <th></th>\n      <th>Emissão</th>\n    </tr>\n    <tr>\n      <th>Gás</th>\n      <th></th>\n    </tr>\n  </thead>\n  <tbody>\n    <tr>\n      <th>CO2e (t) GWP-AR5</th>\n      <td>7.048576e+10</td>\n    </tr>\n    <tr>\n      <th>CO2e (t) GWP-AR6</th>\n      <td>6.999228e+10</td>\n    </tr>\n    <tr>\n      <th>CO2e (t) GWP-AR4</th>\n      <td>6.882629e+10</td>\n    </tr>\n    <tr>\n      <th>CO2e (t) GWP-AR2</th>\n      <td>6.584700e+10</td>\n    </tr>\n    <tr>\n      <th>CO2e (t) GTP-AR2</th>\n      <td>5.193173e+10</td>\n    </tr>\n    <tr>\n      <th>CO2e (t) GTP-AR4</th>\n      <td>5.193173e+10</td>\n    </tr>\n    <tr>\n      <th>CO2e (t) GTP-AR6</th>\n      <td>5.094025e+10</td>\n    </tr>\n    <tr>\n      <th>CO2e (t) GTP-AR5</th>\n      <td>5.027836e+10</td>\n    </tr>\n    <tr>\n      <th>CO2 (t)</th>\n      <td>4.153325e+10</td>\n    </tr>\n    <tr>\n      <th>CH4 (t)</th>\n      <td>8.031840e+08</td>\n    </tr>\n    <tr>\n      <th>CO (t)</th>\n      <td>5.118477e+08</td>\n    </tr>\n    <tr>\n      <th>COVNM (t)</th>\n      <td>2.244626e+08</td>\n    </tr>\n    <tr>\n      <th>NOx (t)</th>\n      <td>1.069799e+08</td>\n    </tr>\n    <tr>\n      <th>N2O (t)</th>\n      <td>2.298373e+07</td>\n    </tr>\n    <tr>\n      <th>HFC-134a (t)</th>\n      <td>1.394731e+05</td>\n    </tr>\n    <tr>\n      <th>HFC-125 (t)</th>\n      <td>9.795580e+03</td>\n    </tr>\n    <tr>\n      <th>HFC-143a (t)</th>\n      <td>9.039400e+03</td>\n    </tr>\n    <tr>\n      <th>CF4 (t)</th>\n      <td>7.135481e+03</td>\n    </tr>\n    <tr>\n      <th>HFC-32 (t)</th>\n      <td>2.367750e+03</td>\n    </tr>\n    <tr>\n      <th>HFC-23 (t)</th>\n      <td>1.197840e+03</td>\n    </tr>\n    <tr>\n      <th>C2F6 (t)</th>\n      <td>5.765018e+02</td>\n    </tr>\n    <tr>\n      <th>HFC-152a (t)</th>\n      <td>5.706000e+02</td>\n    </tr>\n    <tr>\n      <th>SF6 (t)</th>\n      <td>4.705800e+02</td>\n    </tr>\n  </tbody>\n</table>\n</div>"
     },
     "metadata": {},
     "execution_count": 22
    }
   ],
   "source": [
    "emissao_por_gas = emissoes_por_ano.groupby('Gás')[['Emissão']].sum().sort_values('Emissão', ascending=False)\n",
    "emissao_por_gas"
   ]
  },
  {
   "cell_type": "code",
   "execution_count": 25,
   "metadata": {},
   "outputs": [
    {
     "output_type": "display_data",
     "data": {
      "text/plain": "<Figure size 720x432 with 1 Axes>",
      "image/svg+xml": "<?xml version=\"1.0\" encoding=\"utf-8\" standalone=\"no\"?>\n<!DOCTYPE svg PUBLIC \"-//W3C//DTD SVG 1.1//EN\"\n  \"http://www.w3.org/Graphics/SVG/1.1/DTD/svg11.dtd\">\n<svg xmlns:xlink=\"http://www.w3.org/1999/xlink\" width=\"685.503125pt\" height=\"369.91625pt\" viewBox=\"0 0 685.503125 369.91625\" xmlns=\"http://www.w3.org/2000/svg\" version=\"1.1\">\n <metadata>\n  <rdf:RDF xmlns:dc=\"http://purl.org/dc/elements/1.1/\" xmlns:cc=\"http://creativecommons.org/ns#\" xmlns:rdf=\"http://www.w3.org/1999/02/22-rdf-syntax-ns#\">\n   <cc:Work>\n    <dc:type rdf:resource=\"http://purl.org/dc/dcmitype/StillImage\"/>\n    <dc:date>2023-10-06T08:43:56.050697</dc:date>\n    <dc:format>image/svg+xml</dc:format>\n    <dc:creator>\n     <cc:Agent>\n      <dc:title>Matplotlib v3.7.1, https://matplotlib.org/</dc:title>\n     </cc:Agent>\n    </dc:creator>\n   </cc:Work>\n  </rdf:RDF>\n </metadata>\n <defs>\n  <style type=\"text/css\">*{stroke-linejoin: round; stroke-linecap: butt}</style>\n </defs>\n <g id=\"figure_1\">\n  <g id=\"patch_1\">\n   <path d=\"M 0 369.91625 \nL 685.503125 369.91625 \nL 685.503125 0 \nL 0 0 \nL 0 369.91625 \nz\n\" style=\"fill: none\"/>\n  </g>\n  <g id=\"axes_1\">\n   <g id=\"patch_2\">\n    <path d=\"M 120.303125 333.36 \nL 678.303125 333.36 \nL 678.303125 7.2 \nL 120.303125 7.2 \nz\n\" style=\"fill: #ffffff\"/>\n   </g>\n   <g id=\"patch_3\">\n    <path d=\"M 120.303125 329.814783 \nL 651.731696 329.814783 \nL 651.731696 322.724348 \nL 120.303125 322.724348 \nz\n\" clip-path=\"url(#pbe8e3e5b57)\" style=\"fill: #0000ff\"/>\n   </g>\n   <g id=\"patch_4\">\n    <path d=\"M 120.303125 315.633913 \nL 648.011118 315.633913 \nL 648.011118 308.543478 \nL 120.303125 308.543478 \nz\n\" clip-path=\"url(#pbe8e3e5b57)\" style=\"fill: #0000ff\"/>\n   </g>\n   <g id=\"patch_5\">\n    <path d=\"M 120.303125 301.453043 \nL 639.220155 301.453043 \nL 639.220155 294.362609 \nL 120.303125 294.362609 \nz\n\" clip-path=\"url(#pbe8e3e5b57)\" style=\"fill: #0000ff\"/>\n   </g>\n   <g id=\"patch_6\">\n    <path d=\"M 120.303125 287.272174 \nL 616.757736 287.272174 \nL 616.757736 280.181739 \nL 120.303125 280.181739 \nz\n\" clip-path=\"url(#pbe8e3e5b57)\" style=\"fill: #0000ff\"/>\n   </g>\n   <g id=\"patch_7\">\n    <path d=\"M 120.303125 273.091304 \nL 511.843281 273.091304 \nL 511.843281 266.00087 \nL 120.303125 266.00087 \nz\n\" clip-path=\"url(#pbe8e3e5b57)\" style=\"fill: #0000ff\"/>\n   </g>\n   <g id=\"patch_8\">\n    <path d=\"M 120.303125 258.910435 \nL 511.843281 258.910435 \nL 511.843281 251.82 \nL 120.303125 251.82 \nz\n\" clip-path=\"url(#pbe8e3e5b57)\" style=\"fill: #0000ff\"/>\n   </g>\n   <g id=\"patch_9\">\n    <path d=\"M 120.303125 244.729565 \nL 504.368036 244.729565 \nL 504.368036 237.63913 \nL 120.303125 237.63913 \nz\n\" clip-path=\"url(#pbe8e3e5b57)\" style=\"fill: #0000ff\"/>\n   </g>\n   <g id=\"patch_10\">\n    <path d=\"M 120.303125 230.548696 \nL 499.377678 230.548696 \nL 499.377678 223.458261 \nL 120.303125 223.458261 \nz\n\" clip-path=\"url(#pbe8e3e5b57)\" style=\"fill: #0000ff\"/>\n   </g>\n   <g id=\"patch_11\">\n    <path d=\"M 120.303125 216.367826 \nL 433.443779 216.367826 \nL 433.443779 209.277391 \nL 120.303125 209.277391 \nz\n\" clip-path=\"url(#pbe8e3e5b57)\" style=\"fill: #0000ff\"/>\n   </g>\n   <g id=\"patch_12\">\n    <path d=\"M 120.303125 202.186957 \nL 126.358745 202.186957 \nL 126.358745 195.096522 \nL 120.303125 195.096522 \nz\n\" clip-path=\"url(#pbe8e3e5b57)\" style=\"fill: #0000ff\"/>\n   </g>\n   <g id=\"patch_13\">\n    <path d=\"M 120.303125 188.006087 \nL 124.162209 188.006087 \nL 124.162209 180.915652 \nL 120.303125 180.915652 \nz\n\" clip-path=\"url(#pbe8e3e5b57)\" style=\"fill: #0000ff\"/>\n   </g>\n   <g id=\"patch_14\">\n    <path d=\"M 120.303125 173.825217 \nL 121.995464 173.825217 \nL 121.995464 166.734783 \nL 120.303125 166.734783 \nz\n\" clip-path=\"url(#pbe8e3e5b57)\" style=\"fill: #0000ff\"/>\n   </g>\n   <g id=\"patch_15\">\n    <path d=\"M 120.303125 159.644348 \nL 121.109702 159.644348 \nL 121.109702 152.553913 \nL 120.303125 152.553913 \nz\n\" clip-path=\"url(#pbe8e3e5b57)\" style=\"fill: #0000ff\"/>\n   </g>\n   <g id=\"patch_16\">\n    <path d=\"M 120.303125 145.463478 \nL 120.476411 145.463478 \nL 120.476411 138.373043 \nL 120.303125 138.373043 \nz\n\" clip-path=\"url(#pbe8e3e5b57)\" style=\"fill: #0000ff\"/>\n   </g>\n   <g id=\"patch_17\">\n    <path d=\"M 120.303125 131.282609 \nL 120.304177 131.282609 \nL 120.304177 124.192174 \nL 120.303125 124.192174 \nz\n\" clip-path=\"url(#pbe8e3e5b57)\" style=\"fill: #0000ff\"/>\n   </g>\n   <g id=\"patch_18\">\n    <path d=\"M 120.303125 117.101739 \nL 120.303199 117.101739 \nL 120.303199 110.011304 \nL 120.303125 110.011304 \nz\n\" clip-path=\"url(#pbe8e3e5b57)\" style=\"fill: #0000ff\"/>\n   </g>\n   <g id=\"patch_19\">\n    <path d=\"M 120.303125 102.92087 \nL 120.303193 102.92087 \nL 120.303193 95.830435 \nL 120.303125 95.830435 \nz\n\" clip-path=\"url(#pbe8e3e5b57)\" style=\"fill: #0000ff\"/>\n   </g>\n   <g id=\"patch_20\">\n    <path d=\"M 120.303125 88.74 \nL 120.303179 88.74 \nL 120.303179 81.649565 \nL 120.303125 81.649565 \nz\n\" clip-path=\"url(#pbe8e3e5b57)\" style=\"fill: #0000ff\"/>\n   </g>\n   <g id=\"patch_21\">\n    <path d=\"M 120.303125 74.55913 \nL 120.303143 74.55913 \nL 120.303143 67.468696 \nL 120.303125 67.468696 \nz\n\" clip-path=\"url(#pbe8e3e5b57)\" style=\"fill: #0000ff\"/>\n   </g>\n   <g id=\"patch_22\">\n    <path d=\"M 120.303125 60.378261 \nL 120.303134 60.378261 \nL 120.303134 53.287826 \nL 120.303125 53.287826 \nz\n\" clip-path=\"url(#pbe8e3e5b57)\" style=\"fill: #0000ff\"/>\n   </g>\n   <g id=\"patch_23\">\n    <path d=\"M 120.303125 46.197391 \nL 120.303129 46.197391 \nL 120.303129 39.106957 \nL 120.303125 39.106957 \nz\n\" clip-path=\"url(#pbe8e3e5b57)\" style=\"fill: #0000ff\"/>\n   </g>\n   <g id=\"patch_24\">\n    <path d=\"M 120.303125 32.016522 \nL 120.303129 32.016522 \nL 120.303129 24.926087 \nL 120.303125 24.926087 \nz\n\" clip-path=\"url(#pbe8e3e5b57)\" style=\"fill: #0000ff\"/>\n   </g>\n   <g id=\"patch_25\">\n    <path d=\"M 120.303125 17.835652 \nL 120.303129 17.835652 \nL 120.303129 10.745217 \nL 120.303125 10.745217 \nz\n\" clip-path=\"url(#pbe8e3e5b57)\" style=\"fill: #0000ff\"/>\n   </g>\n   <g id=\"matplotlib.axis_1\">\n    <g id=\"xtick_1\">\n     <g id=\"line2d_1\">\n      <defs>\n       <path id=\"mae20b6c997\" d=\"M 0 0 \nL 0 3.5 \n\" style=\"stroke: #000000; stroke-width: 0.8\"/>\n      </defs>\n      <g>\n       <use xlink:href=\"#mae20b6c997\" x=\"120.303125\" y=\"333.36\" style=\"stroke: #000000; stroke-width: 0.8\"/>\n      </g>\n     </g>\n     <g id=\"text_1\">\n      <!-- 0 -->\n      <g transform=\"translate(117.121875 347.958438) scale(0.1 -0.1)\">\n       <defs>\n        <path id=\"DejaVuSans-30\" d=\"M 2034 4250 \nQ 1547 4250 1301 3770 \nQ 1056 3291 1056 2328 \nQ 1056 1369 1301 889 \nQ 1547 409 2034 409 \nQ 2525 409 2770 889 \nQ 3016 1369 3016 2328 \nQ 3016 3291 2770 3770 \nQ 2525 4250 2034 4250 \nz\nM 2034 4750 \nQ 2819 4750 3233 4129 \nQ 3647 3509 3647 2328 \nQ 3647 1150 3233 529 \nQ 2819 -91 2034 -91 \nQ 1250 -91 836 529 \nQ 422 1150 422 2328 \nQ 422 3509 836 4129 \nQ 1250 4750 2034 4750 \nz\n\" transform=\"scale(0.015625)\"/>\n       </defs>\n       <use xlink:href=\"#DejaVuSans-30\"/>\n      </g>\n     </g>\n    </g>\n    <g id=\"xtick_2\">\n     <g id=\"line2d_2\">\n      <g>\n       <use xlink:href=\"#mae20b6c997\" x=\"195.698296\" y=\"333.36\" style=\"stroke: #000000; stroke-width: 0.8\"/>\n      </g>\n     </g>\n     <g id=\"text_2\">\n      <!-- 1 -->\n      <g transform=\"translate(192.517046 347.958438) scale(0.1 -0.1)\">\n       <defs>\n        <path id=\"DejaVuSans-31\" d=\"M 794 531 \nL 1825 531 \nL 1825 4091 \nL 703 3866 \nL 703 4441 \nL 1819 4666 \nL 2450 4666 \nL 2450 531 \nL 3481 531 \nL 3481 0 \nL 794 0 \nL 794 531 \nz\n\" transform=\"scale(0.015625)\"/>\n       </defs>\n       <use xlink:href=\"#DejaVuSans-31\"/>\n      </g>\n     </g>\n    </g>\n    <g id=\"xtick_3\">\n     <g id=\"line2d_3\">\n      <g>\n       <use xlink:href=\"#mae20b6c997\" x=\"271.093468\" y=\"333.36\" style=\"stroke: #000000; stroke-width: 0.8\"/>\n      </g>\n     </g>\n     <g id=\"text_3\">\n      <!-- 2 -->\n      <g transform=\"translate(267.912218 347.958438) scale(0.1 -0.1)\">\n       <defs>\n        <path id=\"DejaVuSans-32\" d=\"M 1228 531 \nL 3431 531 \nL 3431 0 \nL 469 0 \nL 469 531 \nQ 828 903 1448 1529 \nQ 2069 2156 2228 2338 \nQ 2531 2678 2651 2914 \nQ 2772 3150 2772 3378 \nQ 2772 3750 2511 3984 \nQ 2250 4219 1831 4219 \nQ 1534 4219 1204 4116 \nQ 875 4013 500 3803 \nL 500 4441 \nQ 881 4594 1212 4672 \nQ 1544 4750 1819 4750 \nQ 2544 4750 2975 4387 \nQ 3406 4025 3406 3419 \nQ 3406 3131 3298 2873 \nQ 3191 2616 2906 2266 \nQ 2828 2175 2409 1742 \nQ 1991 1309 1228 531 \nz\n\" transform=\"scale(0.015625)\"/>\n       </defs>\n       <use xlink:href=\"#DejaVuSans-32\"/>\n      </g>\n     </g>\n    </g>\n    <g id=\"xtick_4\">\n     <g id=\"line2d_4\">\n      <g>\n       <use xlink:href=\"#mae20b6c997\" x=\"346.488639\" y=\"333.36\" style=\"stroke: #000000; stroke-width: 0.8\"/>\n      </g>\n     </g>\n     <g id=\"text_4\">\n      <!-- 3 -->\n      <g transform=\"translate(343.307389 347.958438) scale(0.1 -0.1)\">\n       <defs>\n        <path id=\"DejaVuSans-33\" d=\"M 2597 2516 \nQ 3050 2419 3304 2112 \nQ 3559 1806 3559 1356 \nQ 3559 666 3084 287 \nQ 2609 -91 1734 -91 \nQ 1441 -91 1130 -33 \nQ 819 25 488 141 \nL 488 750 \nQ 750 597 1062 519 \nQ 1375 441 1716 441 \nQ 2309 441 2620 675 \nQ 2931 909 2931 1356 \nQ 2931 1769 2642 2001 \nQ 2353 2234 1838 2234 \nL 1294 2234 \nL 1294 2753 \nL 1863 2753 \nQ 2328 2753 2575 2939 \nQ 2822 3125 2822 3475 \nQ 2822 3834 2567 4026 \nQ 2313 4219 1838 4219 \nQ 1578 4219 1281 4162 \nQ 984 4106 628 3988 \nL 628 4550 \nQ 988 4650 1302 4700 \nQ 1616 4750 1894 4750 \nQ 2613 4750 3031 4423 \nQ 3450 4097 3450 3541 \nQ 3450 3153 3228 2886 \nQ 3006 2619 2597 2516 \nz\n\" transform=\"scale(0.015625)\"/>\n       </defs>\n       <use xlink:href=\"#DejaVuSans-33\"/>\n      </g>\n     </g>\n    </g>\n    <g id=\"xtick_5\">\n     <g id=\"line2d_5\">\n      <g>\n       <use xlink:href=\"#mae20b6c997\" x=\"421.883811\" y=\"333.36\" style=\"stroke: #000000; stroke-width: 0.8\"/>\n      </g>\n     </g>\n     <g id=\"text_5\">\n      <!-- 4 -->\n      <g transform=\"translate(418.702561 347.958438) scale(0.1 -0.1)\">\n       <defs>\n        <path id=\"DejaVuSans-34\" d=\"M 2419 4116 \nL 825 1625 \nL 2419 1625 \nL 2419 4116 \nz\nM 2253 4666 \nL 3047 4666 \nL 3047 1625 \nL 3713 1625 \nL 3713 1100 \nL 3047 1100 \nL 3047 0 \nL 2419 0 \nL 2419 1100 \nL 313 1100 \nL 313 1709 \nL 2253 4666 \nz\n\" transform=\"scale(0.015625)\"/>\n       </defs>\n       <use xlink:href=\"#DejaVuSans-34\"/>\n      </g>\n     </g>\n    </g>\n    <g id=\"xtick_6\">\n     <g id=\"line2d_6\">\n      <g>\n       <use xlink:href=\"#mae20b6c997\" x=\"497.278982\" y=\"333.36\" style=\"stroke: #000000; stroke-width: 0.8\"/>\n      </g>\n     </g>\n     <g id=\"text_6\">\n      <!-- 5 -->\n      <g transform=\"translate(494.097732 347.958438) scale(0.1 -0.1)\">\n       <defs>\n        <path id=\"DejaVuSans-35\" d=\"M 691 4666 \nL 3169 4666 \nL 3169 4134 \nL 1269 4134 \nL 1269 2991 \nQ 1406 3038 1543 3061 \nQ 1681 3084 1819 3084 \nQ 2600 3084 3056 2656 \nQ 3513 2228 3513 1497 \nQ 3513 744 3044 326 \nQ 2575 -91 1722 -91 \nQ 1428 -91 1123 -41 \nQ 819 9 494 109 \nL 494 744 \nQ 775 591 1075 516 \nQ 1375 441 1709 441 \nQ 2250 441 2565 725 \nQ 2881 1009 2881 1497 \nQ 2881 1984 2565 2268 \nQ 2250 2553 1709 2553 \nQ 1456 2553 1204 2497 \nQ 953 2441 691 2322 \nL 691 4666 \nz\n\" transform=\"scale(0.015625)\"/>\n       </defs>\n       <use xlink:href=\"#DejaVuSans-35\"/>\n      </g>\n     </g>\n    </g>\n    <g id=\"xtick_7\">\n     <g id=\"line2d_7\">\n      <g>\n       <use xlink:href=\"#mae20b6c997\" x=\"572.674154\" y=\"333.36\" style=\"stroke: #000000; stroke-width: 0.8\"/>\n      </g>\n     </g>\n     <g id=\"text_7\">\n      <!-- 6 -->\n      <g transform=\"translate(569.492904 347.958438) scale(0.1 -0.1)\">\n       <defs>\n        <path id=\"DejaVuSans-36\" d=\"M 2113 2584 \nQ 1688 2584 1439 2293 \nQ 1191 2003 1191 1497 \nQ 1191 994 1439 701 \nQ 1688 409 2113 409 \nQ 2538 409 2786 701 \nQ 3034 994 3034 1497 \nQ 3034 2003 2786 2293 \nQ 2538 2584 2113 2584 \nz\nM 3366 4563 \nL 3366 3988 \nQ 3128 4100 2886 4159 \nQ 2644 4219 2406 4219 \nQ 1781 4219 1451 3797 \nQ 1122 3375 1075 2522 \nQ 1259 2794 1537 2939 \nQ 1816 3084 2150 3084 \nQ 2853 3084 3261 2657 \nQ 3669 2231 3669 1497 \nQ 3669 778 3244 343 \nQ 2819 -91 2113 -91 \nQ 1303 -91 875 529 \nQ 447 1150 447 2328 \nQ 447 3434 972 4092 \nQ 1497 4750 2381 4750 \nQ 2619 4750 2861 4703 \nQ 3103 4656 3366 4563 \nz\n\" transform=\"scale(0.015625)\"/>\n       </defs>\n       <use xlink:href=\"#DejaVuSans-36\"/>\n      </g>\n     </g>\n    </g>\n    <g id=\"xtick_8\">\n     <g id=\"line2d_8\">\n      <g>\n       <use xlink:href=\"#mae20b6c997\" x=\"648.069325\" y=\"333.36\" style=\"stroke: #000000; stroke-width: 0.8\"/>\n      </g>\n     </g>\n     <g id=\"text_8\">\n      <!-- 7 -->\n      <g transform=\"translate(644.888075 347.958438) scale(0.1 -0.1)\">\n       <defs>\n        <path id=\"DejaVuSans-37\" d=\"M 525 4666 \nL 3525 4666 \nL 3525 4397 \nL 1831 0 \nL 1172 0 \nL 2766 4134 \nL 525 4134 \nL 525 4666 \nz\n\" transform=\"scale(0.015625)\"/>\n       </defs>\n       <use xlink:href=\"#DejaVuSans-37\"/>\n      </g>\n     </g>\n    </g>\n    <g id=\"text_9\">\n     <!-- 1e10 -->\n     <g transform=\"translate(653.0625 360.636562) scale(0.1 -0.1)\">\n      <defs>\n       <path id=\"DejaVuSans-65\" d=\"M 3597 1894 \nL 3597 1613 \nL 953 1613 \nQ 991 1019 1311 708 \nQ 1631 397 2203 397 \nQ 2534 397 2845 478 \nQ 3156 559 3463 722 \nL 3463 178 \nQ 3153 47 2828 -22 \nQ 2503 -91 2169 -91 \nQ 1331 -91 842 396 \nQ 353 884 353 1716 \nQ 353 2575 817 3079 \nQ 1281 3584 2069 3584 \nQ 2775 3584 3186 3129 \nQ 3597 2675 3597 1894 \nz\nM 3022 2063 \nQ 3016 2534 2758 2815 \nQ 2500 3097 2075 3097 \nQ 1594 3097 1305 2825 \nQ 1016 2553 972 2059 \nL 3022 2063 \nz\n\" transform=\"scale(0.015625)\"/>\n      </defs>\n      <use xlink:href=\"#DejaVuSans-31\"/>\n      <use xlink:href=\"#DejaVuSans-65\" x=\"63.623047\"/>\n      <use xlink:href=\"#DejaVuSans-31\" x=\"125.146484\"/>\n      <use xlink:href=\"#DejaVuSans-30\" x=\"188.769531\"/>\n     </g>\n    </g>\n   </g>\n   <g id=\"matplotlib.axis_2\">\n    <g id=\"ytick_1\">\n     <g id=\"line2d_9\">\n      <defs>\n       <path id=\"m7dcb6f23dc\" d=\"M 0 0 \nL -3.5 0 \n\" style=\"stroke: #000000; stroke-width: 0.8\"/>\n      </defs>\n      <g>\n       <use xlink:href=\"#m7dcb6f23dc\" x=\"120.303125\" y=\"326.269565\" style=\"stroke: #000000; stroke-width: 0.8\"/>\n      </g>\n     </g>\n     <g id=\"text_10\">\n      <!-- CO2e (t) GWP-AR5 -->\n      <g transform=\"translate(20.878125 330.068784) scale(0.1 -0.1)\">\n       <defs>\n        <path id=\"DejaVuSans-43\" d=\"M 4122 4306 \nL 4122 3641 \nQ 3803 3938 3442 4084 \nQ 3081 4231 2675 4231 \nQ 1875 4231 1450 3742 \nQ 1025 3253 1025 2328 \nQ 1025 1406 1450 917 \nQ 1875 428 2675 428 \nQ 3081 428 3442 575 \nQ 3803 722 4122 1019 \nL 4122 359 \nQ 3791 134 3420 21 \nQ 3050 -91 2638 -91 \nQ 1578 -91 968 557 \nQ 359 1206 359 2328 \nQ 359 3453 968 4101 \nQ 1578 4750 2638 4750 \nQ 3056 4750 3426 4639 \nQ 3797 4528 4122 4306 \nz\n\" transform=\"scale(0.015625)\"/>\n        <path id=\"DejaVuSans-4f\" d=\"M 2522 4238 \nQ 1834 4238 1429 3725 \nQ 1025 3213 1025 2328 \nQ 1025 1447 1429 934 \nQ 1834 422 2522 422 \nQ 3209 422 3611 934 \nQ 4013 1447 4013 2328 \nQ 4013 3213 3611 3725 \nQ 3209 4238 2522 4238 \nz\nM 2522 4750 \nQ 3503 4750 4090 4092 \nQ 4678 3434 4678 2328 \nQ 4678 1225 4090 567 \nQ 3503 -91 2522 -91 \nQ 1538 -91 948 565 \nQ 359 1222 359 2328 \nQ 359 3434 948 4092 \nQ 1538 4750 2522 4750 \nz\n\" transform=\"scale(0.015625)\"/>\n        <path id=\"DejaVuSans-20\" transform=\"scale(0.015625)\"/>\n        <path id=\"DejaVuSans-28\" d=\"M 1984 4856 \nQ 1566 4138 1362 3434 \nQ 1159 2731 1159 2009 \nQ 1159 1288 1364 580 \nQ 1569 -128 1984 -844 \nL 1484 -844 \nQ 1016 -109 783 600 \nQ 550 1309 550 2009 \nQ 550 2706 781 3412 \nQ 1013 4119 1484 4856 \nL 1984 4856 \nz\n\" transform=\"scale(0.015625)\"/>\n        <path id=\"DejaVuSans-74\" d=\"M 1172 4494 \nL 1172 3500 \nL 2356 3500 \nL 2356 3053 \nL 1172 3053 \nL 1172 1153 \nQ 1172 725 1289 603 \nQ 1406 481 1766 481 \nL 2356 481 \nL 2356 0 \nL 1766 0 \nQ 1100 0 847 248 \nQ 594 497 594 1153 \nL 594 3053 \nL 172 3053 \nL 172 3500 \nL 594 3500 \nL 594 4494 \nL 1172 4494 \nz\n\" transform=\"scale(0.015625)\"/>\n        <path id=\"DejaVuSans-29\" d=\"M 513 4856 \nL 1013 4856 \nQ 1481 4119 1714 3412 \nQ 1947 2706 1947 2009 \nQ 1947 1309 1714 600 \nQ 1481 -109 1013 -844 \nL 513 -844 \nQ 928 -128 1133 580 \nQ 1338 1288 1338 2009 \nQ 1338 2731 1133 3434 \nQ 928 4138 513 4856 \nz\n\" transform=\"scale(0.015625)\"/>\n        <path id=\"DejaVuSans-47\" d=\"M 3809 666 \nL 3809 1919 \nL 2778 1919 \nL 2778 2438 \nL 4434 2438 \nL 4434 434 \nQ 4069 175 3628 42 \nQ 3188 -91 2688 -91 \nQ 1594 -91 976 548 \nQ 359 1188 359 2328 \nQ 359 3472 976 4111 \nQ 1594 4750 2688 4750 \nQ 3144 4750 3555 4637 \nQ 3966 4525 4313 4306 \nL 4313 3634 \nQ 3963 3931 3569 4081 \nQ 3175 4231 2741 4231 \nQ 1884 4231 1454 3753 \nQ 1025 3275 1025 2328 \nQ 1025 1384 1454 906 \nQ 1884 428 2741 428 \nQ 3075 428 3337 486 \nQ 3600 544 3809 666 \nz\n\" transform=\"scale(0.015625)\"/>\n        <path id=\"DejaVuSans-57\" d=\"M 213 4666 \nL 850 4666 \nL 1831 722 \nL 2809 4666 \nL 3519 4666 \nL 4500 722 \nL 5478 4666 \nL 6119 4666 \nL 4947 0 \nL 4153 0 \nL 3169 4050 \nL 2175 0 \nL 1381 0 \nL 213 4666 \nz\n\" transform=\"scale(0.015625)\"/>\n        <path id=\"DejaVuSans-50\" d=\"M 1259 4147 \nL 1259 2394 \nL 2053 2394 \nQ 2494 2394 2734 2622 \nQ 2975 2850 2975 3272 \nQ 2975 3691 2734 3919 \nQ 2494 4147 2053 4147 \nL 1259 4147 \nz\nM 628 4666 \nL 2053 4666 \nQ 2838 4666 3239 4311 \nQ 3641 3956 3641 3272 \nQ 3641 2581 3239 2228 \nQ 2838 1875 2053 1875 \nL 1259 1875 \nL 1259 0 \nL 628 0 \nL 628 4666 \nz\n\" transform=\"scale(0.015625)\"/>\n        <path id=\"DejaVuSans-2d\" d=\"M 313 2009 \nL 1997 2009 \nL 1997 1497 \nL 313 1497 \nL 313 2009 \nz\n\" transform=\"scale(0.015625)\"/>\n        <path id=\"DejaVuSans-41\" d=\"M 2188 4044 \nL 1331 1722 \nL 3047 1722 \nL 2188 4044 \nz\nM 1831 4666 \nL 2547 4666 \nL 4325 0 \nL 3669 0 \nL 3244 1197 \nL 1141 1197 \nL 716 0 \nL 50 0 \nL 1831 4666 \nz\n\" transform=\"scale(0.015625)\"/>\n        <path id=\"DejaVuSans-52\" d=\"M 2841 2188 \nQ 3044 2119 3236 1894 \nQ 3428 1669 3622 1275 \nL 4263 0 \nL 3584 0 \nL 2988 1197 \nQ 2756 1666 2539 1819 \nQ 2322 1972 1947 1972 \nL 1259 1972 \nL 1259 0 \nL 628 0 \nL 628 4666 \nL 2053 4666 \nQ 2853 4666 3247 4331 \nQ 3641 3997 3641 3322 \nQ 3641 2881 3436 2590 \nQ 3231 2300 2841 2188 \nz\nM 1259 4147 \nL 1259 2491 \nL 2053 2491 \nQ 2509 2491 2742 2702 \nQ 2975 2913 2975 3322 \nQ 2975 3731 2742 3939 \nQ 2509 4147 2053 4147 \nL 1259 4147 \nz\n\" transform=\"scale(0.015625)\"/>\n       </defs>\n       <use xlink:href=\"#DejaVuSans-43\"/>\n       <use xlink:href=\"#DejaVuSans-4f\" x=\"69.824219\"/>\n       <use xlink:href=\"#DejaVuSans-32\" x=\"148.535156\"/>\n       <use xlink:href=\"#DejaVuSans-65\" x=\"212.158203\"/>\n       <use xlink:href=\"#DejaVuSans-20\" x=\"273.681641\"/>\n       <use xlink:href=\"#DejaVuSans-28\" x=\"305.46875\"/>\n       <use xlink:href=\"#DejaVuSans-74\" x=\"344.482422\"/>\n       <use xlink:href=\"#DejaVuSans-29\" x=\"383.691406\"/>\n       <use xlink:href=\"#DejaVuSans-20\" x=\"422.705078\"/>\n       <use xlink:href=\"#DejaVuSans-47\" x=\"454.492188\"/>\n       <use xlink:href=\"#DejaVuSans-57\" x=\"531.982422\"/>\n       <use xlink:href=\"#DejaVuSans-50\" x=\"630.859375\"/>\n       <use xlink:href=\"#DejaVuSans-2d\" x=\"688.912109\"/>\n       <use xlink:href=\"#DejaVuSans-41\" x=\"722.746094\"/>\n       <use xlink:href=\"#DejaVuSans-52\" x=\"791.154297\"/>\n       <use xlink:href=\"#DejaVuSans-35\" x=\"860.636719\"/>\n      </g>\n     </g>\n    </g>\n    <g id=\"ytick_2\">\n     <g id=\"line2d_10\">\n      <g>\n       <use xlink:href=\"#m7dcb6f23dc\" x=\"120.303125\" y=\"312.088696\" style=\"stroke: #000000; stroke-width: 0.8\"/>\n      </g>\n     </g>\n     <g id=\"text_11\">\n      <!-- CO2e (t) GWP-AR6 -->\n      <g transform=\"translate(20.878125 315.887914) scale(0.1 -0.1)\">\n       <use xlink:href=\"#DejaVuSans-43\"/>\n       <use xlink:href=\"#DejaVuSans-4f\" x=\"69.824219\"/>\n       <use xlink:href=\"#DejaVuSans-32\" x=\"148.535156\"/>\n       <use xlink:href=\"#DejaVuSans-65\" x=\"212.158203\"/>\n       <use xlink:href=\"#DejaVuSans-20\" x=\"273.681641\"/>\n       <use xlink:href=\"#DejaVuSans-28\" x=\"305.46875\"/>\n       <use xlink:href=\"#DejaVuSans-74\" x=\"344.482422\"/>\n       <use xlink:href=\"#DejaVuSans-29\" x=\"383.691406\"/>\n       <use xlink:href=\"#DejaVuSans-20\" x=\"422.705078\"/>\n       <use xlink:href=\"#DejaVuSans-47\" x=\"454.492188\"/>\n       <use xlink:href=\"#DejaVuSans-57\" x=\"531.982422\"/>\n       <use xlink:href=\"#DejaVuSans-50\" x=\"630.859375\"/>\n       <use xlink:href=\"#DejaVuSans-2d\" x=\"688.912109\"/>\n       <use xlink:href=\"#DejaVuSans-41\" x=\"722.746094\"/>\n       <use xlink:href=\"#DejaVuSans-52\" x=\"791.154297\"/>\n       <use xlink:href=\"#DejaVuSans-36\" x=\"860.636719\"/>\n      </g>\n     </g>\n    </g>\n    <g id=\"ytick_3\">\n     <g id=\"line2d_11\">\n      <g>\n       <use xlink:href=\"#m7dcb6f23dc\" x=\"120.303125\" y=\"297.907826\" style=\"stroke: #000000; stroke-width: 0.8\"/>\n      </g>\n     </g>\n     <g id=\"text_12\">\n      <!-- CO2e (t) GWP-AR4 -->\n      <g transform=\"translate(20.878125 301.707045) scale(0.1 -0.1)\">\n       <use xlink:href=\"#DejaVuSans-43\"/>\n       <use xlink:href=\"#DejaVuSans-4f\" x=\"69.824219\"/>\n       <use xlink:href=\"#DejaVuSans-32\" x=\"148.535156\"/>\n       <use xlink:href=\"#DejaVuSans-65\" x=\"212.158203\"/>\n       <use xlink:href=\"#DejaVuSans-20\" x=\"273.681641\"/>\n       <use xlink:href=\"#DejaVuSans-28\" x=\"305.46875\"/>\n       <use xlink:href=\"#DejaVuSans-74\" x=\"344.482422\"/>\n       <use xlink:href=\"#DejaVuSans-29\" x=\"383.691406\"/>\n       <use xlink:href=\"#DejaVuSans-20\" x=\"422.705078\"/>\n       <use xlink:href=\"#DejaVuSans-47\" x=\"454.492188\"/>\n       <use xlink:href=\"#DejaVuSans-57\" x=\"531.982422\"/>\n       <use xlink:href=\"#DejaVuSans-50\" x=\"630.859375\"/>\n       <use xlink:href=\"#DejaVuSans-2d\" x=\"688.912109\"/>\n       <use xlink:href=\"#DejaVuSans-41\" x=\"722.746094\"/>\n       <use xlink:href=\"#DejaVuSans-52\" x=\"791.154297\"/>\n       <use xlink:href=\"#DejaVuSans-34\" x=\"860.636719\"/>\n      </g>\n     </g>\n    </g>\n    <g id=\"ytick_4\">\n     <g id=\"line2d_12\">\n      <g>\n       <use xlink:href=\"#m7dcb6f23dc\" x=\"120.303125\" y=\"283.726957\" style=\"stroke: #000000; stroke-width: 0.8\"/>\n      </g>\n     </g>\n     <g id=\"text_13\">\n      <!-- CO2e (t) GWP-AR2 -->\n      <g transform=\"translate(20.878125 287.526175) scale(0.1 -0.1)\">\n       <use xlink:href=\"#DejaVuSans-43\"/>\n       <use xlink:href=\"#DejaVuSans-4f\" x=\"69.824219\"/>\n       <use xlink:href=\"#DejaVuSans-32\" x=\"148.535156\"/>\n       <use xlink:href=\"#DejaVuSans-65\" x=\"212.158203\"/>\n       <use xlink:href=\"#DejaVuSans-20\" x=\"273.681641\"/>\n       <use xlink:href=\"#DejaVuSans-28\" x=\"305.46875\"/>\n       <use xlink:href=\"#DejaVuSans-74\" x=\"344.482422\"/>\n       <use xlink:href=\"#DejaVuSans-29\" x=\"383.691406\"/>\n       <use xlink:href=\"#DejaVuSans-20\" x=\"422.705078\"/>\n       <use xlink:href=\"#DejaVuSans-47\" x=\"454.492188\"/>\n       <use xlink:href=\"#DejaVuSans-57\" x=\"531.982422\"/>\n       <use xlink:href=\"#DejaVuSans-50\" x=\"630.859375\"/>\n       <use xlink:href=\"#DejaVuSans-2d\" x=\"688.912109\"/>\n       <use xlink:href=\"#DejaVuSans-41\" x=\"722.746094\"/>\n       <use xlink:href=\"#DejaVuSans-52\" x=\"791.154297\"/>\n       <use xlink:href=\"#DejaVuSans-32\" x=\"860.636719\"/>\n      </g>\n     </g>\n    </g>\n    <g id=\"ytick_5\">\n     <g id=\"line2d_13\">\n      <g>\n       <use xlink:href=\"#m7dcb6f23dc\" x=\"120.303125\" y=\"269.546087\" style=\"stroke: #000000; stroke-width: 0.8\"/>\n      </g>\n     </g>\n     <g id=\"text_14\">\n      <!-- CO2e (t) GTP-AR2 -->\n      <g transform=\"translate(25.020313 273.345306) scale(0.1 -0.1)\">\n       <defs>\n        <path id=\"DejaVuSans-54\" d=\"M -19 4666 \nL 3928 4666 \nL 3928 4134 \nL 2272 4134 \nL 2272 0 \nL 1638 0 \nL 1638 4134 \nL -19 4134 \nL -19 4666 \nz\n\" transform=\"scale(0.015625)\"/>\n       </defs>\n       <use xlink:href=\"#DejaVuSans-43\"/>\n       <use xlink:href=\"#DejaVuSans-4f\" x=\"69.824219\"/>\n       <use xlink:href=\"#DejaVuSans-32\" x=\"148.535156\"/>\n       <use xlink:href=\"#DejaVuSans-65\" x=\"212.158203\"/>\n       <use xlink:href=\"#DejaVuSans-20\" x=\"273.681641\"/>\n       <use xlink:href=\"#DejaVuSans-28\" x=\"305.46875\"/>\n       <use xlink:href=\"#DejaVuSans-74\" x=\"344.482422\"/>\n       <use xlink:href=\"#DejaVuSans-29\" x=\"383.691406\"/>\n       <use xlink:href=\"#DejaVuSans-20\" x=\"422.705078\"/>\n       <use xlink:href=\"#DejaVuSans-47\" x=\"454.492188\"/>\n       <use xlink:href=\"#DejaVuSans-54\" x=\"528.357422\"/>\n       <use xlink:href=\"#DejaVuSans-50\" x=\"589.441406\"/>\n       <use xlink:href=\"#DejaVuSans-2d\" x=\"647.494141\"/>\n       <use xlink:href=\"#DejaVuSans-41\" x=\"681.328125\"/>\n       <use xlink:href=\"#DejaVuSans-52\" x=\"749.736328\"/>\n       <use xlink:href=\"#DejaVuSans-32\" x=\"819.21875\"/>\n      </g>\n     </g>\n    </g>\n    <g id=\"ytick_6\">\n     <g id=\"line2d_14\">\n      <g>\n       <use xlink:href=\"#m7dcb6f23dc\" x=\"120.303125\" y=\"255.365217\" style=\"stroke: #000000; stroke-width: 0.8\"/>\n      </g>\n     </g>\n     <g id=\"text_15\">\n      <!-- CO2e (t) GTP-AR4 -->\n      <g transform=\"translate(25.020313 259.164436) scale(0.1 -0.1)\">\n       <use xlink:href=\"#DejaVuSans-43\"/>\n       <use xlink:href=\"#DejaVuSans-4f\" x=\"69.824219\"/>\n       <use xlink:href=\"#DejaVuSans-32\" x=\"148.535156\"/>\n       <use xlink:href=\"#DejaVuSans-65\" x=\"212.158203\"/>\n       <use xlink:href=\"#DejaVuSans-20\" x=\"273.681641\"/>\n       <use xlink:href=\"#DejaVuSans-28\" x=\"305.46875\"/>\n       <use xlink:href=\"#DejaVuSans-74\" x=\"344.482422\"/>\n       <use xlink:href=\"#DejaVuSans-29\" x=\"383.691406\"/>\n       <use xlink:href=\"#DejaVuSans-20\" x=\"422.705078\"/>\n       <use xlink:href=\"#DejaVuSans-47\" x=\"454.492188\"/>\n       <use xlink:href=\"#DejaVuSans-54\" x=\"528.357422\"/>\n       <use xlink:href=\"#DejaVuSans-50\" x=\"589.441406\"/>\n       <use xlink:href=\"#DejaVuSans-2d\" x=\"647.494141\"/>\n       <use xlink:href=\"#DejaVuSans-41\" x=\"681.328125\"/>\n       <use xlink:href=\"#DejaVuSans-52\" x=\"749.736328\"/>\n       <use xlink:href=\"#DejaVuSans-34\" x=\"819.21875\"/>\n      </g>\n     </g>\n    </g>\n    <g id=\"ytick_7\">\n     <g id=\"line2d_15\">\n      <g>\n       <use xlink:href=\"#m7dcb6f23dc\" x=\"120.303125\" y=\"241.184348\" style=\"stroke: #000000; stroke-width: 0.8\"/>\n      </g>\n     </g>\n     <g id=\"text_16\">\n      <!-- CO2e (t) GTP-AR6 -->\n      <g transform=\"translate(25.020313 244.983567) scale(0.1 -0.1)\">\n       <use xlink:href=\"#DejaVuSans-43\"/>\n       <use xlink:href=\"#DejaVuSans-4f\" x=\"69.824219\"/>\n       <use xlink:href=\"#DejaVuSans-32\" x=\"148.535156\"/>\n       <use xlink:href=\"#DejaVuSans-65\" x=\"212.158203\"/>\n       <use xlink:href=\"#DejaVuSans-20\" x=\"273.681641\"/>\n       <use xlink:href=\"#DejaVuSans-28\" x=\"305.46875\"/>\n       <use xlink:href=\"#DejaVuSans-74\" x=\"344.482422\"/>\n       <use xlink:href=\"#DejaVuSans-29\" x=\"383.691406\"/>\n       <use xlink:href=\"#DejaVuSans-20\" x=\"422.705078\"/>\n       <use xlink:href=\"#DejaVuSans-47\" x=\"454.492188\"/>\n       <use xlink:href=\"#DejaVuSans-54\" x=\"528.357422\"/>\n       <use xlink:href=\"#DejaVuSans-50\" x=\"589.441406\"/>\n       <use xlink:href=\"#DejaVuSans-2d\" x=\"647.494141\"/>\n       <use xlink:href=\"#DejaVuSans-41\" x=\"681.328125\"/>\n       <use xlink:href=\"#DejaVuSans-52\" x=\"749.736328\"/>\n       <use xlink:href=\"#DejaVuSans-36\" x=\"819.21875\"/>\n      </g>\n     </g>\n    </g>\n    <g id=\"ytick_8\">\n     <g id=\"line2d_16\">\n      <g>\n       <use xlink:href=\"#m7dcb6f23dc\" x=\"120.303125\" y=\"227.003478\" style=\"stroke: #000000; stroke-width: 0.8\"/>\n      </g>\n     </g>\n     <g id=\"text_17\">\n      <!-- CO2e (t) GTP-AR5 -->\n      <g transform=\"translate(25.020313 230.802697) scale(0.1 -0.1)\">\n       <use xlink:href=\"#DejaVuSans-43\"/>\n       <use xlink:href=\"#DejaVuSans-4f\" x=\"69.824219\"/>\n       <use xlink:href=\"#DejaVuSans-32\" x=\"148.535156\"/>\n       <use xlink:href=\"#DejaVuSans-65\" x=\"212.158203\"/>\n       <use xlink:href=\"#DejaVuSans-20\" x=\"273.681641\"/>\n       <use xlink:href=\"#DejaVuSans-28\" x=\"305.46875\"/>\n       <use xlink:href=\"#DejaVuSans-74\" x=\"344.482422\"/>\n       <use xlink:href=\"#DejaVuSans-29\" x=\"383.691406\"/>\n       <use xlink:href=\"#DejaVuSans-20\" x=\"422.705078\"/>\n       <use xlink:href=\"#DejaVuSans-47\" x=\"454.492188\"/>\n       <use xlink:href=\"#DejaVuSans-54\" x=\"528.357422\"/>\n       <use xlink:href=\"#DejaVuSans-50\" x=\"589.441406\"/>\n       <use xlink:href=\"#DejaVuSans-2d\" x=\"647.494141\"/>\n       <use xlink:href=\"#DejaVuSans-41\" x=\"681.328125\"/>\n       <use xlink:href=\"#DejaVuSans-52\" x=\"749.736328\"/>\n       <use xlink:href=\"#DejaVuSans-35\" x=\"819.21875\"/>\n      </g>\n     </g>\n    </g>\n    <g id=\"ytick_9\">\n     <g id=\"line2d_17\">\n      <g>\n       <use xlink:href=\"#m7dcb6f23dc\" x=\"120.303125\" y=\"212.822609\" style=\"stroke: #000000; stroke-width: 0.8\"/>\n      </g>\n     </g>\n     <g id=\"text_18\">\n      <!-- CO2 (t) -->\n      <g transform=\"translate(77.184375 216.621827) scale(0.1 -0.1)\">\n       <use xlink:href=\"#DejaVuSans-43\"/>\n       <use xlink:href=\"#DejaVuSans-4f\" x=\"69.824219\"/>\n       <use xlink:href=\"#DejaVuSans-32\" x=\"148.535156\"/>\n       <use xlink:href=\"#DejaVuSans-20\" x=\"212.158203\"/>\n       <use xlink:href=\"#DejaVuSans-28\" x=\"243.945312\"/>\n       <use xlink:href=\"#DejaVuSans-74\" x=\"282.958984\"/>\n       <use xlink:href=\"#DejaVuSans-29\" x=\"322.167969\"/>\n      </g>\n     </g>\n    </g>\n    <g id=\"ytick_10\">\n     <g id=\"line2d_18\">\n      <g>\n       <use xlink:href=\"#m7dcb6f23dc\" x=\"120.303125\" y=\"198.641739\" style=\"stroke: #000000; stroke-width: 0.8\"/>\n      </g>\n     </g>\n     <g id=\"text_19\">\n      <!-- CH4 (t) -->\n      <g transform=\"translate(77.535938 202.440958) scale(0.1 -0.1)\">\n       <defs>\n        <path id=\"DejaVuSans-48\" d=\"M 628 4666 \nL 1259 4666 \nL 1259 2753 \nL 3553 2753 \nL 3553 4666 \nL 4184 4666 \nL 4184 0 \nL 3553 0 \nL 3553 2222 \nL 1259 2222 \nL 1259 0 \nL 628 0 \nL 628 4666 \nz\n\" transform=\"scale(0.015625)\"/>\n       </defs>\n       <use xlink:href=\"#DejaVuSans-43\"/>\n       <use xlink:href=\"#DejaVuSans-48\" x=\"69.824219\"/>\n       <use xlink:href=\"#DejaVuSans-34\" x=\"145.019531\"/>\n       <use xlink:href=\"#DejaVuSans-20\" x=\"208.642578\"/>\n       <use xlink:href=\"#DejaVuSans-28\" x=\"240.429688\"/>\n       <use xlink:href=\"#DejaVuSans-74\" x=\"279.443359\"/>\n       <use xlink:href=\"#DejaVuSans-29\" x=\"318.652344\"/>\n      </g>\n     </g>\n    </g>\n    <g id=\"ytick_11\">\n     <g id=\"line2d_19\">\n      <g>\n       <use xlink:href=\"#m7dcb6f23dc\" x=\"120.303125\" y=\"184.46087\" style=\"stroke: #000000; stroke-width: 0.8\"/>\n      </g>\n     </g>\n     <g id=\"text_20\">\n      <!-- CO (t) -->\n      <g transform=\"translate(83.546875 188.260088) scale(0.1 -0.1)\">\n       <use xlink:href=\"#DejaVuSans-43\"/>\n       <use xlink:href=\"#DejaVuSans-4f\" x=\"69.824219\"/>\n       <use xlink:href=\"#DejaVuSans-20\" x=\"148.535156\"/>\n       <use xlink:href=\"#DejaVuSans-28\" x=\"180.322266\"/>\n       <use xlink:href=\"#DejaVuSans-74\" x=\"219.335938\"/>\n       <use xlink:href=\"#DejaVuSans-29\" x=\"258.544922\"/>\n      </g>\n     </g>\n    </g>\n    <g id=\"ytick_12\">\n     <g id=\"line2d_20\">\n      <g>\n       <use xlink:href=\"#m7dcb6f23dc\" x=\"120.303125\" y=\"170.28\" style=\"stroke: #000000; stroke-width: 0.8\"/>\n      </g>\n     </g>\n     <g id=\"text_21\">\n      <!-- COVNM (t) -->\n      <g transform=\"translate(60.771875 174.079219) scale(0.1 -0.1)\">\n       <defs>\n        <path id=\"DejaVuSans-56\" d=\"M 1831 0 \nL 50 4666 \nL 709 4666 \nL 2188 738 \nL 3669 4666 \nL 4325 4666 \nL 2547 0 \nL 1831 0 \nz\n\" transform=\"scale(0.015625)\"/>\n        <path id=\"DejaVuSans-4e\" d=\"M 628 4666 \nL 1478 4666 \nL 3547 763 \nL 3547 4666 \nL 4159 4666 \nL 4159 0 \nL 3309 0 \nL 1241 3903 \nL 1241 0 \nL 628 0 \nL 628 4666 \nz\n\" transform=\"scale(0.015625)\"/>\n        <path id=\"DejaVuSans-4d\" d=\"M 628 4666 \nL 1569 4666 \nL 2759 1491 \nL 3956 4666 \nL 4897 4666 \nL 4897 0 \nL 4281 0 \nL 4281 4097 \nL 3078 897 \nL 2444 897 \nL 1241 4097 \nL 1241 0 \nL 628 0 \nL 628 4666 \nz\n\" transform=\"scale(0.015625)\"/>\n       </defs>\n       <use xlink:href=\"#DejaVuSans-43\"/>\n       <use xlink:href=\"#DejaVuSans-4f\" x=\"69.824219\"/>\n       <use xlink:href=\"#DejaVuSans-56\" x=\"146.785156\"/>\n       <use xlink:href=\"#DejaVuSans-4e\" x=\"215.193359\"/>\n       <use xlink:href=\"#DejaVuSans-4d\" x=\"289.998047\"/>\n       <use xlink:href=\"#DejaVuSans-20\" x=\"376.277344\"/>\n       <use xlink:href=\"#DejaVuSans-28\" x=\"408.064453\"/>\n       <use xlink:href=\"#DejaVuSans-74\" x=\"447.078125\"/>\n       <use xlink:href=\"#DejaVuSans-29\" x=\"486.287109\"/>\n      </g>\n     </g>\n    </g>\n    <g id=\"ytick_13\">\n     <g id=\"line2d_21\">\n      <g>\n       <use xlink:href=\"#m7dcb6f23dc\" x=\"120.303125\" y=\"156.09913\" style=\"stroke: #000000; stroke-width: 0.8\"/>\n      </g>\n     </g>\n     <g id=\"text_22\">\n      <!-- NOx (t) -->\n      <g transform=\"translate(77.129688 159.898349) scale(0.1 -0.1)\">\n       <defs>\n        <path id=\"DejaVuSans-78\" d=\"M 3513 3500 \nL 2247 1797 \nL 3578 0 \nL 2900 0 \nL 1881 1375 \nL 863 0 \nL 184 0 \nL 1544 1831 \nL 300 3500 \nL 978 3500 \nL 1906 2253 \nL 2834 3500 \nL 3513 3500 \nz\n\" transform=\"scale(0.015625)\"/>\n       </defs>\n       <use xlink:href=\"#DejaVuSans-4e\"/>\n       <use xlink:href=\"#DejaVuSans-4f\" x=\"74.804688\"/>\n       <use xlink:href=\"#DejaVuSans-78\" x=\"153.515625\"/>\n       <use xlink:href=\"#DejaVuSans-20\" x=\"212.695312\"/>\n       <use xlink:href=\"#DejaVuSans-28\" x=\"244.482422\"/>\n       <use xlink:href=\"#DejaVuSans-74\" x=\"283.496094\"/>\n       <use xlink:href=\"#DejaVuSans-29\" x=\"322.705078\"/>\n      </g>\n     </g>\n    </g>\n    <g id=\"ytick_14\">\n     <g id=\"line2d_22\">\n      <g>\n       <use xlink:href=\"#m7dcb6f23dc\" x=\"120.303125\" y=\"141.918261\" style=\"stroke: #000000; stroke-width: 0.8\"/>\n      </g>\n     </g>\n     <g id=\"text_23\">\n      <!-- N2O (t) -->\n      <g transform=\"translate(76.685938 145.71748) scale(0.1 -0.1)\">\n       <use xlink:href=\"#DejaVuSans-4e\"/>\n       <use xlink:href=\"#DejaVuSans-32\" x=\"74.804688\"/>\n       <use xlink:href=\"#DejaVuSans-4f\" x=\"138.427734\"/>\n       <use xlink:href=\"#DejaVuSans-20\" x=\"217.138672\"/>\n       <use xlink:href=\"#DejaVuSans-28\" x=\"248.925781\"/>\n       <use xlink:href=\"#DejaVuSans-74\" x=\"287.939453\"/>\n       <use xlink:href=\"#DejaVuSans-29\" x=\"327.148438\"/>\n      </g>\n     </g>\n    </g>\n    <g id=\"ytick_15\">\n     <g id=\"line2d_23\">\n      <g>\n       <use xlink:href=\"#m7dcb6f23dc\" x=\"120.303125\" y=\"127.737391\" style=\"stroke: #000000; stroke-width: 0.8\"/>\n      </g>\n     </g>\n     <g id=\"text_24\">\n      <!-- HFC-134a (t) -->\n      <g transform=\"translate(49.323438 131.53661) scale(0.1 -0.1)\">\n       <defs>\n        <path id=\"DejaVuSans-46\" d=\"M 628 4666 \nL 3309 4666 \nL 3309 4134 \nL 1259 4134 \nL 1259 2759 \nL 3109 2759 \nL 3109 2228 \nL 1259 2228 \nL 1259 0 \nL 628 0 \nL 628 4666 \nz\n\" transform=\"scale(0.015625)\"/>\n        <path id=\"DejaVuSans-61\" d=\"M 2194 1759 \nQ 1497 1759 1228 1600 \nQ 959 1441 959 1056 \nQ 959 750 1161 570 \nQ 1363 391 1709 391 \nQ 2188 391 2477 730 \nQ 2766 1069 2766 1631 \nL 2766 1759 \nL 2194 1759 \nz\nM 3341 1997 \nL 3341 0 \nL 2766 0 \nL 2766 531 \nQ 2569 213 2275 61 \nQ 1981 -91 1556 -91 \nQ 1019 -91 701 211 \nQ 384 513 384 1019 \nQ 384 1609 779 1909 \nQ 1175 2209 1959 2209 \nL 2766 2209 \nL 2766 2266 \nQ 2766 2663 2505 2880 \nQ 2244 3097 1772 3097 \nQ 1472 3097 1187 3025 \nQ 903 2953 641 2809 \nL 641 3341 \nQ 956 3463 1253 3523 \nQ 1550 3584 1831 3584 \nQ 2591 3584 2966 3190 \nQ 3341 2797 3341 1997 \nz\n\" transform=\"scale(0.015625)\"/>\n       </defs>\n       <use xlink:href=\"#DejaVuSans-48\"/>\n       <use xlink:href=\"#DejaVuSans-46\" x=\"75.195312\"/>\n       <use xlink:href=\"#DejaVuSans-43\" x=\"132.714844\"/>\n       <use xlink:href=\"#DejaVuSans-2d\" x=\"202.539062\"/>\n       <use xlink:href=\"#DejaVuSans-31\" x=\"238.623047\"/>\n       <use xlink:href=\"#DejaVuSans-33\" x=\"302.246094\"/>\n       <use xlink:href=\"#DejaVuSans-34\" x=\"365.869141\"/>\n       <use xlink:href=\"#DejaVuSans-61\" x=\"429.492188\"/>\n       <use xlink:href=\"#DejaVuSans-20\" x=\"490.771484\"/>\n       <use xlink:href=\"#DejaVuSans-28\" x=\"522.558594\"/>\n       <use xlink:href=\"#DejaVuSans-74\" x=\"561.572266\"/>\n       <use xlink:href=\"#DejaVuSans-29\" x=\"600.78125\"/>\n      </g>\n     </g>\n    </g>\n    <g id=\"ytick_16\">\n     <g id=\"line2d_24\">\n      <g>\n       <use xlink:href=\"#m7dcb6f23dc\" x=\"120.303125\" y=\"113.556522\" style=\"stroke: #000000; stroke-width: 0.8\"/>\n      </g>\n     </g>\n     <g id=\"text_25\">\n      <!-- HFC-125 (t) -->\n      <g transform=\"translate(55.451563 117.35574) scale(0.1 -0.1)\">\n       <use xlink:href=\"#DejaVuSans-48\"/>\n       <use xlink:href=\"#DejaVuSans-46\" x=\"75.195312\"/>\n       <use xlink:href=\"#DejaVuSans-43\" x=\"132.714844\"/>\n       <use xlink:href=\"#DejaVuSans-2d\" x=\"202.539062\"/>\n       <use xlink:href=\"#DejaVuSans-31\" x=\"238.623047\"/>\n       <use xlink:href=\"#DejaVuSans-32\" x=\"302.246094\"/>\n       <use xlink:href=\"#DejaVuSans-35\" x=\"365.869141\"/>\n       <use xlink:href=\"#DejaVuSans-20\" x=\"429.492188\"/>\n       <use xlink:href=\"#DejaVuSans-28\" x=\"461.279297\"/>\n       <use xlink:href=\"#DejaVuSans-74\" x=\"500.292969\"/>\n       <use xlink:href=\"#DejaVuSans-29\" x=\"539.501953\"/>\n      </g>\n     </g>\n    </g>\n    <g id=\"ytick_17\">\n     <g id=\"line2d_25\">\n      <g>\n       <use xlink:href=\"#m7dcb6f23dc\" x=\"120.303125\" y=\"99.375652\" style=\"stroke: #000000; stroke-width: 0.8\"/>\n      </g>\n     </g>\n     <g id=\"text_26\">\n      <!-- HFC-143a (t) -->\n      <g transform=\"translate(49.323438 103.174871) scale(0.1 -0.1)\">\n       <use xlink:href=\"#DejaVuSans-48\"/>\n       <use xlink:href=\"#DejaVuSans-46\" x=\"75.195312\"/>\n       <use xlink:href=\"#DejaVuSans-43\" x=\"132.714844\"/>\n       <use xlink:href=\"#DejaVuSans-2d\" x=\"202.539062\"/>\n       <use xlink:href=\"#DejaVuSans-31\" x=\"238.623047\"/>\n       <use xlink:href=\"#DejaVuSans-34\" x=\"302.246094\"/>\n       <use xlink:href=\"#DejaVuSans-33\" x=\"365.869141\"/>\n       <use xlink:href=\"#DejaVuSans-61\" x=\"429.492188\"/>\n       <use xlink:href=\"#DejaVuSans-20\" x=\"490.771484\"/>\n       <use xlink:href=\"#DejaVuSans-28\" x=\"522.558594\"/>\n       <use xlink:href=\"#DejaVuSans-74\" x=\"561.572266\"/>\n       <use xlink:href=\"#DejaVuSans-29\" x=\"600.78125\"/>\n      </g>\n     </g>\n    </g>\n    <g id=\"ytick_18\">\n     <g id=\"line2d_26\">\n      <g>\n       <use xlink:href=\"#m7dcb6f23dc\" x=\"120.303125\" y=\"85.194783\" style=\"stroke: #000000; stroke-width: 0.8\"/>\n      </g>\n     </g>\n     <g id=\"text_27\">\n      <!-- CF4 (t) -->\n      <g transform=\"translate(79.304688 88.994001) scale(0.1 -0.1)\">\n       <use xlink:href=\"#DejaVuSans-43\"/>\n       <use xlink:href=\"#DejaVuSans-46\" x=\"69.824219\"/>\n       <use xlink:href=\"#DejaVuSans-34\" x=\"127.34375\"/>\n       <use xlink:href=\"#DejaVuSans-20\" x=\"190.966797\"/>\n       <use xlink:href=\"#DejaVuSans-28\" x=\"222.753906\"/>\n       <use xlink:href=\"#DejaVuSans-74\" x=\"261.767578\"/>\n       <use xlink:href=\"#DejaVuSans-29\" x=\"300.976562\"/>\n      </g>\n     </g>\n    </g>\n    <g id=\"ytick_19\">\n     <g id=\"line2d_27\">\n      <g>\n       <use xlink:href=\"#m7dcb6f23dc\" x=\"120.303125\" y=\"71.013913\" style=\"stroke: #000000; stroke-width: 0.8\"/>\n      </g>\n     </g>\n     <g id=\"text_28\">\n      <!-- HFC-32 (t) -->\n      <g transform=\"translate(61.814063 74.813132) scale(0.1 -0.1)\">\n       <use xlink:href=\"#DejaVuSans-48\"/>\n       <use xlink:href=\"#DejaVuSans-46\" x=\"75.195312\"/>\n       <use xlink:href=\"#DejaVuSans-43\" x=\"132.714844\"/>\n       <use xlink:href=\"#DejaVuSans-2d\" x=\"202.539062\"/>\n       <use xlink:href=\"#DejaVuSans-33\" x=\"238.623047\"/>\n       <use xlink:href=\"#DejaVuSans-32\" x=\"302.246094\"/>\n       <use xlink:href=\"#DejaVuSans-20\" x=\"365.869141\"/>\n       <use xlink:href=\"#DejaVuSans-28\" x=\"397.65625\"/>\n       <use xlink:href=\"#DejaVuSans-74\" x=\"436.669922\"/>\n       <use xlink:href=\"#DejaVuSans-29\" x=\"475.878906\"/>\n      </g>\n     </g>\n    </g>\n    <g id=\"ytick_20\">\n     <g id=\"line2d_28\">\n      <g>\n       <use xlink:href=\"#m7dcb6f23dc\" x=\"120.303125\" y=\"56.833043\" style=\"stroke: #000000; stroke-width: 0.8\"/>\n      </g>\n     </g>\n     <g id=\"text_29\">\n      <!-- HFC-23 (t) -->\n      <g transform=\"translate(61.814063 60.632262) scale(0.1 -0.1)\">\n       <use xlink:href=\"#DejaVuSans-48\"/>\n       <use xlink:href=\"#DejaVuSans-46\" x=\"75.195312\"/>\n       <use xlink:href=\"#DejaVuSans-43\" x=\"132.714844\"/>\n       <use xlink:href=\"#DejaVuSans-2d\" x=\"202.539062\"/>\n       <use xlink:href=\"#DejaVuSans-32\" x=\"238.623047\"/>\n       <use xlink:href=\"#DejaVuSans-33\" x=\"302.246094\"/>\n       <use xlink:href=\"#DejaVuSans-20\" x=\"365.869141\"/>\n       <use xlink:href=\"#DejaVuSans-28\" x=\"397.65625\"/>\n       <use xlink:href=\"#DejaVuSans-74\" x=\"436.669922\"/>\n       <use xlink:href=\"#DejaVuSans-29\" x=\"475.878906\"/>\n      </g>\n     </g>\n    </g>\n    <g id=\"ytick_21\">\n     <g id=\"line2d_29\">\n      <g>\n       <use xlink:href=\"#m7dcb6f23dc\" x=\"120.303125\" y=\"42.652174\" style=\"stroke: #000000; stroke-width: 0.8\"/>\n      </g>\n     </g>\n     <g id=\"text_30\">\n      <!-- C2F6 (t) -->\n      <g transform=\"translate(72.942188 46.451393) scale(0.1 -0.1)\">\n       <use xlink:href=\"#DejaVuSans-43\"/>\n       <use xlink:href=\"#DejaVuSans-32\" x=\"69.824219\"/>\n       <use xlink:href=\"#DejaVuSans-46\" x=\"133.447266\"/>\n       <use xlink:href=\"#DejaVuSans-36\" x=\"190.966797\"/>\n       <use xlink:href=\"#DejaVuSans-20\" x=\"254.589844\"/>\n       <use xlink:href=\"#DejaVuSans-28\" x=\"286.376953\"/>\n       <use xlink:href=\"#DejaVuSans-74\" x=\"325.390625\"/>\n       <use xlink:href=\"#DejaVuSans-29\" x=\"364.599609\"/>\n      </g>\n     </g>\n    </g>\n    <g id=\"ytick_22\">\n     <g id=\"line2d_30\">\n      <g>\n       <use xlink:href=\"#m7dcb6f23dc\" x=\"120.303125\" y=\"28.471304\" style=\"stroke: #000000; stroke-width: 0.8\"/>\n      </g>\n     </g>\n     <g id=\"text_31\">\n      <!-- HFC-152a (t) -->\n      <g transform=\"translate(49.323438 32.270523) scale(0.1 -0.1)\">\n       <use xlink:href=\"#DejaVuSans-48\"/>\n       <use xlink:href=\"#DejaVuSans-46\" x=\"75.195312\"/>\n       <use xlink:href=\"#DejaVuSans-43\" x=\"132.714844\"/>\n       <use xlink:href=\"#DejaVuSans-2d\" x=\"202.539062\"/>\n       <use xlink:href=\"#DejaVuSans-31\" x=\"238.623047\"/>\n       <use xlink:href=\"#DejaVuSans-35\" x=\"302.246094\"/>\n       <use xlink:href=\"#DejaVuSans-32\" x=\"365.869141\"/>\n       <use xlink:href=\"#DejaVuSans-61\" x=\"429.492188\"/>\n       <use xlink:href=\"#DejaVuSans-20\" x=\"490.771484\"/>\n       <use xlink:href=\"#DejaVuSans-28\" x=\"522.558594\"/>\n       <use xlink:href=\"#DejaVuSans-74\" x=\"561.572266\"/>\n       <use xlink:href=\"#DejaVuSans-29\" x=\"600.78125\"/>\n      </g>\n     </g>\n    </g>\n    <g id=\"ytick_23\">\n     <g id=\"line2d_31\">\n      <g>\n       <use xlink:href=\"#m7dcb6f23dc\" x=\"120.303125\" y=\"14.290435\" style=\"stroke: #000000; stroke-width: 0.8\"/>\n      </g>\n     </g>\n     <g id=\"text_32\">\n      <!-- SF6 (t) -->\n      <g transform=\"translate(79.939063 18.089654) scale(0.1 -0.1)\">\n       <defs>\n        <path id=\"DejaVuSans-53\" d=\"M 3425 4513 \nL 3425 3897 \nQ 3066 4069 2747 4153 \nQ 2428 4238 2131 4238 \nQ 1616 4238 1336 4038 \nQ 1056 3838 1056 3469 \nQ 1056 3159 1242 3001 \nQ 1428 2844 1947 2747 \nL 2328 2669 \nQ 3034 2534 3370 2195 \nQ 3706 1856 3706 1288 \nQ 3706 609 3251 259 \nQ 2797 -91 1919 -91 \nQ 1588 -91 1214 -16 \nQ 841 59 441 206 \nL 441 856 \nQ 825 641 1194 531 \nQ 1563 422 1919 422 \nQ 2459 422 2753 634 \nQ 3047 847 3047 1241 \nQ 3047 1584 2836 1778 \nQ 2625 1972 2144 2069 \nL 1759 2144 \nQ 1053 2284 737 2584 \nQ 422 2884 422 3419 \nQ 422 4038 858 4394 \nQ 1294 4750 2059 4750 \nQ 2388 4750 2728 4690 \nQ 3069 4631 3425 4513 \nz\n\" transform=\"scale(0.015625)\"/>\n       </defs>\n       <use xlink:href=\"#DejaVuSans-53\"/>\n       <use xlink:href=\"#DejaVuSans-46\" x=\"63.476562\"/>\n       <use xlink:href=\"#DejaVuSans-36\" x=\"120.996094\"/>\n       <use xlink:href=\"#DejaVuSans-20\" x=\"184.619141\"/>\n       <use xlink:href=\"#DejaVuSans-28\" x=\"216.40625\"/>\n       <use xlink:href=\"#DejaVuSans-74\" x=\"255.419922\"/>\n       <use xlink:href=\"#DejaVuSans-29\" x=\"294.628906\"/>\n      </g>\n     </g>\n    </g>\n    <g id=\"text_33\">\n     <!-- Gás -->\n     <g transform=\"translate(14.798438 179.822969) rotate(-90) scale(0.1 -0.1)\">\n      <defs>\n       <path id=\"DejaVuSans-e1\" d=\"M 2194 1759 \nQ 1497 1759 1228 1600 \nQ 959 1441 959 1056 \nQ 959 750 1161 570 \nQ 1363 391 1709 391 \nQ 2188 391 2477 730 \nQ 2766 1069 2766 1631 \nL 2766 1759 \nL 2194 1759 \nz\nM 3341 1997 \nL 3341 0 \nL 2766 0 \nL 2766 531 \nQ 2569 213 2275 61 \nQ 1981 -91 1556 -91 \nQ 1019 -91 701 211 \nQ 384 513 384 1019 \nQ 384 1609 779 1909 \nQ 1175 2209 1959 2209 \nL 2766 2209 \nL 2766 2266 \nQ 2766 2663 2505 2880 \nQ 2244 3097 1772 3097 \nQ 1472 3097 1187 3025 \nQ 903 2953 641 2809 \nL 641 3341 \nQ 956 3463 1253 3523 \nQ 1550 3584 1831 3584 \nQ 2591 3584 2966 3190 \nQ 3341 2797 3341 1997 \nz\nM 2290 5119 \nL 2912 5119 \nL 1894 3944 \nL 1415 3944 \nL 2290 5119 \nz\n\" transform=\"scale(0.015625)\"/>\n       <path id=\"DejaVuSans-73\" d=\"M 2834 3397 \nL 2834 2853 \nQ 2591 2978 2328 3040 \nQ 2066 3103 1784 3103 \nQ 1356 3103 1142 2972 \nQ 928 2841 928 2578 \nQ 928 2378 1081 2264 \nQ 1234 2150 1697 2047 \nL 1894 2003 \nQ 2506 1872 2764 1633 \nQ 3022 1394 3022 966 \nQ 3022 478 2636 193 \nQ 2250 -91 1575 -91 \nQ 1294 -91 989 -36 \nQ 684 19 347 128 \nL 347 722 \nQ 666 556 975 473 \nQ 1284 391 1588 391 \nQ 1994 391 2212 530 \nQ 2431 669 2431 922 \nQ 2431 1156 2273 1281 \nQ 2116 1406 1581 1522 \nL 1381 1569 \nQ 847 1681 609 1914 \nQ 372 2147 372 2553 \nQ 372 3047 722 3315 \nQ 1072 3584 1716 3584 \nQ 2034 3584 2315 3537 \nQ 2597 3491 2834 3397 \nz\n\" transform=\"scale(0.015625)\"/>\n      </defs>\n      <use xlink:href=\"#DejaVuSans-47\"/>\n      <use xlink:href=\"#DejaVuSans-e1\" x=\"77.490234\"/>\n      <use xlink:href=\"#DejaVuSans-73\" x=\"138.769531\"/>\n     </g>\n    </g>\n   </g>\n   <g id=\"patch_26\">\n    <path d=\"M 120.303125 333.36 \nL 120.303125 7.2 \n\" style=\"fill: none; stroke: #000000; stroke-width: 0.8; stroke-linejoin: miter; stroke-linecap: square\"/>\n   </g>\n   <g id=\"patch_27\">\n    <path d=\"M 678.303125 333.36 \nL 678.303125 7.2 \n\" style=\"fill: none; stroke: #000000; stroke-width: 0.8; stroke-linejoin: miter; stroke-linecap: square\"/>\n   </g>\n   <g id=\"patch_28\">\n    <path d=\"M 120.303125 333.36 \nL 678.303125 333.36 \n\" style=\"fill: none; stroke: #000000; stroke-width: 0.8; stroke-linejoin: miter; stroke-linecap: square\"/>\n   </g>\n   <g id=\"patch_29\">\n    <path d=\"M 120.303125 7.2 \nL 678.303125 7.2 \n\" style=\"fill: none; stroke: #000000; stroke-width: 0.8; stroke-linejoin: miter; stroke-linecap: square\"/>\n   </g>\n   <g id=\"legend_1\">\n    <g id=\"patch_30\">\n     <path d=\"M 597.8 29.878125 \nL 671.303125 29.878125 \nQ 673.303125 29.878125 673.303125 27.878125 \nL 673.303125 14.2 \nQ 673.303125 12.2 671.303125 12.2 \nL 597.8 12.2 \nQ 595.8 12.2 595.8 14.2 \nL 595.8 27.878125 \nQ 595.8 29.878125 597.8 29.878125 \nz\n\" style=\"fill: #ffffff; opacity: 0.8; stroke: #cccccc; stroke-linejoin: miter\"/>\n    </g>\n    <g id=\"patch_31\">\n     <path d=\"M 599.8 23.798437 \nL 619.8 23.798437 \nL 619.8 16.798437 \nL 599.8 16.798437 \nz\n\" style=\"fill: #0000ff\"/>\n    </g>\n    <g id=\"text_34\">\n     <!-- Emissão -->\n     <g transform=\"translate(627.8 23.798437) scale(0.1 -0.1)\">\n      <defs>\n       <path id=\"DejaVuSans-45\" d=\"M 628 4666 \nL 3578 4666 \nL 3578 4134 \nL 1259 4134 \nL 1259 2753 \nL 3481 2753 \nL 3481 2222 \nL 1259 2222 \nL 1259 531 \nL 3634 531 \nL 3634 0 \nL 628 0 \nL 628 4666 \nz\n\" transform=\"scale(0.015625)\"/>\n       <path id=\"DejaVuSans-6d\" d=\"M 3328 2828 \nQ 3544 3216 3844 3400 \nQ 4144 3584 4550 3584 \nQ 5097 3584 5394 3201 \nQ 5691 2819 5691 2113 \nL 5691 0 \nL 5113 0 \nL 5113 2094 \nQ 5113 2597 4934 2840 \nQ 4756 3084 4391 3084 \nQ 3944 3084 3684 2787 \nQ 3425 2491 3425 1978 \nL 3425 0 \nL 2847 0 \nL 2847 2094 \nQ 2847 2600 2669 2842 \nQ 2491 3084 2119 3084 \nQ 1678 3084 1418 2786 \nQ 1159 2488 1159 1978 \nL 1159 0 \nL 581 0 \nL 581 3500 \nL 1159 3500 \nL 1159 2956 \nQ 1356 3278 1631 3431 \nQ 1906 3584 2284 3584 \nQ 2666 3584 2933 3390 \nQ 3200 3197 3328 2828 \nz\n\" transform=\"scale(0.015625)\"/>\n       <path id=\"DejaVuSans-69\" d=\"M 603 3500 \nL 1178 3500 \nL 1178 0 \nL 603 0 \nL 603 3500 \nz\nM 603 4863 \nL 1178 4863 \nL 1178 4134 \nL 603 4134 \nL 603 4863 \nz\n\" transform=\"scale(0.015625)\"/>\n       <path id=\"DejaVuSans-e3\" d=\"M 2194 1759 \nQ 1497 1759 1228 1600 \nQ 959 1441 959 1056 \nQ 959 750 1161 570 \nQ 1363 391 1709 391 \nQ 2188 391 2477 730 \nQ 2766 1069 2766 1631 \nL 2766 1759 \nL 2194 1759 \nz\nM 3341 1997 \nL 3341 0 \nL 2766 0 \nL 2766 531 \nQ 2569 213 2275 61 \nQ 1981 -91 1556 -91 \nQ 1019 -91 701 211 \nQ 384 513 384 1019 \nQ 384 1609 779 1909 \nQ 1175 2209 1959 2209 \nL 2766 2209 \nL 2766 2266 \nQ 2766 2663 2505 2880 \nQ 2244 3097 1772 3097 \nQ 1472 3097 1187 3025 \nQ 903 2953 641 2809 \nL 641 3341 \nQ 956 3463 1253 3523 \nQ 1550 3584 1831 3584 \nQ 2591 3584 2966 3190 \nQ 3341 2797 3341 1997 \nz\nM 1844 4281 \nL 1665 4453 \nQ 1597 4516 1545 4545 \nQ 1494 4575 1453 4575 \nQ 1334 4575 1278 4461 \nQ 1222 4347 1215 4091 \nL 825 4091 \nQ 831 4513 990 4742 \nQ 1150 4972 1434 4972 \nQ 1553 4972 1653 4928 \nQ 1753 4884 1869 4781 \nL 2047 4609 \nQ 2115 4547 2167 4517 \nQ 2219 4488 2259 4488 \nQ 2378 4488 2434 4602 \nQ 2490 4716 2497 4972 \nL 2887 4972 \nQ 2881 4550 2721 4320 \nQ 2562 4091 2278 4091 \nQ 2159 4091 2059 4134 \nQ 1959 4178 1844 4281 \nz\n\" transform=\"scale(0.015625)\"/>\n       <path id=\"DejaVuSans-6f\" d=\"M 1959 3097 \nQ 1497 3097 1228 2736 \nQ 959 2375 959 1747 \nQ 959 1119 1226 758 \nQ 1494 397 1959 397 \nQ 2419 397 2687 759 \nQ 2956 1122 2956 1747 \nQ 2956 2369 2687 2733 \nQ 2419 3097 1959 3097 \nz\nM 1959 3584 \nQ 2709 3584 3137 3096 \nQ 3566 2609 3566 1747 \nQ 3566 888 3137 398 \nQ 2709 -91 1959 -91 \nQ 1206 -91 779 398 \nQ 353 888 353 1747 \nQ 353 2609 779 3096 \nQ 1206 3584 1959 3584 \nz\n\" transform=\"scale(0.015625)\"/>\n      </defs>\n      <use xlink:href=\"#DejaVuSans-45\"/>\n      <use xlink:href=\"#DejaVuSans-6d\" x=\"63.183594\"/>\n      <use xlink:href=\"#DejaVuSans-69\" x=\"160.595703\"/>\n      <use xlink:href=\"#DejaVuSans-73\" x=\"188.378906\"/>\n      <use xlink:href=\"#DejaVuSans-73\" x=\"240.478516\"/>\n      <use xlink:href=\"#DejaVuSans-e3\" x=\"292.578125\"/>\n      <use xlink:href=\"#DejaVuSans-6f\" x=\"353.857422\"/>\n     </g>\n    </g>\n   </g>\n  </g>\n </g>\n <defs>\n  <clipPath id=\"pbe8e3e5b57\">\n   <rect x=\"120.303125\" y=\"7.2\" width=\"558\" height=\"326.16\"/>\n  </clipPath>\n </defs>\n</svg>\n",
      "image/png": "[encoded data removed]"
     },
     "metadata": {
      "needs_background": "light"
     }
    }
   ],
   "source": [
    "emissao_por_gas.plot(kind='barh', color='blue', figsize=(10,6));"
   ]
  },
  {
   "cell_type": "code",
   "execution_count": 26,
   "metadata": {},
   "outputs": [
    {
     "output_type": "execute_result",
     "data": {
      "text/plain": [
       "                       Emissão\n",
       "Gás                           \n",
       "CO2e (t) GWP-AR5  7.048576e+10\n",
       "CO2e (t) GWP-AR6  6.999228e+10\n",
       "CO2e (t) GWP-AR4  6.882629e+10\n",
       "CO2e (t) GWP-AR2  6.584700e+10\n",
       "CO2e (t) GTP-AR2  5.193173e+10\n",
       "CO2e (t) GTP-AR4  5.193173e+10\n",
       "CO2e (t) GTP-AR6  5.094025e+10\n",
       "CO2e (t) GTP-AR5  5.027836e+10\n",
       "CO2 (t)           4.153325e+10"
      ],
      "text/html": "<div>\n<style scoped>\n    .dataframe tbody tr th:only-of-type {\n        vertical-align: middle;\n    }\n\n    .dataframe tbody tr th {\n        vertical-align: top;\n    }\n\n    .dataframe thead th {\n        text-align: right;\n    }\n</style>\n<table border=\"1\" class=\"dataframe\">\n  <thead>\n    <tr style=\"text-align: right;\">\n      <th></th>\n      <th>Emissão</th>\n    </tr>\n    <tr>\n      <th>Gás</th>\n      <th></th>\n    </tr>\n  </thead>\n  <tbody>\n    <tr>\n      <th>CO2e (t) GWP-AR5</th>\n      <td>7.048576e+10</td>\n    </tr>\n    <tr>\n      <th>CO2e (t) GWP-AR6</th>\n      <td>6.999228e+10</td>\n    </tr>\n    <tr>\n      <th>CO2e (t) GWP-AR4</th>\n      <td>6.882629e+10</td>\n    </tr>\n    <tr>\n      <th>CO2e (t) GWP-AR2</th>\n      <td>6.584700e+10</td>\n    </tr>\n    <tr>\n      <th>CO2e (t) GTP-AR2</th>\n      <td>5.193173e+10</td>\n    </tr>\n    <tr>\n      <th>CO2e (t) GTP-AR4</th>\n      <td>5.193173e+10</td>\n    </tr>\n    <tr>\n      <th>CO2e (t) GTP-AR6</th>\n      <td>5.094025e+10</td>\n    </tr>\n    <tr>\n      <th>CO2e (t) GTP-AR5</th>\n      <td>5.027836e+10</td>\n    </tr>\n    <tr>\n      <th>CO2 (t)</th>\n      <td>4.153325e+10</td>\n    </tr>\n  </tbody>\n</table>\n</div>"
     },
     "metadata": {},
     "execution_count": 26
    }
   ],
   "source": [
    "emissao_por_gas.iloc[0:9]"
   ]
  },
  {
   "cell_type": "code",
   "execution_count": 28,
   "metadata": {},
   "outputs": [
    {
     "output_type": "stream",
     "name": "stdout",
     "text": [
      "A emissão de CO2 corresponde a 99.68 % de emissão total de gases estufa no Brasil de 1970 a 2021.\n"
     ]
    }
   ],
   "source": [
    "print(f'A emissão de CO2 corresponde a {float((emissao_por_gas.iloc[0:9].sum()/emissao_por_gas.sum()).iloc[0])*100:.2f} % de emissão total de gases estufa no Brasil de 1970 a 2021.')"
   ]
  },
  {
   "cell_type": "code",
   "execution_count": 30,
   "metadata": {},
   "outputs": [
    {
     "output_type": "execute_result",
     "data": {
      "text/plain": [
       "{'Agropecuária': [1137, 1138, 1139, 1140, 1141, 1142, 1143, 1144, 1145, 1146, 1147, 1148, 1149, 1150, 1151, 1152, 1153, 1154, 1155, 1156, 1157, 1158, 1159, 1160, 1161, 1162, 1163, 1164, 1165, 1166, 1167, 1168, 1169, 1170, 1171, 1172, 1173, 1174, 1175, 1176, 1177, 1178, 1179, 1180, 1181, 1182, 1183, 1184, 1185, 1186, 1187, 1188, 1189, 1190, 1191, 1192, 1193, 1194, 1195, 1196, 1197, 1198, 1199, 1200, 1201, 1202, 1203, 1204, 1205, 1206, 1207, 1208, 1209, 1210, 1211, 1212, 1213, 1214, 1215, 1216, 1217, 1218, 1219, 1220, 1221, 1222, 1223, 1224, 1225, 1226, 1227, 1228, 1229, 1230, 1231, 1232, 1233, 1234, 1235, 1236, ...], 'Energia': [24735, 24736, 24737, 24738, 24739, 24740, 24741, 24742, 24743, 24744, 24745, 24746, 24747, 24748, 24749, 24750, 24751, 24752, 24753, 24754, 24755, 24756, 24757, 24758, 24759, 24760, 24761, 24762, 24763, 24764, 24765, 24766, 24767, 24768, 24769, 24770, 24771, 24772, 24773, 24774, 24775, 24776, 24777, 24778, 24779, 24780, 24781, 24782, 24783, 24784, 24785, 24786, 24787, 24788, 24789, 24790, 24791, 24792, 24793, 24794, 24795, 24796, 24797, 24798, 24799, 24800, 24801, 24802, 24803, 24804, 24805, 24806, 24807, 24808, 24809, 24810, 24811, 24812, 24813, 24814, 24815, 24816, 24817, 24818, 24819, 24820, 24821, 24822, 24823, 24824, 24825, 24826, 24827, 24828, 24829, 24830, 24831, 24832, 24833, 24834, ...], 'Mudança de Uso da Terra e Floresta': [81260, 81261, 81262, 81263, 81264, 81265, 81266, 81267, 81268, 81269, 81270, 81271, 81272, 81273, 81274, 81275, 81276, 81277, 81278, 81279, 81280, 81281, 81282, 81283, 81284, 81285, 81286, 81287, 81288, 81289, 81290, 81291, 81292, 81293, 81294, 81295, 81296, 81297, 81298, 81299, 81300, 81301, 81302, 81303, 81304, 81305, 81306, 81307, 81308, 81309, 81310, 81311, 81312, 81313, 81314, 81315, 81316, 81317, 81318, 81319, 81320, 81321, 81322, 81323, 81324, 81325, 81326, 81327, 81328, 81329, 81330, 81331, 81332, 81333, 81334, 81335, 81336, 81337, 81338, 81339, 81340, 81341, 81342, 81343, 81344, 81345, 81346, 81347, 81348, 81349, 81350, 81351, 81352, 81353, 81354, 81355, 81356, 81357, 81358, 81359, ...], 'Processos Industriais': [0, 1, 2, 3, 4, 5, 6, 7, 8, 9, 10, 11, 12, 13, 14, 15, 16, 17, 18, 19, 20, 21, 22, 23, 24, 25, 26, 27, 28, 29, 30, 31, 32, 33, 34, 35, 36, 37, 38, 39, 40, 41, 42, 43, 44, 45, 46, 47, 48, 49, 50, 51, 52, 53, 54, 55, 56, 57, 58, 59, 60, 61, 62, 63, 64, 65, 66, 67, 68, 69, 70, 71, 72, 73, 74, 75, 76, 77, 78, 79, 80, 81, 82, 83, 84, 85, 86, 87, 88, 89, 90, 91, 92, 93, 94, 95, 96, 97, 98, 99, ...], 'Resíduos ': [77444, 77445, 77446, 77447, 77448, 77449, 77450, 77451, 77452, 77453, 77454, 77455, 77456, 77457, 77458, 77459, 77460, 77461, 77462, 77463, 77464, 77465, 77466, 77467, 77468, 77469, 77470, 77471, 77472, 77473, 77474, 77475, 77476, 77477, 77478, 77479, 77480, 77481, 77482, 77483, 77484, 77485, 77486, 77487, 77488, 77489, 77490, 77491, 77492, 77493, 77494, 77495, 77496, 77497, 77498, 77499, 77500, 77501, 77502, 77503, 77504, 77505, 77506, 77507, 77508, 77509, 77510, 77511, 77512, 77513, 77514, 77515, 77516, 77517, 77518, 77519, 77520, 77521, 77522, 77523, 77524, 77525, 77526, 77527, 77528, 77529, 77530, 77531, 77532, 77533, 77534, 77535, 77536, 77537, 77538, 77539, 77540, 77541, 77542, 77543, ...]}"
      ]
     },
     "metadata": {},
     "execution_count": 30
    }
   ],
   "source": [
    "'''1) Faça um agrupamento de dados com base na coluna \"Nível 1 - Setor\" para visualizar o dicionário contendo as chaves de grupos formados e a lista de índices de cada grupo.\n",
    "\n",
    "2) Faça um agrupamento de dados com base na coluna \"Nível 1 - Setor\" e localize os dados do grupo \"Agropecuária\".\n",
    "\n",
    "3) Faça um agrupamento de dados com base na coluna \"Nível 1 - Setor\" para identificar a média de emissão de cada atividade econômica no ano de 2021.\n",
    "\n",
    "4) Faça um agrupamento de dados com base na coluna \"Nível 1 - Setor\" para identificar a soma de emissão de cada atividade econômica. Ordene os dados da maior para menor emissão.'''\n",
    "\n",
    "# 1\n",
    "emissoes_por_ano.groupby('Nível 1 - Setor').groups"
   ]
  },
  {
   "cell_type": "code",
   "execution_count": 31,
   "metadata": {},
   "outputs": [
    {
     "output_type": "execute_result",
     "data": {
      "text/plain": [
       "        Nível 1 - Setor           Nível 2  Nível 3  \\\n",
       "1137       Agropecuária  Cultivo de Arroz  Diretas   \n",
       "1138       Agropecuária  Cultivo de Arroz  Diretas   \n",
       "1139       Agropecuária  Cultivo de Arroz  Diretas   \n",
       "1140       Agropecuária  Cultivo de Arroz  Diretas   \n",
       "1141       Agropecuária  Cultivo de Arroz  Diretas   \n",
       "...                 ...               ...      ...   \n",
       "5293642    Agropecuária   Solos Manejados  Diretas   \n",
       "5293643    Agropecuária   Solos Manejados  Diretas   \n",
       "5293644    Agropecuária   Solos Manejados  Diretas   \n",
       "5293645    Agropecuária   Solos Manejados  Diretas   \n",
       "5293646    Agropecuária   Solos Manejados  Diretas   \n",
       "\n",
       "                                          Nível 4  Nível 5  \\\n",
       "1137                                       Outros  Vegetal   \n",
       "1138                                       Outros  Vegetal   \n",
       "1139                                       Outros  Vegetal   \n",
       "1140                                       Outros  Vegetal   \n",
       "1141                                       Outros  Vegetal   \n",
       "...                                           ...      ...   \n",
       "5293642  Variação dos Estoques de Carbono no Solo  Vegetal   \n",
       "5293643  Variação dos Estoques de Carbono no Solo  Vegetal   \n",
       "5293644  Variação dos Estoques de Carbono no Solo  Vegetal   \n",
       "5293645  Variação dos Estoques de Carbono no Solo  Vegetal   \n",
       "5293646  Variação dos Estoques de Carbono no Solo  Vegetal   \n",
       "\n",
       "                                                Nível 6               Gás  \\\n",
       "1137                                              Arroz           CH4 (t)   \n",
       "1138                                              Arroz           CH4 (t)   \n",
       "1139                                              Arroz           CH4 (t)   \n",
       "1140                                              Arroz           CH4 (t)   \n",
       "1141                                              Arroz           CH4 (t)   \n",
       "...                                                 ...               ...   \n",
       "5293642  Lavouras Cultivadas sob Sistema Plantio Direto  CO2e (t) GTP-AR6   \n",
       "5293643  Lavouras Cultivadas sob Sistema Plantio Direto  CO2e (t) GTP-AR6   \n",
       "5293644  Lavouras Cultivadas sob Sistema Plantio Direto  CO2e (t) GTP-AR6   \n",
       "5293645  Lavouras Cultivadas sob Sistema Plantio Direto  CO2e (t) GTP-AR6   \n",
       "5293646  Lavouras Cultivadas sob Sistema Plantio Direto  CO2e (t) GTP-AR6   \n",
       "\n",
       "        Estado Atividade Econômica       Produto   Ano       Emissão  \n",
       "1137        AC                 AGR  ALIM_BEBIDAS  1970  0.000000e+00  \n",
       "1138        AL                 AGR  ALIM_BEBIDAS  1970  2.050446e+03  \n",
       "1139        AM                 AGR  ALIM_BEBIDAS  1970  0.000000e+00  \n",
       "1140        AP                 AGR  ALIM_BEBIDAS  1970  0.000000e+00  \n",
       "1141        BA                 AGR  ALIM_BEBIDAS  1970  4.669347e+02  \n",
       "...        ...                 ...           ...   ...           ...  \n",
       "5293642     RS                 AGR  ALIM_BEBIDAS  2021 -1.236554e+07  \n",
       "5293643     MS                 AGR  ALIM_BEBIDAS  2021 -4.807660e+06  \n",
       "5293644     MT                 AGR  ALIM_BEBIDAS  2021 -1.662099e+07  \n",
       "5293645     GO                 AGR  ALIM_BEBIDAS  2021 -6.411860e+06  \n",
       "5293646     DF                 AGR  ALIM_BEBIDAS  2021 -1.564451e+05  \n",
       "\n",
       "[1227096 rows x 12 columns]"
      ],
      "text/html": "<div>\n<style scoped>\n    .dataframe tbody tr th:only-of-type {\n        vertical-align: middle;\n    }\n\n    .dataframe tbody tr th {\n        vertical-align: top;\n    }\n\n    .dataframe thead th {\n        text-align: right;\n    }\n</style>\n<table border=\"1\" class=\"dataframe\">\n  <thead>\n    <tr style=\"text-align: right;\">\n      <th></th>\n      <th>Nível 1 - Setor</th>\n      <th>Nível 2</th>\n      <th>Nível 3</th>\n      <th>Nível 4</th>\n      <th>Nível 5</th>\n      <th>Nível 6</th>\n      <th>Gás</th>\n      <th>Estado</th>\n      <th>Atividade Econômica</th>\n      <th>Produto</th>\n      <th>Ano</th>\n      <th>Emissão</th>\n    </tr>\n  </thead>\n  <tbody>\n    <tr>\n      <th>1137</th>\n      <td>Agropecuária</td>\n      <td>Cultivo de Arroz</td>\n      <td>Diretas</td>\n      <td>Outros</td>\n      <td>Vegetal</td>\n      <td>Arroz</td>\n      <td>CH4 (t)</td>\n      <td>AC</td>\n      <td>AGR</td>\n      <td>ALIM_BEBIDAS</td>\n      <td>1970</td>\n      <td>0.000000e+00</td>\n    </tr>\n    <tr>\n      <th>1138</th>\n      <td>Agropecuária</td>\n      <td>Cultivo de Arroz</td>\n      <td>Diretas</td>\n      <td>Outros</td>\n      <td>Vegetal</td>\n      <td>Arroz</td>\n      <td>CH4 (t)</td>\n      <td>AL</td>\n      <td>AGR</td>\n      <td>ALIM_BEBIDAS</td>\n      <td>1970</td>\n      <td>2.050446e+03</td>\n    </tr>\n    <tr>\n      <th>1139</th>\n      <td>Agropecuária</td>\n      <td>Cultivo de Arroz</td>\n      <td>Diretas</td>\n      <td>Outros</td>\n      <td>Vegetal</td>\n      <td>Arroz</td>\n      <td>CH4 (t)</td>\n      <td>AM</td>\n      <td>AGR</td>\n      <td>ALIM_BEBIDAS</td>\n      <td>1970</td>\n      <td>0.000000e+00</td>\n    </tr>\n    <tr>\n      <th>1140</th>\n      <td>Agropecuária</td>\n      <td>Cultivo de Arroz</td>\n      <td>Diretas</td>\n      <td>Outros</td>\n      <td>Vegetal</td>\n      <td>Arroz</td>\n      <td>CH4 (t)</td>\n      <td>AP</td>\n      <td>AGR</td>\n      <td>ALIM_BEBIDAS</td>\n      <td>1970</td>\n      <td>0.000000e+00</td>\n    </tr>\n    <tr>\n      <th>1141</th>\n      <td>Agropecuária</td>\n      <td>Cultivo de Arroz</td>\n      <td>Diretas</td>\n      <td>Outros</td>\n      <td>Vegetal</td>\n      <td>Arroz</td>\n      <td>CH4 (t)</td>\n      <td>BA</td>\n      <td>AGR</td>\n      <td>ALIM_BEBIDAS</td>\n      <td>1970</td>\n      <td>4.669347e+02</td>\n    </tr>\n    <tr>\n      <th>...</th>\n      <td>...</td>\n      <td>...</td>\n      <td>...</td>\n      <td>...</td>\n      <td>...</td>\n      <td>...</td>\n      <td>...</td>\n      <td>...</td>\n      <td>...</td>\n      <td>...</td>\n      <td>...</td>\n      <td>...</td>\n    </tr>\n    <tr>\n      <th>5293642</th>\n      <td>Agropecuária</td>\n      <td>Solos Manejados</td>\n      <td>Diretas</td>\n      <td>Variação dos Estoques de Carbono no Solo</td>\n      <td>Vegetal</td>\n      <td>Lavouras Cultivadas sob Sistema Plantio Direto</td>\n      <td>CO2e (t) GTP-AR6</td>\n      <td>RS</td>\n      <td>AGR</td>\n      <td>ALIM_BEBIDAS</td>\n      <td>2021</td>\n      <td>-1.236554e+07</td>\n    </tr>\n    <tr>\n      <th>5293643</th>\n      <td>Agropecuária</td>\n      <td>Solos Manejados</td>\n      <td>Diretas</td>\n      <td>Variação dos Estoques de Carbono no Solo</td>\n      <td>Vegetal</td>\n      <td>Lavouras Cultivadas sob Sistema Plantio Direto</td>\n      <td>CO2e (t) GTP-AR6</td>\n      <td>MS</td>\n      <td>AGR</td>\n      <td>ALIM_BEBIDAS</td>\n      <td>2021</td>\n      <td>-4.807660e+06</td>\n    </tr>\n    <tr>\n      <th>5293644</th>\n      <td>Agropecuária</td>\n      <td>Solos Manejados</td>\n      <td>Diretas</td>\n      <td>Variação dos Estoques de Carbono no Solo</td>\n      <td>Vegetal</td>\n      <td>Lavouras Cultivadas sob Sistema Plantio Direto</td>\n      <td>CO2e (t) GTP-AR6</td>\n      <td>MT</td>\n      <td>AGR</td>\n      <td>ALIM_BEBIDAS</td>\n      <td>2021</td>\n      <td>-1.662099e+07</td>\n    </tr>\n    <tr>\n      <th>5293645</th>\n      <td>Agropecuária</td>\n      <td>Solos Manejados</td>\n      <td>Diretas</td>\n      <td>Variação dos Estoques de Carbono no Solo</td>\n      <td>Vegetal</td>\n      <td>Lavouras Cultivadas sob Sistema Plantio Direto</td>\n      <td>CO2e (t) GTP-AR6</td>\n      <td>GO</td>\n      <td>AGR</td>\n      <td>ALIM_BEBIDAS</td>\n      <td>2021</td>\n      <td>-6.411860e+06</td>\n    </tr>\n    <tr>\n      <th>5293646</th>\n      <td>Agropecuária</td>\n      <td>Solos Manejados</td>\n      <td>Diretas</td>\n      <td>Variação dos Estoques de Carbono no Solo</td>\n      <td>Vegetal</td>\n      <td>Lavouras Cultivadas sob Sistema Plantio Direto</td>\n      <td>CO2e (t) GTP-AR6</td>\n      <td>DF</td>\n      <td>AGR</td>\n      <td>ALIM_BEBIDAS</td>\n      <td>2021</td>\n      <td>-1.564451e+05</td>\n    </tr>\n  </tbody>\n</table>\n<p>1227096 rows × 12 columns</p>\n</div>"
     },
     "metadata": {},
     "execution_count": 31
    }
   ],
   "source": [
    "# 2\n",
    "emissoes_por_ano.groupby('Nível 1 - Setor').get_group('Agropecuária')"
   ]
  },
  {
   "cell_type": "code",
   "execution_count": 32,
   "metadata": {},
   "outputs": [
    {
     "output_type": "execute_result",
     "data": {
      "text/plain": [
       "                                          Emissão\n",
       "Nível 1 - Setor                                  \n",
       "Agropecuária                         53082.725943\n",
       "Energia                              75120.049185\n",
       "Mudança de Uso da Terra e Floresta  196843.405133\n",
       "Processos Industriais               787101.255789\n",
       "Resíduos                            106106.723386"
      ],
      "text/html": "<div>\n<style scoped>\n    .dataframe tbody tr th:only-of-type {\n        vertical-align: middle;\n    }\n\n    .dataframe tbody tr th {\n        vertical-align: top;\n    }\n\n    .dataframe thead th {\n        text-align: right;\n    }\n</style>\n<table border=\"1\" class=\"dataframe\">\n  <thead>\n    <tr style=\"text-align: right;\">\n      <th></th>\n      <th>Emissão</th>\n    </tr>\n    <tr>\n      <th>Nível 1 - Setor</th>\n      <th></th>\n    </tr>\n  </thead>\n  <tbody>\n    <tr>\n      <th>Agropecuária</th>\n      <td>53082.725943</td>\n    </tr>\n    <tr>\n      <th>Energia</th>\n      <td>75120.049185</td>\n    </tr>\n    <tr>\n      <th>Mudança de Uso da Terra e Floresta</th>\n      <td>196843.405133</td>\n    </tr>\n    <tr>\n      <th>Processos Industriais</th>\n      <td>787101.255789</td>\n    </tr>\n    <tr>\n      <th>Resíduos</th>\n      <td>106106.723386</td>\n    </tr>\n  </tbody>\n</table>\n</div>"
     },
     "metadata": {},
     "execution_count": 32
    }
   ],
   "source": [
    "# 3\n",
    "emissoes_por_ano[emissoes_por_ano['Ano']==2021].groupby('Nível 1 - Setor')[['Emissão']].mean()"
   ]
  },
  {
   "cell_type": "code",
   "execution_count": 33,
   "metadata": {},
   "outputs": [
    {
     "output_type": "execute_result",
     "data": {
      "text/plain": [
       "                                         Emissão\n",
       "Nível 1 - Setor                                 \n",
       "Mudança de Uso da Terra e Floresta  2.494463e+11\n",
       "Energia                             1.244170e+11\n",
       "Agropecuária                        1.107286e+11\n",
       "Processos Industriais               2.849965e+10\n",
       "Resíduos                            1.034465e+10"
      ],
      "text/html": "<div>\n<style scoped>\n    .dataframe tbody tr th:only-of-type {\n        vertical-align: middle;\n    }\n\n    .dataframe tbody tr th {\n        vertical-align: top;\n    }\n\n    .dataframe thead th {\n        text-align: right;\n    }\n</style>\n<table border=\"1\" class=\"dataframe\">\n  <thead>\n    <tr style=\"text-align: right;\">\n      <th></th>\n      <th>Emissão</th>\n    </tr>\n    <tr>\n      <th>Nível 1 - Setor</th>\n      <th></th>\n    </tr>\n  </thead>\n  <tbody>\n    <tr>\n      <th>Mudança de Uso da Terra e Floresta</th>\n      <td>2.494463e+11</td>\n    </tr>\n    <tr>\n      <th>Energia</th>\n      <td>1.244170e+11</td>\n    </tr>\n    <tr>\n      <th>Agropecuária</th>\n      <td>1.107286e+11</td>\n    </tr>\n    <tr>\n      <th>Processos Industriais</th>\n      <td>2.849965e+10</td>\n    </tr>\n    <tr>\n      <th>Resíduos</th>\n      <td>1.034465e+10</td>\n    </tr>\n  </tbody>\n</table>\n</div>"
     },
     "metadata": {},
     "execution_count": 33
    }
   ],
   "source": [
    "# 4\n",
    "emissoes_por_ano.groupby('Nível 1 - Setor')[['Emissão']].sum().sort_values('Emissão', ascending = False)"
   ]
  }
 ]
}