{
 "metadata": {
  "language_info": {
   "codemirror_mode": {
    "name": "ipython",
    "version": 3
   },
   "file_extension": ".py",
   "mimetype": "text/x-python",
   "name": "python",
   "nbconvert_exporter": "python",
   "pygments_lexer": "ipython3",
   "version": "3.8.8-final"
  },
  "orig_nbformat": 2,
  "kernelspec": {
   "name": "python3",
   "display_name": "Python 3",
   "language": "python"
  }
 },
 "nbformat": 4,
 "nbformat_minor": 2,
 "cells": [
  {
   "cell_type": "code",
   "execution_count": 1,
   "metadata": {},
   "outputs": [
    {
     "output_type": "stream",
     "name": "stdout",
     "text": [
      "Os números são iguais.\n"
     ]
    }
   ],
   "source": [
    "# Escreva um programa que peça dois números inteiros e imprima todos os números inteiros entre eles.\n",
    "\n",
    "# Coleta dos valores\n",
    "inicio = int(input('Insira o primeiro valor inteiro: '))\n",
    "fim = int(input('Insira o segundo valor inteiro: '))\n",
    "\n",
    "# Verificar se valores são coerentes\n",
    "if inicio < fim:\n",
    "    # Imprimir os inteiros entre os valores\n",
    "    for i in range(inicio + 1, fim):\n",
    "        print(i)\n",
    "elif inicio > fim:\n",
    "    for i in range(fim + 1, inicio):\n",
    "        print(i)\n",
    "# Se os números forem iguais\n",
    "else:\n",
    "    print('Os números são iguais.')"
   ]
  },
  {
   "cell_type": "code",
   "execution_count": 3,
   "metadata": {},
   "outputs": [],
   "source": [
    "# Escreva um programa para calcular quantos dias levará para a colônia de uma bactéria A ultrapassar ou igualar a colônia de uma bactéria B, com base nas taxas de crescimento de 3% e 1,5% respectivamente. Considere que a colônia A inicia com 4 elementos e a colônia B com 10 elementos.\n",
    "\n",
    "# Número de elementos inicial\n",
    "col_a = 4\n",
    "col_b = 10\n",
    "\n",
    "# Taxas de crescimento\n",
    "taxa_a = 0.03\n",
    "taxa_b = 0.15\n",
    "\n",
    "# Contador de dias\n",
    "dias = 0\n",
    "\n",
    "# Condição para se a colonia A ultrapassar a B\n",
    "while col_a <= col_b:\n",
    "    # usar operador de multiplicação\n",
    "    col_a *= 1 + taxa_a\n",
    "    col_b *= 1 + taxa_b\n",
    "\n",
    "    #Para cada iteração\n",
    "    dias += 1\n",
    "\n",
    "# Resultado final\n",
    "print(f'Irá levar {dias} dias para a colônia A ultrapassar a colônia B.')"
   ]
  },
  {
   "cell_type": "code",
   "execution_count": 1,
   "metadata": {},
   "outputs": [
    {
     "output_type": "stream",
     "name": "stdout",
     "text": [
      "Verificação feita. Todas as notas são válidas.\n"
     ]
    }
   ],
   "source": [
    "# Para tratar uma quantidade de 15 dados de avaliações de pessoas usuárias de um serviço da empresa, precisamos verificar se as notas são válidas. Então, escreva um programa que vai receber a nota de 0 a 5 de todos os dados e verificar se é um valor válido. Caso seja inserido uma nota acima de 5 ou abaixo de 0, repita até que a pessoa usuária insira um valor válido.\n",
    "\n",
    "# Para 15 notas\n",
    "for i in range(15):\n",
    "    nota = float(input(f'Insira a nota da pessoa usuária {i}: '))\n",
    "\n",
    "    # Condicional para não coletar mais notas\n",
    "    while (nota < 0) or (nota > 5): \n",
    "        nota = float(input(f'Nota inválida, insira novamente nota {i}: '))\n",
    "print('Verificação feita. Todas as notas são válidas.')"
   ]
  },
  {
   "cell_type": "code",
   "execution_count": 2,
   "metadata": {},
   "outputs": [
    {
     "output_type": "stream",
     "name": "stdout",
     "text": [
      "A média das temperaturas é: 35.0\n"
     ]
    }
   ],
   "source": [
    "# Desenvolva um programa que leia um conjunto indeterminado de temperaturas em Celsius e faça uma análise. Portanto, escreva um programa que leia temperaturas e informe a média delas. A leitura deve ser encerrada ao ser enviado o valor -273°C.\n",
    "\n",
    "# coletamos a temperatura\n",
    "temperatura = float(input('Insira a temperatura em Celsius: '))\n",
    "\n",
    "# inicializamos uma contadora e soma para a média\n",
    "contadora = 0\n",
    "soma = 0\n",
    "\n",
    "# nosso código executa sempre até o valor de temperatura for igual a -273\n",
    "while temperatura != -273:\n",
    "    # a soma é dada com a adição da temperatura à variavel soma\n",
    "    soma += temperatura\n",
    "    # contamos a quantidade de valores coletados através da contadora\n",
    "    contadora += 1\n",
    "    # coletamos novamente a temperatura\n",
    "    temperatura = float(input('Insira a temperatura em Celsius: '))\n",
    "\n",
    "media = soma / contadora\n",
    "\n",
    "print(f'A média das temperaturas é: {media}')\n"
   ]
  },
  {
   "cell_type": "code",
   "execution_count": 4,
   "metadata": {},
   "outputs": [
    {
     "output_type": "stream",
     "name": "stdout",
     "text": [
      "Fatorial de 6 é 720.\n"
     ]
    }
   ],
   "source": [
    "# Escreva um programa que calcule o fatorial de um número inteiro fornecido pela pessoa usuária. O fatorial de um número inteiro é a multiplicação desse número por todos os seus antecessores até o número 1. Por exemplo, o fatorial de 5 é 5 x 4 x 3 x 2 x 1 = 120.\n",
    "\n",
    "# Coleta do número\n",
    "num = int(input('Insira um valor inteiro: '))\n",
    "\n",
    "# Iniciar o cálculo\n",
    "fatorial = 1\n",
    "\n",
    "# Contador\n",
    "i = num\n",
    "while i > 0:\n",
    "    # Regra da multplicação: Ele mesmo por todos os antecessores até 1.\n",
    "    fatorial *= i\n",
    "    i -= 1\n",
    "\n",
    "# Imprimir Resultado\n",
    "print(f'Fatorial de {num} é {fatorial}.')"
   ]
  }
 ]
}