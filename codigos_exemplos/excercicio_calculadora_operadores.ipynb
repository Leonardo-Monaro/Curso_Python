{
 "metadata": {
  "language_info": {
   "codemirror_mode": {
    "name": "ipython",
    "version": 3
   },
   "file_extension": ".py",
   "mimetype": "text/x-python",
   "name": "python",
   "nbconvert_exporter": "python",
   "pygments_lexer": "ipython3",
   "version": "3.8.8-final"
  },
  "orig_nbformat": 2,
  "kernelspec": {
   "name": "python3",
   "display_name": "Python 3.8.8 64-bit (conda)",
   "metadata": {
    "interpreter": {
     "hash": "4a647bd40baa5cd36757f11ba316f4524931c48cddba273dab58afd02d2779c0"
    }
   }
  }
 },
 "nbformat": 4,
 "nbformat_minor": 2,
 "cells": [
  {
   "cell_type": "code",
   "execution_count": 5,
   "metadata": {},
   "outputs": [
    {
     "output_type": "stream",
     "name": "stdout",
     "text": [
      "20\n"
     ]
    }
   ],
   "source": [
    "# 1 - Crie um programa que solicite dois valores numéricos à pessoa usuária e imprima a soma dos dois valores.\n",
    "valor_1 = int(input('Digite um valor qualquer: '))\n",
    "valor_2 = int(input('Digite um valor qualquer: '))\n",
    "print(valor_1 + valor_2)"
   ]
  },
  {
   "cell_type": "code",
   "execution_count": 6,
   "metadata": {},
   "outputs": [
    {
     "output_type": "stream",
     "name": "stdout",
     "text": [
      "30\n"
     ]
    }
   ],
   "source": [
    "# 2 - Crie um programa que solicite três valores numéricos à pessoa usuária e imprima a soma dos três valores.\n",
    "valor_1 = int(input('Digite um valor qualquer: '))\n",
    "valor_2 = int(input('Digite um valor qualquer: '))\n",
    "valor_3 = int(input('Digite um valor qualquer: '))\n",
    "print(valor_1 + valor_2 + valor_3)"
   ]
  },
  {
   "cell_type": "code",
   "execution_count": 7,
   "metadata": {},
   "outputs": [
    {
     "output_type": "stream",
     "name": "stdout",
     "text": [
      "0\n"
     ]
    }
   ],
   "source": [
    "# 3 - Crie um programa que solicite dois valores numéricos à pessoa usuária e imprima a subtração do primeiro pelo o segundo valor.\n",
    "valor_1 = int(input('Digite um valor qualquer: '))\n",
    "valor_2 = int(input('Digite um valor qualquer: '))\n",
    "print(valor_1 - valor_2)"
   ]
  },
  {
   "cell_type": "code",
   "execution_count": 8,
   "metadata": {},
   "outputs": [
    {
     "output_type": "stream",
     "name": "stdout",
     "text": [
      "100\n"
     ]
    }
   ],
   "source": [
    "# 4 - Crie um programa que solicite dois valores numéricos à pessoa usuária e imprima a multiplicação dos dois valores.\n",
    "valor_1 = int(input('Digite um valor qualquer: '))\n",
    "valor_2 = int(input('Digite um valor qualquer: '))\n",
    "print(valor_1 * valor_2)"
   ]
  },
  {
   "cell_type": "code",
   "execution_count": 13,
   "metadata": {},
   "outputs": [
    {
     "output_type": "stream",
     "name": "stdout",
     "text": [
      "1.0\n"
     ]
    }
   ],
   "source": [
    "# 5 - Crie um programa que solicite dois valores numéricos, um numerador e um denominador, e realize a divisão entre os dois valores. Deixe claro que o valor do denominador não pode ser 0.\n",
    "valor_1 = int(input('Digite um valor qualquer: '))\n",
    "valor_2 = int(input('Digite um valor qualquer, diferente de 0: '))\n",
    "print(valor_1 / valor_2)"
   ]
  },
  {
   "cell_type": "code",
   "execution_count": 15,
   "metadata": {},
   "outputs": [
    {
     "output_type": "stream",
     "name": "stdout",
     "text": [
      "1000\n"
     ]
    }
   ],
   "source": [
    "# 6 - Crie um programa que solicite dois valores numéricos, um operador e uma potência, e realize a exponenciação entre esses dois valores.\n",
    "valor_1 = int(input('Digite um valor qualquer: '))\n",
    "valor_2 = int(input('Digite um valor qualquer: '))\n",
    "print(valor_1**valor_2)"
   ]
  },
  {
   "cell_type": "code",
   "execution_count": 16,
   "metadata": {},
   "outputs": [
    {
     "output_type": "stream",
     "name": "stdout",
     "text": [
      "1\n"
     ]
    }
   ],
   "source": [
    "# 7 - Crie um programa que solicite dois valores numéricos, um numerador e um denominador e realize a divisão inteira entre os dois valores. Deixe claro que o valor do denominador não pode ser 0.\n",
    "valor_1 = int(input('Digite um valor qualquer: '))\n",
    "valor_2 = int(input('Digite um valor qualquer, diferente de 0: '))\n",
    "print(valor_1 // valor_2))"
   ]
  },
  {
   "cell_type": "code",
   "execution_count": 19,
   "metadata": {},
   "outputs": [
    {
     "output_type": "stream",
     "name": "stdout",
     "text": [
      "0\n"
     ]
    }
   ],
   "source": [
    "# 8 - Crie um programa que solicite dois valores numéricos, um numerador e um denominador, e retorne o resto da divisão entre os dois valores. Deixe claro que o valor do denominador não pode ser 0.\n",
    "valor_1 = int(input('Digite um valor qualquer: '))\n",
    "valor_2 = int(input('Digite um valor qualquer, diferente de 0: '))\n",
    "print(int(valor_1%valor_2))"
   ]
  },
  {
   "cell_type": "code",
   "execution_count": 26,
   "metadata": {},
   "outputs": [
    {
     "output_type": "stream",
     "name": "stdout",
     "text": [
      "A média das notas é:2.0 \n"
     ]
    }
   ],
   "source": [
    "# 9 - Crie um código que solicita 3 notas de um estudante e imprima a média das notas.\n",
    "valor_1 = float(input('Digite um valor qualquer: '))\n",
    "valor_2 = float(input('Digite um valor qualquer: '))\n",
    "valor_3 = float(input('Digite um valor qualquer: '))\n",
    "media = (valor_1 + valor_2 + valor_3)/3\n",
    "print(f'A média das notas é:{media} ')"
   ]
  },
  {
   "cell_type": "code",
   "execution_count": 36,
   "metadata": {},
   "outputs": [
    {
     "output_type": "stream",
     "name": "stdout",
     "text": [
      "A média das notas é:14.9\n"
     ]
    }
   ],
   "source": [
    "# 10 - Crie um código que calcule e imprima a média ponderada dos números 5, 12, 20 e 15 com pesos respectivamente iguais a 1, 2, 3 e 4.\n",
    "nota_1 = 5\n",
    "nota_2 = 12\n",
    "nota_3 = 20\n",
    "nota_4 = 15\n",
    "peso_1 = 1\n",
    "peso_2 = 2\n",
    "peso_3 = 3\n",
    "peso_4 = 4\n",
    "media = (nota_1*peso_1 + nota_2*peso_2 + nota_3*peso_3 + nota_4*peso_4)/(1+2+3+4)\n",
    "print(f'A média das notas é:{media}')"
   ]
  }
 ]
}