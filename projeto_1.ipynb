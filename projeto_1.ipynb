{
 "metadata": {
  "language_info": {
   "codemirror_mode": {
    "name": "ipython",
    "version": 3
   },
   "file_extension": ".py",
   "mimetype": "text/x-python",
   "name": "python",
   "nbconvert_exporter": "python",
   "pygments_lexer": "ipython3",
   "version": "3.8.8-final"
  },
  "orig_nbformat": 2,
  "kernelspec": {
   "name": "python3",
   "display_name": "Python 3",
   "language": "python"
  }
 },
 "nbformat": 4,
 "nbformat_minor": 2,
 "cells": [
  {
   "cell_type": "code",
   "execution_count": 11,
   "metadata": {},
   "outputs": [
    {
     "output_type": "stream",
     "name": "stdout",
     "text": [
      "O número é par\nO resultado é negativo\nO número é inteiro\n-8.0\n"
     ]
    }
   ],
   "source": [
    " # Um programa deve ser escrito para ler dois números e, em seguida, perguntar à pessoa usuária qual operação ele deseja realizar. O resultado da operação deve incluir informações sobre o número - se é par ou ímpar, positivo ou negativo e inteiro ou decimal.\n",
    "\n",
    "\n",
    "num1 = float(input('Primeiro valor: '))\n",
    "num2 = float(input('Segundo valor: '))\n",
    "op = input('Qual operação deseja realizar? ').lower()\n",
    "\n",
    "# Condicionais operações\n",
    "if op == '+':\n",
    "    op = num1 + num2\n",
    "\n",
    "elif op == '-':\n",
    "    op = num1 - num2\n",
    "\n",
    "elif op == '*':\n",
    "    op = num1 * num2\n",
    "\n",
    "elif op == '/':\n",
    "    op = num1 / num2\n",
    "else:\n",
    "    print('Operação inválida, resultado da operação será 0')\n",
    "    resultado = 0\n",
    "\n",
    "# Validação par e ímpar\n",
    "if op % 2 == 0:\n",
    "    print('O número é par')\n",
    "else:\n",
    "    print('O número é ímpar')\n",
    "\n",
    "# Validação positivo e negativo\n",
    "if op > 0:\n",
    "    print('O resultado é positivo')\n",
    "else:\n",
    "    print('O resultado é negativo')\n",
    "\n",
    "# Validação inteiro e decimal\n",
    "if op % 1 == 0:\n",
    "    print('O número é inteiro')\n",
    "else:\n",
    "    print('O número é decimal')\n",
    "print(op)"
   ]
  }
 ]
}