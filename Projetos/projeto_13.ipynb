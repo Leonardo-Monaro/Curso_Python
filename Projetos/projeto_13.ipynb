{
 "metadata": {
  "language_info": {
   "codemirror_mode": {
    "name": "ipython",
    "version": 3
   },
   "file_extension": ".py",
   "mimetype": "text/x-python",
   "name": "python",
   "nbconvert_exporter": "python",
   "pygments_lexer": "ipython3",
   "version": "3.8.8-final"
  },
  "orig_nbformat": 2,
  "kernelspec": {
   "name": "python3",
   "display_name": "Python 3",
   "language": "python"
  }
 },
 "nbformat": 4,
 "nbformat_minor": 2,
 "cells": [
  {
   "cell_type": "code",
   "execution_count": 11,
   "metadata": {},
   "outputs": [
    {
     "output_type": "stream",
     "name": "stdout",
     "text": [
      "Total de vendas é 920\nProduto A é o mais vendido\n"
     ]
    }
   ],
   "source": [
    "# Uma empresa de e-commerce está interessada em analisar as vendas dos seus produtos. Os dados das vendas foram armazenados em um dicionário:\n",
    "# Dicionário de vendas\n",
    "\n",
    "\n",
    "dados_vendas = {'Produto A': 300, 'Produto B': 80, 'Produto C': 60, 'Produto D': 200, 'Produto E': 250, 'Produto F': 30}\n",
    "\n",
    "# Inicializamos as variáveis\n",
    "total_vendas = 0 # Irá somar todos as vendas\n",
    "produto_mais_vendido = '' # Irá armazenar o nome do produto mais vendido\n",
    "unidades_produto_mais_vendido = 0 # Irá armazenar a maior quantidade vendas\n",
    "\n",
    "# Percorremos os valores de chaves e elementos do dicionário\n",
    "for produto in dados_vendas.keys():\n",
    "  # Somamos o total de vendas \n",
    "  total_vendas += dados_vendas[produto]\n",
    "  # Verificamos se valor de venda atual desing (dados_vendas[produto]) é maior que o valor armazenado em unidades_produto_mais_vendido\n",
    "  # Cada vez que dados_vendas[produto] superar o valor em unidades_produto_mais_vendido, \n",
    "  # a variável unidades_produto_mais_vendido vai ser igual à dados_vendas[produto], atribuindo um novo valor\n",
    "  # De forma similar, produto_mais_vendido também é substituído pelo produto atual\n",
    "  if dados_vendas[produto] > unidades_produto_mais_vendido:\n",
    "    unidades_produto_mais_vendido = dados_vendas[produto]\n",
    "    produto_mais_vendido = produto\n",
    "# Resultados\n",
    "print(f'Total de vendas é {total_vendas}')\n",
    "print(f'{produto_mais_vendido} é o mais vendido')\n"
   ]
  }
 ]
}