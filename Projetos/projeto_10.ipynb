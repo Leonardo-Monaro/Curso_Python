{
 "metadata": {
  "language_info": {
   "codemirror_mode": {
    "name": "ipython",
    "version": 3
   },
   "file_extension": ".py",
   "mimetype": "text/x-python",
   "name": "python",
   "nbconvert_exporter": "python",
   "pygments_lexer": "ipython3",
   "version": "3.8.8-final"
  },
  "orig_nbformat": 2,
  "kernelspec": {
   "name": "python3",
   "display_name": "Python 3.8.8 64-bit (conda)",
   "metadata": {
    "interpreter": {
     "hash": "4a647bd40baa5cd36757f11ba316f4524931c48cddba273dab58afd02d2779c0"
    }
   }
  }
 },
 "nbformat": 4,
 "nbformat_minor": 2,
 "cells": [
  {
   "cell_type": "code",
   "execution_count": 3,
   "metadata": {},
   "outputs": [
    {
     "output_type": "stream",
     "name": "stdout",
     "text": [
      "Quantiade de produtos doces: 5\nQuantiade de produtos amargos: 5\n"
     ]
    }
   ],
   "source": [
    "# 8) Para uma seleção de produtos alimentícios, precisamos separar o conjunto de IDs dados por números inteiros, sabendo que os produtos com ID par são doces e os com ID ímpar são amargos. Monte um código que colete 10 IDs. Depois, calcule e mostre a quantidade de produtos doces e amargos.\n",
    "\n",
    "# Lista de IDS\n",
    "ids = []\n",
    "\n",
    "# Váriaveis contadoras doce e amargo\n",
    "doce = 0\n",
    "amargo = 0\n",
    "\n",
    "# Iteração\n",
    "for i in range(0,10):\n",
    "    ids.append(int(input(f'Digite o {i+1}° ID: ')))\n",
    "\n",
    "# Leitor de elementos da lista\n",
    "for id in ids:\n",
    "    # Condicional par e impar\n",
    "    if id % 2 == 0:\n",
    "        doce += 1\n",
    "    else:\n",
    "        amargo += 1\n",
    "\n",
    "# Resultado\n",
    "print(f'Quantiade de produtos doces: {doce}')\n",
    "print(f'Quantiade de produtos amargos: {amargo}')"
   ]
  },
  {
   "cell_type": "code",
   "execution_count": null,
   "metadata": {},
   "outputs": [],
   "source": []
  }
 ]
}