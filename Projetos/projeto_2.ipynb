{
 "metadata": {
  "language_info": {
   "codemirror_mode": {
    "name": "ipython",
    "version": 3
   },
   "file_extension": ".py",
   "mimetype": "text/x-python",
   "name": "python",
   "nbconvert_exporter": "python",
   "pygments_lexer": "ipython3",
   "version": "3.8.8-final"
  },
  "orig_nbformat": 2,
  "kernelspec": {
   "name": "python3",
   "display_name": "Python 3.8.8 64-bit (conda)",
   "metadata": {
    "interpreter": {
     "hash": "4a647bd40baa5cd36757f11ba316f4524931c48cddba273dab58afd02d2779c0"
    }
   }
  }
 },
 "nbformat": 4,
 "nbformat_minor": 2,
 "cells": [
  {
   "cell_type": "code",
   "execution_count": 3,
   "metadata": {},
   "outputs": [
    {
     "output_type": "stream",
     "name": "stdout",
     "text": [
      "Coletaremos os lados de um triângulo\n",
      "Os valores formam um triângulo\n",
      "O triângulo é equilátero\n"
     ]
    }
   ],
   "source": [
    "# Escreva um programa que peça à pessoa usuária três números que representam os lados de um triângulo. O programa deve informar se os valores podem ser utilizados para formar um triângulo e, caso afirmativo, se ele é equilátero, isósceles ou escaleno. Tenha em mente algumas dicas:\n",
    "\n",
    "# Três lados formam um triângulo quando a soma de quaisquer dois lados for maior que o terceiro;\n",
    "# Triângulo Equilátero: três lados iguais;\n",
    "# Triângulo Isósceles: quaisquer dois lados iguais;\n",
    "# Triângulo Escaleno: três lados diferentes.\n",
    "\n",
    "# Valores dos lados\n",
    "print('Coletaremos os lados de um triângulo')\n",
    "lado1 = float(input('Valor do primeiro lado: '))\n",
    "lado2 = float(input('Valor do segundo lado: '))\n",
    "lado3 = float(input('Valor do terceiro lado: '))\n",
    "\n",
    "# Validação se é possível formar um triângulo\n",
    "if (lado1+lado2 > lado3) and (lado2+lado3 > lado1) and (lado1+lado3 > lado2):\n",
    "    print('Os valores formam um triângulo')\n",
    "\n",
    "# Validação tipo do triângulo\n",
    "if (lado1 == lado2) and (lado2 == lado3):\n",
    "    print('O triângulo é equilátero')\n",
    "    elif (lado1 != lado2) and (lado2 != lado3):\n",
    "        print('O triângulo é escaleno')\n",
    "        else:\n",
    "            print('O triâgulo é isósceles')\n",
    "else: \n",
    "    print('Os valores não podem formar um triângulo') \n"
   ]
  },
  {
   "cell_type": "code",
   "execution_count": null,
   "metadata": {},
   "outputs": [],
   "source": []
  }
 ]
}