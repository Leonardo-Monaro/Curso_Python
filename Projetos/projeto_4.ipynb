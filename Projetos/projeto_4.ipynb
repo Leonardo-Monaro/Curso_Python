{
 "metadata": {
  "language_info": {
   "codemirror_mode": {
    "name": "ipython",
    "version": 3
   },
   "file_extension": ".py",
   "mimetype": "text/x-python",
   "name": "python",
   "nbconvert_exporter": "python",
   "pygments_lexer": "ipython3",
   "version": "3.8.8-final"
  },
  "orig_nbformat": 2,
  "kernelspec": {
   "name": "python3",
   "display_name": "Python 3.8.8 64-bit (conda)",
   "metadata": {
    "interpreter": {
     "hash": "4a647bd40baa5cd36757f11ba316f4524931c48cddba273dab58afd02d2779c0"
    }
   }
  }
 },
 "nbformat": 4,
 "nbformat_minor": 2,
 "cells": [
  {
   "cell_type": "code",
   "execution_count": 9,
   "metadata": {},
   "outputs": [
    {
     "output_type": "stream",
     "name": "stdout",
     "text": [
      "28.75\nBonificação para o time de vendas\n"
     ]
    }
   ],
   "source": [
    "# Em uma empresa de venda de imóveis você precisa criar um código que analise os dados de vendas anuais para ajudar a diretoria na tomada de decisão. O código precisa coletar os dados de quantidade de venda durante os anos de 2022 e 2023 e fazer um cálculo de variação percentual. A partir do valor da variação, deve ser enviada às seguintes sugestões:\n",
    "\n",
    "# Para variação acima de 20%: bonificação para o time de vendas.\n",
    "# Para variação entre 2% e 20%: pequena bonificação para time de vendas.\n",
    "# Para variação entre 2% e -10%: planejamento de políticas de incentivo às vendas.\n",
    "# Para bonificações abaixo de -10%: corte de gastos.\n",
    "\n",
    "# Coleta dos dados de vendas\n",
    "qtd_22 = float(input('Insira a quantidade vendida em 2022: '))\n",
    "qtd_23 = float(input('Insira a quantidade vendida em 2023: '))\n",
    "\n",
    "var = 100 * (qtd_23 - qtd_22) / (qtd_22)\n",
    "print(var)\n",
    "\n",
    "if var > 20:\n",
    "    print('Bonificação para o time de vendas')\n",
    "elif 2 <= var <= 20:\n",
    "    print('Pequena bonificação para o time de vendas')\n",
    "elif  -10 <= var <= 2:\n",
    "    print('Planejamento')\n",
    "else:\n",
    "    print('Corte de gastos')"
   ]
  }
 ]
}