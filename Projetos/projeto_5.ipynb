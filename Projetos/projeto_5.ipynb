{
 "metadata": {
  "language_info": {
   "codemirror_mode": {
    "name": "ipython",
    "version": 3
   },
   "file_extension": ".py",
   "mimetype": "text/x-python",
   "name": "python",
   "nbconvert_exporter": "python",
   "pygments_lexer": "ipython3",
   "version": "3.8.8-final"
  },
  "orig_nbformat": 2,
  "kernelspec": {
   "name": "python3",
   "display_name": "Python 3.8.8 64-bit (conda)",
   "metadata": {
    "interpreter": {
     "hash": "4a647bd40baa5cd36757f11ba316f4524931c48cddba273dab58afd02d2779c0"
    }
   }
  }
 },
 "nbformat": 4,
 "nbformat_minor": 2,
 "cells": [
  {
   "cell_type": "code",
   "execution_count": 1,
   "metadata": {},
   "outputs": [
    {
     "output_type": "stream",
     "name": "stdout",
     "text": [
      "Tabuada do 5:\n5 x 1 = 5\n5 x 2 = 10\n5 x 3 = 15\n5 x 4 = 20\n5 x 5 = 25\n5 x 6 = 30\n5 x 7 = 35\n5 x 8 = 40\n5 x 9 = 45\n5 x 10 = 50\n"
     ]
    }
   ],
   "source": [
    "# Escreva um programa que gere a tabuada de um número inteiro de 1 a 10, de acordo com a escolha da pessoa usuária. Como exemplo, para o número 2, a tabuada deve ser mostrada no seguinte formato:\n",
    "\n",
    "# Tabuada do 2:\n",
    "# 2 x 1 = 2\n",
    "# 2 x 2 = 4\n",
    "# [...]\n",
    "# 2 x 10 = 20\n",
    "\n",
    "# Coletar valor\n",
    "num = int(input('Informe um número inteiro de 1 a 10: '))\n",
    "\n",
    "# Gerar tabuada\n",
    "print(f'Tabuada do {num}:')\n",
    "for i in range(1,11):\n",
    "    resultado = num * i\n",
    "    print(f'{num} x {i} = {resultado}')"
   ]
  }
 ]
}