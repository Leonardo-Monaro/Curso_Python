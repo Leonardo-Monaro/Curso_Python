{
 "metadata": {
  "language_info": {
   "codemirror_mode": {
    "name": "ipython",
    "version": 3
   },
   "file_extension": ".py",
   "mimetype": "text/x-python",
   "name": "python",
   "nbconvert_exporter": "python",
   "pygments_lexer": "ipython3",
   "version": "3.8.8-final"
  },
  "orig_nbformat": 2,
  "kernelspec": {
   "name": "python3",
   "display_name": "Python 3.8.8 64-bit (conda)",
   "metadata": {
    "interpreter": {
     "hash": "4a647bd40baa5cd36757f11ba316f4524931c48cddba273dab58afd02d2779c0"
    }
   }
  }
 },
 "nbformat": 4,
 "nbformat_minor": 2,
 "cells": [
  {
   "cell_type": "code",
   "execution_count": 15,
   "metadata": {},
   "outputs": [
    {
     "output_type": "stream",
     "name": "stdout",
     "text": [
      "O Setor A tem a média de 39.9 anos\nO Setor B tem a média de 42.3 anos\nO Setor C tem a média de 35.8 anos\nO Setor D tem a média de 36.5 anos\nA idade média geral é 38.625 anos\n18 pessoas estão acima da media geral\n"
     ]
    }
   ],
   "source": [
    "# O setor de RH da sua empresa te pediu uma ajuda para analisar as idades dos funcionários de 4 setores da empresa. Para isso, ele te forneceu os seguintes dados:\n",
    "\n",
    "dados = {'Setor A': [22, 26, 30, 30, 35, 38, 40, 56, 57, 65],\n",
    " 'Setor B': [22, 24, 26, 33, 41, 49, 50, 54, 60, 64],\n",
    " 'Setor C': [23, 26, 26, 29, 34, 35, 36, 41, 52, 56],\n",
    " 'Setor D': [19, 20, 25, 27, 34, 39, 42, 44, 50, 65]}\n",
    "\n",
    "# Sabendo que cada setor tem 10 funcionários, construa um código que calcule a média de idade de cada setor, a idade média geral entre todos os setores e quantas pessoas estão acima da idade média geral.\n",
    "\n",
    "# Variaveis\n",
    "total_idades = 0 # Soma todas as idades\n",
    "acima_media = 0 # Armazena quantas pessoas estão acima da idade_media_geral\n",
    "\n",
    "# Percorrer dicionario para calculo de idade por setor\n",
    "\n",
    "for setor, idades in dados.items():\n",
    "    \n",
    "    # Soma das idades de cada setor \n",
    "    soma_idades = sum(idades)\n",
    "\n",
    "    # Media de idade por setor\n",
    "    media = soma_idades / len(idades)\n",
    "\n",
    "    # Resultados\n",
    "    print(f'O {setor} tem a média de {media} anos')\n",
    "\n",
    "    # Soma das medias\n",
    "    total_idades += soma_idades\n",
    "\n",
    "# Media total\n",
    "media_total = total_idades / (len(idades) * len(dados))\n",
    "print(f'A idade média geral é {media_total} anos')\n",
    "\n",
    "# Para saber quantas pessoas estão acima da média geral\n",
    "for setor, idades in dados.items():\n",
    "    for id in idades:\n",
    "        if id > media_total:\n",
    "            acima_media += 1\n",
    "print(f'{acima_media} pessoas estão acima da media geral')"
   ]
  }
 ]
}