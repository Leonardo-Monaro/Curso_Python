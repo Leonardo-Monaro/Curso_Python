{
 "metadata": {
  "language_info": {
   "codemirror_mode": {
    "name": "ipython",
    "version": 3
   },
   "file_extension": ".py",
   "mimetype": "text/x-python",
   "name": "python",
   "nbconvert_exporter": "python",
   "pygments_lexer": "ipython3",
   "version": "3.8.8-final"
  },
  "orig_nbformat": 2,
  "kernelspec": {
   "name": "python3",
   "display_name": "Python 3.8.8 64-bit (conda)",
   "metadata": {
    "interpreter": {
     "hash": "4a647bd40baa5cd36757f11ba316f4524931c48cddba273dab58afd02d2779c0"
    }
   }
  }
 },
 "nbformat": 4,
 "nbformat_minor": 2,
 "cells": [
  {
   "cell_type": "code",
   "execution_count": 2,
   "metadata": {
    "tags": []
   },
   "outputs": [
    {
     "output_type": "stream",
     "name": "stdout",
     "text": [
      "Distribuição de idades:\n[0-25]: 4\n[26-50]: 0\n[51-75]: 0\n[76-100]: 2\n"
     ]
    }
   ],
   "source": [
    "# Vamos entender a distribuição de idades de pensionistas de uma empresa de previdência. Escreva um programa que leia as idades de uma quantidade não informada de clientes e mostre a distribuição em intervalos de [0-25], [26-50], [51-75] e [76-100]. Encerre a entrada de dados com um número negativo.\n",
    "\n",
    "\n",
    "# Coletamos as idades dos clientes\n",
    "idade = int(input('Informe a idade (ou um número negativo para encerrar): '))\n",
    "\n",
    "# Inicializamos as variáveis de contadores\n",
    "contador_0_25 = 0 # contador de idades entre 0 e 25\n",
    "contador_26_50 = 0 # contador de idades entre 26 e 50\n",
    "contador_51_75 = 0 # contador de idades entre 51 e 75\n",
    "contador_76_100 = 0 # contador de idades entre 76 e 100\n",
    "\n",
    "# nosso código executa sempre até o valor de idade for negativa\n",
    "while idade >= 0:\n",
    "    # contamos cada caso\n",
    "    if idade >= 0 and idade <= 25:\n",
    "        contador_0_25 += 1\n",
    "    elif idade >= 26 and idade <= 50:\n",
    "        contador_26_50 += 1\n",
    "    elif idade >= 51 and idade <= 75:\n",
    "        contador_51_75 += 1\n",
    "    elif idade >= 76 and idade <= 100:\n",
    "        contador_76_100 += 1\n",
    "    \n",
    "    # Repetir o processo de entrada de dados até que seja digitado um número negativo    \n",
    "    idade = int(input('Informe a idade (ou um número negativo para encerrar): '))\n",
    "\n",
    "# Mostramos os resultados\n",
    "print('Distribuição de idades:')\n",
    "print('[0-25]:', contador_0_25)\n",
    "print('[26-50]:', contador_26_50)\n",
    "print('[51-75]:', contador_51_75)\n",
    "print('[76-100]:', contador_76_100)\n"
   ]
  }
 ]
}